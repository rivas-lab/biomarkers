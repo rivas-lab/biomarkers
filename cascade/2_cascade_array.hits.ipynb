{
 "cells": [
  {
   "cell_type": "code",
   "execution_count": 1,
   "metadata": {},
   "outputs": [],
   "source": [
    "source('cascade_helper.R')\n"
   ]
  },
  {
   "cell_type": "markdown",
   "metadata": {},
   "source": [
    "### list of parameters and filenames"
   ]
  },
  {
   "cell_type": "code",
   "execution_count": 2,
   "metadata": {},
   "outputs": [],
   "source": [
    "wd <- getwd()\n",
    "\n",
    "p_thr <- 5e-9\n",
    "maf_min_thr <- 1e-4\n",
    "\n",
    "annot.tbl <- '@@@@@@/private_data/ukbb/variant_filtering/variant_filter_table.tsv.gz'\n",
    "\n",
    "cascade_files <- file.path(wd, 'cascade.input.files.tsv')\n",
    "out_array_hits <- file.path(wd, 'out_v3', 'cascade.array.hits.tsv')\n",
    "\n",
    "gdrive_dir <- '1fGlnrj8Zu1Pox3fmxmFKdcbNVWiN9vhd'\n"
   ]
  },
  {
   "cell_type": "code",
   "execution_count": 3,
   "metadata": {},
   "outputs": [
    {
     "name": "stdout",
     "output_type": "stream",
     "text": [
      "[1] 35  4\n"
     ]
    }
   ],
   "source": [
    "traits <- fread(cascade_files)\n",
    "dim(traits) %>% print()"
   ]
  },
  {
   "cell_type": "markdown",
   "metadata": {},
   "source": [
    "#### read the variant annotation file for array"
   ]
  },
  {
   "cell_type": "code",
   "execution_count": 4,
   "metadata": {},
   "outputs": [],
   "source": [
    "annot.arr <- read_annot_arr(annot.tbl)\n"
   ]
  },
  {
   "cell_type": "markdown",
   "metadata": {},
   "source": [
    "#### read the GWAS summary statistics for the array"
   ]
  },
  {
   "cell_type": "code",
   "execution_count": 6,
   "metadata": {},
   "outputs": [],
   "source": [
    "array_anno_unfiltered_df <- traits %>% \n",
    "read_array_sumstats_all(p_thr) %>%\n",
    "annotate_array_df(annot.arr)\n"
   ]
  },
  {
   "cell_type": "code",
   "execution_count": 7,
   "metadata": {},
   "outputs": [
    {
     "data": {
      "text/html": [
       "<table>\n",
       "<caption>A tibble: 1 × 3</caption>\n",
       "<thead>\n",
       "\t<tr><th scope=col>(as.numeric(P) &lt; p_thr)</th><th scope=col>is_autosome</th><th scope=col>n</th></tr>\n",
       "\t<tr><th scope=col>&lt;lgl&gt;</th><th scope=col>&lt;lgl&gt;</th><th scope=col>&lt;int&gt;</th></tr>\n",
       "</thead>\n",
       "<tbody>\n",
       "\t<tr><td>TRUE</td><td>TRUE</td><td>79390</td></tr>\n",
       "</tbody>\n",
       "</table>\n"
      ],
      "text/latex": [
       "A tibble: 1 × 3\n",
       "\\begin{tabular}{r|lll}\n",
       " (as.numeric(P) < p\\_thr) & is\\_autosome & n\\\\\n",
       " <lgl> & <lgl> & <int>\\\\\n",
       "\\hline\n",
       "\t TRUE & TRUE & 79390\\\\\n",
       "\\end{tabular}\n"
      ],
      "text/markdown": [
       "\n",
       "A tibble: 1 × 3\n",
       "\n",
       "| (as.numeric(P) &lt; p_thr) &lt;lgl&gt; | is_autosome &lt;lgl&gt; | n &lt;int&gt; |\n",
       "|---|---|---|\n",
       "| TRUE | TRUE | 79390 |\n",
       "\n"
      ],
      "text/plain": [
       "  (as.numeric(P) < p_thr) is_autosome n    \n",
       "1 TRUE                    TRUE        79390"
      ]
     },
     "metadata": {},
     "output_type": "display_data"
    }
   ],
   "source": [
    "# quick check\n",
    "array_anno_unfiltered_df %>% \n",
    "count(\n",
    "    (as.numeric(P) < p_thr),\n",
    "    is_autosome\n",
    ")\n"
   ]
  },
  {
   "cell_type": "code",
   "execution_count": 8,
   "metadata": {},
   "outputs": [
    {
     "data": {
      "text/html": [
       "<table>\n",
       "<caption>A tibble: 12 × 5</caption>\n",
       "<thead>\n",
       "\t<tr><th scope=col>(as.numeric(maf) &lt; maf_min_thr)</th><th scope=col>all_filters</th><th scope=col>is_outside_of_MHC</th><th scope=col>ld_indep</th><th scope=col>n</th></tr>\n",
       "\t<tr><th scope=col>&lt;lgl&gt;</th><th scope=col>&lt;int&gt;</th><th scope=col>&lt;lgl&gt;</th><th scope=col>&lt;lgl&gt;</th><th scope=col>&lt;int&gt;</th></tr>\n",
       "</thead>\n",
       "<tbody>\n",
       "\t<tr><td>FALSE</td><td>0</td><td>FALSE</td><td>FALSE</td><td>22356</td></tr>\n",
       "\t<tr><td>FALSE</td><td>0</td><td>FALSE</td><td> TRUE</td><td> 2676</td></tr>\n",
       "\t<tr><td>FALSE</td><td>0</td><td> TRUE</td><td>FALSE</td><td>35143</td></tr>\n",
       "\t<tr><td>FALSE</td><td>0</td><td> TRUE</td><td> TRUE</td><td> 9735</td></tr>\n",
       "\t<tr><td>FALSE</td><td>1</td><td>FALSE</td><td>FALSE</td><td> 2457</td></tr>\n",
       "\t<tr><td>FALSE</td><td>1</td><td> TRUE</td><td>FALSE</td><td> 4720</td></tr>\n",
       "\t<tr><td>FALSE</td><td>2</td><td>FALSE</td><td>FALSE</td><td>  982</td></tr>\n",
       "\t<tr><td>FALSE</td><td>2</td><td> TRUE</td><td>FALSE</td><td> 1240</td></tr>\n",
       "\t<tr><td>FALSE</td><td>3</td><td>FALSE</td><td>FALSE</td><td>   12</td></tr>\n",
       "\t<tr><td>FALSE</td><td>3</td><td> TRUE</td><td>FALSE</td><td>    1</td></tr>\n",
       "\t<tr><td> TRUE</td><td>0</td><td> TRUE</td><td>FALSE</td><td>   18</td></tr>\n",
       "\t<tr><td> TRUE</td><td>0</td><td> TRUE</td><td> TRUE</td><td>   50</td></tr>\n",
       "</tbody>\n",
       "</table>\n"
      ],
      "text/latex": [
       "A tibble: 12 × 5\n",
       "\\begin{tabular}{r|lllll}\n",
       " (as.numeric(maf) < maf\\_min\\_thr) & all\\_filters & is\\_outside\\_of\\_MHC & ld\\_indep & n\\\\\n",
       " <lgl> & <int> & <lgl> & <lgl> & <int>\\\\\n",
       "\\hline\n",
       "\t FALSE & 0 & FALSE & FALSE & 22356\\\\\n",
       "\t FALSE & 0 & FALSE &  TRUE &  2676\\\\\n",
       "\t FALSE & 0 &  TRUE & FALSE & 35143\\\\\n",
       "\t FALSE & 0 &  TRUE &  TRUE &  9735\\\\\n",
       "\t FALSE & 1 & FALSE & FALSE &  2457\\\\\n",
       "\t FALSE & 1 &  TRUE & FALSE &  4720\\\\\n",
       "\t FALSE & 2 & FALSE & FALSE &   982\\\\\n",
       "\t FALSE & 2 &  TRUE & FALSE &  1240\\\\\n",
       "\t FALSE & 3 & FALSE & FALSE &    12\\\\\n",
       "\t FALSE & 3 &  TRUE & FALSE &     1\\\\\n",
       "\t  TRUE & 0 &  TRUE & FALSE &    18\\\\\n",
       "\t  TRUE & 0 &  TRUE &  TRUE &    50\\\\\n",
       "\\end{tabular}\n"
      ],
      "text/markdown": [
       "\n",
       "A tibble: 12 × 5\n",
       "\n",
       "| (as.numeric(maf) &lt; maf_min_thr) &lt;lgl&gt; | all_filters &lt;int&gt; | is_outside_of_MHC &lt;lgl&gt; | ld_indep &lt;lgl&gt; | n &lt;int&gt; |\n",
       "|---|---|---|---|---|\n",
       "| FALSE | 0 | FALSE | FALSE | 22356 |\n",
       "| FALSE | 0 | FALSE |  TRUE |  2676 |\n",
       "| FALSE | 0 |  TRUE | FALSE | 35143 |\n",
       "| FALSE | 0 |  TRUE |  TRUE |  9735 |\n",
       "| FALSE | 1 | FALSE | FALSE |  2457 |\n",
       "| FALSE | 1 |  TRUE | FALSE |  4720 |\n",
       "| FALSE | 2 | FALSE | FALSE |   982 |\n",
       "| FALSE | 2 |  TRUE | FALSE |  1240 |\n",
       "| FALSE | 3 | FALSE | FALSE |    12 |\n",
       "| FALSE | 3 |  TRUE | FALSE |     1 |\n",
       "|  TRUE | 0 |  TRUE | FALSE |    18 |\n",
       "|  TRUE | 0 |  TRUE |  TRUE |    50 |\n",
       "\n"
      ],
      "text/plain": [
       "   (as.numeric(maf) < maf_min_thr) all_filters is_outside_of_MHC ld_indep n    \n",
       "1  FALSE                           0           FALSE             FALSE    22356\n",
       "2  FALSE                           0           FALSE              TRUE     2676\n",
       "3  FALSE                           0            TRUE             FALSE    35143\n",
       "4  FALSE                           0            TRUE              TRUE     9735\n",
       "5  FALSE                           1           FALSE             FALSE     2457\n",
       "6  FALSE                           1            TRUE             FALSE     4720\n",
       "7  FALSE                           2           FALSE             FALSE      982\n",
       "8  FALSE                           2            TRUE             FALSE     1240\n",
       "9  FALSE                           3           FALSE             FALSE       12\n",
       "10 FALSE                           3            TRUE             FALSE        1\n",
       "11  TRUE                           0            TRUE             FALSE       18\n",
       "12  TRUE                           0            TRUE              TRUE       50"
      ]
     },
     "metadata": {},
     "output_type": "display_data"
    }
   ],
   "source": [
    "array_anno_unfiltered_df %>% \n",
    "count(\n",
    "    (as.numeric(maf) < maf_min_thr),    \n",
    "    all_filters,\n",
    "    is_outside_of_MHC,\n",
    "    ld_indep\n",
    ")\n"
   ]
  },
  {
   "cell_type": "code",
   "execution_count": 9,
   "metadata": {},
   "outputs": [],
   "source": [
    "array_anno_df <- array_anno_unfiltered_df %>%\n",
    "filter(\n",
    "    (as.numeric(P) < p_thr),\n",
    "    is_autosome,\n",
    "    (as.numeric(maf) > maf_min_thr),\n",
    "    all_filters == 0,\n",
    "    is_outside_of_MHC,\n",
    "    ld_indep    \n",
    ") %>%\n",
    "select(\n",
    "    -is_autosome,\n",
    "    -filter,\n",
    "    -hwe,\n",
    "    -gnomad_af,\n",
    "    -missingness,\n",
    "    -mcpi\n",
    ")\n"
   ]
  },
  {
   "cell_type": "code",
   "execution_count": 10,
   "metadata": {},
   "outputs": [
    {
     "data": {
      "text/html": [
       "<table>\n",
       "<caption>A tibble: 1 × 4</caption>\n",
       "<thead>\n",
       "\t<tr><th scope=col>all_filters</th><th scope=col>is_outside_of_MHC</th><th scope=col>ld_indep</th><th scope=col>n</th></tr>\n",
       "\t<tr><th scope=col>&lt;int&gt;</th><th scope=col>&lt;lgl&gt;</th><th scope=col>&lt;lgl&gt;</th><th scope=col>&lt;int&gt;</th></tr>\n",
       "</thead>\n",
       "<tbody>\n",
       "\t<tr><td>0</td><td>TRUE</td><td>TRUE</td><td>9735</td></tr>\n",
       "</tbody>\n",
       "</table>\n"
      ],
      "text/latex": [
       "A tibble: 1 × 4\n",
       "\\begin{tabular}{r|llll}\n",
       " all\\_filters & is\\_outside\\_of\\_MHC & ld\\_indep & n\\\\\n",
       " <int> & <lgl> & <lgl> & <int>\\\\\n",
       "\\hline\n",
       "\t 0 & TRUE & TRUE & 9735\\\\\n",
       "\\end{tabular}\n"
      ],
      "text/markdown": [
       "\n",
       "A tibble: 1 × 4\n",
       "\n",
       "| all_filters &lt;int&gt; | is_outside_of_MHC &lt;lgl&gt; | ld_indep &lt;lgl&gt; | n &lt;int&gt; |\n",
       "|---|---|---|---|\n",
       "| 0 | TRUE | TRUE | 9735 |\n",
       "\n"
      ],
      "text/plain": [
       "  all_filters is_outside_of_MHC ld_indep n   \n",
       "1 0           TRUE              TRUE     9735"
      ]
     },
     "metadata": {},
     "output_type": "display_data"
    }
   ],
   "source": [
    "# quick check\n",
    "array_anno_df %>% count(all_filters, is_outside_of_MHC, ld_indep)\n"
   ]
  },
  {
   "cell_type": "code",
   "execution_count": 11,
   "metadata": {},
   "outputs": [
    {
     "data": {
      "text/html": [
       "<table>\n",
       "<caption>A tibble: 6 × 3</caption>\n",
       "<thead>\n",
       "\t<tr><th scope=col>Csq</th><th scope=col>is_rare</th><th scope=col>n</th></tr>\n",
       "\t<tr><th scope=col>&lt;chr&gt;</th><th scope=col>&lt;lgl&gt;</th><th scope=col>&lt;int&gt;</th></tr>\n",
       "</thead>\n",
       "<tbody>\n",
       "\t<tr><td>non-coding        </td><td>FALSE</td><td>4389</td></tr>\n",
       "\t<tr><td>non-coding        </td><td> TRUE</td><td>  75</td></tr>\n",
       "\t<tr><td>protein-altering  </td><td>FALSE</td><td> 402</td></tr>\n",
       "\t<tr><td>protein-altering  </td><td> TRUE</td><td> 192</td></tr>\n",
       "\t<tr><td>protein-truncating</td><td>FALSE</td><td>  10</td></tr>\n",
       "\t<tr><td>protein-truncating</td><td> TRUE</td><td>  28</td></tr>\n",
       "</tbody>\n",
       "</table>\n"
      ],
      "text/latex": [
       "A tibble: 6 × 3\n",
       "\\begin{tabular}{r|lll}\n",
       " Csq & is\\_rare & n\\\\\n",
       " <chr> & <lgl> & <int>\\\\\n",
       "\\hline\n",
       "\t non-coding         & FALSE & 4389\\\\\n",
       "\t non-coding         &  TRUE &   75\\\\\n",
       "\t protein-altering   & FALSE &  402\\\\\n",
       "\t protein-altering   &  TRUE &  192\\\\\n",
       "\t protein-truncating & FALSE &   10\\\\\n",
       "\t protein-truncating &  TRUE &   28\\\\\n",
       "\\end{tabular}\n"
      ],
      "text/markdown": [
       "\n",
       "A tibble: 6 × 3\n",
       "\n",
       "| Csq &lt;chr&gt; | is_rare &lt;lgl&gt; | n &lt;int&gt; |\n",
       "|---|---|---|\n",
       "| non-coding         | FALSE | 4389 |\n",
       "| non-coding         |  TRUE |   75 |\n",
       "| protein-altering   | FALSE |  402 |\n",
       "| protein-altering   |  TRUE |  192 |\n",
       "| protein-truncating | FALSE |   10 |\n",
       "| protein-truncating |  TRUE |   28 |\n",
       "\n"
      ],
      "text/plain": [
       "  Csq                is_rare n   \n",
       "1 non-coding         FALSE   4389\n",
       "2 non-coding          TRUE     75\n",
       "3 protein-altering   FALSE    402\n",
       "4 protein-altering    TRUE    192\n",
       "5 protein-truncating FALSE     10\n",
       "6 protein-truncating  TRUE     28"
      ]
     },
     "metadata": {},
     "output_type": "display_data"
    }
   ],
   "source": [
    "array_anno_df %>% \n",
    "select(Csq, is_rare, ID) %>%\n",
    "unique() %>%\n",
    "count(Csq, is_rare)\n"
   ]
  },
  {
   "cell_type": "code",
   "execution_count": 12,
   "metadata": {},
   "outputs": [],
   "source": [
    "array_anno_df %>%\n",
    "fwrite(out_array_hits, sep='\\t')\n"
   ]
  },
  {
   "cell_type": "code",
   "execution_count": 13,
   "metadata": {},
   "outputs": [
    {
     "data": {
      "text/html": [
       "'gdrive upload -p 1fGlnrj8Zu1Pox3fmxmFKdcbNVWiN9vhd @@@@@@/users/ytanigaw/repos/rivas-lab/biomarkers/cascade/out_v3/cascade.array.hits.tsv'"
      ],
      "text/latex": [
       "'gdrive upload -p 1fGlnrj8Zu1Pox3fmxmFKdcbNVWiN9vhd @@@@@@/users/ytanigaw/repos/rivas-lab/biomarkers/cascade/out\\_v3/cascade.array.hits.tsv'"
      ],
      "text/markdown": [
       "'gdrive upload -p 1fGlnrj8Zu1Pox3fmxmFKdcbNVWiN9vhd @@@@@@/users/ytanigaw/repos/rivas-lab/biomarkers/cascade/out_v3/cascade.array.hits.tsv'"
      ],
      "text/plain": [
       "[1] \"gdrive upload -p 1fGlnrj8Zu1Pox3fmxmFKdcbNVWiN9vhd @@@@@@/users/ytanigaw/repos/rivas-lab/biomarkers/cascade/out_v3/cascade.array.hits.tsv\""
      ]
     },
     "metadata": {},
     "output_type": "display_data"
    }
   ],
   "source": [
    "paste('gdrive', 'upload', '-p', gdrive_dir, out_array_hits, sep=' ')\n"
   ]
  },
  {
   "cell_type": "code",
   "execution_count": 15,
   "metadata": {},
   "outputs": [
    {
     "data": {
      "text/html": [
       "'zstd --rm -15 @@@@@@/users/ytanigaw/repos/rivas-lab/biomarkers/cascade/out_v3/cascade.array.hits.tsv'"
      ],
      "text/latex": [
       "'zstd --rm -15 @@@@@@/users/ytanigaw/repos/rivas-lab/biomarkers/cascade/out\\_v3/cascade.array.hits.tsv'"
      ],
      "text/markdown": [
       "'zstd --rm -15 @@@@@@/users/ytanigaw/repos/rivas-lab/biomarkers/cascade/out_v3/cascade.array.hits.tsv'"
      ],
      "text/plain": [
       "[1] \"zstd --rm -15 @@@@@@/users/ytanigaw/repos/rivas-lab/biomarkers/cascade/out_v3/cascade.array.hits.tsv\""
      ]
     },
     "metadata": {},
     "output_type": "display_data"
    }
   ],
   "source": [
    "paste('zstd', '--rm', '-15', out_array_hits, sep=' ')\n"
   ]
  },
  {
   "cell_type": "code",
   "execution_count": null,
   "metadata": {},
   "outputs": [],
   "source": []
  }
 ],
 "metadata": {
  "kernelspec": {
   "display_name": "R",
   "language": "R",
   "name": "ir"
  },
  "language_info": {
   "codemirror_mode": "r",
   "file_extension": ".r",
   "mimetype": "text/x-r-source",
   "name": "R",
   "pygments_lexer": "r",
   "version": "3.6.1"
  }
 },
 "nbformat": 4,
 "nbformat_minor": 4
}
