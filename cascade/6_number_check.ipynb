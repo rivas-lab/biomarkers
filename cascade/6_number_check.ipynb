{
 "cells": [
  {
   "cell_type": "code",
   "execution_count": 1,
   "metadata": {},
   "outputs": [],
   "source": [
    "suppressWarnings(suppressPackageStartupMessages({\n",
    "    library(tidyverse)\n",
    "    library(data.table)\n",
    "}))\n"
   ]
  },
  {
   "cell_type": "code",
   "execution_count": 2,
   "metadata": {},
   "outputs": [],
   "source": [
    "# input file/dir\n",
    "in_d <- '@@@@@@/users/ytanigaw/repos/rivas-lab/biomarkers/cascade/out_v3'\n"
   ]
  },
  {
   "cell_type": "code",
   "execution_count": 3,
   "metadata": {},
   "outputs": [],
   "source": [
    "dfs <- list()\n",
    "for(vtype in c('PTVs', 'PAVs', 'nc')){\n",
    "    dfs[[vtype]] <- fread(file.path(in_d, sprintf('cascade.%s.tsv', vtype))) %>% rename('CHROM'='#CHROM')\n",
    "}\n"
   ]
  },
  {
   "cell_type": "code",
   "execution_count": 27,
   "metadata": {},
   "outputs": [],
   "source": [
    "df <- bind_rows(\n",
    "    dfs[['PTVs']] %>% mutate(Csq='PTVs'),\n",
    "    dfs[['PAVs']] %>% mutate(Csq='PAVs')\n",
    ") %>%\n",
    "filter(is_outside_of_MHC) %>%\n",
    "select(CHROM, POS, REF, ALT, ID, trait, Gene_symbol, BETA, MAF, Csq, is_outside_of_MHC, P) %>%\n",
    "bind_rows(\n",
    "    dfs[['nc']] %>% filter(is_outside_of_MHC) %>%\n",
    "    replace_na(list(Gene_symbol=''))%>%\n",
    "    select(CHROM, POS, REF, ALT, ID, trait, BETA, MAF, is_outside_of_MHC, P) %>%\n",
    "    mutate(Gene_symbol='', Csq='nc')\n",
    ")\n"
   ]
  },
  {
   "cell_type": "code",
   "execution_count": 28,
   "metadata": {},
   "outputs": [
    {
     "data": {
      "text/html": [
       "<style>\n",
       ".list-inline {list-style: none; margin:0; padding: 0}\n",
       ".list-inline>li {display: inline-block}\n",
       ".list-inline>li:not(:last-child)::after {content: \"\\00b7\"; padding: 0 .5ex}\n",
       "</style>\n",
       "<ol class=list-inline><li>'CHROM'</li><li>'POS'</li><li>'REF'</li><li>'ALT'</li><li>'ID'</li><li>'trait'</li><li>'Gene_symbol'</li><li>'BETA'</li><li>'MAF'</li><li>'Csq'</li><li>'is_outside_of_MHC'</li><li>'P'</li></ol>\n"
      ],
      "text/latex": [
       "\\begin{enumerate*}\n",
       "\\item 'CHROM'\n",
       "\\item 'POS'\n",
       "\\item 'REF'\n",
       "\\item 'ALT'\n",
       "\\item 'ID'\n",
       "\\item 'trait'\n",
       "\\item 'Gene\\_symbol'\n",
       "\\item 'BETA'\n",
       "\\item 'MAF'\n",
       "\\item 'Csq'\n",
       "\\item 'is\\_outside\\_of\\_MHC'\n",
       "\\item 'P'\n",
       "\\end{enumerate*}\n"
      ],
      "text/markdown": [
       "1. 'CHROM'\n",
       "2. 'POS'\n",
       "3. 'REF'\n",
       "4. 'ALT'\n",
       "5. 'ID'\n",
       "6. 'trait'\n",
       "7. 'Gene_symbol'\n",
       "8. 'BETA'\n",
       "9. 'MAF'\n",
       "10. 'Csq'\n",
       "11. 'is_outside_of_MHC'\n",
       "12. 'P'\n",
       "\n",
       "\n"
      ],
      "text/plain": [
       " [1] \"CHROM\"             \"POS\"               \"REF\"              \n",
       " [4] \"ALT\"               \"ID\"                \"trait\"            \n",
       " [7] \"Gene_symbol\"       \"BETA\"              \"MAF\"              \n",
       "[10] \"Csq\"               \"is_outside_of_MHC\" \"P\"                "
      ]
     },
     "metadata": {},
     "output_type": "display_data"
    }
   ],
   "source": [
    "df %>% colnames()"
   ]
  },
  {
   "cell_type": "markdown",
   "metadata": {},
   "source": [
    "### the number of associations"
   ]
  },
  {
   "cell_type": "code",
   "execution_count": 20,
   "metadata": {},
   "outputs": [
    {
     "data": {
      "text/html": [
       "<table class=\"dataframe\">\n",
       "<caption>A data.table: 3 × 5</caption>\n",
       "<thead>\n",
       "\t<tr><th scope=col>is_outside_of_MHC</th><th scope=col>Csq</th><th scope=col>non_rare</th><th scope=col>rare</th><th scope=col>n</th></tr>\n",
       "\t<tr><th scope=col>&lt;lgl&gt;</th><th scope=col>&lt;chr&gt;</th><th scope=col>&lt;dbl&gt;</th><th scope=col>&lt;dbl&gt;</th><th scope=col>&lt;dbl&gt;</th></tr>\n",
       "</thead>\n",
       "<tbody>\n",
       "\t<tr><td>TRUE</td><td>nc  </td><td>9001</td><td>116</td><td>9117</td></tr>\n",
       "\t<tr><td>TRUE</td><td>PAVs</td><td>1017</td><td>306</td><td>1323</td></tr>\n",
       "\t<tr><td>TRUE</td><td>PTVs</td><td>  15</td><td> 43</td><td>  58</td></tr>\n",
       "</tbody>\n",
       "</table>\n"
      ],
      "text/latex": [
       "A data.table: 3 × 5\n",
       "\\begin{tabular}{lllll}\n",
       " is\\_outside\\_of\\_MHC & Csq & non\\_rare & rare & n\\\\\n",
       " <lgl> & <chr> & <dbl> & <dbl> & <dbl>\\\\\n",
       "\\hline\n",
       "\t TRUE & nc   & 9001 & 116 & 9117\\\\\n",
       "\t TRUE & PAVs & 1017 & 306 & 1323\\\\\n",
       "\t TRUE & PTVs &   15 &  43 &   58\\\\\n",
       "\\end{tabular}\n"
      ],
      "text/markdown": [
       "\n",
       "A data.table: 3 × 5\n",
       "\n",
       "| is_outside_of_MHC &lt;lgl&gt; | Csq &lt;chr&gt; | non_rare &lt;dbl&gt; | rare &lt;dbl&gt; | n &lt;dbl&gt; |\n",
       "|---|---|---|---|---|\n",
       "| TRUE | nc   | 9001 | 116 | 9117 |\n",
       "| TRUE | PAVs | 1017 | 306 | 1323 |\n",
       "| TRUE | PTVs |   15 |  43 |   58 |\n",
       "\n"
      ],
      "text/plain": [
       "  is_outside_of_MHC Csq  non_rare rare n   \n",
       "1 TRUE              nc   9001     116  9117\n",
       "2 TRUE              PAVs 1017     306  1323\n",
       "3 TRUE              PTVs   15      43    58"
      ]
     },
     "metadata": {},
     "output_type": "display_data"
    }
   ],
   "source": [
    "df %>% \n",
    "mutate(is_rare = if_else(MAF < 0.01, 'rare', 'non_rare')) %>%\n",
    "count(is_outside_of_MHC, Csq, is_rare) %>%\n",
    "spread(is_rare, n, fill=0) %>%\n",
    "mutate(n = rare + non_rare)\n"
   ]
  },
  {
   "cell_type": "code",
   "execution_count": 8,
   "metadata": {},
   "outputs": [
    {
     "data": {
      "text/html": [
       "<table class=\"dataframe\">\n",
       "<caption>A data.table: 6 × 6</caption>\n",
       "<thead>\n",
       "\t<tr><th scope=col>is_outside_of_MHC</th><th scope=col>Csq</th><th scope=col>sign</th><th scope=col>non_rare</th><th scope=col>rare</th><th scope=col>n</th></tr>\n",
       "\t<tr><th scope=col>&lt;lgl&gt;</th><th scope=col>&lt;chr&gt;</th><th scope=col>&lt;chr&gt;</th><th scope=col>&lt;dbl&gt;</th><th scope=col>&lt;dbl&gt;</th><th scope=col>&lt;dbl&gt;</th></tr>\n",
       "</thead>\n",
       "<tbody>\n",
       "\t<tr><td>TRUE</td><td>nc  </td><td>-</td><td>298</td><td> 41</td><td>339</td></tr>\n",
       "\t<tr><td>TRUE</td><td>nc  </td><td>+</td><td>263</td><td> 46</td><td>309</td></tr>\n",
       "\t<tr><td>TRUE</td><td>PAVs</td><td>-</td><td> 79</td><td>161</td><td>240</td></tr>\n",
       "\t<tr><td>TRUE</td><td>PAVs</td><td>+</td><td> 57</td><td>125</td><td>182</td></tr>\n",
       "\t<tr><td>TRUE</td><td>PTVs</td><td>-</td><td>  2</td><td> 17</td><td> 19</td></tr>\n",
       "\t<tr><td>TRUE</td><td>PTVs</td><td>+</td><td>  2</td><td> 24</td><td> 26</td></tr>\n",
       "</tbody>\n",
       "</table>\n"
      ],
      "text/latex": [
       "A data.table: 6 × 6\n",
       "\\begin{tabular}{llllll}\n",
       " is\\_outside\\_of\\_MHC & Csq & sign & non\\_rare & rare & n\\\\\n",
       " <lgl> & <chr> & <chr> & <dbl> & <dbl> & <dbl>\\\\\n",
       "\\hline\n",
       "\t TRUE & nc   & - & 298 &  41 & 339\\\\\n",
       "\t TRUE & nc   & + & 263 &  46 & 309\\\\\n",
       "\t TRUE & PAVs & - &  79 & 161 & 240\\\\\n",
       "\t TRUE & PAVs & + &  57 & 125 & 182\\\\\n",
       "\t TRUE & PTVs & - &   2 &  17 &  19\\\\\n",
       "\t TRUE & PTVs & + &   2 &  24 &  26\\\\\n",
       "\\end{tabular}\n"
      ],
      "text/markdown": [
       "\n",
       "A data.table: 6 × 6\n",
       "\n",
       "| is_outside_of_MHC &lt;lgl&gt; | Csq &lt;chr&gt; | sign &lt;chr&gt; | non_rare &lt;dbl&gt; | rare &lt;dbl&gt; | n &lt;dbl&gt; |\n",
       "|---|---|---|---|---|---|\n",
       "| TRUE | nc   | - | 298 |  41 | 339 |\n",
       "| TRUE | nc   | + | 263 |  46 | 309 |\n",
       "| TRUE | PAVs | - |  79 | 161 | 240 |\n",
       "| TRUE | PAVs | + |  57 | 125 | 182 |\n",
       "| TRUE | PTVs | - |   2 |  17 |  19 |\n",
       "| TRUE | PTVs | + |   2 |  24 |  26 |\n",
       "\n"
      ],
      "text/plain": [
       "  is_outside_of_MHC Csq  sign non_rare rare n  \n",
       "1 TRUE              nc   -    298       41  339\n",
       "2 TRUE              nc   +    263       46  309\n",
       "3 TRUE              PAVs -     79      161  240\n",
       "4 TRUE              PAVs +     57      125  182\n",
       "5 TRUE              PTVs -      2       17   19\n",
       "6 TRUE              PTVs +      2       24   26"
      ]
     },
     "metadata": {},
     "output_type": "display_data"
    }
   ],
   "source": [
    "df %>% \n",
    "filter(abs(BETA) > .1) %>%\n",
    "mutate(\n",
    "    is_rare = if_else(MAF < 0.01, 'rare', 'non_rare'),\n",
    "    sign = if_else(BETA > 0, '+', '-')\n",
    ") %>%\n",
    "count(is_outside_of_MHC, Csq, sign, is_rare) %>%\n",
    "spread(is_rare, n, fill=0) %>%\n",
    "mutate(n = rare + non_rare)\n"
   ]
  },
  {
   "cell_type": "markdown",
   "metadata": {},
   "source": [
    "### the number of variants"
   ]
  },
  {
   "cell_type": "code",
   "execution_count": 21,
   "metadata": {},
   "outputs": [
    {
     "data": {
      "text/html": [
       "5794"
      ],
      "text/latex": [
       "5794"
      ],
      "text/markdown": [
       "5794"
      ],
      "text/plain": [
       "[1] 5794"
      ]
     },
     "metadata": {},
     "output_type": "display_data"
    }
   ],
   "source": [
    "df %>% select(CHROM, POS, REF, ALT, ID) %>% unique %>% nrow\n"
   ]
  },
  {
   "cell_type": "code",
   "execution_count": 22,
   "metadata": {},
   "outputs": [
    {
     "data": {
      "text/html": [
       "5792"
      ],
      "text/latex": [
       "5792"
      ],
      "text/markdown": [
       "5792"
      ],
      "text/plain": [
       "[1] 5792"
      ]
     },
     "metadata": {},
     "output_type": "display_data"
    }
   ],
   "source": [
    "df %>% pull(ID) %>% n_distinct\n"
   ]
  },
  {
   "cell_type": "code",
   "execution_count": 23,
   "metadata": {},
   "outputs": [
    {
     "data": {
      "text/html": [
       "<table class=\"dataframe\">\n",
       "<caption>A data.table: 4 × 11</caption>\n",
       "<thead>\n",
       "\t<tr><th scope=col>CHROM</th><th scope=col>POS</th><th scope=col>REF</th><th scope=col>ALT</th><th scope=col>ID</th><th scope=col>trait</th><th scope=col>Gene_symbol</th><th scope=col>BETA</th><th scope=col>MAF</th><th scope=col>Csq</th><th scope=col>is_outside_of_MHC</th></tr>\n",
       "\t<tr><th scope=col>&lt;int&gt;</th><th scope=col>&lt;int&gt;</th><th scope=col>&lt;chr&gt;</th><th scope=col>&lt;chr&gt;</th><th scope=col>&lt;chr&gt;</th><th scope=col>&lt;chr&gt;</th><th scope=col>&lt;chr&gt;</th><th scope=col>&lt;dbl&gt;</th><th scope=col>&lt;dbl&gt;</th><th scope=col>&lt;chr&gt;</th><th scope=col>&lt;lgl&gt;</th></tr>\n",
       "</thead>\n",
       "<tbody>\n",
       "\t<tr><td> 1</td><td>198994696</td><td>TA</td><td>T</td><td>NA</td><td>Cholesterol              </td><td></td><td> 0.0173</td><td>0.279055</td><td>nc</td><td>TRUE</td></tr>\n",
       "\t<tr><td> 1</td><td>198994696</td><td>TA</td><td>T</td><td>NA</td><td>LDL cholesterol          </td><td></td><td> 0.0176</td><td>0.279055</td><td>nc</td><td>TRUE</td></tr>\n",
       "\t<tr><td> 5</td><td> 87703384</td><td>GA</td><td>G</td><td>NA</td><td>C-reactive protein       </td><td></td><td>-0.0178</td><td>0.256082</td><td>nc</td><td>TRUE</td></tr>\n",
       "\t<tr><td>22</td><td> 44424192</td><td>G </td><td>T</td><td>NA</td><td>Gamma glutamyltransferase</td><td></td><td>-0.0146</td><td>0.392425</td><td>nc</td><td>TRUE</td></tr>\n",
       "</tbody>\n",
       "</table>\n"
      ],
      "text/latex": [
       "A data.table: 4 × 11\n",
       "\\begin{tabular}{lllllllllll}\n",
       " CHROM & POS & REF & ALT & ID & trait & Gene\\_symbol & BETA & MAF & Csq & is\\_outside\\_of\\_MHC\\\\\n",
       " <int> & <int> & <chr> & <chr> & <chr> & <chr> & <chr> & <dbl> & <dbl> & <chr> & <lgl>\\\\\n",
       "\\hline\n",
       "\t  1 & 198994696 & TA & T & NA & Cholesterol               &  &  0.0173 & 0.279055 & nc & TRUE\\\\\n",
       "\t  1 & 198994696 & TA & T & NA & LDL cholesterol           &  &  0.0176 & 0.279055 & nc & TRUE\\\\\n",
       "\t  5 &  87703384 & GA & G & NA & C-reactive protein        &  & -0.0178 & 0.256082 & nc & TRUE\\\\\n",
       "\t 22 &  44424192 & G  & T & NA & Gamma glutamyltransferase &  & -0.0146 & 0.392425 & nc & TRUE\\\\\n",
       "\\end{tabular}\n"
      ],
      "text/markdown": [
       "\n",
       "A data.table: 4 × 11\n",
       "\n",
       "| CHROM &lt;int&gt; | POS &lt;int&gt; | REF &lt;chr&gt; | ALT &lt;chr&gt; | ID &lt;chr&gt; | trait &lt;chr&gt; | Gene_symbol &lt;chr&gt; | BETA &lt;dbl&gt; | MAF &lt;dbl&gt; | Csq &lt;chr&gt; | is_outside_of_MHC &lt;lgl&gt; |\n",
       "|---|---|---|---|---|---|---|---|---|---|---|\n",
       "|  1 | 198994696 | TA | T | NA | Cholesterol               | <!----> |  0.0173 | 0.279055 | nc | TRUE |\n",
       "|  1 | 198994696 | TA | T | NA | LDL cholesterol           | <!----> |  0.0176 | 0.279055 | nc | TRUE |\n",
       "|  5 |  87703384 | GA | G | NA | C-reactive protein        | <!----> | -0.0178 | 0.256082 | nc | TRUE |\n",
       "| 22 |  44424192 | G  | T | NA | Gamma glutamyltransferase | <!----> | -0.0146 | 0.392425 | nc | TRUE |\n",
       "\n"
      ],
      "text/plain": [
       "  CHROM POS       REF ALT ID trait                     Gene_symbol BETA   \n",
       "1  1    198994696 TA  T   NA Cholesterol                            0.0173\n",
       "2  1    198994696 TA  T   NA LDL cholesterol                        0.0176\n",
       "3  5     87703384 GA  G   NA C-reactive protein                    -0.0178\n",
       "4 22     44424192 G   T   NA Gamma glutamyltransferase             -0.0146\n",
       "  MAF      Csq is_outside_of_MHC\n",
       "1 0.279055 nc  TRUE             \n",
       "2 0.279055 nc  TRUE             \n",
       "3 0.256082 nc  TRUE             \n",
       "4 0.392425 nc  TRUE             "
      ]
     },
     "metadata": {},
     "output_type": "display_data"
    }
   ],
   "source": [
    "df %>% filter(is.na(ID))\n"
   ]
  },
  {
   "cell_type": "code",
   "execution_count": 9,
   "metadata": {},
   "outputs": [
    {
     "data": {
      "text/html": [
       "<table class=\"dataframe\">\n",
       "<caption>A data.table: 3 × 5</caption>\n",
       "<thead>\n",
       "\t<tr><th scope=col>is_outside_of_MHC</th><th scope=col>Csq</th><th scope=col>non_rare</th><th scope=col>rare</th><th scope=col>n</th></tr>\n",
       "\t<tr><th scope=col>&lt;lgl&gt;</th><th scope=col>&lt;chr&gt;</th><th scope=col>&lt;dbl&gt;</th><th scope=col>&lt;dbl&gt;</th><th scope=col>&lt;dbl&gt;</th></tr>\n",
       "</thead>\n",
       "<tbody>\n",
       "\t<tr><td>TRUE</td><td>nc  </td><td>5087</td><td> 75</td><td>5162</td></tr>\n",
       "\t<tr><td>TRUE</td><td>PAVs</td><td> 402</td><td>192</td><td> 594</td></tr>\n",
       "\t<tr><td>TRUE</td><td>PTVs</td><td>  10</td><td> 28</td><td>  38</td></tr>\n",
       "</tbody>\n",
       "</table>\n"
      ],
      "text/latex": [
       "A data.table: 3 × 5\n",
       "\\begin{tabular}{lllll}\n",
       " is\\_outside\\_of\\_MHC & Csq & non\\_rare & rare & n\\\\\n",
       " <lgl> & <chr> & <dbl> & <dbl> & <dbl>\\\\\n",
       "\\hline\n",
       "\t TRUE & nc   & 5087 &  75 & 5162\\\\\n",
       "\t TRUE & PAVs &  402 & 192 &  594\\\\\n",
       "\t TRUE & PTVs &   10 &  28 &   38\\\\\n",
       "\\end{tabular}\n"
      ],
      "text/markdown": [
       "\n",
       "A data.table: 3 × 5\n",
       "\n",
       "| is_outside_of_MHC &lt;lgl&gt; | Csq &lt;chr&gt; | non_rare &lt;dbl&gt; | rare &lt;dbl&gt; | n &lt;dbl&gt; |\n",
       "|---|---|---|---|---|\n",
       "| TRUE | nc   | 5087 |  75 | 5162 |\n",
       "| TRUE | PAVs |  402 | 192 |  594 |\n",
       "| TRUE | PTVs |   10 |  28 |   38 |\n",
       "\n"
      ],
      "text/plain": [
       "  is_outside_of_MHC Csq  non_rare rare n   \n",
       "1 TRUE              nc   5087      75  5162\n",
       "2 TRUE              PAVs  402     192   594\n",
       "3 TRUE              PTVs   10      28    38"
      ]
     },
     "metadata": {},
     "output_type": "display_data"
    }
   ],
   "source": [
    "df %>% \n",
    "select(CHROM, POS, ID, MAF, Csq, is_outside_of_MHC) %>%\n",
    "unique() %>% \n",
    "mutate(is_rare = if_else(MAF < 0.01, 'rare', 'non_rare')) %>%\n",
    "count(is_outside_of_MHC, Csq, is_rare) %>%\n",
    "spread(is_rare, n, fill=0) %>%\n",
    "mutate(n = rare + non_rare)\n"
   ]
  },
  {
   "cell_type": "code",
   "execution_count": 16,
   "metadata": {},
   "outputs": [
    {
     "data": {
      "text/html": [
       "5794"
      ],
      "text/latex": [
       "5794"
      ],
      "text/markdown": [
       "5794"
      ],
      "text/plain": [
       "[1] 5794"
      ]
     },
     "metadata": {},
     "output_type": "display_data"
    }
   ],
   "source": [
    "5162 + 594 + 38"
   ]
  },
  {
   "cell_type": "code",
   "execution_count": 10,
   "metadata": {},
   "outputs": [
    {
     "data": {
      "text/html": [
       "<table class=\"dataframe\">\n",
       "<caption>A data.table: 3 × 5</caption>\n",
       "<thead>\n",
       "\t<tr><th scope=col>is_outside_of_MHC</th><th scope=col>Csq</th><th scope=col>non_rare</th><th scope=col>rare</th><th scope=col>n</th></tr>\n",
       "\t<tr><th scope=col>&lt;lgl&gt;</th><th scope=col>&lt;chr&gt;</th><th scope=col>&lt;dbl&gt;</th><th scope=col>&lt;dbl&gt;</th><th scope=col>&lt;dbl&gt;</th></tr>\n",
       "</thead>\n",
       "<tbody>\n",
       "\t<tr><td>TRUE</td><td>nc  </td><td>382</td><td> 59</td><td>441</td></tr>\n",
       "\t<tr><td>TRUE</td><td>PAVs</td><td> 62</td><td>179</td><td>241</td></tr>\n",
       "\t<tr><td>TRUE</td><td>PTVs</td><td>  4</td><td> 27</td><td> 31</td></tr>\n",
       "</tbody>\n",
       "</table>\n"
      ],
      "text/latex": [
       "A data.table: 3 × 5\n",
       "\\begin{tabular}{lllll}\n",
       " is\\_outside\\_of\\_MHC & Csq & non\\_rare & rare & n\\\\\n",
       " <lgl> & <chr> & <dbl> & <dbl> & <dbl>\\\\\n",
       "\\hline\n",
       "\t TRUE & nc   & 382 &  59 & 441\\\\\n",
       "\t TRUE & PAVs &  62 & 179 & 241\\\\\n",
       "\t TRUE & PTVs &   4 &  27 &  31\\\\\n",
       "\\end{tabular}\n"
      ],
      "text/markdown": [
       "\n",
       "A data.table: 3 × 5\n",
       "\n",
       "| is_outside_of_MHC &lt;lgl&gt; | Csq &lt;chr&gt; | non_rare &lt;dbl&gt; | rare &lt;dbl&gt; | n &lt;dbl&gt; |\n",
       "|---|---|---|---|---|\n",
       "| TRUE | nc   | 382 |  59 | 441 |\n",
       "| TRUE | PAVs |  62 | 179 | 241 |\n",
       "| TRUE | PTVs |   4 |  27 |  31 |\n",
       "\n"
      ],
      "text/plain": [
       "  is_outside_of_MHC Csq  non_rare rare n  \n",
       "1 TRUE              nc   382       59  441\n",
       "2 TRUE              PAVs  62      179  241\n",
       "3 TRUE              PTVs   4       27   31"
      ]
     },
     "metadata": {},
     "output_type": "display_data"
    }
   ],
   "source": [
    "df %>% \n",
    "filter(abs(BETA) > .1) %>%\n",
    "select(CHROM, POS, ID, MAF, Csq, is_outside_of_MHC) %>%\n",
    "unique() %>% \n",
    "mutate(\n",
    "    is_rare = if_else(MAF < 0.01, 'rare', 'non_rare'),\n",
    ") %>%\n",
    "count(is_outside_of_MHC, Csq, is_rare) %>%\n",
    "spread(is_rare, n, fill=0) %>%\n",
    "mutate(n = rare + non_rare)\n"
   ]
  },
  {
   "cell_type": "code",
   "execution_count": 11,
   "metadata": {},
   "outputs": [
    {
     "data": {
      "text/html": [
       "<table class=\"dataframe\">\n",
       "<caption>A data.table: 35 × 2</caption>\n",
       "<thead>\n",
       "\t<tr><th></th><th scope=col>trait</th><th scope=col>n</th></tr>\n",
       "\t<tr><th></th><th scope=col>&lt;chr&gt;</th><th scope=col>&lt;int&gt;</th></tr>\n",
       "</thead>\n",
       "<tbody>\n",
       "\t<tr><th scope=row>1</th><td>Alanine aminotransferase  </td><td>189</td></tr>\n",
       "\t<tr><th scope=row>2</th><td>Albumin                   </td><td>202</td></tr>\n",
       "\t<tr><th scope=row>3</th><td>Alkaline phosphatase      </td><td>715</td></tr>\n",
       "\t<tr><th scope=row>4</th><td>Apolipoprotein A          </td><td>454</td></tr>\n",
       "\t<tr><th scope=row>5</th><td>Apolipoprotein B          </td><td>593</td></tr>\n",
       "\t<tr><th scope=row>6</th><td>Aspartate aminotransferase</td><td>265</td></tr>\n",
       "\t<tr><th scope=row>7</th><td>AST to ALT ratio          </td><td>226</td></tr>\n",
       "\t<tr><th scope=row>8</th><td>C-reactive protein        </td><td>351</td></tr>\n",
       "\t<tr><th scope=row>9</th><td>Calcium                   </td><td>208</td></tr>\n",
       "\t<tr><th scope=row>10</th><td>Cholesterol               </td><td>596</td></tr>\n",
       "\t<tr><th scope=row>11</th><td>Creatinine                </td><td>359</td></tr>\n",
       "\t<tr><th scope=row>12</th><td>Creatinine in urine       </td><td>  7</td></tr>\n",
       "\t<tr><th scope=row>13</th><td>Cystatin C                </td><td>360</td></tr>\n",
       "\t<tr><th scope=row>14</th><td>Direct bilirubin          </td><td>206</td></tr>\n",
       "\t<tr><th scope=row>15</th><td>eGFR                      </td><td>349</td></tr>\n",
       "\t<tr><th scope=row>16</th><td>Gamma glutamyltransferase </td><td>424</td></tr>\n",
       "\t<tr><th scope=row>17</th><td>Glucose                   </td><td>121</td></tr>\n",
       "\t<tr><th scope=row>18</th><td>HbA1c                     </td><td>470</td></tr>\n",
       "\t<tr><th scope=row>19</th><td>HDL cholesterol           </td><td>519</td></tr>\n",
       "\t<tr><th scope=row>20</th><td>IGF-1                     </td><td>459</td></tr>\n",
       "\t<tr><th scope=row>21</th><td>LDL cholesterol           </td><td>563</td></tr>\n",
       "\t<tr><th scope=row>22</th><td>Lipoprotein A             </td><td>194</td></tr>\n",
       "\t<tr><th scope=row>23</th><td>Microalbumin in urine     </td><td>  6</td></tr>\n",
       "\t<tr><th scope=row>24</th><td>Non-albumin protein       </td><td>336</td></tr>\n",
       "\t<tr><th scope=row>25</th><td>Phosphate                 </td><td>188</td></tr>\n",
       "\t<tr><th scope=row>26</th><td>Potassium in urine        </td><td>  1</td></tr>\n",
       "\t<tr><th scope=row>27</th><td>SHBG                      </td><td>415</td></tr>\n",
       "\t<tr><th scope=row>28</th><td>Sodium in urine           </td><td> 15</td></tr>\n",
       "\t<tr><th scope=row>29</th><td>Testosterone              </td><td>113</td></tr>\n",
       "\t<tr><th scope=row>30</th><td>Total bilirubin           </td><td>260</td></tr>\n",
       "\t<tr><th scope=row>31</th><td>Total protein             </td><td>239</td></tr>\n",
       "\t<tr><th scope=row>32</th><td>Triglycerides             </td><td>424</td></tr>\n",
       "\t<tr><th scope=row>33</th><td>Urate                     </td><td>363</td></tr>\n",
       "\t<tr><th scope=row>34</th><td>Urea                      </td><td>166</td></tr>\n",
       "\t<tr><th scope=row>35</th><td>Vitamin D                 </td><td>142</td></tr>\n",
       "</tbody>\n",
       "</table>\n"
      ],
      "text/latex": [
       "A data.table: 35 × 2\n",
       "\\begin{tabular}{r|ll}\n",
       "  & trait & n\\\\\n",
       "  & <chr> & <int>\\\\\n",
       "\\hline\n",
       "\t1 & Alanine aminotransferase   & 189\\\\\n",
       "\t2 & Albumin                    & 202\\\\\n",
       "\t3 & Alkaline phosphatase       & 715\\\\\n",
       "\t4 & Apolipoprotein A           & 454\\\\\n",
       "\t5 & Apolipoprotein B           & 593\\\\\n",
       "\t6 & Aspartate aminotransferase & 265\\\\\n",
       "\t7 & AST to ALT ratio           & 226\\\\\n",
       "\t8 & C-reactive protein         & 351\\\\\n",
       "\t9 & Calcium                    & 208\\\\\n",
       "\t10 & Cholesterol                & 596\\\\\n",
       "\t11 & Creatinine                 & 359\\\\\n",
       "\t12 & Creatinine in urine        &   7\\\\\n",
       "\t13 & Cystatin C                 & 360\\\\\n",
       "\t14 & Direct bilirubin           & 206\\\\\n",
       "\t15 & eGFR                       & 349\\\\\n",
       "\t16 & Gamma glutamyltransferase  & 424\\\\\n",
       "\t17 & Glucose                    & 121\\\\\n",
       "\t18 & HbA1c                      & 470\\\\\n",
       "\t19 & HDL cholesterol            & 519\\\\\n",
       "\t20 & IGF-1                      & 459\\\\\n",
       "\t21 & LDL cholesterol            & 563\\\\\n",
       "\t22 & Lipoprotein A              & 194\\\\\n",
       "\t23 & Microalbumin in urine      &   6\\\\\n",
       "\t24 & Non-albumin protein        & 336\\\\\n",
       "\t25 & Phosphate                  & 188\\\\\n",
       "\t26 & Potassium in urine         &   1\\\\\n",
       "\t27 & SHBG                       & 415\\\\\n",
       "\t28 & Sodium in urine            &  15\\\\\n",
       "\t29 & Testosterone               & 113\\\\\n",
       "\t30 & Total bilirubin            & 260\\\\\n",
       "\t31 & Total protein              & 239\\\\\n",
       "\t32 & Triglycerides              & 424\\\\\n",
       "\t33 & Urate                      & 363\\\\\n",
       "\t34 & Urea                       & 166\\\\\n",
       "\t35 & Vitamin D                  & 142\\\\\n",
       "\\end{tabular}\n"
      ],
      "text/markdown": [
       "\n",
       "A data.table: 35 × 2\n",
       "\n",
       "| <!--/--> | trait &lt;chr&gt; | n &lt;int&gt; |\n",
       "|---|---|---|\n",
       "| 1 | Alanine aminotransferase   | 189 |\n",
       "| 2 | Albumin                    | 202 |\n",
       "| 3 | Alkaline phosphatase       | 715 |\n",
       "| 4 | Apolipoprotein A           | 454 |\n",
       "| 5 | Apolipoprotein B           | 593 |\n",
       "| 6 | Aspartate aminotransferase | 265 |\n",
       "| 7 | AST to ALT ratio           | 226 |\n",
       "| 8 | C-reactive protein         | 351 |\n",
       "| 9 | Calcium                    | 208 |\n",
       "| 10 | Cholesterol                | 596 |\n",
       "| 11 | Creatinine                 | 359 |\n",
       "| 12 | Creatinine in urine        |   7 |\n",
       "| 13 | Cystatin C                 | 360 |\n",
       "| 14 | Direct bilirubin           | 206 |\n",
       "| 15 | eGFR                       | 349 |\n",
       "| 16 | Gamma glutamyltransferase  | 424 |\n",
       "| 17 | Glucose                    | 121 |\n",
       "| 18 | HbA1c                      | 470 |\n",
       "| 19 | HDL cholesterol            | 519 |\n",
       "| 20 | IGF-1                      | 459 |\n",
       "| 21 | LDL cholesterol            | 563 |\n",
       "| 22 | Lipoprotein A              | 194 |\n",
       "| 23 | Microalbumin in urine      |   6 |\n",
       "| 24 | Non-albumin protein        | 336 |\n",
       "| 25 | Phosphate                  | 188 |\n",
       "| 26 | Potassium in urine         |   1 |\n",
       "| 27 | SHBG                       | 415 |\n",
       "| 28 | Sodium in urine            |  15 |\n",
       "| 29 | Testosterone               | 113 |\n",
       "| 30 | Total bilirubin            | 260 |\n",
       "| 31 | Total protein              | 239 |\n",
       "| 32 | Triglycerides              | 424 |\n",
       "| 33 | Urate                      | 363 |\n",
       "| 34 | Urea                       | 166 |\n",
       "| 35 | Vitamin D                  | 142 |\n",
       "\n"
      ],
      "text/plain": [
       "   trait                      n  \n",
       "1  Alanine aminotransferase   189\n",
       "2  Albumin                    202\n",
       "3  Alkaline phosphatase       715\n",
       "4  Apolipoprotein A           454\n",
       "5  Apolipoprotein B           593\n",
       "6  Aspartate aminotransferase 265\n",
       "7  AST to ALT ratio           226\n",
       "8  C-reactive protein         351\n",
       "9  Calcium                    208\n",
       "10 Cholesterol                596\n",
       "11 Creatinine                 359\n",
       "12 Creatinine in urine          7\n",
       "13 Cystatin C                 360\n",
       "14 Direct bilirubin           206\n",
       "15 eGFR                       349\n",
       "16 Gamma glutamyltransferase  424\n",
       "17 Glucose                    121\n",
       "18 HbA1c                      470\n",
       "19 HDL cholesterol            519\n",
       "20 IGF-1                      459\n",
       "21 LDL cholesterol            563\n",
       "22 Lipoprotein A              194\n",
       "23 Microalbumin in urine        6\n",
       "24 Non-albumin protein        336\n",
       "25 Phosphate                  188\n",
       "26 Potassium in urine           1\n",
       "27 SHBG                       415\n",
       "28 Sodium in urine             15\n",
       "29 Testosterone               113\n",
       "30 Total bilirubin            260\n",
       "31 Total protein              239\n",
       "32 Triglycerides              424\n",
       "33 Urate                      363\n",
       "34 Urea                       166\n",
       "35 Vitamin D                  142"
      ]
     },
     "metadata": {},
     "output_type": "display_data"
    }
   ],
   "source": [
    "df %>% count(trait)"
   ]
  },
  {
   "cell_type": "code",
   "execution_count": 30,
   "metadata": {},
   "outputs": [],
   "source": [
    "df %>% select(CHROM, POS, REF, ALT, ID) %>% unique %>%\n",
    "arrange(CHROM, POS, ID) %>%\n",
    "rename('#CHROM' = 'CHROM') %>%\n",
    "fwrite(file.path(in_d, 'list_of_loci.tsv'), sep='\\t', na = \"NA\", quote=F)\n"
   ]
  },
  {
   "cell_type": "code",
   "execution_count": null,
   "metadata": {},
   "outputs": [],
   "source": []
  }
 ],
 "metadata": {
  "kernelspec": {
   "display_name": "R",
   "language": "R",
   "name": "ir"
  },
  "language_info": {
   "codemirror_mode": "r",
   "file_extension": ".r",
   "mimetype": "text/x-r-source",
   "name": "R",
   "pygments_lexer": "r",
   "version": "3.6.2"
  }
 },
 "nbformat": 4,
 "nbformat_minor": 4
}
