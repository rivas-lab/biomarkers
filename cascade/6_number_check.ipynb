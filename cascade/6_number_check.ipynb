{
 "cells": [
  {
   "cell_type": "code",
   "execution_count": 1,
   "metadata": {},
   "outputs": [],
   "source": [
    "suppressWarnings(suppressPackageStartupMessages({\n",
    "    library(tidyverse)\n",
    "    library(data.table)\n",
    "}))\n"
   ]
  },
  {
   "cell_type": "code",
   "execution_count": 2,
   "metadata": {},
   "outputs": [],
   "source": [
    "# output file\n",
    "out_f <- 'fuji.input.tsv'\n",
    "\n",
    "# input file/dir\n",
    "in_d <- '@@@@@@/users/ytanigaw/repos/rivas-lab/biomarkers/cascade/out_v3'\n"
   ]
  },
  {
   "cell_type": "code",
   "execution_count": 3,
   "metadata": {},
   "outputs": [],
   "source": [
    "dfs <- list()\n",
    "for(vtype in c('PTVs', 'PAVs', 'nc')){\n",
    "    dfs[[vtype]] <- fread(file.path(in_d, sprintf('cascade.%s.tsv', vtype))) %>% rename('CHROM'='#CHROM')\n",
    "}\n"
   ]
  },
  {
   "cell_type": "code",
   "execution_count": 4,
   "metadata": {},
   "outputs": [],
   "source": [
    "df <- bind_rows(\n",
    "    dfs[['PTVs']] %>% mutate(Csq='PTVs'),\n",
    "    dfs[['PAVs']] %>% mutate(Csq='PAVs')\n",
    ") %>%\n",
    "filter(is_outside_of_MHC) %>%\n",
    "select(CHROM, POS, ID, trait, Gene_symbol, BETA, MAF, Csq, is_outside_of_MHC) %>%\n",
    "bind_rows(\n",
    "    dfs[['nc']] %>% filter(is_outside_of_MHC) %>%\n",
    "    replace_na(list(Gene_symbol=''))%>%\n",
    "    select(CHROM, POS, ID, trait, BETA, MAF, is_outside_of_MHC) %>%\n",
    "    mutate(Gene_symbol='', Csq='nc')\n",
    ")\n"
   ]
  },
  {
   "cell_type": "code",
   "execution_count": 5,
   "metadata": {},
   "outputs": [
    {
     "data": {
      "text/html": [
       "<style>\n",
       ".list-inline {list-style: none; margin:0; padding: 0}\n",
       ".list-inline>li {display: inline-block}\n",
       ".list-inline>li:not(:last-child)::after {content: \"\\00b7\"; padding: 0 .5ex}\n",
       "</style>\n",
       "<ol class=list-inline><li>'CHROM'</li><li>'POS'</li><li>'ID'</li><li>'trait'</li><li>'Gene_symbol'</li><li>'BETA'</li><li>'MAF'</li><li>'Csq'</li><li>'is_outside_of_MHC'</li></ol>\n"
      ],
      "text/latex": [
       "\\begin{enumerate*}\n",
       "\\item 'CHROM'\n",
       "\\item 'POS'\n",
       "\\item 'ID'\n",
       "\\item 'trait'\n",
       "\\item 'Gene\\_symbol'\n",
       "\\item 'BETA'\n",
       "\\item 'MAF'\n",
       "\\item 'Csq'\n",
       "\\item 'is\\_outside\\_of\\_MHC'\n",
       "\\end{enumerate*}\n"
      ],
      "text/markdown": [
       "1. 'CHROM'\n",
       "2. 'POS'\n",
       "3. 'ID'\n",
       "4. 'trait'\n",
       "5. 'Gene_symbol'\n",
       "6. 'BETA'\n",
       "7. 'MAF'\n",
       "8. 'Csq'\n",
       "9. 'is_outside_of_MHC'\n",
       "\n",
       "\n"
      ],
      "text/plain": [
       "[1] \"CHROM\"             \"POS\"               \"ID\"               \n",
       "[4] \"trait\"             \"Gene_symbol\"       \"BETA\"             \n",
       "[7] \"MAF\"               \"Csq\"               \"is_outside_of_MHC\""
      ]
     },
     "metadata": {},
     "output_type": "display_data"
    }
   ],
   "source": [
    "df %>% colnames()"
   ]
  },
  {
   "cell_type": "markdown",
   "metadata": {},
   "source": [
    "### the number of associations"
   ]
  },
  {
   "cell_type": "code",
   "execution_count": 6,
   "metadata": {},
   "outputs": [
    {
     "data": {
      "text/html": [
       "<table>\n",
       "<caption>A tibble: 3 × 5</caption>\n",
       "<thead>\n",
       "\t<tr><th scope=col>is_outside_of_MHC</th><th scope=col>Csq</th><th scope=col>non_rare</th><th scope=col>rare</th><th scope=col>n</th></tr>\n",
       "\t<tr><th scope=col>&lt;lgl&gt;</th><th scope=col>&lt;chr&gt;</th><th scope=col>&lt;dbl&gt;</th><th scope=col>&lt;dbl&gt;</th><th scope=col>&lt;dbl&gt;</th></tr>\n",
       "</thead>\n",
       "<tbody>\n",
       "\t<tr><td>TRUE</td><td>nc  </td><td>9001</td><td>116</td><td>9117</td></tr>\n",
       "\t<tr><td>TRUE</td><td>PAVs</td><td>1017</td><td>306</td><td>1323</td></tr>\n",
       "\t<tr><td>TRUE</td><td>PTVs</td><td>  15</td><td> 43</td><td>  58</td></tr>\n",
       "</tbody>\n",
       "</table>\n"
      ],
      "text/latex": [
       "A tibble: 3 × 5\n",
       "\\begin{tabular}{lllll}\n",
       " is\\_outside\\_of\\_MHC & Csq & non\\_rare & rare & n\\\\\n",
       " <lgl> & <chr> & <dbl> & <dbl> & <dbl>\\\\\n",
       "\\hline\n",
       "\t TRUE & nc   & 9001 & 116 & 9117\\\\\n",
       "\t TRUE & PAVs & 1017 & 306 & 1323\\\\\n",
       "\t TRUE & PTVs &   15 &  43 &   58\\\\\n",
       "\\end{tabular}\n"
      ],
      "text/markdown": [
       "\n",
       "A tibble: 3 × 5\n",
       "\n",
       "| is_outside_of_MHC &lt;lgl&gt; | Csq &lt;chr&gt; | non_rare &lt;dbl&gt; | rare &lt;dbl&gt; | n &lt;dbl&gt; |\n",
       "|---|---|---|---|---|\n",
       "| TRUE | nc   | 9001 | 116 | 9117 |\n",
       "| TRUE | PAVs | 1017 | 306 | 1323 |\n",
       "| TRUE | PTVs |   15 |  43 |   58 |\n",
       "\n"
      ],
      "text/plain": [
       "  is_outside_of_MHC Csq  non_rare rare n   \n",
       "1 TRUE              nc   9001     116  9117\n",
       "2 TRUE              PAVs 1017     306  1323\n",
       "3 TRUE              PTVs   15      43    58"
      ]
     },
     "metadata": {},
     "output_type": "display_data"
    }
   ],
   "source": [
    "df %>% \n",
    "mutate(is_rare = if_else(MAF < 0.01, 'rare', 'non_rare')) %>%\n",
    "count(is_outside_of_MHC, Csq, is_rare) %>%\n",
    "spread(is_rare, n, fill=0) %>%\n",
    "mutate(n = rare + non_rare)\n"
   ]
  },
  {
   "cell_type": "code",
   "execution_count": 11,
   "metadata": {},
   "outputs": [
    {
     "data": {
      "text/html": [
       "<table>\n",
       "<caption>A tibble: 6 × 6</caption>\n",
       "<thead>\n",
       "\t<tr><th scope=col>is_outside_of_MHC</th><th scope=col>Csq</th><th scope=col>sign</th><th scope=col>non_rare</th><th scope=col>rare</th><th scope=col>n</th></tr>\n",
       "\t<tr><th scope=col>&lt;lgl&gt;</th><th scope=col>&lt;chr&gt;</th><th scope=col>&lt;chr&gt;</th><th scope=col>&lt;dbl&gt;</th><th scope=col>&lt;dbl&gt;</th><th scope=col>&lt;dbl&gt;</th></tr>\n",
       "</thead>\n",
       "<tbody>\n",
       "\t<tr><td>TRUE</td><td>nc  </td><td>-</td><td>298</td><td> 41</td><td>339</td></tr>\n",
       "\t<tr><td>TRUE</td><td>nc  </td><td>+</td><td>263</td><td> 46</td><td>309</td></tr>\n",
       "\t<tr><td>TRUE</td><td>PAVs</td><td>-</td><td> 79</td><td>161</td><td>240</td></tr>\n",
       "\t<tr><td>TRUE</td><td>PAVs</td><td>+</td><td> 57</td><td>125</td><td>182</td></tr>\n",
       "\t<tr><td>TRUE</td><td>PTVs</td><td>-</td><td>  2</td><td> 17</td><td> 19</td></tr>\n",
       "\t<tr><td>TRUE</td><td>PTVs</td><td>+</td><td>  2</td><td> 24</td><td> 26</td></tr>\n",
       "</tbody>\n",
       "</table>\n"
      ],
      "text/latex": [
       "A tibble: 6 × 6\n",
       "\\begin{tabular}{llllll}\n",
       " is\\_outside\\_of\\_MHC & Csq & sign & non\\_rare & rare & n\\\\\n",
       " <lgl> & <chr> & <chr> & <dbl> & <dbl> & <dbl>\\\\\n",
       "\\hline\n",
       "\t TRUE & nc   & - & 298 &  41 & 339\\\\\n",
       "\t TRUE & nc   & + & 263 &  46 & 309\\\\\n",
       "\t TRUE & PAVs & - &  79 & 161 & 240\\\\\n",
       "\t TRUE & PAVs & + &  57 & 125 & 182\\\\\n",
       "\t TRUE & PTVs & - &   2 &  17 &  19\\\\\n",
       "\t TRUE & PTVs & + &   2 &  24 &  26\\\\\n",
       "\\end{tabular}\n"
      ],
      "text/markdown": [
       "\n",
       "A tibble: 6 × 6\n",
       "\n",
       "| is_outside_of_MHC &lt;lgl&gt; | Csq &lt;chr&gt; | sign &lt;chr&gt; | non_rare &lt;dbl&gt; | rare &lt;dbl&gt; | n &lt;dbl&gt; |\n",
       "|---|---|---|---|---|---|\n",
       "| TRUE | nc   | - | 298 |  41 | 339 |\n",
       "| TRUE | nc   | + | 263 |  46 | 309 |\n",
       "| TRUE | PAVs | - |  79 | 161 | 240 |\n",
       "| TRUE | PAVs | + |  57 | 125 | 182 |\n",
       "| TRUE | PTVs | - |   2 |  17 |  19 |\n",
       "| TRUE | PTVs | + |   2 |  24 |  26 |\n",
       "\n"
      ],
      "text/plain": [
       "  is_outside_of_MHC Csq  sign non_rare rare n  \n",
       "1 TRUE              nc   -    298       41  339\n",
       "2 TRUE              nc   +    263       46  309\n",
       "3 TRUE              PAVs -     79      161  240\n",
       "4 TRUE              PAVs +     57      125  182\n",
       "5 TRUE              PTVs -      2       17   19\n",
       "6 TRUE              PTVs +      2       24   26"
      ]
     },
     "metadata": {},
     "output_type": "display_data"
    }
   ],
   "source": [
    "df %>% \n",
    "filter(abs(BETA) > .1) %>%\n",
    "mutate(\n",
    "    is_rare = if_else(MAF < 0.01, 'rare', 'non_rare'),\n",
    "    sign = if_else(BETA > 0, '+', '-')\n",
    ") %>%\n",
    "count(is_outside_of_MHC, Csq, sign, is_rare) %>%\n",
    "spread(is_rare, n, fill=0) %>%\n",
    "mutate(n = rare + non_rare)\n"
   ]
  },
  {
   "cell_type": "markdown",
   "metadata": {},
   "source": [
    "### the number of variants"
   ]
  },
  {
   "cell_type": "code",
   "execution_count": 10,
   "metadata": {},
   "outputs": [
    {
     "data": {
      "text/html": [
       "<table>\n",
       "<caption>A tibble: 3 × 5</caption>\n",
       "<thead>\n",
       "\t<tr><th scope=col>is_outside_of_MHC</th><th scope=col>Csq</th><th scope=col>non_rare</th><th scope=col>rare</th><th scope=col>n</th></tr>\n",
       "\t<tr><th scope=col>&lt;lgl&gt;</th><th scope=col>&lt;chr&gt;</th><th scope=col>&lt;dbl&gt;</th><th scope=col>&lt;dbl&gt;</th><th scope=col>&lt;dbl&gt;</th></tr>\n",
       "</thead>\n",
       "<tbody>\n",
       "\t<tr><td>TRUE</td><td>nc  </td><td>5087</td><td> 75</td><td>5162</td></tr>\n",
       "\t<tr><td>TRUE</td><td>PAVs</td><td> 402</td><td>192</td><td> 594</td></tr>\n",
       "\t<tr><td>TRUE</td><td>PTVs</td><td>  10</td><td> 28</td><td>  38</td></tr>\n",
       "</tbody>\n",
       "</table>\n"
      ],
      "text/latex": [
       "A tibble: 3 × 5\n",
       "\\begin{tabular}{lllll}\n",
       " is\\_outside\\_of\\_MHC & Csq & non\\_rare & rare & n\\\\\n",
       " <lgl> & <chr> & <dbl> & <dbl> & <dbl>\\\\\n",
       "\\hline\n",
       "\t TRUE & nc   & 5087 &  75 & 5162\\\\\n",
       "\t TRUE & PAVs &  402 & 192 &  594\\\\\n",
       "\t TRUE & PTVs &   10 &  28 &   38\\\\\n",
       "\\end{tabular}\n"
      ],
      "text/markdown": [
       "\n",
       "A tibble: 3 × 5\n",
       "\n",
       "| is_outside_of_MHC &lt;lgl&gt; | Csq &lt;chr&gt; | non_rare &lt;dbl&gt; | rare &lt;dbl&gt; | n &lt;dbl&gt; |\n",
       "|---|---|---|---|---|\n",
       "| TRUE | nc   | 5087 |  75 | 5162 |\n",
       "| TRUE | PAVs |  402 | 192 |  594 |\n",
       "| TRUE | PTVs |   10 |  28 |   38 |\n",
       "\n"
      ],
      "text/plain": [
       "  is_outside_of_MHC Csq  non_rare rare n   \n",
       "1 TRUE              nc   5087      75  5162\n",
       "2 TRUE              PAVs  402     192   594\n",
       "3 TRUE              PTVs   10      28    38"
      ]
     },
     "metadata": {},
     "output_type": "display_data"
    }
   ],
   "source": [
    "df %>% \n",
    "select(CHROM, POS, ID, MAF, Csq, is_outside_of_MHC) %>%\n",
    "unique() %>% \n",
    "mutate(is_rare = if_else(MAF < 0.01, 'rare', 'non_rare')) %>%\n",
    "count(is_outside_of_MHC, Csq, is_rare) %>%\n",
    "spread(is_rare, n, fill=0) %>%\n",
    "mutate(n = rare + non_rare)\n"
   ]
  },
  {
   "cell_type": "code",
   "execution_count": 13,
   "metadata": {},
   "outputs": [
    {
     "data": {
      "text/html": [
       "<table>\n",
       "<caption>A tibble: 3 × 5</caption>\n",
       "<thead>\n",
       "\t<tr><th scope=col>is_outside_of_MHC</th><th scope=col>Csq</th><th scope=col>non_rare</th><th scope=col>rare</th><th scope=col>n</th></tr>\n",
       "\t<tr><th scope=col>&lt;lgl&gt;</th><th scope=col>&lt;chr&gt;</th><th scope=col>&lt;dbl&gt;</th><th scope=col>&lt;dbl&gt;</th><th scope=col>&lt;dbl&gt;</th></tr>\n",
       "</thead>\n",
       "<tbody>\n",
       "\t<tr><td>TRUE</td><td>nc  </td><td>382</td><td> 59</td><td>441</td></tr>\n",
       "\t<tr><td>TRUE</td><td>PAVs</td><td> 62</td><td>179</td><td>241</td></tr>\n",
       "\t<tr><td>TRUE</td><td>PTVs</td><td>  4</td><td> 27</td><td> 31</td></tr>\n",
       "</tbody>\n",
       "</table>\n"
      ],
      "text/latex": [
       "A tibble: 3 × 5\n",
       "\\begin{tabular}{lllll}\n",
       " is\\_outside\\_of\\_MHC & Csq & non\\_rare & rare & n\\\\\n",
       " <lgl> & <chr> & <dbl> & <dbl> & <dbl>\\\\\n",
       "\\hline\n",
       "\t TRUE & nc   & 382 &  59 & 441\\\\\n",
       "\t TRUE & PAVs &  62 & 179 & 241\\\\\n",
       "\t TRUE & PTVs &   4 &  27 &  31\\\\\n",
       "\\end{tabular}\n"
      ],
      "text/markdown": [
       "\n",
       "A tibble: 3 × 5\n",
       "\n",
       "| is_outside_of_MHC &lt;lgl&gt; | Csq &lt;chr&gt; | non_rare &lt;dbl&gt; | rare &lt;dbl&gt; | n &lt;dbl&gt; |\n",
       "|---|---|---|---|---|\n",
       "| TRUE | nc   | 382 |  59 | 441 |\n",
       "| TRUE | PAVs |  62 | 179 | 241 |\n",
       "| TRUE | PTVs |   4 |  27 |  31 |\n",
       "\n"
      ],
      "text/plain": [
       "  is_outside_of_MHC Csq  non_rare rare n  \n",
       "1 TRUE              nc   382       59  441\n",
       "2 TRUE              PAVs  62      179  241\n",
       "3 TRUE              PTVs   4       27   31"
      ]
     },
     "metadata": {},
     "output_type": "display_data"
    }
   ],
   "source": [
    "df %>% \n",
    "filter(abs(BETA) > .1) %>%\n",
    "select(CHROM, POS, ID, MAF, Csq, is_outside_of_MHC) %>%\n",
    "unique() %>% \n",
    "mutate(\n",
    "    is_rare = if_else(MAF < 0.01, 'rare', 'non_rare'),\n",
    ") %>%\n",
    "count(is_outside_of_MHC, Csq, is_rare) %>%\n",
    "spread(is_rare, n, fill=0) %>%\n",
    "mutate(n = rare + non_rare)\n"
   ]
  },
  {
   "cell_type": "code",
   "execution_count": 14,
   "metadata": {},
   "outputs": [
    {
     "data": {
      "text/html": [
       "<table>\n",
       "<caption>A tibble: 35 × 2</caption>\n",
       "<thead>\n",
       "\t<tr><th scope=col>trait</th><th scope=col>n</th></tr>\n",
       "\t<tr><th scope=col>&lt;chr&gt;</th><th scope=col>&lt;int&gt;</th></tr>\n",
       "</thead>\n",
       "<tbody>\n",
       "\t<tr><td>Alanine aminotransferase  </td><td>189</td></tr>\n",
       "\t<tr><td>Albumin                   </td><td>202</td></tr>\n",
       "\t<tr><td>Alkaline phosphatase      </td><td>715</td></tr>\n",
       "\t<tr><td>Apolipoprotein A          </td><td>454</td></tr>\n",
       "\t<tr><td>Apolipoprotein B          </td><td>593</td></tr>\n",
       "\t<tr><td>Aspartate aminotransferase</td><td>265</td></tr>\n",
       "\t<tr><td>AST to ALT ratio          </td><td>226</td></tr>\n",
       "\t<tr><td>C-reactive protein        </td><td>351</td></tr>\n",
       "\t<tr><td>Calcium                   </td><td>208</td></tr>\n",
       "\t<tr><td>Cholesterol               </td><td>596</td></tr>\n",
       "\t<tr><td>Creatinine                </td><td>359</td></tr>\n",
       "\t<tr><td>Creatinine in urine       </td><td>  7</td></tr>\n",
       "\t<tr><td>Cystatin C                </td><td>360</td></tr>\n",
       "\t<tr><td>Direct bilirubin          </td><td>206</td></tr>\n",
       "\t<tr><td>eGFR                      </td><td>349</td></tr>\n",
       "\t<tr><td>Gamma glutamyltransferase </td><td>424</td></tr>\n",
       "\t<tr><td>Glucose                   </td><td>121</td></tr>\n",
       "\t<tr><td>HbA1c                     </td><td>470</td></tr>\n",
       "\t<tr><td>HDL cholesterol           </td><td>519</td></tr>\n",
       "\t<tr><td>IGF-1                     </td><td>459</td></tr>\n",
       "\t<tr><td>LDL cholesterol           </td><td>563</td></tr>\n",
       "\t<tr><td>Lipoprotein A             </td><td>194</td></tr>\n",
       "\t<tr><td>Microalbumin in urine     </td><td>  6</td></tr>\n",
       "\t<tr><td>Non-albumin protein       </td><td>336</td></tr>\n",
       "\t<tr><td>Phosphate                 </td><td>188</td></tr>\n",
       "\t<tr><td>Potassium in urine        </td><td>  1</td></tr>\n",
       "\t<tr><td>SHBG                      </td><td>415</td></tr>\n",
       "\t<tr><td>Sodium in urine           </td><td> 15</td></tr>\n",
       "\t<tr><td>Testosterone              </td><td>113</td></tr>\n",
       "\t<tr><td>Total bilirubin           </td><td>260</td></tr>\n",
       "\t<tr><td>Total protein             </td><td>239</td></tr>\n",
       "\t<tr><td>Triglycerides             </td><td>424</td></tr>\n",
       "\t<tr><td>Urate                     </td><td>363</td></tr>\n",
       "\t<tr><td>Urea                      </td><td>166</td></tr>\n",
       "\t<tr><td>Vitamin D                 </td><td>142</td></tr>\n",
       "</tbody>\n",
       "</table>\n"
      ],
      "text/latex": [
       "A tibble: 35 × 2\n",
       "\\begin{tabular}{ll}\n",
       " trait & n\\\\\n",
       " <chr> & <int>\\\\\n",
       "\\hline\n",
       "\t Alanine aminotransferase   & 189\\\\\n",
       "\t Albumin                    & 202\\\\\n",
       "\t Alkaline phosphatase       & 715\\\\\n",
       "\t Apolipoprotein A           & 454\\\\\n",
       "\t Apolipoprotein B           & 593\\\\\n",
       "\t Aspartate aminotransferase & 265\\\\\n",
       "\t AST to ALT ratio           & 226\\\\\n",
       "\t C-reactive protein         & 351\\\\\n",
       "\t Calcium                    & 208\\\\\n",
       "\t Cholesterol                & 596\\\\\n",
       "\t Creatinine                 & 359\\\\\n",
       "\t Creatinine in urine        &   7\\\\\n",
       "\t Cystatin C                 & 360\\\\\n",
       "\t Direct bilirubin           & 206\\\\\n",
       "\t eGFR                       & 349\\\\\n",
       "\t Gamma glutamyltransferase  & 424\\\\\n",
       "\t Glucose                    & 121\\\\\n",
       "\t HbA1c                      & 470\\\\\n",
       "\t HDL cholesterol            & 519\\\\\n",
       "\t IGF-1                      & 459\\\\\n",
       "\t LDL cholesterol            & 563\\\\\n",
       "\t Lipoprotein A              & 194\\\\\n",
       "\t Microalbumin in urine      &   6\\\\\n",
       "\t Non-albumin protein        & 336\\\\\n",
       "\t Phosphate                  & 188\\\\\n",
       "\t Potassium in urine         &   1\\\\\n",
       "\t SHBG                       & 415\\\\\n",
       "\t Sodium in urine            &  15\\\\\n",
       "\t Testosterone               & 113\\\\\n",
       "\t Total bilirubin            & 260\\\\\n",
       "\t Total protein              & 239\\\\\n",
       "\t Triglycerides              & 424\\\\\n",
       "\t Urate                      & 363\\\\\n",
       "\t Urea                       & 166\\\\\n",
       "\t Vitamin D                  & 142\\\\\n",
       "\\end{tabular}\n"
      ],
      "text/markdown": [
       "\n",
       "A tibble: 35 × 2\n",
       "\n",
       "| trait &lt;chr&gt; | n &lt;int&gt; |\n",
       "|---|---|\n",
       "| Alanine aminotransferase   | 189 |\n",
       "| Albumin                    | 202 |\n",
       "| Alkaline phosphatase       | 715 |\n",
       "| Apolipoprotein A           | 454 |\n",
       "| Apolipoprotein B           | 593 |\n",
       "| Aspartate aminotransferase | 265 |\n",
       "| AST to ALT ratio           | 226 |\n",
       "| C-reactive protein         | 351 |\n",
       "| Calcium                    | 208 |\n",
       "| Cholesterol                | 596 |\n",
       "| Creatinine                 | 359 |\n",
       "| Creatinine in urine        |   7 |\n",
       "| Cystatin C                 | 360 |\n",
       "| Direct bilirubin           | 206 |\n",
       "| eGFR                       | 349 |\n",
       "| Gamma glutamyltransferase  | 424 |\n",
       "| Glucose                    | 121 |\n",
       "| HbA1c                      | 470 |\n",
       "| HDL cholesterol            | 519 |\n",
       "| IGF-1                      | 459 |\n",
       "| LDL cholesterol            | 563 |\n",
       "| Lipoprotein A              | 194 |\n",
       "| Microalbumin in urine      |   6 |\n",
       "| Non-albumin protein        | 336 |\n",
       "| Phosphate                  | 188 |\n",
       "| Potassium in urine         |   1 |\n",
       "| SHBG                       | 415 |\n",
       "| Sodium in urine            |  15 |\n",
       "| Testosterone               | 113 |\n",
       "| Total bilirubin            | 260 |\n",
       "| Total protein              | 239 |\n",
       "| Triglycerides              | 424 |\n",
       "| Urate                      | 363 |\n",
       "| Urea                       | 166 |\n",
       "| Vitamin D                  | 142 |\n",
       "\n"
      ],
      "text/plain": [
       "   trait                      n  \n",
       "1  Alanine aminotransferase   189\n",
       "2  Albumin                    202\n",
       "3  Alkaline phosphatase       715\n",
       "4  Apolipoprotein A           454\n",
       "5  Apolipoprotein B           593\n",
       "6  Aspartate aminotransferase 265\n",
       "7  AST to ALT ratio           226\n",
       "8  C-reactive protein         351\n",
       "9  Calcium                    208\n",
       "10 Cholesterol                596\n",
       "11 Creatinine                 359\n",
       "12 Creatinine in urine          7\n",
       "13 Cystatin C                 360\n",
       "14 Direct bilirubin           206\n",
       "15 eGFR                       349\n",
       "16 Gamma glutamyltransferase  424\n",
       "17 Glucose                    121\n",
       "18 HbA1c                      470\n",
       "19 HDL cholesterol            519\n",
       "20 IGF-1                      459\n",
       "21 LDL cholesterol            563\n",
       "22 Lipoprotein A              194\n",
       "23 Microalbumin in urine        6\n",
       "24 Non-albumin protein        336\n",
       "25 Phosphate                  188\n",
       "26 Potassium in urine           1\n",
       "27 SHBG                       415\n",
       "28 Sodium in urine             15\n",
       "29 Testosterone               113\n",
       "30 Total bilirubin            260\n",
       "31 Total protein              239\n",
       "32 Triglycerides              424\n",
       "33 Urate                      363\n",
       "34 Urea                       166\n",
       "35 Vitamin D                  142"
      ]
     },
     "metadata": {},
     "output_type": "display_data"
    }
   ],
   "source": [
    "df %>% count(trait)"
   ]
  },
  {
   "cell_type": "code",
   "execution_count": null,
   "metadata": {},
   "outputs": [],
   "source": []
  }
 ],
 "metadata": {
  "kernelspec": {
   "display_name": "R",
   "language": "R",
   "name": "ir"
  },
  "language_info": {
   "codemirror_mode": "r",
   "file_extension": ".r",
   "mimetype": "text/x-r-source",
   "name": "R",
   "pygments_lexer": "r",
   "version": "3.6.1"
  }
 },
 "nbformat": 4,
 "nbformat_minor": 4
}
