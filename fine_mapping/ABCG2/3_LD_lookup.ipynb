{
 "cells": [
  {
   "cell_type": "markdown",
   "metadata": {},
   "source": [
    "## LD look-up for _ABCG2_"
   ]
  },
  {
   "cell_type": "markdown",
   "metadata": {},
   "source": [
    "We looked at the pairwise r2 (in WB) between the 3 variants:\n",
    "\n",
    "- rs2622621 (intronic, 4:89030920:C:G)\n",
    "- rs13109944 (intronic, 4:89074405:T:C)\n",
    "- rs2231142 (the coding allele reported in the literature)\n",
    "\n",
    "The two fine-mapped intronic variants are in moderate LD (r2 ~ 0.47 in WB)\n",
    "\n",
    "They have r2 = 0.22 and 0.11 with the coding allele.\n",
    "\n",
    "```\n",
    "rs2622621 (intronic, 4:89030920:C:G) rs2231142        0.219928\n",
    "rs13109944 (intronic, 4:89074405:T:C) rs2231142       0.109982\n",
    "rs2622621 (intronic, 4:89030920:C:G) rs13109944 (intronic, 4:89074405:T:C) 0.473752\n",
    "```\n"
   ]
  },
  {
   "cell_type": "markdown",
   "metadata": {},
   "source": [
    "## rs2231142 (Q141K)"
   ]
  },
  {
   "cell_type": "code",
   "execution_count": 3,
   "metadata": {},
   "outputs": [
    {
     "name": "stdout",
     "output_type": "stream",
     "text": [
      "4\t89030920\t4:89030920:C:G\tC\tG\tORIGINAL_VAR_ID=rs2622621\n",
      "4\t89074405\t4:89074405:T:C\tT\tC\tORIGINAL_VAR_ID=rs13109944\n"
     ]
    }
   ],
   "source": [
    "%%bash\n",
    "\n",
    "zstdcat @@@@@@/ukbb24983/imp/pgen/ukb24983_imp_chr4_v3.pvar.zst \\\n",
    "| egrep '4:89030920:C:G|4:89074405:T:C'"
   ]
  },
  {
   "cell_type": "code",
   "execution_count": 4,
   "metadata": {},
   "outputs": [
    {
     "name": "stdout",
     "output_type": "stream",
     "text": [
      "4:89030920:C:G\t4:89074405:T:C\t0.473752\n"
     ]
    }
   ],
   "source": [
    "%%bash\n",
    "cd @@@@@@/projects/biomarkers/fine_mapping/ABCG2\n",
    "\n",
    "zcat ukb24983_ABCG2.ld_map.tsv.gz | grep 4:89030920:C:G | grep 4:89074405:T:C | cut -f3,6,7\n"
   ]
  },
  {
   "cell_type": "code",
   "execution_count": 5,
   "metadata": {},
   "outputs": [
    {
     "name": "stdout",
     "output_type": "stream",
     "text": [
      "4:89030920:C:G\trs2231142\t0.219928\n",
      "rs2231142\t4:89074405:T:C\t0.109982\n"
     ]
    }
   ],
   "source": [
    "%%bash\n",
    "cd @@@@@@/projects/biomarkers/fine_mapping/ABCG2\n",
    "\n",
    "zcat ukb24983_ABCG2.ld_map.tsv.gz | grep rs2231142 | egrep '4:89030920:C:G|4:89074405:T:C' | cut -f3,6,7\n",
    "                        "
   ]
  },
  {
   "cell_type": "markdown",
   "metadata": {},
   "source": [
    "## Two additional common coding alleles (V12M; rs2231137) and (Q126X; rs72552713)\n",
    "\n",
    "\n",
    "> There are only two common (≥1%) missense genetic variants in the ABCG2 gene (V12M; rs2231137 and Q141K; rs2231142) and one common nonsense variant (Q126X; rs72552713) that is specific to South East Asian populations (Figure 1).\n",
    "\n",
    "https://pubmed.ncbi.nlm.nih.gov/28461764/\n"
   ]
  },
  {
   "cell_type": "code",
   "execution_count": 13,
   "metadata": {},
   "outputs": [
    {
     "name": "stdout",
     "output_type": "stream",
     "text": [
      "4\t89052957\t4:89052957:G:A\tG\tA\tORIGINAL_VAR_ID=rs72552713\n",
      "4\t89061114\t4:89061114:C:T\tC\tT\tORIGINAL_VAR_ID=rs2231137\n"
     ]
    }
   ],
   "source": [
    "%%bash\n",
    "\n",
    "zstdcat @@@@@@/ukbb24983/imp/pgen/ukb24983_imp_chr4_v3.pvar.zst \\\n",
    "| egrep 'rs2231137|rs72552713'\n"
   ]
  },
  {
   "cell_type": "code",
   "execution_count": 12,
   "metadata": {},
   "outputs": [
    {
     "name": "stdout",
     "output_type": "stream",
     "text": [
      "4\t89052957\t4:89052957:G:A\tG\tA\n",
      "4\t89061114\t4:89061114:C:T\tC\tT\n"
     ]
    }
   ],
   "source": [
    "%%bash\n",
    "cd @@@@@@/projects/biomarkers/fine_mapping/ABCG2\n",
    "\n",
    "zstdcat ukb24983_ABCG2.pvar.zst | egrep '4:89052957:G:A|4:89061114:C:T'"
   ]
  },
  {
   "cell_type": "code",
   "execution_count": 6,
   "metadata": {},
   "outputs": [],
   "source": [
    "%%bash\n",
    "cd @@@@@@/projects/biomarkers/fine_mapping/ABCG2\n",
    "\n",
    "zcat ukb24983_ABCG2.ld_map.tsv.gz | grep 4:89052957:G:A | egrep '4:89030920:C:G|4:89074405:T:C' | cut -f3,6,7\n"
   ]
  },
  {
   "cell_type": "code",
   "execution_count": 7,
   "metadata": {},
   "outputs": [],
   "source": [
    "%%bash\n",
    "cd @@@@@@/projects/biomarkers/fine_mapping/ABCG2\n",
    "\n",
    "zcat ukb24983_ABCG2.ld_map.tsv.gz | grep 4:89061114:C:T | egrep '4:89030920:C:G|4:89074405:T:C' | cut -f3,6,7\n"
   ]
  },
  {
   "cell_type": "code",
   "execution_count": null,
   "metadata": {},
   "outputs": [],
   "source": []
  }
 ],
 "metadata": {
  "kernelspec": {
   "display_name": "Python 3",
   "language": "python",
   "name": "python3"
  },
  "language_info": {
   "codemirror_mode": {
    "name": "ipython",
    "version": 3
   },
   "file_extension": ".py",
   "mimetype": "text/x-python",
   "name": "python",
   "nbconvert_exporter": "python",
   "pygments_lexer": "ipython3",
   "version": "3.7.6"
  }
 },
 "nbformat": 4,
 "nbformat_minor": 4
}
