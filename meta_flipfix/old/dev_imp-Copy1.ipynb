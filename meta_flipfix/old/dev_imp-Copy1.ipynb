{
 "cells": [
  {
   "cell_type": "code",
   "execution_count": 1,
   "metadata": {},
   "outputs": [],
   "source": [
    "suppressPackageStartupMessages(require(tidyverse))\n",
    "suppressPackageStartupMessages(require(data.table))\n"
   ]
  },
  {
   "cell_type": "code",
   "execution_count": 2,
   "metadata": {},
   "outputs": [],
   "source": [
    "meta_sumstats_f    <- '@@@@@@/projects/biomarkers/meta/plink_imputed/filtered/GLOBAL_Alanine_aminotransferase.sumstats.tsv.gz '\n",
    "meta_flipfixed_f   <- '@@@@@@/projects/biomarkers/meta/plink_imputed/filtered_flipfixed/GLOBAL_Alanine_aminotransferase.sumstats.tsv'\n",
    "meta_flipfixed_img <- '@@@@@@/projects/biomarkers/meta/plink_imputed/filtered_flipfixed/GLOBAL_Alanine_aminotransferase.check.png'\n",
    "gwas_f             <- '@@@@@@/projects/biomarkers/sumstats_diverse/white_british/plink_imputed/filtered/INT_Alanine_aminotransferase_all.glm.linear.filtered.maf001.info03.tsv.gz'\n",
    "pvar_f             <- '@@@@@@/users/ytanigaw/repos/rivas-lab/public-resources/uk_biobank/biomarkers/meta_flipfix/imp_ref_alt_check/ukb_imp_v3.mac1.flipcheck.tsv.gz'\n"
   ]
  },
  {
   "cell_type": "code",
   "execution_count": null,
   "metadata": {},
   "outputs": [],
   "source": [
    "pvar_df <- fread(cmd=paste0('zcat ', pvar_f)) %>% \n",
    "mutate(FASTA_ALT = if_else(toupper(REF) == toupper(FASTA_REF), ALT, REF)) %>%\n",
    "select(-REF, -ALT) %>%\n",
    "mutate(FASTA_REF = toupper(FASTA_REF), FASTA_ALT = toupper(FASTA_ALT)) %>%\n",
    "rename('CHROM' = '#CHROM')\n"
   ]
  },
  {
   "cell_type": "code",
   "execution_count": null,
   "metadata": {},
   "outputs": [],
   "source": [
    "meta_sumstats_df  <- fread(cmd=paste0('zcat ', meta_sumstats_f))\n",
    "gwas_df <- fread(cmd=paste0('zcat ', gwas_f))\n"
   ]
  },
  {
   "cell_type": "code",
   "execution_count": 7,
   "metadata": {},
   "outputs": [],
   "source": [
    "add_flip_annotation <- function(df, pvar_df){\n",
    "    pvar_df %>% \n",
    "    rename('MarkerName' = 'ID') %>%\n",
    "    right_join(df, by='MarkerName') %>%\n",
    "    mutate(\n",
    "        REF_is_FASTA_REF = (toupper(REF) == FASTA_REF),    \n",
    "        REF_is_FASTA_ALT = (toupper(REF) == FASTA_ALT),\n",
    "        ALT_is_FASTA_REF = (toupper(ALT) == FASTA_REF),    \n",
    "        ALT_is_FASTA_ALT = (toupper(ALT) == FASTA_ALT),\n",
    "        is_not_flipped = (REF_is_FASTA_REF & ALT_is_FASTA_ALT),\n",
    "        is_flipped     = (REF_is_FASTA_ALT & ALT_is_FASTA_REF)\n",
    "    )\n",
    "}\n",
    "\n",
    "flip_check_plot <- function(df, gwas_df, titlelab, xlab){\n",
    "    df %>% \n",
    "    rename('P' = 'P-value') %>%\n",
    "    filter(P < 5e-8) %>%\n",
    "    select(MarkerName, Effect, is_flipped) %>% \n",
    "    inner_join(gwas_df %>% select(ID, BETA) %>% rename('MarkerName' = 'ID'), by='MarkerName') %>%\n",
    "    drop_na() %>%\n",
    "    ggplot(aes(x=Effect, y=BETA, color=is_flipped)) +\n",
    "    geom_point(alpha=0.05) + \n",
    "    labs(\n",
    "        title = titlelab,\n",
    "        x = xlab,\n",
    "        y = 'BETA from WB GWAS sumstats'\n",
    "    )+\n",
    "    guides(colour = guide_legend(override.aes = list(alpha = 1)))    \n",
    "}\n"
   ]
  },
  {
   "cell_type": "code",
   "execution_count": 30,
   "metadata": {},
   "outputs": [
    {
     "data": {
      "text/html": [
       "<ol class=list-inline>\n",
       "\t<li>96587443</li>\n",
       "\t<li>5</li>\n",
       "</ol>\n"
      ],
      "text/latex": [
       "\\begin{enumerate*}\n",
       "\\item 96587443\n",
       "\\item 5\n",
       "\\end{enumerate*}\n"
      ],
      "text/markdown": [
       "1. 96587443\n",
       "2. 5\n",
       "\n",
       "\n"
      ],
      "text/plain": [
       "[1] 96587443        5"
      ]
     },
     "metadata": {},
     "output_type": "display_data"
    }
   ],
   "source": [
    "pvar_df %>% dim()"
   ]
  },
  {
   "cell_type": "code",
   "execution_count": 27,
   "metadata": {},
   "outputs": [
    {
     "data": {
      "text/html": [
       "<table>\n",
       "<caption>A data.frame: 6 × 5</caption>\n",
       "<thead>\n",
       "\t<tr><th scope=col>CHROM</th><th scope=col>POS</th><th scope=col>ID</th><th scope=col>FASTA_REF</th><th scope=col>FASTA_ALT</th></tr>\n",
       "\t<tr><th scope=col>&lt;chr&gt;</th><th scope=col>&lt;int&gt;</th><th scope=col>&lt;chr&gt;</th><th scope=col>&lt;chr&gt;</th><th scope=col>&lt;chr&gt;</th></tr>\n",
       "</thead>\n",
       "<tbody>\n",
       "\t<tr><td>1</td><td>724321</td><td>1:724321_TGAGTG_T</td><td>TGAGTG</td><td>T</td></tr>\n",
       "\t<tr><td>1</td><td>724324</td><td>1:724324_G_A     </td><td>G     </td><td>A</td></tr>\n",
       "\t<tr><td>1</td><td>724330</td><td>1:724330_T_C     </td><td>T     </td><td>C</td></tr>\n",
       "\t<tr><td>1</td><td>724360</td><td>1:724360_T_G     </td><td>T     </td><td>G</td></tr>\n",
       "\t<tr><td>1</td><td>724365</td><td>1:724365_A_G     </td><td>A     </td><td>G</td></tr>\n",
       "\t<tr><td>1</td><td>724389</td><td>1:724389_T_C     </td><td>T     </td><td>C</td></tr>\n",
       "</tbody>\n",
       "</table>\n"
      ],
      "text/latex": [
       "A data.frame: 6 × 5\n",
       "\\begin{tabular}{r|lllll}\n",
       " CHROM & POS & ID & FASTA\\_REF & FASTA\\_ALT\\\\\n",
       " <chr> & <int> & <chr> & <chr> & <chr>\\\\\n",
       "\\hline\n",
       "\t 1 & 724321 & 1:724321\\_TGAGTG\\_T & TGAGTG & T\\\\\n",
       "\t 1 & 724324 & 1:724324\\_G\\_A      & G      & A\\\\\n",
       "\t 1 & 724330 & 1:724330\\_T\\_C      & T      & C\\\\\n",
       "\t 1 & 724360 & 1:724360\\_T\\_G      & T      & G\\\\\n",
       "\t 1 & 724365 & 1:724365\\_A\\_G      & A      & G\\\\\n",
       "\t 1 & 724389 & 1:724389\\_T\\_C      & T      & C\\\\\n",
       "\\end{tabular}\n"
      ],
      "text/markdown": [
       "\n",
       "A data.frame: 6 × 5\n",
       "\n",
       "| CHROM &lt;chr&gt; | POS &lt;int&gt; | ID &lt;chr&gt; | FASTA_REF &lt;chr&gt; | FASTA_ALT &lt;chr&gt; |\n",
       "|---|---|---|---|---|\n",
       "| 1 | 724321 | 1:724321_TGAGTG_T | TGAGTG | T |\n",
       "| 1 | 724324 | 1:724324_G_A      | G      | A |\n",
       "| 1 | 724330 | 1:724330_T_C      | T      | C |\n",
       "| 1 | 724360 | 1:724360_T_G      | T      | G |\n",
       "| 1 | 724365 | 1:724365_A_G      | A      | G |\n",
       "| 1 | 724389 | 1:724389_T_C      | T      | C |\n",
       "\n"
      ],
      "text/plain": [
       "  CHROM POS    ID                FASTA_REF FASTA_ALT\n",
       "1 1     724321 1:724321_TGAGTG_T TGAGTG    T        \n",
       "2 1     724324 1:724324_G_A      G         A        \n",
       "3 1     724330 1:724330_T_C      T         C        \n",
       "4 1     724360 1:724360_T_G      T         G        \n",
       "5 1     724365 1:724365_A_G      A         G        \n",
       "6 1     724389 1:724389_T_C      T         C        "
      ]
     },
     "metadata": {},
     "output_type": "display_data"
    }
   ],
   "source": [
    "pvar_df %>% head()"
   ]
  },
  {
   "cell_type": "code",
   "execution_count": 34,
   "metadata": {},
   "outputs": [],
   "source": [
    "joined_df <- pvar_df %>% \n",
    "rename('MarkerName' = 'ID') %>%\n",
    "right_join(meta_sumstats_df, by='MarkerName')\n"
   ]
  },
  {
   "cell_type": "code",
   "execution_count": 32,
   "metadata": {},
   "outputs": [
    {
     "data": {
      "text/html": [
       "<ol class=list-inline>\n",
       "\t<li>9154123</li>\n",
       "\t<li>13</li>\n",
       "</ol>\n"
      ],
      "text/latex": [
       "\\begin{enumerate*}\n",
       "\\item 9154123\n",
       "\\item 13\n",
       "\\end{enumerate*}\n"
      ],
      "text/markdown": [
       "1. 9154123\n",
       "2. 13\n",
       "\n",
       "\n"
      ],
      "text/plain": [
       "[1] 9154123      13"
      ]
     },
     "metadata": {},
     "output_type": "display_data"
    }
   ],
   "source": [
    "meta_sumstats_df %>% dim()"
   ]
  },
  {
   "cell_type": "code",
   "execution_count": 35,
   "metadata": {},
   "outputs": [
    {
     "data": {
      "text/html": [
       "<ol class=list-inline>\n",
       "\t<li>9154123</li>\n",
       "\t<li>17</li>\n",
       "</ol>\n"
      ],
      "text/latex": [
       "\\begin{enumerate*}\n",
       "\\item 9154123\n",
       "\\item 17\n",
       "\\end{enumerate*}\n"
      ],
      "text/markdown": [
       "1. 9154123\n",
       "2. 17\n",
       "\n",
       "\n"
      ],
      "text/plain": [
       "[1] 9154123      17"
      ]
     },
     "metadata": {},
     "output_type": "display_data"
    }
   ],
   "source": [
    "joined_df %>% dim()"
   ]
  },
  {
   "cell_type": "code",
   "execution_count": 36,
   "metadata": {},
   "outputs": [
    {
     "data": {
      "text/html": [
       "<table>\n",
       "<caption>A data.frame: 6 × 17</caption>\n",
       "<thead>\n",
       "\t<tr><th scope=col>CHROM</th><th scope=col>POS</th><th scope=col>MarkerName</th><th scope=col>FASTA_REF</th><th scope=col>FASTA_ALT</th><th scope=col>REF</th><th scope=col>ALT</th><th scope=col>Effect</th><th scope=col>StdErr</th><th scope=col>P-value</th><th scope=col>Direction</th><th scope=col>HetISq</th><th scope=col>HetChiSq</th><th scope=col>HetDf</th><th scope=col>HetPVal</th><th scope=col>MAF</th><th scope=col>MACH_R2</th></tr>\n",
       "\t<tr><th scope=col>&lt;chr&gt;</th><th scope=col>&lt;int&gt;</th><th scope=col>&lt;chr&gt;</th><th scope=col>&lt;chr&gt;</th><th scope=col>&lt;chr&gt;</th><th scope=col>&lt;chr&gt;</th><th scope=col>&lt;chr&gt;</th><th scope=col>&lt;dbl&gt;</th><th scope=col>&lt;dbl&gt;</th><th scope=col>&lt;dbl&gt;</th><th scope=col>&lt;chr&gt;</th><th scope=col>&lt;dbl&gt;</th><th scope=col>&lt;dbl&gt;</th><th scope=col>&lt;int&gt;</th><th scope=col>&lt;dbl&gt;</th><th scope=col>&lt;dbl&gt;</th><th scope=col>&lt;dbl&gt;</th></tr>\n",
       "</thead>\n",
       "<tbody>\n",
       "\t<tr><td>1 </td><td>158192339</td><td>1:158192339_G_A </td><td>G </td><td>A </td><td>G </td><td>A </td><td> 0.0022</td><td>0.0029</td><td>0.44670</td><td>++++</td><td> 0.0</td><td>0.446</td><td>3</td><td>0.9306</td><td>0.2321250</td><td>1.000360</td></tr>\n",
       "\t<tr><td>3 </td><td>135839893</td><td>3:135839893_C_G </td><td>C </td><td>G </td><td>C </td><td>G </td><td> 0.0077</td><td>0.0094</td><td>0.41440</td><td>+--+</td><td>19.1</td><td>3.709</td><td>3</td><td>0.2947</td><td>0.0163106</td><td>0.968667</td></tr>\n",
       "\t<tr><td>6 </td><td> 48990486</td><td>6:48990486_C_T  </td><td>C </td><td>T </td><td>C </td><td>T </td><td> 0.0011</td><td>0.0026</td><td>0.66290</td><td>++-+</td><td> 0.0</td><td>1.924</td><td>3</td><td>0.5883</td><td>0.3077320</td><td>1.000550</td></tr>\n",
       "\t<tr><td>6 </td><td> 76678298</td><td>6:76678298_C_CT </td><td>C </td><td>CT</td><td>C </td><td>CT</td><td> 0.0069</td><td>0.0029</td><td>0.01792</td><td>+--+</td><td>27.2</td><td>4.118</td><td>3</td><td>0.2490</td><td>0.2144020</td><td>0.990640</td></tr>\n",
       "\t<tr><td>21</td><td> 44403419</td><td>21:44403419_GA_G</td><td>GA</td><td>G </td><td>GA</td><td>G </td><td> 0.0050</td><td>0.0035</td><td>0.14650</td><td>+-++</td><td>39.7</td><td>4.972</td><td>3</td><td>0.1739</td><td>0.1375610</td><td>1.000010</td></tr>\n",
       "\t<tr><td>7 </td><td>  4277699</td><td>7:4277699_T_A   </td><td>T </td><td>A </td><td>T </td><td>A </td><td>-0.0097</td><td>0.0105</td><td>0.35830</td><td>--+?</td><td> 0.0</td><td>1.578</td><td>2</td><td>0.4543</td><td>0.0127087</td><td>0.999755</td></tr>\n",
       "</tbody>\n",
       "</table>\n"
      ],
      "text/latex": [
       "A data.frame: 6 × 17\n",
       "\\begin{tabular}{r|lllllllllllllllll}\n",
       " CHROM & POS & MarkerName & FASTA\\_REF & FASTA\\_ALT & REF & ALT & Effect & StdErr & P-value & Direction & HetISq & HetChiSq & HetDf & HetPVal & MAF & MACH\\_R2\\\\\n",
       " <chr> & <int> & <chr> & <chr> & <chr> & <chr> & <chr> & <dbl> & <dbl> & <dbl> & <chr> & <dbl> & <dbl> & <int> & <dbl> & <dbl> & <dbl>\\\\\n",
       "\\hline\n",
       "\t 1  & 158192339 & 1:158192339\\_G\\_A  & G  & A  & G  & A  &  0.0022 & 0.0029 & 0.44670 & ++++ &  0.0 & 0.446 & 3 & 0.9306 & 0.2321250 & 1.000360\\\\\n",
       "\t 3  & 135839893 & 3:135839893\\_C\\_G  & C  & G  & C  & G  &  0.0077 & 0.0094 & 0.41440 & +--+ & 19.1 & 3.709 & 3 & 0.2947 & 0.0163106 & 0.968667\\\\\n",
       "\t 6  &  48990486 & 6:48990486\\_C\\_T   & C  & T  & C  & T  &  0.0011 & 0.0026 & 0.66290 & ++-+ &  0.0 & 1.924 & 3 & 0.5883 & 0.3077320 & 1.000550\\\\\n",
       "\t 6  &  76678298 & 6:76678298\\_C\\_CT  & C  & CT & C  & CT &  0.0069 & 0.0029 & 0.01792 & +--+ & 27.2 & 4.118 & 3 & 0.2490 & 0.2144020 & 0.990640\\\\\n",
       "\t 21 &  44403419 & 21:44403419\\_GA\\_G & GA & G  & GA & G  &  0.0050 & 0.0035 & 0.14650 & +-++ & 39.7 & 4.972 & 3 & 0.1739 & 0.1375610 & 1.000010\\\\\n",
       "\t 7  &   4277699 & 7:4277699\\_T\\_A    & T  & A  & T  & A  & -0.0097 & 0.0105 & 0.35830 & --+? &  0.0 & 1.578 & 2 & 0.4543 & 0.0127087 & 0.999755\\\\\n",
       "\\end{tabular}\n"
      ],
      "text/markdown": [
       "\n",
       "A data.frame: 6 × 17\n",
       "\n",
       "| CHROM &lt;chr&gt; | POS &lt;int&gt; | MarkerName &lt;chr&gt; | FASTA_REF &lt;chr&gt; | FASTA_ALT &lt;chr&gt; | REF &lt;chr&gt; | ALT &lt;chr&gt; | Effect &lt;dbl&gt; | StdErr &lt;dbl&gt; | P-value &lt;dbl&gt; | Direction &lt;chr&gt; | HetISq &lt;dbl&gt; | HetChiSq &lt;dbl&gt; | HetDf &lt;int&gt; | HetPVal &lt;dbl&gt; | MAF &lt;dbl&gt; | MACH_R2 &lt;dbl&gt; |\n",
       "|---|---|---|---|---|---|---|---|---|---|---|---|---|---|---|---|---|\n",
       "| 1  | 158192339 | 1:158192339_G_A  | G  | A  | G  | A  |  0.0022 | 0.0029 | 0.44670 | ++++ |  0.0 | 0.446 | 3 | 0.9306 | 0.2321250 | 1.000360 |\n",
       "| 3  | 135839893 | 3:135839893_C_G  | C  | G  | C  | G  |  0.0077 | 0.0094 | 0.41440 | +--+ | 19.1 | 3.709 | 3 | 0.2947 | 0.0163106 | 0.968667 |\n",
       "| 6  |  48990486 | 6:48990486_C_T   | C  | T  | C  | T  |  0.0011 | 0.0026 | 0.66290 | ++-+ |  0.0 | 1.924 | 3 | 0.5883 | 0.3077320 | 1.000550 |\n",
       "| 6  |  76678298 | 6:76678298_C_CT  | C  | CT | C  | CT |  0.0069 | 0.0029 | 0.01792 | +--+ | 27.2 | 4.118 | 3 | 0.2490 | 0.2144020 | 0.990640 |\n",
       "| 21 |  44403419 | 21:44403419_GA_G | GA | G  | GA | G  |  0.0050 | 0.0035 | 0.14650 | +-++ | 39.7 | 4.972 | 3 | 0.1739 | 0.1375610 | 1.000010 |\n",
       "| 7  |   4277699 | 7:4277699_T_A    | T  | A  | T  | A  | -0.0097 | 0.0105 | 0.35830 | --+? |  0.0 | 1.578 | 2 | 0.4543 | 0.0127087 | 0.999755 |\n",
       "\n"
      ],
      "text/plain": [
       "  CHROM POS       MarkerName       FASTA_REF FASTA_ALT REF ALT Effect  StdErr\n",
       "1 1     158192339 1:158192339_G_A  G         A         G   A    0.0022 0.0029\n",
       "2 3     135839893 3:135839893_C_G  C         G         C   G    0.0077 0.0094\n",
       "3 6      48990486 6:48990486_C_T   C         T         C   T    0.0011 0.0026\n",
       "4 6      76678298 6:76678298_C_CT  C         CT        C   CT   0.0069 0.0029\n",
       "5 21     44403419 21:44403419_GA_G GA        G         GA  G    0.0050 0.0035\n",
       "6 7       4277699 7:4277699_T_A    T         A         T   A   -0.0097 0.0105\n",
       "  P-value Direction HetISq HetChiSq HetDf HetPVal MAF       MACH_R2 \n",
       "1 0.44670 ++++       0.0   0.446    3     0.9306  0.2321250 1.000360\n",
       "2 0.41440 +--+      19.1   3.709    3     0.2947  0.0163106 0.968667\n",
       "3 0.66290 ++-+       0.0   1.924    3     0.5883  0.3077320 1.000550\n",
       "4 0.01792 +--+      27.2   4.118    3     0.2490  0.2144020 0.990640\n",
       "5 0.14650 +-++      39.7   4.972    3     0.1739  0.1375610 1.000010\n",
       "6 0.35830 --+?       0.0   1.578    2     0.4543  0.0127087 0.999755"
      ]
     },
     "metadata": {},
     "output_type": "display_data"
    }
   ],
   "source": [
    "joined_df %>% head()"
   ]
  },
  {
   "cell_type": "code",
   "execution_count": 37,
   "metadata": {},
   "outputs": [],
   "source": [
    "joined_annotated_df  <- joined_df %>%\n",
    "    mutate(\n",
    "        REF_is_FASTA_REF = (toupper(REF) == FASTA_REF),    \n",
    "        REF_is_FASTA_ALT = (toupper(REF) == FASTA_ALT),\n",
    "        ALT_is_FASTA_REF = (toupper(ALT) == FASTA_REF),    \n",
    "        ALT_is_FASTA_ALT = (toupper(ALT) == FASTA_ALT),\n",
    "        is_not_flipped = (REF_is_FASTA_REF & ALT_is_FASTA_ALT),\n",
    "        is_flipped     = (REF_is_FASTA_ALT & ALT_is_FASTA_REF)\n",
    "    )"
   ]
  },
  {
   "cell_type": "code",
   "execution_count": 39,
   "metadata": {},
   "outputs": [
    {
     "data": {
      "text/html": [
       "<table>\n",
       "<caption>A tibble: 2 × 2</caption>\n",
       "<thead>\n",
       "\t<tr><th scope=col>is_flipped</th><th scope=col>n</th></tr>\n",
       "\t<tr><th scope=col>&lt;lgl&gt;</th><th scope=col>&lt;int&gt;</th></tr>\n",
       "</thead>\n",
       "<tbody>\n",
       "\t<tr><td>FALSE</td><td>9154118</td></tr>\n",
       "\t<tr><td>   NA</td><td>      5</td></tr>\n",
       "</tbody>\n",
       "</table>\n"
      ],
      "text/latex": [
       "A tibble: 2 × 2\n",
       "\\begin{tabular}{r|ll}\n",
       " is\\_flipped & n\\\\\n",
       " <lgl> & <int>\\\\\n",
       "\\hline\n",
       "\t FALSE & 9154118\\\\\n",
       "\t    NA &       5\\\\\n",
       "\\end{tabular}\n"
      ],
      "text/markdown": [
       "\n",
       "A tibble: 2 × 2\n",
       "\n",
       "| is_flipped &lt;lgl&gt; | n &lt;int&gt; |\n",
       "|---|---|\n",
       "| FALSE | 9154118 |\n",
       "|    NA |       5 |\n",
       "\n"
      ],
      "text/plain": [
       "  is_flipped n      \n",
       "1 FALSE      9154118\n",
       "2    NA            5"
      ]
     },
     "metadata": {},
     "output_type": "display_data"
    }
   ],
   "source": [
    "joined_annotated_df %>% count(is_flipped)"
   ]
  },
  {
   "cell_type": "code",
   "execution_count": 47,
   "metadata": {},
   "outputs": [
    {
     "name": "stdout",
     "output_type": "stream",
     "text": [
      "[1] \"The number of allele flips: 0\"\n"
     ]
    }
   ],
   "source": [
    "n_flips <- joined_annotated_df %>% select(is_flipped) %>% drop_na() %>% pull() %>% sum()\n",
    "print(paste0('The number of allele flips: ', n_flips))\n"
   ]
  },
  {
   "cell_type": "code",
   "execution_count": 48,
   "metadata": {},
   "outputs": [
    {
     "data": {
      "text/html": [
       "<ol class=list-inline>\n",
       "\t<li>16160753</li>\n",
       "\t<li>20</li>\n",
       "</ol>\n"
      ],
      "text/latex": [
       "\\begin{enumerate*}\n",
       "\\item 16160753\n",
       "\\item 20\n",
       "\\end{enumerate*}\n"
      ],
      "text/markdown": [
       "1. 16160753\n",
       "2. 20\n",
       "\n",
       "\n"
      ],
      "text/plain": [
       "[1] 16160753       20"
      ]
     },
     "metadata": {},
     "output_type": "display_data"
    }
   ],
   "source": [
    "gwas_df %>% dim()\n"
   ]
  },
  {
   "cell_type": "code",
   "execution_count": 49,
   "metadata": {},
   "outputs": [
    {
     "data": {
      "text/html": [
       "<table>\n",
       "<caption>A data.table: 6 × 20</caption>\n",
       "<thead>\n",
       "\t<tr><th scope=col>ID</th><th scope=col>SNP</th><th scope=col>TOTAL_MAF</th><th scope=col>CHROM</th><th scope=col>POS</th><th scope=col>REF</th><th scope=col>ALT1</th><th scope=col>ALT</th><th scope=col>A1</th><th scope=col>AX</th><th scope=col>A1_CT</th><th scope=col>ALLELE_CT</th><th scope=col>A1_FREQ</th><th scope=col>MACH_R2</th><th scope=col>TEST</th><th scope=col>OBS_CT</th><th scope=col>BETA</th><th scope=col>SE</th><th scope=col>T_STAT</th><th scope=col>P</th></tr>\n",
       "\t<tr><th scope=col>&lt;chr&gt;</th><th scope=col>&lt;chr&gt;</th><th scope=col>&lt;dbl&gt;</th><th scope=col>&lt;chr&gt;</th><th scope=col>&lt;int&gt;</th><th scope=col>&lt;chr&gt;</th><th scope=col>&lt;chr&gt;</th><th scope=col>&lt;chr&gt;</th><th scope=col>&lt;chr&gt;</th><th scope=col>&lt;chr&gt;</th><th scope=col>&lt;dbl&gt;</th><th scope=col>&lt;int&gt;</th><th scope=col>&lt;dbl&gt;</th><th scope=col>&lt;dbl&gt;</th><th scope=col>&lt;chr&gt;</th><th scope=col>&lt;int&gt;</th><th scope=col>&lt;dbl&gt;</th><th scope=col>&lt;dbl&gt;</th><th scope=col>&lt;dbl&gt;</th><th scope=col>&lt;chr&gt;</th></tr>\n",
       "</thead>\n",
       "<tbody>\n",
       "\t<tr><td>1:10511_G_A                     </td><td>rs534229142                     </td><td>0.00121697</td><td>1</td><td>10511</td><td>G                     </td><td>A</td><td>A</td><td>A</td><td>G                     </td><td>   844.35</td><td>637636</td><td>0.00132419</td><td>0.454263</td><td>ADD</td><td>318818</td><td> 0.01066690</td><td>0.0510984</td><td> 0.208753</td><td>0.834641</td></tr>\n",
       "\t<tr><td>1:10616_CCGCCGTTGCAAAGGCGCGCCG_C</td><td>1:10616_CCGCCGTTGCAAAGGCGCGCCG_C</td><td>0.00583227</td><td>1</td><td>10616</td><td>CCGCCGTTGCAAAGGCGCGCCG</td><td>C</td><td>C</td><td>C</td><td>CCGCCGTTGCAAAGGCGCGCCG</td><td>633950.00</td><td>637636</td><td>0.99421900</td><td>0.454192</td><td>ADD</td><td>318818</td><td>-0.00874607</td><td>0.0245117</td><td>-0.356812</td><td>0.721233</td></tr>\n",
       "\t<tr><td>1:13289_CCT_C                   </td><td>1:13289_CCT_C                   </td><td>0.00384929</td><td>1</td><td>13289</td><td>CCT                   </td><td>C</td><td>C</td><td>C</td><td>CCT                   </td><td>  2393.72</td><td>637636</td><td>0.00375406</td><td>0.295486</td><td>ADD</td><td>318818</td><td> 0.03797800</td><td>0.0376724</td><td> 1.008110</td><td>0.313402</td></tr>\n",
       "\t<tr><td>1:13453_T_C                     </td><td>rs568927457                     </td><td>0.00617430</td><td>1</td><td>13453</td><td>T                     </td><td>C</td><td>C</td><td>C</td><td>T                     </td><td>  4172.71</td><td>637636</td><td>0.00654403</td><td>0.471957</td><td>ADD</td><td>318818</td><td>-0.02692170</td><td>0.0226096</td><td>-1.190720</td><td>0.233765</td></tr>\n",
       "\t<tr><td>1:13483_G_C                     </td><td>rs554760071                     </td><td>0.00511713</td><td>1</td><td>13483</td><td>G                     </td><td>C</td><td>C</td><td>C</td><td>G                     </td><td>  3233.33</td><td>637636</td><td>0.00507080</td><td>0.498893</td><td>ADD</td><td>318818</td><td> 0.02427570</td><td>0.0249651</td><td> 0.972386</td><td>0.330859</td></tr>\n",
       "\t<tr><td>1:13494_A_G                     </td><td>rs574697788                     </td><td>0.00337301</td><td>1</td><td>13494</td><td>A                     </td><td>G</td><td>G</td><td>G</td><td>A                     </td><td>  2258.20</td><td>637636</td><td>0.00354152</td><td>0.344193</td><td>ADD</td><td>318818</td><td> 0.01757700</td><td>0.0359333</td><td> 0.489155</td><td>0.624733</td></tr>\n",
       "</tbody>\n",
       "</table>\n"
      ],
      "text/latex": [
       "A data.table: 6 × 20\n",
       "\\begin{tabular}{r|llllllllllllllllllll}\n",
       " ID & SNP & TOTAL\\_MAF & CHROM & POS & REF & ALT1 & ALT & A1 & AX & A1\\_CT & ALLELE\\_CT & A1\\_FREQ & MACH\\_R2 & TEST & OBS\\_CT & BETA & SE & T\\_STAT & P\\\\\n",
       " <chr> & <chr> & <dbl> & <chr> & <int> & <chr> & <chr> & <chr> & <chr> & <chr> & <dbl> & <int> & <dbl> & <dbl> & <chr> & <int> & <dbl> & <dbl> & <dbl> & <chr>\\\\\n",
       "\\hline\n",
       "\t 1:10511\\_G\\_A                      & rs534229142                      & 0.00121697 & 1 & 10511 & G                      & A & A & A & G                      &    844.35 & 637636 & 0.00132419 & 0.454263 & ADD & 318818 &  0.01066690 & 0.0510984 &  0.208753 & 0.834641\\\\\n",
       "\t 1:10616\\_CCGCCGTTGCAAAGGCGCGCCG\\_C & 1:10616\\_CCGCCGTTGCAAAGGCGCGCCG\\_C & 0.00583227 & 1 & 10616 & CCGCCGTTGCAAAGGCGCGCCG & C & C & C & CCGCCGTTGCAAAGGCGCGCCG & 633950.00 & 637636 & 0.99421900 & 0.454192 & ADD & 318818 & -0.00874607 & 0.0245117 & -0.356812 & 0.721233\\\\\n",
       "\t 1:13289\\_CCT\\_C                    & 1:13289\\_CCT\\_C                    & 0.00384929 & 1 & 13289 & CCT                    & C & C & C & CCT                    &   2393.72 & 637636 & 0.00375406 & 0.295486 & ADD & 318818 &  0.03797800 & 0.0376724 &  1.008110 & 0.313402\\\\\n",
       "\t 1:13453\\_T\\_C                      & rs568927457                      & 0.00617430 & 1 & 13453 & T                      & C & C & C & T                      &   4172.71 & 637636 & 0.00654403 & 0.471957 & ADD & 318818 & -0.02692170 & 0.0226096 & -1.190720 & 0.233765\\\\\n",
       "\t 1:13483\\_G\\_C                      & rs554760071                      & 0.00511713 & 1 & 13483 & G                      & C & C & C & G                      &   3233.33 & 637636 & 0.00507080 & 0.498893 & ADD & 318818 &  0.02427570 & 0.0249651 &  0.972386 & 0.330859\\\\\n",
       "\t 1:13494\\_A\\_G                      & rs574697788                      & 0.00337301 & 1 & 13494 & A                      & G & G & G & A                      &   2258.20 & 637636 & 0.00354152 & 0.344193 & ADD & 318818 &  0.01757700 & 0.0359333 &  0.489155 & 0.624733\\\\\n",
       "\\end{tabular}\n"
      ],
      "text/markdown": [
       "\n",
       "A data.table: 6 × 20\n",
       "\n",
       "| ID &lt;chr&gt; | SNP &lt;chr&gt; | TOTAL_MAF &lt;dbl&gt; | CHROM &lt;chr&gt; | POS &lt;int&gt; | REF &lt;chr&gt; | ALT1 &lt;chr&gt; | ALT &lt;chr&gt; | A1 &lt;chr&gt; | AX &lt;chr&gt; | A1_CT &lt;dbl&gt; | ALLELE_CT &lt;int&gt; | A1_FREQ &lt;dbl&gt; | MACH_R2 &lt;dbl&gt; | TEST &lt;chr&gt; | OBS_CT &lt;int&gt; | BETA &lt;dbl&gt; | SE &lt;dbl&gt; | T_STAT &lt;dbl&gt; | P &lt;chr&gt; |\n",
       "|---|---|---|---|---|---|---|---|---|---|---|---|---|---|---|---|---|---|---|---|\n",
       "| 1:10511_G_A                      | rs534229142                      | 0.00121697 | 1 | 10511 | G                      | A | A | A | G                      |    844.35 | 637636 | 0.00132419 | 0.454263 | ADD | 318818 |  0.01066690 | 0.0510984 |  0.208753 | 0.834641 |\n",
       "| 1:10616_CCGCCGTTGCAAAGGCGCGCCG_C | 1:10616_CCGCCGTTGCAAAGGCGCGCCG_C | 0.00583227 | 1 | 10616 | CCGCCGTTGCAAAGGCGCGCCG | C | C | C | CCGCCGTTGCAAAGGCGCGCCG | 633950.00 | 637636 | 0.99421900 | 0.454192 | ADD | 318818 | -0.00874607 | 0.0245117 | -0.356812 | 0.721233 |\n",
       "| 1:13289_CCT_C                    | 1:13289_CCT_C                    | 0.00384929 | 1 | 13289 | CCT                    | C | C | C | CCT                    |   2393.72 | 637636 | 0.00375406 | 0.295486 | ADD | 318818 |  0.03797800 | 0.0376724 |  1.008110 | 0.313402 |\n",
       "| 1:13453_T_C                      | rs568927457                      | 0.00617430 | 1 | 13453 | T                      | C | C | C | T                      |   4172.71 | 637636 | 0.00654403 | 0.471957 | ADD | 318818 | -0.02692170 | 0.0226096 | -1.190720 | 0.233765 |\n",
       "| 1:13483_G_C                      | rs554760071                      | 0.00511713 | 1 | 13483 | G                      | C | C | C | G                      |   3233.33 | 637636 | 0.00507080 | 0.498893 | ADD | 318818 |  0.02427570 | 0.0249651 |  0.972386 | 0.330859 |\n",
       "| 1:13494_A_G                      | rs574697788                      | 0.00337301 | 1 | 13494 | A                      | G | G | G | A                      |   2258.20 | 637636 | 0.00354152 | 0.344193 | ADD | 318818 |  0.01757700 | 0.0359333 |  0.489155 | 0.624733 |\n",
       "\n"
      ],
      "text/plain": [
       "  ID                               SNP                              TOTAL_MAF \n",
       "1 1:10511_G_A                      rs534229142                      0.00121697\n",
       "2 1:10616_CCGCCGTTGCAAAGGCGCGCCG_C 1:10616_CCGCCGTTGCAAAGGCGCGCCG_C 0.00583227\n",
       "3 1:13289_CCT_C                    1:13289_CCT_C                    0.00384929\n",
       "4 1:13453_T_C                      rs568927457                      0.00617430\n",
       "5 1:13483_G_C                      rs554760071                      0.00511713\n",
       "6 1:13494_A_G                      rs574697788                      0.00337301\n",
       "  CHROM POS   REF                    ALT1 ALT A1 AX                    \n",
       "1 1     10511 G                      A    A   A  G                     \n",
       "2 1     10616 CCGCCGTTGCAAAGGCGCGCCG C    C   C  CCGCCGTTGCAAAGGCGCGCCG\n",
       "3 1     13289 CCT                    C    C   C  CCT                   \n",
       "4 1     13453 T                      C    C   C  T                     \n",
       "5 1     13483 G                      C    C   C  G                     \n",
       "6 1     13494 A                      G    G   G  A                     \n",
       "  A1_CT     ALLELE_CT A1_FREQ    MACH_R2  TEST OBS_CT BETA        SE       \n",
       "1    844.35 637636    0.00132419 0.454263 ADD  318818  0.01066690 0.0510984\n",
       "2 633950.00 637636    0.99421900 0.454192 ADD  318818 -0.00874607 0.0245117\n",
       "3   2393.72 637636    0.00375406 0.295486 ADD  318818  0.03797800 0.0376724\n",
       "4   4172.71 637636    0.00654403 0.471957 ADD  318818 -0.02692170 0.0226096\n",
       "5   3233.33 637636    0.00507080 0.498893 ADD  318818  0.02427570 0.0249651\n",
       "6   2258.20 637636    0.00354152 0.344193 ADD  318818  0.01757700 0.0359333\n",
       "  T_STAT    P       \n",
       "1  0.208753 0.834641\n",
       "2 -0.356812 0.721233\n",
       "3  1.008110 0.313402\n",
       "4 -1.190720 0.233765\n",
       "5  0.972386 0.330859\n",
       "6  0.489155 0.624733"
      ]
     },
     "metadata": {},
     "output_type": "display_data"
    }
   ],
   "source": [
    "gwas_df %>% head()"
   ]
  },
  {
   "cell_type": "code",
   "execution_count": 31,
   "metadata": {},
   "outputs": [
    {
     "data": {
      "text/html": [
       "<ol class=list-inline>\n",
       "\t<li>16160753</li>\n",
       "\t<li>20</li>\n",
       "</ol>\n"
      ],
      "text/latex": [
       "\\begin{enumerate*}\n",
       "\\item 16160753\n",
       "\\item 20\n",
       "\\end{enumerate*}\n"
      ],
      "text/markdown": [
       "1. 16160753\n",
       "2. 20\n",
       "\n",
       "\n"
      ],
      "text/plain": [
       "[1] 16160753       20"
      ]
     },
     "metadata": {},
     "output_type": "display_data"
    }
   ],
   "source": [
    "gwas_df %>% \n",
    "inner_join(pvar_df, by=c('CHROM', 'POS', 'ID')) "
   ]
  },
  {
   "cell_type": "code",
   "execution_count": 25,
   "metadata": {},
   "outputs": [],
   "source": [
    "gwas_df <- fread(cmd=paste0('zcat ', gwas_f))\n"
   ]
  },
  {
   "cell_type": "code",
   "execution_count": 28,
   "metadata": {},
   "outputs": [
    {
     "data": {
      "text/html": [
       "<ol class=list-inline>\n",
       "\t<li>'ID'</li>\n",
       "\t<li>'SNP'</li>\n",
       "\t<li>'TOTAL_MAF'</li>\n",
       "\t<li>'CHROM'</li>\n",
       "\t<li>'POS'</li>\n",
       "\t<li>'REF'</li>\n",
       "\t<li>'ALT1'</li>\n",
       "\t<li>'ALT'</li>\n",
       "\t<li>'A1'</li>\n",
       "\t<li>'AX'</li>\n",
       "\t<li>'A1_CT'</li>\n",
       "\t<li>'ALLELE_CT'</li>\n",
       "\t<li>'A1_FREQ'</li>\n",
       "\t<li>'MACH_R2'</li>\n",
       "\t<li>'TEST'</li>\n",
       "\t<li>'OBS_CT'</li>\n",
       "\t<li>'BETA'</li>\n",
       "\t<li>'SE'</li>\n",
       "\t<li>'T_STAT'</li>\n",
       "\t<li>'P'</li>\n",
       "</ol>\n"
      ],
      "text/latex": [
       "\\begin{enumerate*}\n",
       "\\item 'ID'\n",
       "\\item 'SNP'\n",
       "\\item 'TOTAL\\_MAF'\n",
       "\\item 'CHROM'\n",
       "\\item 'POS'\n",
       "\\item 'REF'\n",
       "\\item 'ALT1'\n",
       "\\item 'ALT'\n",
       "\\item 'A1'\n",
       "\\item 'AX'\n",
       "\\item 'A1\\_CT'\n",
       "\\item 'ALLELE\\_CT'\n",
       "\\item 'A1\\_FREQ'\n",
       "\\item 'MACH\\_R2'\n",
       "\\item 'TEST'\n",
       "\\item 'OBS\\_CT'\n",
       "\\item 'BETA'\n",
       "\\item 'SE'\n",
       "\\item 'T\\_STAT'\n",
       "\\item 'P'\n",
       "\\end{enumerate*}\n"
      ],
      "text/markdown": [
       "1. 'ID'\n",
       "2. 'SNP'\n",
       "3. 'TOTAL_MAF'\n",
       "4. 'CHROM'\n",
       "5. 'POS'\n",
       "6. 'REF'\n",
       "7. 'ALT1'\n",
       "8. 'ALT'\n",
       "9. 'A1'\n",
       "10. 'AX'\n",
       "11. 'A1_CT'\n",
       "12. 'ALLELE_CT'\n",
       "13. 'A1_FREQ'\n",
       "14. 'MACH_R2'\n",
       "15. 'TEST'\n",
       "16. 'OBS_CT'\n",
       "17. 'BETA'\n",
       "18. 'SE'\n",
       "19. 'T_STAT'\n",
       "20. 'P'\n",
       "\n",
       "\n"
      ],
      "text/plain": [
       " [1] \"ID\"        \"SNP\"       \"TOTAL_MAF\" \"CHROM\"     \"POS\"       \"REF\"      \n",
       " [7] \"ALT1\"      \"ALT\"       \"A1\"        \"AX\"        \"A1_CT\"     \"ALLELE_CT\"\n",
       "[13] \"A1_FREQ\"   \"MACH_R2\"   \"TEST\"      \"OBS_CT\"    \"BETA\"      \"SE\"       \n",
       "[19] \"T_STAT\"    \"P\"        "
      ]
     },
     "metadata": {},
     "output_type": "display_data"
    }
   ],
   "source": [
    "gwas_df %>% colnames()"
   ]
  },
  {
   "cell_type": "code",
   "execution_count": 50,
   "metadata": {},
   "outputs": [
    {
     "data": {
      "text/html": [
       "<ol class=list-inline>\n",
       "\t<li>'CHROM'</li>\n",
       "\t<li>'POS'</li>\n",
       "\t<li>'MarkerName'</li>\n",
       "\t<li>'FASTA_REF'</li>\n",
       "\t<li>'FASTA_ALT'</li>\n",
       "\t<li>'REF'</li>\n",
       "\t<li>'ALT'</li>\n",
       "\t<li>'Effect'</li>\n",
       "\t<li>'StdErr'</li>\n",
       "\t<li>'P-value'</li>\n",
       "\t<li>'Direction'</li>\n",
       "\t<li>'HetISq'</li>\n",
       "\t<li>'HetChiSq'</li>\n",
       "\t<li>'HetDf'</li>\n",
       "\t<li>'HetPVal'</li>\n",
       "\t<li>'MAF'</li>\n",
       "\t<li>'MACH_R2'</li>\n",
       "\t<li>'REF_is_FASTA_REF'</li>\n",
       "\t<li>'REF_is_FASTA_ALT'</li>\n",
       "\t<li>'ALT_is_FASTA_REF'</li>\n",
       "\t<li>'ALT_is_FASTA_ALT'</li>\n",
       "\t<li>'is_not_flipped'</li>\n",
       "\t<li>'is_flipped'</li>\n",
       "</ol>\n"
      ],
      "text/latex": [
       "\\begin{enumerate*}\n",
       "\\item 'CHROM'\n",
       "\\item 'POS'\n",
       "\\item 'MarkerName'\n",
       "\\item 'FASTA\\_REF'\n",
       "\\item 'FASTA\\_ALT'\n",
       "\\item 'REF'\n",
       "\\item 'ALT'\n",
       "\\item 'Effect'\n",
       "\\item 'StdErr'\n",
       "\\item 'P-value'\n",
       "\\item 'Direction'\n",
       "\\item 'HetISq'\n",
       "\\item 'HetChiSq'\n",
       "\\item 'HetDf'\n",
       "\\item 'HetPVal'\n",
       "\\item 'MAF'\n",
       "\\item 'MACH\\_R2'\n",
       "\\item 'REF\\_is\\_FASTA\\_REF'\n",
       "\\item 'REF\\_is\\_FASTA\\_ALT'\n",
       "\\item 'ALT\\_is\\_FASTA\\_REF'\n",
       "\\item 'ALT\\_is\\_FASTA\\_ALT'\n",
       "\\item 'is\\_not\\_flipped'\n",
       "\\item 'is\\_flipped'\n",
       "\\end{enumerate*}\n"
      ],
      "text/markdown": [
       "1. 'CHROM'\n",
       "2. 'POS'\n",
       "3. 'MarkerName'\n",
       "4. 'FASTA_REF'\n",
       "5. 'FASTA_ALT'\n",
       "6. 'REF'\n",
       "7. 'ALT'\n",
       "8. 'Effect'\n",
       "9. 'StdErr'\n",
       "10. 'P-value'\n",
       "11. 'Direction'\n",
       "12. 'HetISq'\n",
       "13. 'HetChiSq'\n",
       "14. 'HetDf'\n",
       "15. 'HetPVal'\n",
       "16. 'MAF'\n",
       "17. 'MACH_R2'\n",
       "18. 'REF_is_FASTA_REF'\n",
       "19. 'REF_is_FASTA_ALT'\n",
       "20. 'ALT_is_FASTA_REF'\n",
       "21. 'ALT_is_FASTA_ALT'\n",
       "22. 'is_not_flipped'\n",
       "23. 'is_flipped'\n",
       "\n",
       "\n"
      ],
      "text/plain": [
       " [1] \"CHROM\"            \"POS\"              \"MarkerName\"       \"FASTA_REF\"       \n",
       " [5] \"FASTA_ALT\"        \"REF\"              \"ALT\"              \"Effect\"          \n",
       " [9] \"StdErr\"           \"P-value\"          \"Direction\"        \"HetISq\"          \n",
       "[13] \"HetChiSq\"         \"HetDf\"            \"HetPVal\"          \"MAF\"             \n",
       "[17] \"MACH_R2\"          \"REF_is_FASTA_REF\" \"REF_is_FASTA_ALT\" \"ALT_is_FASTA_REF\"\n",
       "[21] \"ALT_is_FASTA_ALT\" \"is_not_flipped\"   \"is_flipped\"      "
      ]
     },
     "metadata": {},
     "output_type": "display_data"
    }
   ],
   "source": [
    "joined_annotated_df %>% colnames()"
   ]
  },
  {
   "cell_type": "code",
   "execution_count": 52,
   "metadata": {},
   "outputs": [],
   "source": [
    "p <- joined_annotated_df %>% \n",
    "    rename('P' = 'P-value') %>%\n",
    "    filter(P < 5e-8) %>%\n",
    "    select(MarkerName, Effect, is_flipped) %>% \n",
    "    inner_join(gwas_df %>% select(ID, BETA) %>% rename('MarkerName' = 'ID'), by='MarkerName') %>%\n",
    "    drop_na() %>%\n",
    "    ggplot(aes(x=Effect, y=BETA, color=is_flipped)) +\n",
    "    geom_point(alpha=0.05) + \n",
    "#     labs(\n",
    "#         title = titlelab,\n",
    "#         x = xlab,\n",
    "#         y = 'BETA from WB GWAS sumstats'\n",
    "#     )+\n",
    "    guides(colour = guide_legend(override.aes = list(alpha = 1)))    \n"
   ]
  },
  {
   "cell_type": "code",
   "execution_count": 53,
   "metadata": {},
   "outputs": [
    {
     "data": {
      "image/png": "[encoded data removed]",
      "text/plain": [
       "plot without title"
      ]
     },
     "metadata": {},
     "output_type": "display_data"
    }
   ],
   "source": [
    "p"
   ]
  },
  {
   "cell_type": "code",
   "execution_count": null,
   "metadata": {},
   "outputs": [],
   "source": []
  },
  {
   "cell_type": "code",
   "execution_count": 23,
   "metadata": {},
   "outputs": [
    {
     "data": {
      "text/html": [
       "<table>\n",
       "<caption>A data.frame: 6 × 5</caption>\n",
       "<thead>\n",
       "\t<tr><th scope=col>CHROM</th><th scope=col>POS</th><th scope=col>ID</th><th scope=col>FASTA_REF</th><th scope=col>FASTA_ALT</th></tr>\n",
       "\t<tr><th scope=col>&lt;chr&gt;</th><th scope=col>&lt;int&gt;</th><th scope=col>&lt;chr&gt;</th><th scope=col>&lt;chr&gt;</th><th scope=col>&lt;chr&gt;</th></tr>\n",
       "</thead>\n",
       "<tbody>\n",
       "\t<tr><td>1</td><td>724321</td><td>1:724321_TGAGTG_T</td><td>TGAGTG</td><td>T</td></tr>\n",
       "\t<tr><td>1</td><td>724324</td><td>1:724324_G_A     </td><td>G     </td><td>A</td></tr>\n",
       "\t<tr><td>1</td><td>724330</td><td>1:724330_T_C     </td><td>T     </td><td>C</td></tr>\n",
       "\t<tr><td>1</td><td>724360</td><td>1:724360_T_G     </td><td>T     </td><td>G</td></tr>\n",
       "\t<tr><td>1</td><td>724365</td><td>1:724365_A_G     </td><td>A     </td><td>G</td></tr>\n",
       "\t<tr><td>1</td><td>724389</td><td>1:724389_T_C     </td><td>T     </td><td>C</td></tr>\n",
       "</tbody>\n",
       "</table>\n"
      ],
      "text/latex": [
       "A data.frame: 6 × 5\n",
       "\\begin{tabular}{r|lllll}\n",
       " CHROM & POS & ID & FASTA\\_REF & FASTA\\_ALT\\\\\n",
       " <chr> & <int> & <chr> & <chr> & <chr>\\\\\n",
       "\\hline\n",
       "\t 1 & 724321 & 1:724321\\_TGAGTG\\_T & TGAGTG & T\\\\\n",
       "\t 1 & 724324 & 1:724324\\_G\\_A      & G      & A\\\\\n",
       "\t 1 & 724330 & 1:724330\\_T\\_C      & T      & C\\\\\n",
       "\t 1 & 724360 & 1:724360\\_T\\_G      & T      & G\\\\\n",
       "\t 1 & 724365 & 1:724365\\_A\\_G      & A      & G\\\\\n",
       "\t 1 & 724389 & 1:724389\\_T\\_C      & T      & C\\\\\n",
       "\\end{tabular}\n"
      ],
      "text/markdown": [
       "\n",
       "A data.frame: 6 × 5\n",
       "\n",
       "| CHROM &lt;chr&gt; | POS &lt;int&gt; | ID &lt;chr&gt; | FASTA_REF &lt;chr&gt; | FASTA_ALT &lt;chr&gt; |\n",
       "|---|---|---|---|---|\n",
       "| 1 | 724321 | 1:724321_TGAGTG_T | TGAGTG | T |\n",
       "| 1 | 724324 | 1:724324_G_A      | G      | A |\n",
       "| 1 | 724330 | 1:724330_T_C      | T      | C |\n",
       "| 1 | 724360 | 1:724360_T_G      | T      | G |\n",
       "| 1 | 724365 | 1:724365_A_G      | A      | G |\n",
       "| 1 | 724389 | 1:724389_T_C      | T      | C |\n",
       "\n"
      ],
      "text/plain": [
       "  CHROM POS    ID                FASTA_REF FASTA_ALT\n",
       "1 1     724321 1:724321_TGAGTG_T TGAGTG    T        \n",
       "2 1     724324 1:724324_G_A      G         A        \n",
       "3 1     724330 1:724330_T_C      T         C        \n",
       "4 1     724360 1:724360_T_G      T         G        \n",
       "5 1     724365 1:724365_A_G      A         G        \n",
       "6 1     724389 1:724389_T_C      T         C        "
      ]
     },
     "metadata": {},
     "output_type": "display_data"
    }
   ],
   "source": [
    "pvar_df %>% head()"
   ]
  },
  {
   "cell_type": "code",
   "execution_count": 22,
   "metadata": {},
   "outputs": [],
   "source": [
    "meta_sumstats_df  <- fread(cmd=paste0('zcat ', meta_sumstats_f))\n"
   ]
  },
  {
   "cell_type": "code",
   "execution_count": 20,
   "metadata": {},
   "outputs": [
    {
     "data": {
      "text/html": [
       "<table>\n",
       "<caption>A data.frame: 6 × 17</caption>\n",
       "<thead>\n",
       "\t<tr><th scope=col>CHROM</th><th scope=col>POS</th><th scope=col>MarkerName</th><th scope=col>FASTA_REF</th><th scope=col>FASTA_ALT</th><th scope=col>REF</th><th scope=col>ALT</th><th scope=col>Effect</th><th scope=col>StdErr</th><th scope=col>P-value</th><th scope=col>Direction</th><th scope=col>HetISq</th><th scope=col>HetChiSq</th><th scope=col>HetDf</th><th scope=col>HetPVal</th><th scope=col>MAF</th><th scope=col>MACH_R2</th></tr>\n",
       "\t<tr><th scope=col>&lt;int&gt;</th><th scope=col>&lt;int&gt;</th><th scope=col>&lt;chr&gt;</th><th scope=col>&lt;chr&gt;</th><th scope=col>&lt;chr&gt;</th><th scope=col>&lt;chr&gt;</th><th scope=col>&lt;chr&gt;</th><th scope=col>&lt;dbl&gt;</th><th scope=col>&lt;dbl&gt;</th><th scope=col>&lt;dbl&gt;</th><th scope=col>&lt;chr&gt;</th><th scope=col>&lt;dbl&gt;</th><th scope=col>&lt;dbl&gt;</th><th scope=col>&lt;int&gt;</th><th scope=col>&lt;dbl&gt;</th><th scope=col>&lt;dbl&gt;</th><th scope=col>&lt;dbl&gt;</th></tr>\n",
       "</thead>\n",
       "<tbody>\n",
       "\t<tr><td>1</td><td>724321</td><td>1:724321_TGAGTG_T</td><td>TGAGTG</td><td>T</td><td>NA</td><td>NA</td><td>NA</td><td>NA</td><td>NA</td><td>NA</td><td>NA</td><td>NA</td><td>NA</td><td>NA</td><td>NA</td><td>NA</td></tr>\n",
       "\t<tr><td>1</td><td>724324</td><td>1:724324_G_A     </td><td>G     </td><td>A</td><td>NA</td><td>NA</td><td>NA</td><td>NA</td><td>NA</td><td>NA</td><td>NA</td><td>NA</td><td>NA</td><td>NA</td><td>NA</td><td>NA</td></tr>\n",
       "\t<tr><td>1</td><td>724330</td><td>1:724330_T_C     </td><td>T     </td><td>C</td><td>NA</td><td>NA</td><td>NA</td><td>NA</td><td>NA</td><td>NA</td><td>NA</td><td>NA</td><td>NA</td><td>NA</td><td>NA</td><td>NA</td></tr>\n",
       "\t<tr><td>1</td><td>724360</td><td>1:724360_T_G     </td><td>T     </td><td>G</td><td>NA</td><td>NA</td><td>NA</td><td>NA</td><td>NA</td><td>NA</td><td>NA</td><td>NA</td><td>NA</td><td>NA</td><td>NA</td><td>NA</td></tr>\n",
       "\t<tr><td>1</td><td>724365</td><td>1:724365_A_G     </td><td>A     </td><td>G</td><td>NA</td><td>NA</td><td>NA</td><td>NA</td><td>NA</td><td>NA</td><td>NA</td><td>NA</td><td>NA</td><td>NA</td><td>NA</td><td>NA</td></tr>\n",
       "\t<tr><td>1</td><td>724389</td><td>1:724389_T_C     </td><td>T     </td><td>C</td><td>NA</td><td>NA</td><td>NA</td><td>NA</td><td>NA</td><td>NA</td><td>NA</td><td>NA</td><td>NA</td><td>NA</td><td>NA</td><td>NA</td></tr>\n",
       "</tbody>\n",
       "</table>\n"
      ],
      "text/latex": [
       "A data.frame: 6 × 17\n",
       "\\begin{tabular}{r|lllllllllllllllll}\n",
       " CHROM & POS & MarkerName & FASTA\\_REF & FASTA\\_ALT & REF & ALT & Effect & StdErr & P-value & Direction & HetISq & HetChiSq & HetDf & HetPVal & MAF & MACH\\_R2\\\\\n",
       " <int> & <int> & <chr> & <chr> & <chr> & <chr> & <chr> & <dbl> & <dbl> & <dbl> & <chr> & <dbl> & <dbl> & <int> & <dbl> & <dbl> & <dbl>\\\\\n",
       "\\hline\n",
       "\t 1 & 724321 & 1:724321\\_TGAGTG\\_T & TGAGTG & T & NA & NA & NA & NA & NA & NA & NA & NA & NA & NA & NA & NA\\\\\n",
       "\t 1 & 724324 & 1:724324\\_G\\_A      & G      & A & NA & NA & NA & NA & NA & NA & NA & NA & NA & NA & NA & NA\\\\\n",
       "\t 1 & 724330 & 1:724330\\_T\\_C      & T      & C & NA & NA & NA & NA & NA & NA & NA & NA & NA & NA & NA & NA\\\\\n",
       "\t 1 & 724360 & 1:724360\\_T\\_G      & T      & G & NA & NA & NA & NA & NA & NA & NA & NA & NA & NA & NA & NA\\\\\n",
       "\t 1 & 724365 & 1:724365\\_A\\_G      & A      & G & NA & NA & NA & NA & NA & NA & NA & NA & NA & NA & NA & NA\\\\\n",
       "\t 1 & 724389 & 1:724389\\_T\\_C      & T      & C & NA & NA & NA & NA & NA & NA & NA & NA & NA & NA & NA & NA\\\\\n",
       "\\end{tabular}\n"
      ],
      "text/markdown": [
       "\n",
       "A data.frame: 6 × 17\n",
       "\n",
       "| CHROM &lt;int&gt; | POS &lt;int&gt; | MarkerName &lt;chr&gt; | FASTA_REF &lt;chr&gt; | FASTA_ALT &lt;chr&gt; | REF &lt;chr&gt; | ALT &lt;chr&gt; | Effect &lt;dbl&gt; | StdErr &lt;dbl&gt; | P-value &lt;dbl&gt; | Direction &lt;chr&gt; | HetISq &lt;dbl&gt; | HetChiSq &lt;dbl&gt; | HetDf &lt;int&gt; | HetPVal &lt;dbl&gt; | MAF &lt;dbl&gt; | MACH_R2 &lt;dbl&gt; |\n",
       "|---|---|---|---|---|---|---|---|---|---|---|---|---|---|---|---|---|\n",
       "| 1 | 724321 | 1:724321_TGAGTG_T | TGAGTG | T | NA | NA | NA | NA | NA | NA | NA | NA | NA | NA | NA | NA |\n",
       "| 1 | 724324 | 1:724324_G_A      | G      | A | NA | NA | NA | NA | NA | NA | NA | NA | NA | NA | NA | NA |\n",
       "| 1 | 724330 | 1:724330_T_C      | T      | C | NA | NA | NA | NA | NA | NA | NA | NA | NA | NA | NA | NA |\n",
       "| 1 | 724360 | 1:724360_T_G      | T      | G | NA | NA | NA | NA | NA | NA | NA | NA | NA | NA | NA | NA |\n",
       "| 1 | 724365 | 1:724365_A_G      | A      | G | NA | NA | NA | NA | NA | NA | NA | NA | NA | NA | NA | NA |\n",
       "| 1 | 724389 | 1:724389_T_C      | T      | C | NA | NA | NA | NA | NA | NA | NA | NA | NA | NA | NA | NA |\n",
       "\n"
      ],
      "text/plain": [
       "  CHROM POS    MarkerName        FASTA_REF FASTA_ALT REF ALT Effect StdErr\n",
       "1 1     724321 1:724321_TGAGTG_T TGAGTG    T         NA  NA  NA     NA    \n",
       "2 1     724324 1:724324_G_A      G         A         NA  NA  NA     NA    \n",
       "3 1     724330 1:724330_T_C      T         C         NA  NA  NA     NA    \n",
       "4 1     724360 1:724360_T_G      T         G         NA  NA  NA     NA    \n",
       "5 1     724365 1:724365_A_G      A         G         NA  NA  NA     NA    \n",
       "6 1     724389 1:724389_T_C      T         C         NA  NA  NA     NA    \n",
       "  P-value Direction HetISq HetChiSq HetDf HetPVal MAF MACH_R2\n",
       "1 NA      NA        NA     NA       NA    NA      NA  NA     \n",
       "2 NA      NA        NA     NA       NA    NA      NA  NA     \n",
       "3 NA      NA        NA     NA       NA    NA      NA  NA     \n",
       "4 NA      NA        NA     NA       NA    NA      NA  NA     \n",
       "5 NA      NA        NA     NA       NA    NA      NA  NA     \n",
       "6 NA      NA        NA     NA       NA    NA      NA  NA     "
      ]
     },
     "metadata": {},
     "output_type": "display_data"
    }
   ],
   "source": [
    "pvar_df %>% \n",
    "rename('MarkerName' = 'ID') %>%\n",
    "left_join(meta_sumstats_df, by='MarkerName') %>%\n",
    "# mutate(\n",
    "#     REF_is_FASTA_REF = (toupper(REF) == FASTA_REF),    \n",
    "#     REF_is_FASTA_ALT = (toupper(REF) == FASTA_ALT),\n",
    "#     ALT_is_FASTA_REF = (toupper(ALT) == FASTA_REF),    \n",
    "#     ALT_is_FASTA_ALT = (toupper(ALT) == FASTA_ALT),\n",
    "#     is_not_flipped = (REF_is_FASTA_REF & ALT_is_FASTA_ALT),\n",
    "#     is_flipped     = (REF_is_FASTA_ALT & ALT_is_FASTA_REF)\n",
    "# ) %>% \n",
    "head()\n"
   ]
  },
  {
   "cell_type": "code",
   "execution_count": 14,
   "metadata": {},
   "outputs": [
    {
     "data": {
      "text/html": [
       "<table>\n",
       "<caption>A data.frame: 6 × 5</caption>\n",
       "<thead>\n",
       "\t<tr><th scope=col>CHROM</th><th scope=col>POS</th><th scope=col>ID</th><th scope=col>FASTA_REF</th><th scope=col>FASTA_ALT</th></tr>\n",
       "\t<tr><th scope=col>&lt;int&gt;</th><th scope=col>&lt;int&gt;</th><th scope=col>&lt;chr&gt;</th><th scope=col>&lt;chr&gt;</th><th scope=col>&lt;chr&gt;</th></tr>\n",
       "</thead>\n",
       "<tbody>\n",
       "\t<tr><td>1</td><td>724321</td><td>1:724321_TGAGTG_T</td><td>TGAGTG</td><td>T</td></tr>\n",
       "\t<tr><td>1</td><td>724324</td><td>1:724324_G_A     </td><td>G     </td><td>A</td></tr>\n",
       "\t<tr><td>1</td><td>724330</td><td>1:724330_T_C     </td><td>T     </td><td>C</td></tr>\n",
       "\t<tr><td>1</td><td>724360</td><td>1:724360_T_G     </td><td>T     </td><td>G</td></tr>\n",
       "\t<tr><td>1</td><td>724365</td><td>1:724365_A_G     </td><td>A     </td><td>G</td></tr>\n",
       "\t<tr><td>1</td><td>724389</td><td>1:724389_T_C     </td><td>T     </td><td>C</td></tr>\n",
       "</tbody>\n",
       "</table>\n"
      ],
      "text/latex": [
       "A data.frame: 6 × 5\n",
       "\\begin{tabular}{r|lllll}\n",
       " CHROM & POS & ID & FASTA\\_REF & FASTA\\_ALT\\\\\n",
       " <int> & <int> & <chr> & <chr> & <chr>\\\\\n",
       "\\hline\n",
       "\t 1 & 724321 & 1:724321\\_TGAGTG\\_T & TGAGTG & T\\\\\n",
       "\t 1 & 724324 & 1:724324\\_G\\_A      & G      & A\\\\\n",
       "\t 1 & 724330 & 1:724330\\_T\\_C      & T      & C\\\\\n",
       "\t 1 & 724360 & 1:724360\\_T\\_G      & T      & G\\\\\n",
       "\t 1 & 724365 & 1:724365\\_A\\_G      & A      & G\\\\\n",
       "\t 1 & 724389 & 1:724389\\_T\\_C      & T      & C\\\\\n",
       "\\end{tabular}\n"
      ],
      "text/markdown": [
       "\n",
       "A data.frame: 6 × 5\n",
       "\n",
       "| CHROM &lt;int&gt; | POS &lt;int&gt; | ID &lt;chr&gt; | FASTA_REF &lt;chr&gt; | FASTA_ALT &lt;chr&gt; |\n",
       "|---|---|---|---|---|\n",
       "| 1 | 724321 | 1:724321_TGAGTG_T | TGAGTG | T |\n",
       "| 1 | 724324 | 1:724324_G_A      | G      | A |\n",
       "| 1 | 724330 | 1:724330_T_C      | T      | C |\n",
       "| 1 | 724360 | 1:724360_T_G      | T      | G |\n",
       "| 1 | 724365 | 1:724365_A_G      | A      | G |\n",
       "| 1 | 724389 | 1:724389_T_C      | T      | C |\n",
       "\n"
      ],
      "text/plain": [
       "  CHROM POS    ID                FASTA_REF FASTA_ALT\n",
       "1 1     724321 1:724321_TGAGTG_T TGAGTG    T        \n",
       "2 1     724324 1:724324_G_A      G         A        \n",
       "3 1     724330 1:724330_T_C      T         C        \n",
       "4 1     724360 1:724360_T_G      T         G        \n",
       "5 1     724365 1:724365_A_G      A         G        \n",
       "6 1     724389 1:724389_T_C      T         C        "
      ]
     },
     "metadata": {},
     "output_type": "display_data"
    }
   ],
   "source": [
    "pvar_df %>% head()"
   ]
  },
  {
   "cell_type": "code",
   "execution_count": 8,
   "metadata": {},
   "outputs": [],
   "source": [
    "gwas_df <- fread(cmd=paste0('zcat ', gwas_f, ' | head -n30'))\n",
    "\n",
    "meta_sumstats_df  <- fread(cmd=paste0('zcat ', meta_sumstats_f, ' | head -n30'))\n",
    "\n",
    "meta_sumstats_joined_df <- meta_sumstats_df %>%\n",
    "add_flip_annotation(pvar_df)\n"
   ]
  },
  {
   "cell_type": "code",
   "execution_count": null,
   "metadata": {},
   "outputs": [],
   "source": []
  },
  {
   "cell_type": "code",
   "execution_count": 8,
   "metadata": {},
   "outputs": [
    {
     "name": "stdout",
     "output_type": "stream",
     "text": [
      "[1] \"The number of allele flips: NA\"\n"
     ]
    }
   ],
   "source": [
    "n_flips <- meta_sumstats_joined_df %>% select(is_flipped) %>% pull() %>% sum()\n",
    "print(paste0('The number of allele flips: ', n_flips))\n"
   ]
  },
  {
   "cell_type": "code",
   "execution_count": 9,
   "metadata": {},
   "outputs": [
    {
     "name": "stdout",
     "output_type": "stream",
     "text": [
      "[1] 29 13\n",
      "[1] 29 23\n"
     ]
    }
   ],
   "source": [
    "meta_sumstats_df        %>% dim() %>% print()\n",
    "meta_sumstats_joined_df %>% dim() %>% print()"
   ]
  },
  {
   "cell_type": "code",
   "execution_count": 10,
   "metadata": {},
   "outputs": [
    {
     "data": {
      "text/html": [
       "<table>\n",
       "<caption>A data.table: 6 × 13</caption>\n",
       "<thead>\n",
       "\t<tr><th scope=col>MarkerName</th><th scope=col>REF</th><th scope=col>ALT</th><th scope=col>Effect</th><th scope=col>StdErr</th><th scope=col>P-value</th><th scope=col>Direction</th><th scope=col>HetISq</th><th scope=col>HetChiSq</th><th scope=col>HetDf</th><th scope=col>HetPVal</th><th scope=col>MAF</th><th scope=col>MACH_R2</th></tr>\n",
       "\t<tr><th scope=col>&lt;chr&gt;</th><th scope=col>&lt;chr&gt;</th><th scope=col>&lt;chr&gt;</th><th scope=col>&lt;dbl&gt;</th><th scope=col>&lt;dbl&gt;</th><th scope=col>&lt;dbl&gt;</th><th scope=col>&lt;chr&gt;</th><th scope=col>&lt;dbl&gt;</th><th scope=col>&lt;dbl&gt;</th><th scope=col>&lt;int&gt;</th><th scope=col>&lt;dbl&gt;</th><th scope=col>&lt;dbl&gt;</th><th scope=col>&lt;dbl&gt;</th></tr>\n",
       "</thead>\n",
       "<tbody>\n",
       "\t<tr><td>1:158192339_G_A </td><td>G </td><td>A </td><td> 0.0022</td><td>0.0029</td><td>0.44670</td><td>++++</td><td> 0.0</td><td>0.446</td><td>3</td><td>0.9306</td><td>0.2321250</td><td>1.000360</td></tr>\n",
       "\t<tr><td>3:135839893_C_G </td><td>C </td><td>G </td><td> 0.0077</td><td>0.0094</td><td>0.41440</td><td>+--+</td><td>19.1</td><td>3.709</td><td>3</td><td>0.2947</td><td>0.0163106</td><td>0.968667</td></tr>\n",
       "\t<tr><td>6:48990486_C_T  </td><td>C </td><td>T </td><td> 0.0011</td><td>0.0026</td><td>0.66290</td><td>++-+</td><td> 0.0</td><td>1.924</td><td>3</td><td>0.5883</td><td>0.3077320</td><td>1.000550</td></tr>\n",
       "\t<tr><td>6:76678298_C_CT </td><td>C </td><td>CT</td><td> 0.0069</td><td>0.0029</td><td>0.01792</td><td>+--+</td><td>27.2</td><td>4.118</td><td>3</td><td>0.2490</td><td>0.2144020</td><td>0.990640</td></tr>\n",
       "\t<tr><td>21:44403419_GA_G</td><td>GA</td><td>G </td><td> 0.0050</td><td>0.0035</td><td>0.14650</td><td>+-++</td><td>39.7</td><td>4.972</td><td>3</td><td>0.1739</td><td>0.1375610</td><td>1.000010</td></tr>\n",
       "\t<tr><td>7:4277699_T_A   </td><td>T </td><td>A </td><td>-0.0097</td><td>0.0105</td><td>0.35830</td><td>--+?</td><td> 0.0</td><td>1.578</td><td>2</td><td>0.4543</td><td>0.0127087</td><td>0.999755</td></tr>\n",
       "</tbody>\n",
       "</table>\n"
      ],
      "text/latex": [
       "A data.table: 6 × 13\n",
       "\\begin{tabular}{r|lllllllllllll}\n",
       " MarkerName & REF & ALT & Effect & StdErr & P-value & Direction & HetISq & HetChiSq & HetDf & HetPVal & MAF & MACH\\_R2\\\\\n",
       " <chr> & <chr> & <chr> & <dbl> & <dbl> & <dbl> & <chr> & <dbl> & <dbl> & <int> & <dbl> & <dbl> & <dbl>\\\\\n",
       "\\hline\n",
       "\t 1:158192339\\_G\\_A  & G  & A  &  0.0022 & 0.0029 & 0.44670 & ++++ &  0.0 & 0.446 & 3 & 0.9306 & 0.2321250 & 1.000360\\\\\n",
       "\t 3:135839893\\_C\\_G  & C  & G  &  0.0077 & 0.0094 & 0.41440 & +--+ & 19.1 & 3.709 & 3 & 0.2947 & 0.0163106 & 0.968667\\\\\n",
       "\t 6:48990486\\_C\\_T   & C  & T  &  0.0011 & 0.0026 & 0.66290 & ++-+ &  0.0 & 1.924 & 3 & 0.5883 & 0.3077320 & 1.000550\\\\\n",
       "\t 6:76678298\\_C\\_CT  & C  & CT &  0.0069 & 0.0029 & 0.01792 & +--+ & 27.2 & 4.118 & 3 & 0.2490 & 0.2144020 & 0.990640\\\\\n",
       "\t 21:44403419\\_GA\\_G & GA & G  &  0.0050 & 0.0035 & 0.14650 & +-++ & 39.7 & 4.972 & 3 & 0.1739 & 0.1375610 & 1.000010\\\\\n",
       "\t 7:4277699\\_T\\_A    & T  & A  & -0.0097 & 0.0105 & 0.35830 & --+? &  0.0 & 1.578 & 2 & 0.4543 & 0.0127087 & 0.999755\\\\\n",
       "\\end{tabular}\n"
      ],
      "text/markdown": [
       "\n",
       "A data.table: 6 × 13\n",
       "\n",
       "| MarkerName &lt;chr&gt; | REF &lt;chr&gt; | ALT &lt;chr&gt; | Effect &lt;dbl&gt; | StdErr &lt;dbl&gt; | P-value &lt;dbl&gt; | Direction &lt;chr&gt; | HetISq &lt;dbl&gt; | HetChiSq &lt;dbl&gt; | HetDf &lt;int&gt; | HetPVal &lt;dbl&gt; | MAF &lt;dbl&gt; | MACH_R2 &lt;dbl&gt; |\n",
       "|---|---|---|---|---|---|---|---|---|---|---|---|---|\n",
       "| 1:158192339_G_A  | G  | A  |  0.0022 | 0.0029 | 0.44670 | ++++ |  0.0 | 0.446 | 3 | 0.9306 | 0.2321250 | 1.000360 |\n",
       "| 3:135839893_C_G  | C  | G  |  0.0077 | 0.0094 | 0.41440 | +--+ | 19.1 | 3.709 | 3 | 0.2947 | 0.0163106 | 0.968667 |\n",
       "| 6:48990486_C_T   | C  | T  |  0.0011 | 0.0026 | 0.66290 | ++-+ |  0.0 | 1.924 | 3 | 0.5883 | 0.3077320 | 1.000550 |\n",
       "| 6:76678298_C_CT  | C  | CT |  0.0069 | 0.0029 | 0.01792 | +--+ | 27.2 | 4.118 | 3 | 0.2490 | 0.2144020 | 0.990640 |\n",
       "| 21:44403419_GA_G | GA | G  |  0.0050 | 0.0035 | 0.14650 | +-++ | 39.7 | 4.972 | 3 | 0.1739 | 0.1375610 | 1.000010 |\n",
       "| 7:4277699_T_A    | T  | A  | -0.0097 | 0.0105 | 0.35830 | --+? |  0.0 | 1.578 | 2 | 0.4543 | 0.0127087 | 0.999755 |\n",
       "\n"
      ],
      "text/plain": [
       "  MarkerName       REF ALT Effect  StdErr P-value Direction HetISq HetChiSq\n",
       "1 1:158192339_G_A  G   A    0.0022 0.0029 0.44670 ++++       0.0   0.446   \n",
       "2 3:135839893_C_G  C   G    0.0077 0.0094 0.41440 +--+      19.1   3.709   \n",
       "3 6:48990486_C_T   C   T    0.0011 0.0026 0.66290 ++-+       0.0   1.924   \n",
       "4 6:76678298_C_CT  C   CT   0.0069 0.0029 0.01792 +--+      27.2   4.118   \n",
       "5 21:44403419_GA_G GA  G    0.0050 0.0035 0.14650 +-++      39.7   4.972   \n",
       "6 7:4277699_T_A    T   A   -0.0097 0.0105 0.35830 --+?       0.0   1.578   \n",
       "  HetDf HetPVal MAF       MACH_R2 \n",
       "1 3     0.9306  0.2321250 1.000360\n",
       "2 3     0.2947  0.0163106 0.968667\n",
       "3 3     0.5883  0.3077320 1.000550\n",
       "4 3     0.2490  0.2144020 0.990640\n",
       "5 3     0.1739  0.1375610 1.000010\n",
       "6 2     0.4543  0.0127087 0.999755"
      ]
     },
     "metadata": {},
     "output_type": "display_data"
    }
   ],
   "source": [
    "meta_sumstats_df %>% head()"
   ]
  },
  {
   "cell_type": "code",
   "execution_count": 13,
   "metadata": {},
   "outputs": [
    {
     "data": {
      "text/html": [
       "<table>\n",
       "<caption>A tibble: 1 × 6</caption>\n",
       "<thead>\n",
       "\t<tr><th scope=col>REF_is_FASTA_REF</th><th scope=col>REF_is_FASTA_ALT</th><th scope=col>ALT_is_FASTA_REF</th><th scope=col>ALT_is_FASTA_ALT</th><th scope=col>is_flipped</th><th scope=col>n</th></tr>\n",
       "\t<tr><th scope=col>&lt;lgl&gt;</th><th scope=col>&lt;lgl&gt;</th><th scope=col>&lt;lgl&gt;</th><th scope=col>&lt;lgl&gt;</th><th scope=col>&lt;lgl&gt;</th><th scope=col>&lt;int&gt;</th></tr>\n",
       "</thead>\n",
       "<tbody>\n",
       "\t<tr><td>NA</td><td>NA</td><td>NA</td><td>NA</td><td>NA</td><td>29</td></tr>\n",
       "</tbody>\n",
       "</table>\n"
      ],
      "text/latex": [
       "A tibble: 1 × 6\n",
       "\\begin{tabular}{r|llllll}\n",
       " REF\\_is\\_FASTA\\_REF & REF\\_is\\_FASTA\\_ALT & ALT\\_is\\_FASTA\\_REF & ALT\\_is\\_FASTA\\_ALT & is\\_flipped & n\\\\\n",
       " <lgl> & <lgl> & <lgl> & <lgl> & <lgl> & <int>\\\\\n",
       "\\hline\n",
       "\t NA & NA & NA & NA & NA & 29\\\\\n",
       "\\end{tabular}\n"
      ],
      "text/markdown": [
       "\n",
       "A tibble: 1 × 6\n",
       "\n",
       "| REF_is_FASTA_REF &lt;lgl&gt; | REF_is_FASTA_ALT &lt;lgl&gt; | ALT_is_FASTA_REF &lt;lgl&gt; | ALT_is_FASTA_ALT &lt;lgl&gt; | is_flipped &lt;lgl&gt; | n &lt;int&gt; |\n",
       "|---|---|---|---|---|---|\n",
       "| NA | NA | NA | NA | NA | 29 |\n",
       "\n"
      ],
      "text/plain": [
       "  REF_is_FASTA_REF REF_is_FASTA_ALT ALT_is_FASTA_REF ALT_is_FASTA_ALT\n",
       "1 NA               NA               NA               NA              \n",
       "  is_flipped n \n",
       "1 NA         29"
      ]
     },
     "metadata": {},
     "output_type": "display_data"
    }
   ],
   "source": [
    "meta_sumstats_joined_df %>% count(\n",
    "    REF_is_FASTA_REF, REF_is_FASTA_ALT, \n",
    "    ALT_is_FASTA_REF, ALT_is_FASTA_ALT, \n",
    "    is_flipped\n",
    ")"
   ]
  },
  {
   "cell_type": "code",
   "execution_count": 9,
   "metadata": {},
   "outputs": [
    {
     "data": {
      "text/html": [
       "<table>\n",
       "<caption>A data.frame: 6 × 23</caption>\n",
       "<thead>\n",
       "\t<tr><th scope=col>CHROM</th><th scope=col>POS</th><th scope=col>MarkerName</th><th scope=col>pvar_REF</th><th scope=col>pvar_ALT</th><th scope=col>REF</th><th scope=col>ALT</th><th scope=col>Effect</th><th scope=col>StdErr</th><th scope=col>P-value</th><th scope=col>⋯</th><th scope=col>HetDf</th><th scope=col>HetPVal</th><th scope=col>MAF</th><th scope=col>MACH_R2</th><th scope=col>A1_is_ref</th><th scope=col>A1_is_alt</th><th scope=col>A2_is_ref</th><th scope=col>A2_is_alt</th><th scope=col>is_not_flipped</th><th scope=col>is_flipped</th></tr>\n",
       "\t<tr><th scope=col>&lt;chr&gt;</th><th scope=col>&lt;int&gt;</th><th scope=col>&lt;chr&gt;</th><th scope=col>&lt;chr&gt;</th><th scope=col>&lt;chr&gt;</th><th scope=col>&lt;chr&gt;</th><th scope=col>&lt;chr&gt;</th><th scope=col>&lt;dbl&gt;</th><th scope=col>&lt;dbl&gt;</th><th scope=col>&lt;dbl&gt;</th><th scope=col>⋯</th><th scope=col>&lt;int&gt;</th><th scope=col>&lt;dbl&gt;</th><th scope=col>&lt;dbl&gt;</th><th scope=col>&lt;dbl&gt;</th><th scope=col>&lt;lgl&gt;</th><th scope=col>&lt;lgl&gt;</th><th scope=col>&lt;lgl&gt;</th><th scope=col>&lt;lgl&gt;</th><th scope=col>&lt;lgl&gt;</th><th scope=col>&lt;lgl&gt;</th></tr>\n",
       "</thead>\n",
       "<tbody>\n",
       "\t<tr><td>1 </td><td>158192339</td><td>1:158192339_G_A </td><td>g </td><td>A </td><td>G </td><td>A </td><td> 0.0022</td><td>0.0029</td><td>0.44670</td><td>⋯</td><td>3</td><td>0.9306</td><td>0.2321250</td><td>1.000360</td><td>TRUE</td><td>FALSE</td><td>FALSE</td><td>TRUE</td><td>FALSE</td><td>TRUE</td></tr>\n",
       "\t<tr><td>3 </td><td>135839893</td><td>3:135839893_C_G </td><td>c </td><td>G </td><td>C </td><td>G </td><td> 0.0077</td><td>0.0094</td><td>0.41440</td><td>⋯</td><td>3</td><td>0.2947</td><td>0.0163106</td><td>0.968667</td><td>TRUE</td><td>FALSE</td><td>FALSE</td><td>TRUE</td><td>FALSE</td><td>TRUE</td></tr>\n",
       "\t<tr><td>6 </td><td> 48990486</td><td>6:48990486_C_T  </td><td>c </td><td>T </td><td>C </td><td>T </td><td> 0.0011</td><td>0.0026</td><td>0.66290</td><td>⋯</td><td>3</td><td>0.5883</td><td>0.3077320</td><td>1.000550</td><td>TRUE</td><td>FALSE</td><td>FALSE</td><td>TRUE</td><td>FALSE</td><td>TRUE</td></tr>\n",
       "\t<tr><td>6 </td><td> 76678298</td><td>6:76678298_C_CT </td><td>C </td><td>CT</td><td>C </td><td>CT</td><td> 0.0069</td><td>0.0029</td><td>0.01792</td><td>⋯</td><td>3</td><td>0.2490</td><td>0.2144020</td><td>0.990640</td><td>TRUE</td><td>FALSE</td><td>FALSE</td><td>TRUE</td><td>FALSE</td><td>TRUE</td></tr>\n",
       "\t<tr><td>21</td><td> 44403419</td><td>21:44403419_GA_G</td><td>ga</td><td>G </td><td>GA</td><td>G </td><td> 0.0050</td><td>0.0035</td><td>0.14650</td><td>⋯</td><td>3</td><td>0.1739</td><td>0.1375610</td><td>1.000010</td><td>TRUE</td><td>FALSE</td><td>FALSE</td><td>TRUE</td><td>FALSE</td><td>TRUE</td></tr>\n",
       "\t<tr><td>7 </td><td>  4277699</td><td>7:4277699_T_A   </td><td>T </td><td>A </td><td>T </td><td>A </td><td>-0.0097</td><td>0.0105</td><td>0.35830</td><td>⋯</td><td>2</td><td>0.4543</td><td>0.0127087</td><td>0.999755</td><td>TRUE</td><td>FALSE</td><td>FALSE</td><td>TRUE</td><td>FALSE</td><td>TRUE</td></tr>\n",
       "</tbody>\n",
       "</table>\n"
      ],
      "text/latex": [
       "A data.frame: 6 × 23\n",
       "\\begin{tabular}{r|lllllllllllllllllllllll}\n",
       " CHROM & POS & MarkerName & pvar\\_REF & pvar\\_ALT & REF & ALT & Effect & StdErr & P-value & Direction & HetISq & HetChiSq & HetDf & HetPVal & MAF & MACH\\_R2 & A1\\_is\\_ref & A1\\_is\\_alt & A2\\_is\\_ref & A2\\_is\\_alt & is\\_not\\_flipped & is\\_flipped\\\\\n",
       " <chr> & <int> & <chr> & <chr> & <chr> & <chr> & <chr> & <dbl> & <dbl> & <dbl> & <chr> & <dbl> & <dbl> & <int> & <dbl> & <dbl> & <dbl> & <lgl> & <lgl> & <lgl> & <lgl> & <lgl> & <lgl>\\\\\n",
       "\\hline\n",
       "\t 1  & 158192339 & 1:158192339\\_G\\_A  & g  & A  & G  & A  &  0.0022 & 0.0029 & 0.44670 & ++++ &  0.0 & 0.446 & 3 & 0.9306 & 0.2321250 & 1.000360 & TRUE & FALSE & FALSE & TRUE & FALSE & TRUE\\\\\n",
       "\t 3  & 135839893 & 3:135839893\\_C\\_G  & c  & G  & C  & G  &  0.0077 & 0.0094 & 0.41440 & +--+ & 19.1 & 3.709 & 3 & 0.2947 & 0.0163106 & 0.968667 & TRUE & FALSE & FALSE & TRUE & FALSE & TRUE\\\\\n",
       "\t 6  &  48990486 & 6:48990486\\_C\\_T   & c  & T  & C  & T  &  0.0011 & 0.0026 & 0.66290 & ++-+ &  0.0 & 1.924 & 3 & 0.5883 & 0.3077320 & 1.000550 & TRUE & FALSE & FALSE & TRUE & FALSE & TRUE\\\\\n",
       "\t 6  &  76678298 & 6:76678298\\_C\\_CT  & C  & CT & C  & CT &  0.0069 & 0.0029 & 0.01792 & +--+ & 27.2 & 4.118 & 3 & 0.2490 & 0.2144020 & 0.990640 & TRUE & FALSE & FALSE & TRUE & FALSE & TRUE\\\\\n",
       "\t 21 &  44403419 & 21:44403419\\_GA\\_G & ga & G  & GA & G  &  0.0050 & 0.0035 & 0.14650 & +-++ & 39.7 & 4.972 & 3 & 0.1739 & 0.1375610 & 1.000010 & TRUE & FALSE & FALSE & TRUE & FALSE & TRUE\\\\\n",
       "\t 7  &   4277699 & 7:4277699\\_T\\_A    & T  & A  & T  & A  & -0.0097 & 0.0105 & 0.35830 & --+? &  0.0 & 1.578 & 2 & 0.4543 & 0.0127087 & 0.999755 & TRUE & FALSE & FALSE & TRUE & FALSE & TRUE\\\\\n",
       "\\end{tabular}\n"
      ],
      "text/markdown": [
       "\n",
       "A data.frame: 6 × 23\n",
       "\n",
       "| CHROM &lt;chr&gt; | POS &lt;int&gt; | MarkerName &lt;chr&gt; | pvar_REF &lt;chr&gt; | pvar_ALT &lt;chr&gt; | REF &lt;chr&gt; | ALT &lt;chr&gt; | Effect &lt;dbl&gt; | StdErr &lt;dbl&gt; | P-value &lt;dbl&gt; | ⋯ ⋯ | HetDf &lt;int&gt; | HetPVal &lt;dbl&gt; | MAF &lt;dbl&gt; | MACH_R2 &lt;dbl&gt; | A1_is_ref &lt;lgl&gt; | A1_is_alt &lt;lgl&gt; | A2_is_ref &lt;lgl&gt; | A2_is_alt &lt;lgl&gt; | is_not_flipped &lt;lgl&gt; | is_flipped &lt;lgl&gt; |\n",
       "|---|---|---|---|---|---|---|---|---|---|---|---|---|---|---|---|---|---|---|---|---|\n",
       "| 1  | 158192339 | 1:158192339_G_A  | g  | A  | G  | A  |  0.0022 | 0.0029 | 0.44670 | ⋯ | 3 | 0.9306 | 0.2321250 | 1.000360 | TRUE | FALSE | FALSE | TRUE | FALSE | TRUE |\n",
       "| 3  | 135839893 | 3:135839893_C_G  | c  | G  | C  | G  |  0.0077 | 0.0094 | 0.41440 | ⋯ | 3 | 0.2947 | 0.0163106 | 0.968667 | TRUE | FALSE | FALSE | TRUE | FALSE | TRUE |\n",
       "| 6  |  48990486 | 6:48990486_C_T   | c  | T  | C  | T  |  0.0011 | 0.0026 | 0.66290 | ⋯ | 3 | 0.5883 | 0.3077320 | 1.000550 | TRUE | FALSE | FALSE | TRUE | FALSE | TRUE |\n",
       "| 6  |  76678298 | 6:76678298_C_CT  | C  | CT | C  | CT |  0.0069 | 0.0029 | 0.01792 | ⋯ | 3 | 0.2490 | 0.2144020 | 0.990640 | TRUE | FALSE | FALSE | TRUE | FALSE | TRUE |\n",
       "| 21 |  44403419 | 21:44403419_GA_G | ga | G  | GA | G  |  0.0050 | 0.0035 | 0.14650 | ⋯ | 3 | 0.1739 | 0.1375610 | 1.000010 | TRUE | FALSE | FALSE | TRUE | FALSE | TRUE |\n",
       "| 7  |   4277699 | 7:4277699_T_A    | T  | A  | T  | A  | -0.0097 | 0.0105 | 0.35830 | ⋯ | 2 | 0.4543 | 0.0127087 | 0.999755 | TRUE | FALSE | FALSE | TRUE | FALSE | TRUE |\n",
       "\n"
      ],
      "text/plain": [
       "  CHROM POS       MarkerName       pvar_REF pvar_ALT REF ALT Effect  StdErr\n",
       "1 1     158192339 1:158192339_G_A  g        A        G   A    0.0022 0.0029\n",
       "2 3     135839893 3:135839893_C_G  c        G        C   G    0.0077 0.0094\n",
       "3 6      48990486 6:48990486_C_T   c        T        C   T    0.0011 0.0026\n",
       "4 6      76678298 6:76678298_C_CT  C        CT       C   CT   0.0069 0.0029\n",
       "5 21     44403419 21:44403419_GA_G ga       G        GA  G    0.0050 0.0035\n",
       "6 7       4277699 7:4277699_T_A    T        A        T   A   -0.0097 0.0105\n",
       "  P-value ⋯ HetDf HetPVal MAF       MACH_R2  A1_is_ref A1_is_alt A2_is_ref\n",
       "1 0.44670 ⋯ 3     0.9306  0.2321250 1.000360 TRUE      FALSE     FALSE    \n",
       "2 0.41440 ⋯ 3     0.2947  0.0163106 0.968667 TRUE      FALSE     FALSE    \n",
       "3 0.66290 ⋯ 3     0.5883  0.3077320 1.000550 TRUE      FALSE     FALSE    \n",
       "4 0.01792 ⋯ 3     0.2490  0.2144020 0.990640 TRUE      FALSE     FALSE    \n",
       "5 0.14650 ⋯ 3     0.1739  0.1375610 1.000010 TRUE      FALSE     FALSE    \n",
       "6 0.35830 ⋯ 2     0.4543  0.0127087 0.999755 TRUE      FALSE     FALSE    \n",
       "  A2_is_alt is_not_flipped is_flipped\n",
       "1 TRUE      FALSE          TRUE      \n",
       "2 TRUE      FALSE          TRUE      \n",
       "3 TRUE      FALSE          TRUE      \n",
       "4 TRUE      FALSE          TRUE      \n",
       "5 TRUE      FALSE          TRUE      \n",
       "6 TRUE      FALSE          TRUE      "
      ]
     },
     "metadata": {},
     "output_type": "display_data"
    }
   ],
   "source": [
    "meta_sumstats_joined_df %>% head()"
   ]
  },
  {
   "cell_type": "code",
   "execution_count": null,
   "metadata": {},
   "outputs": [],
   "source": [
    "\n",
    "\n",
    "n_flips <- meta_sumstats_joined_df %>% select(is_flipped) %>% pull() %>% sum()\n",
    "print(paste0('The number of allele flips: ', n_flips))\n",
    "\n",
    "\n",
    "meta_flipfixed_df <- meta_sumstats_joined_df %>% \n",
    "mutate(\n",
    "    Allele1_copy = Allele1,\n",
    "    Allele1 = if_else(is_flipped, Allele2, Allele1),\n",
    "    Allele2 = if_else(is_flipped, Allele1_copy, Allele2),\n",
    "    Effect  = if_else(is_flipped, -1 * Effect, Effect),\n",
    "    Direction = if_else(\n",
    "        is_flipped, \n",
    "        str_replace_all(str_replace_all(str_replace_all(Direction, '-', 'm'), '\\\\+', '-'), 'm', '+'),\n",
    "        Direction        \n",
    "    )\n",
    ") %>%\n",
    "select(-Allele1_copy, -pvar_REF, -pvar_ALT, -is_flipped)\n",
    "\n",
    "meta_flipfixed_df %>% fwrite(meta_flipfixed_f, sep='\\t')\n",
    "\n",
    "# meta_sumstats_p <- meta_sumstats_joined_df %>%\n",
    "# flip_check_plot(\n",
    "#     gwas_df, \n",
    "#     titlelab = paste0('Comparison of Effect size before flipfix (', pheno_name, ')'), \n",
    "#     xlab = 'Effect col from meta-analysis'\n",
    "# )\n",
    "\n",
    "# meta_flipfixed_joined_p <- meta_flipfixed_df %>%\n",
    "# add_flip_annotation(pvar_df) %>%\n",
    "# flip_check_plot(\n",
    "#     gwas_df, \n",
    "#     titlelab = paste0('Comparison of Effect size after flipfix (', pheno_name, ')'), \n",
    "#     xlab = 'Effect col from the flip-fixed meta-analysis results'\n",
    "# )\n",
    "\n",
    "# g <- arrangeGrob(meta_sumstats_p, meta_flipfixed_joined_p, nrow=1)\n",
    "# ggsave(file=meta_flipfixed_img, width=12, height=6, g)\n"
   ]
  }
 ],
 "metadata": {
  "kernelspec": {
   "display_name": "R",
   "language": "R",
   "name": "ir"
  },
  "language_info": {
   "codemirror_mode": "r",
   "file_extension": ".r",
   "mimetype": "text/x-r-source",
   "name": "R",
   "pygments_lexer": "r",
   "version": "3.6.1"
  }
 },
 "nbformat": 4,
 "nbformat_minor": 4
}
