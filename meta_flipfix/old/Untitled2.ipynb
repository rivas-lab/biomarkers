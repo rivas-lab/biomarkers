{
 "cells": [
  {
   "cell_type": "code",
   "execution_count": 5,
   "metadata": {},
   "outputs": [],
   "source": [
    "meta_tbl_f <- '@@@@@@/projects/biomarkers/meta/plink_imputed/filtered/GLOBAL_Alanine_aminotransferase.sumstats.tsv.gz '\n",
    "meta_tbl_out_f <- 'dev.out'\n",
    "pvar_f <- '@@@@@@/users/ytanigaw/repos/rivas-lab/public-resources/uk_biobank/biomarkers/meta_flipfix/imp_ref_alt_check/ukb_imp_v3.mac1.flipcheck.tsv.gz'\n",
    "\n"
   ]
  },
  {
   "cell_type": "code",
   "execution_count": 1,
   "metadata": {},
   "outputs": [],
   "source": [
    "suppressPackageStartupMessages(require(tidyverse))\n",
    "suppressPackageStartupMessages(require(data.table))\n"
   ]
  },
  {
   "cell_type": "code",
   "execution_count": null,
   "metadata": {},
   "outputs": [],
   "source": [
    "pvar_df <- fread(cmd=paste0('zcat ', pvar_f)) %>% \n",
    "mutate(FASTA_ALT = if_else(toupper(REF) == toupper(FASTA_REF), ALT, REF)) %>%\n",
    "select(-REF, -ALT) %>%\n",
    "rename('REF' = 'FASTA_REF', 'ALT' = 'FASTA_ALT', 'CHROM' = '#CHROM')\n",
    "\n",
    "meta_sumstats_df <- fread(cmd=paste0('zcat ', meta_tbl_f))\n",
    "\n",
    "joined_df <- pvar_df %>% rename('MarkerName' = 'ID') %>%\n",
    "right_join(meta_sumstats_df, by='MarkerName') %>%\n",
    "mutate(\n",
    "    A1_is_ref = (toupper(Allele1) == toupper(REF)),    \n",
    "    A1_is_alt = (toupper(Allele1) == toupper(ALT)),\n",
    "    A2_is_ref = (toupper(Allele2) == toupper(REF)),    \n",
    "    A2_is_alt = (toupper(Allele2) == toupper(ALT)),\n",
    "    is_not_flipped = (A1_is_alt & A2_is_ref),\n",
    "    is_flipped     = (A1_is_ref & A2_is_alt)\n",
    ") %>%\n",
    "filter(is_flipped | is_not_flipped) %>%\n",
    "select(-is_not_flipped, -A1_is_ref, -A1_is_alt, -A2_is_ref, -A2_is_alt) \n",
    "\n",
    "n_flips <- joined_df %>% select(is_flipped) %>% pull() %>% sum()\n",
    "print(paste0('The number of allele flips: ', n_flips))\n",
    "\n",
    "\n",
    "flip_fixed <- joined_df %>% \n",
    "mutate(\n",
    "    Allele1_copy = Allele1,\n",
    "    Allele1 = if_else(is_flipped, Allele2, Allele1),\n",
    "    Allele2 = if_else(is_flipped, Allele1_copy, Allele2),\n",
    "    Effect  = if_else(is_flipped, -1 * Effect, Effect),\n",
    "    Direction = if_else(\n",
    "        is_flipped, \n",
    "        str_replace_all(str_replace_all(str_replace_all(Direction, '-', 'm'), '\\\\+', '-'), 'm', '+'),\n",
    "        Direction        \n",
    "    )\n",
    ") %>%\n",
    "select(-Allele1_copy, -REF, -ALT, -is_flipped) %>%\n",
    "rename('ALT' = 'Allele1', 'REF' = 'Allele2') \n",
    "\n",
    "flip_fixed %>% fwrite(meta_tbl_out_f, sep='\\t')\n",
    "\n"
   ]
  }
 ],
 "metadata": {
  "kernelspec": {
   "display_name": "R",
   "language": "R",
   "name": "ir"
  },
  "language_info": {
   "codemirror_mode": "r",
   "file_extension": ".r",
   "mimetype": "text/x-r-source",
   "name": "R",
   "pygments_lexer": "r",
   "version": "3.6.1"
  }
 },
 "nbformat": 4,
 "nbformat_minor": 4
}
