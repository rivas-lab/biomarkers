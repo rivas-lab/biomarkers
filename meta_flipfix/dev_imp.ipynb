{
 "cells": [
  {
   "cell_type": "code",
   "execution_count": 1,
   "metadata": {},
   "outputs": [],
   "source": [
    "suppressPackageStartupMessages(require(tidyverse))\n",
    "suppressPackageStartupMessages(require(data.table))\n"
   ]
  },
  {
   "cell_type": "code",
   "execution_count": 2,
   "metadata": {},
   "outputs": [],
   "source": [
    "meta_sumstats_f    <- '@@@@@@/projects/biomarkers/meta/plink_imputed/filtered/GLOBAL_Alanine_aminotransferase.sumstats.tsv.gz '\n",
    "meta_flipfixed_f   <- '@@@@@@/projects/biomarkers/meta/plink_imputed/filtered_flipfixed/GLOBAL_Alanine_aminotransferase.sumstats.tsv'\n",
    "meta_flipfixed_img <- '@@@@@@/projects/biomarkers/meta/plink_imputed/filtered_flipfixed/GLOBAL_Alanine_aminotransferase.check.png'\n",
    "gwas_f             <- '@@@@@@/projects/biomarkers/sumstats_diverse/white_british/plink_imputed/filtered/INT_Alanine_aminotransferase_all.glm.linear.filtered.maf001.info03.tsv.gz'\n",
    "pvar_f             <- '@@@@@@/users/ytanigaw/repos/rivas-lab/public-resources/uk_biobank/biomarkers/meta_flipfix/imp_ref_alt_check/ukb_imp_v3.mac1.flipcheck.tsv.gz'\n"
   ]
  },
  {
   "cell_type": "markdown",
   "metadata": {},
   "source": [
    "## read files"
   ]
  },
  {
   "cell_type": "code",
   "execution_count": 3,
   "metadata": {},
   "outputs": [],
   "source": [
    "pvar_df <- fread(cmd=paste0('zcat ', pvar_f)) %>% \n",
    "mutate(FASTA_ALT = if_else(toupper(REF) == toupper(FASTA_REF), ALT, REF)) %>%\n",
    "select(-REF, -ALT) %>%\n",
    "mutate(FASTA_REF = toupper(FASTA_REF), FASTA_ALT = toupper(FASTA_ALT)) %>%\n",
    "rename('CHROM' = '#CHROM')\n"
   ]
  },
  {
   "cell_type": "code",
   "execution_count": 4,
   "metadata": {},
   "outputs": [],
   "source": [
    "meta_sumstats_df  <- fread(cmd=paste0('zcat ', meta_sumstats_f))\n",
    "gwas_df <- fread(cmd=paste0('zcat ', gwas_f))\n"
   ]
  },
  {
   "cell_type": "markdown",
   "metadata": {},
   "source": [
    "## some funcs"
   ]
  },
  {
   "cell_type": "code",
   "execution_count": 5,
   "metadata": {},
   "outputs": [],
   "source": [
    "add_flip_annotation <- function(df, pvar_df){\n",
    "    pvar_df %>% \n",
    "    rename('MarkerName' = 'ID') %>%\n",
    "    right_join(meta_sumstats_df, by='MarkerName') %>%\n",
    "    mutate(\n",
    "        REF_is_FASTA_REF = (toupper(REF) == FASTA_REF),    \n",
    "        REF_is_FASTA_ALT = (toupper(REF) == FASTA_ALT),\n",
    "        ALT_is_FASTA_REF = (toupper(ALT) == FASTA_REF),    \n",
    "        ALT_is_FASTA_ALT = (toupper(ALT) == FASTA_ALT),\n",
    "        is_not_flipped = (REF_is_FASTA_REF & ALT_is_FASTA_ALT),\n",
    "        is_flipped     = (REF_is_FASTA_ALT & ALT_is_FASTA_REF)\n",
    "    )\n",
    "}\n"
   ]
  },
  {
   "cell_type": "code",
   "execution_count": 6,
   "metadata": {},
   "outputs": [],
   "source": [
    "flip_check_plot <- function(df, gwas_df, titlelab, xlab){\n",
    "    df %>% \n",
    "    rename('P' = 'P-value') %>%\n",
    "    filter(P < 5e-8) %>%\n",
    "    select(MarkerName, Effect, is_flipped) %>% \n",
    "    inner_join(gwas_df %>% select(ID, BETA) %>% rename('MarkerName' = 'ID'), by='MarkerName') %>%\n",
    "    drop_na() %>%\n",
    "    ggplot(aes(x=Effect, y=BETA, color=is_flipped)) +\n",
    "    geom_point(alpha=0.05) + \n",
    "    labs(\n",
    "        title = titlelab,\n",
    "        x = xlab,\n",
    "        y = 'BETA from WB GWAS sumstats'\n",
    "    )+\n",
    "    guides(colour = guide_legend(override.aes = list(alpha = 1)))    \n",
    "}\n"
   ]
  },
  {
   "cell_type": "code",
   "execution_count": null,
   "metadata": {},
   "outputs": [],
   "source": []
  },
  {
   "cell_type": "code",
   "execution_count": 7,
   "metadata": {},
   "outputs": [],
   "source": [
    "joined_annotated_df <- meta_sumstats_df %>% add_flip_annotation(pvar_df)\n"
   ]
  },
  {
   "cell_type": "code",
   "execution_count": 8,
   "metadata": {},
   "outputs": [
    {
     "name": "stdout",
     "output_type": "stream",
     "text": [
      "[1] \"The number of allele flips: 0\"\n"
     ]
    }
   ],
   "source": [
    "n_flips <- joined_annotated_df %>% select(is_flipped) %>% drop_na() %>% pull() %>% sum()\n",
    "print(paste0('The number of allele flips: ', n_flips))\n"
   ]
  },
  {
   "cell_type": "code",
   "execution_count": 16,
   "metadata": {},
   "outputs": [],
   "source": [
    "p <- joined_annotated_df %>% flip_check_plot(\n",
    "    gwas_df, \n",
    "    titlelab = str_replace_all(basename(meta_flipfixed_f), '^GLOBAL_|.sumstats.tsv$', ''), \n",
    "    xlab = 'Effect column from META file'\n",
    ")\n"
   ]
  },
  {
   "cell_type": "code",
   "execution_count": null,
   "metadata": {},
   "outputs": [],
   "source": []
  }
 ],
 "metadata": {
  "kernelspec": {
   "display_name": "R",
   "language": "R",
   "name": "ir"
  },
  "language_info": {
   "codemirror_mode": "r",
   "file_extension": ".r",
   "mimetype": "text/x-r-source",
   "name": "R",
   "pygments_lexer": "r",
   "version": "3.6.1"
  }
 },
 "nbformat": 4,
 "nbformat_minor": 4
}
