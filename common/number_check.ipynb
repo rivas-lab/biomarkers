{
 "cells": [
  {
   "cell_type": "code",
   "execution_count": 1,
   "metadata": {},
   "outputs": [],
   "source": [
    "suppressWarnings(suppressPackageStartupMessages({\n",
    "    library(tidyverse)\n",
    "    library(data.table)\n",
    "    library(googlesheets)\n",
    "}))\n"
   ]
  },
  {
   "cell_type": "code",
   "execution_count": 2,
   "metadata": {},
   "outputs": [
    {
     "name": "stderr",
     "output_type": "stream",
     "text": [
      "Auto-refreshing stale OAuth token.\n"
     ]
    }
   ],
   "source": [
    "gs_token <- \"/home/users/ytanigaw/.googlesheets_token.rds\"\n",
    "gs_auth(token = gs_token)\n"
   ]
  },
  {
   "cell_type": "code",
   "execution_count": 3,
   "metadata": {},
   "outputs": [],
   "source": [
    "# input\n",
    "ST_sheet <- 'https://docs.google.com/spreadsheets/d/1j8q1Y7wnMg9nWUm0iT4wJvFfg_hgIXbrtvxelqWHeH4' \n",
    "\n",
    "phe_info_f <- 'biomarker.phenotype.info.tsv'\n",
    "phe_f <- '@@@@@@/projects/biomarkers/covariate_corrected/outputExtendedNoTDIreduced/phenotypes/combined.20190810.phe'\n",
    "gwas_covar_f <- '@@@@@@/ukbb24983/sqc/population_stratification_w24983_20190809/ukb24983_GWAS_covar.20190809.phe'\n",
    "\n",
    "# output\n",
    "out_f <- 'number_check.tsv'\n"
   ]
  },
  {
   "cell_type": "markdown",
   "metadata": {},
   "source": [
    "## Read the input"
   ]
  },
  {
   "cell_type": "code",
   "execution_count": 4,
   "metadata": {},
   "outputs": [],
   "source": [
    "phe_info_df <- fread(phe_info_f) %>% rename('Phenotype'='name')"
   ]
  },
  {
   "cell_type": "code",
   "execution_count": 5,
   "metadata": {},
   "outputs": [],
   "source": [
    "phe_df <- fread(\n",
    "    phe_f, \n",
    "    select=c('FID', 'IID', phe_info_df %>% pull(annotation)), \n",
    "    colClasses=c('FID'='character', 'IID'='character')\n",
    ")\n"
   ]
  },
  {
   "cell_type": "code",
   "execution_count": 6,
   "metadata": {},
   "outputs": [],
   "source": [
    "gwas_covar_df <- fread(\n",
    "    gwas_covar_f, select=c('FID', 'IID', 'population'), \n",
    "    colClasses=c('FID'='character', 'IID'='character')\n",
    ") %>% drop_na(population)\n"
   ]
  },
  {
   "cell_type": "markdown",
   "metadata": {},
   "source": [
    "## count N for each phenotype across population"
   ]
  },
  {
   "cell_type": "code",
   "execution_count": 7,
   "metadata": {},
   "outputs": [
    {
     "name": "stderr",
     "output_type": "stream",
     "text": [
      "Joining, by = c(\"FID\", \"IID\")\n"
     ]
    }
   ],
   "source": [
    "phe_pop_df <- gwas_covar_df %>% left_join(phe_df)\n"
   ]
  },
  {
   "cell_type": "code",
   "execution_count": 8,
   "metadata": {},
   "outputs": [
    {
     "name": "stderr",
     "output_type": "stream",
     "text": [
      "Note: Using an external vector in selections is ambiguous.\n",
      "\u001b[34mℹ\u001b[39m Use `all_of(phe)` instead of `phe` to silence this message.\n",
      "\u001b[34mℹ\u001b[39m See <https://tidyselect.r-lib.org/reference/faq-external-vector.html>.\n",
      "\u001b[90mThis message is displayed once per session.\u001b[39m\n"
     ]
    }
   ],
   "source": [
    "non_NA_phe_cnt <- phe_info_df %>% pull(annotation) %>% lapply(function(phe){\n",
    "    phe_pop_df %>% select(population, phe) %>% drop_na(phe) %>% count(population) %>%\n",
    "    mutate(phenotype = phe)\n",
    "}) %>% bind_rows() %>% spread(population, n) %>%\n",
    "select(phenotype, white_british, non_british_white, african, s_asian, e_asian)\n"
   ]
  },
  {
   "cell_type": "markdown",
   "metadata": {},
   "source": [
    "## Number of associations\n"
   ]
  },
  {
   "cell_type": "code",
   "execution_count": 22,
   "metadata": {},
   "outputs": [],
   "source": [
    "suppressMessages(suppressWarnings({\n",
    "    PTV_hits <- ST_sheet %>% gs_url() %>%\n",
    "    gs_read(ws = 'ST6') %>% mutate(var_category='PTVs') %>%\n",
    "    rename('Phenotype'='Trait')\n",
    "\n",
    "    PAV_hits <- ST_sheet %>% gs_url() %>%\n",
    "    gs_read(ws = 'ST7') %>% mutate(var_category='PAVs') %>%\n",
    "    rename('Phenotype'='Trait')\n",
    "\n",
    "    non_coding_hits <- ST_sheet %>% gs_url() %>%\n",
    "    gs_read(ws = 'ST8') %>% mutate(var_category='non-coding') %>%\n",
    "    rename('Phenotype'='Trait')\n",
    "\n",
    "    HLA_hits <- ST_sheet %>% gs_url() %>%\n",
    "    gs_read(ws = 'ST9') %>% mutate(var_category='HLA')\n",
    "\n",
    "    CNV_hits <- ST_sheet %>% gs_url() %>%\n",
    "    gs_read(ws = 'ST10') %>%\n",
    "    mutate(var_category=if_else(Class == 'Single', 'CNV_single', 'CNV_burden')) %>%\n",
    "    rename('Phenotype'='Trait')\n",
    "}))\n"
   ]
  },
  {
   "cell_type": "code",
   "execution_count": 36,
   "metadata": {},
   "outputs": [],
   "source": [
    "hits_combined_df <- bind_rows(PTV_hits, PAV_hits, non_coding_hits) %>%\n",
    "bind_rows(\n",
    "    HLA_hits %>%\n",
    "    rename('ID'='HLA Allele', 'BETA' = 'PLINK Beta', 'P' = 'PLINK P'),\n",
    "\n",
    "    CNV_hits %>%\n",
    "    rename('ID'='MarkerName', 'BETA' = 'Effect', 'P' = 'P-value')\n",
    ")\n"
   ]
  },
  {
   "cell_type": "code",
   "execution_count": 38,
   "metadata": {},
   "outputs": [],
   "source": [
    "counts_all_df <- hits_combined_df %>%\n",
    "select(ID, Phenotype, BETA, P, var_category) %>%\n",
    "count(var_category, Phenotype) %>%\n",
    "spread(var_category, n, fill=0) %>%\n",
    "arrange(Phenotype) %>%\n",
    "select(Phenotype, PTVs, PAVs, `non-coding`, HLA, CNV_single, CNV_burden)\n"
   ]
  },
  {
   "cell_type": "code",
   "execution_count": 43,
   "metadata": {},
   "outputs": [],
   "source": [
    "count_full_df <- phe_info_df %>%\n",
    "left_join(\n",
    "    non_NA_phe_cnt, by=c('annotation'='phenotype')\n",
    ") %>%\n",
    "left_join(\n",
    "    counts_all_df, by='Phenotype'\n",
    ") %>%\n",
    "arrange(Phenotype) %>%\n",
    "mutate(\n",
    "    meta_N = white_british + non_british_white + african + s_asian,\n",
    "    N = meta_N + s_asian,\n",
    "    n_loci = PTVs + PAVs + `non-coding`\n",
    ")"
   ]
  },
  {
   "cell_type": "markdown",
   "metadata": {},
   "source": [
    "## save the results to a file"
   ]
  },
  {
   "cell_type": "code",
   "execution_count": 46,
   "metadata": {},
   "outputs": [],
   "source": [
    "count_full_df %>%\n",
    "select(\n",
    "    Phenotype, Abbreviation, 'Units of measurement', \n",
    "    'UKBB field ID', 'Statin adjustment', 'Trait category', 'GBE ID', \n",
    "    'N', 'white_british', 'non_british_white', 'african', 's_asian', 'e_asian', 'meta_N',\n",
    "    'n_loci', 'PTVs', 'PAVs', 'non-coding', 'HLA', 'CNV_single', 'CNV_burden',\n",
    "    'Color', 'GBE URL'\n",
    ") %>%\n",
    "fwrite(out_f, sep='\\t', na = \"NA\", quote=F)\n"
   ]
  },
  {
   "cell_type": "markdown",
   "metadata": {},
   "source": [
    "## total number of loci"
   ]
  },
  {
   "cell_type": "code",
   "execution_count": 49,
   "metadata": {},
   "outputs": [
    {
     "data": {
      "text/html": [
       "<table>\n",
       "<caption>A tibble: 6 × 2</caption>\n",
       "<thead>\n",
       "\t<tr><th scope=col>var_category</th><th scope=col>n</th></tr>\n",
       "\t<tr><th scope=col>&lt;chr&gt;</th><th scope=col>&lt;int&gt;</th></tr>\n",
       "</thead>\n",
       "<tbody>\n",
       "\t<tr><td>CNV_burden</td><td>  28</td></tr>\n",
       "\t<tr><td>CNV_single</td><td>  10</td></tr>\n",
       "\t<tr><td>HLA       </td><td>  31</td></tr>\n",
       "\t<tr><td>non-coding</td><td>5160</td></tr>\n",
       "\t<tr><td>PAVs      </td><td> 594</td></tr>\n",
       "\t<tr><td>PTVs      </td><td>  38</td></tr>\n",
       "</tbody>\n",
       "</table>\n"
      ],
      "text/latex": [
       "A tibble: 6 × 2\n",
       "\\begin{tabular}{ll}\n",
       " var\\_category & n\\\\\n",
       " <chr> & <int>\\\\\n",
       "\\hline\n",
       "\t CNV\\_burden &   28\\\\\n",
       "\t CNV\\_single &   10\\\\\n",
       "\t HLA        &   31\\\\\n",
       "\t non-coding & 5160\\\\\n",
       "\t PAVs       &  594\\\\\n",
       "\t PTVs       &   38\\\\\n",
       "\\end{tabular}\n"
      ],
      "text/markdown": [
       "\n",
       "A tibble: 6 × 2\n",
       "\n",
       "| var_category &lt;chr&gt; | n &lt;int&gt; |\n",
       "|---|---|\n",
       "| CNV_burden |   28 |\n",
       "| CNV_single |   10 |\n",
       "| HLA        |   31 |\n",
       "| non-coding | 5160 |\n",
       "| PAVs       |  594 |\n",
       "| PTVs       |   38 |\n",
       "\n"
      ],
      "text/plain": [
       "  var_category n   \n",
       "1 CNV_burden     28\n",
       "2 CNV_single     10\n",
       "3 HLA            31\n",
       "4 non-coding   5160\n",
       "5 PAVs          594\n",
       "6 PTVs           38"
      ]
     },
     "metadata": {},
     "output_type": "display_data"
    }
   ],
   "source": [
    "hits_combined_df %>%\n",
    "select(ID, var_category) %>%\n",
    "unique() %>%\n",
    "count(var_category)"
   ]
  },
  {
   "cell_type": "code",
   "execution_count": 50,
   "metadata": {},
   "outputs": [
    {
     "data": {
      "text/html": [
       "5792"
      ],
      "text/latex": [
       "5792"
      ],
      "text/markdown": [
       "5792"
      ],
      "text/plain": [
       "[1] 5792"
      ]
     },
     "metadata": {},
     "output_type": "display_data"
    }
   ],
   "source": [
    "38 + 594 + 5160"
   ]
  },
  {
   "cell_type": "markdown",
   "metadata": {},
   "source": [
    "### Number of large-effect associations (BETA > .1 sd)"
   ]
  },
  {
   "cell_type": "code",
   "execution_count": 52,
   "metadata": {},
   "outputs": [
    {
     "data": {
      "text/html": [
       "<table>\n",
       "<caption>A tibble: 37 × 6</caption>\n",
       "<thead>\n",
       "\t<tr><th scope=col>Phenotype</th><th scope=col>PTVs</th><th scope=col>PAVs</th><th scope=col>non-coding</th><th scope=col>CNV_single</th><th scope=col>CNV_burden</th></tr>\n",
       "\t<tr><th scope=col>&lt;chr&gt;</th><th scope=col>&lt;dbl&gt;</th><th scope=col>&lt;dbl&gt;</th><th scope=col>&lt;dbl&gt;</th><th scope=col>&lt;dbl&gt;</th><th scope=col>&lt;dbl&gt;</th></tr>\n",
       "</thead>\n",
       "<tbody>\n",
       "\t<tr><td>Alanine aminotransferase  </td><td>0</td><td> 8</td><td> 2</td><td>0</td><td>0</td></tr>\n",
       "\t<tr><td>Albumin                   </td><td>0</td><td> 7</td><td> 6</td><td>0</td><td>1</td></tr>\n",
       "\t<tr><td>Alkaline phosphatase      </td><td>3</td><td>30</td><td>37</td><td>0</td><td>3</td></tr>\n",
       "\t<tr><td>Apolipoprotein A          </td><td>3</td><td>27</td><td>25</td><td>0</td><td>1</td></tr>\n",
       "\t<tr><td>Apolipoprotein B          </td><td>1</td><td>32</td><td>60</td><td>0</td><td>0</td></tr>\n",
       "\t<tr><td>Aspartate aminotransferase</td><td>0</td><td> 7</td><td> 4</td><td>1</td><td>0</td></tr>\n",
       "\t<tr><td>AST to ALT ratio          </td><td>0</td><td>11</td><td> 1</td><td>0</td><td>0</td></tr>\n",
       "\t<tr><td>C reactive protein        </td><td>0</td><td> 0</td><td> 0</td><td>1</td><td>0</td></tr>\n",
       "\t<tr><td>C-reactive protein        </td><td>0</td><td> 7</td><td>33</td><td>0</td><td>0</td></tr>\n",
       "\t<tr><td>Calcium                   </td><td>0</td><td> 9</td><td> 4</td><td>0</td><td>0</td></tr>\n",
       "\t<tr><td>Cholesterol               </td><td>0</td><td>29</td><td>39</td><td>0</td><td>0</td></tr>\n",
       "\t<tr><td>Creatinine                </td><td>2</td><td>11</td><td> 1</td><td>0</td><td>2</td></tr>\n",
       "\t<tr><td>Cystatin C                </td><td>1</td><td> 8</td><td>21</td><td>2</td><td>7</td></tr>\n",
       "\t<tr><td>Direct bilirubin          </td><td>3</td><td>14</td><td>52</td><td>1</td><td>2</td></tr>\n",
       "\t<tr><td>eGFR                      </td><td>2</td><td>10</td><td> 1</td><td>0</td><td>2</td></tr>\n",
       "\t<tr><td>Gamma glutamyltransferase </td><td>3</td><td> 6</td><td>12</td><td>0</td><td>1</td></tr>\n",
       "\t<tr><td>Glucose                   </td><td>0</td><td> 5</td><td> 5</td><td>0</td><td>0</td></tr>\n",
       "\t<tr><td>Glycated haemoglobin HbA1c</td><td>0</td><td> 0</td><td> 0</td><td>1</td><td>2</td></tr>\n",
       "\t<tr><td>HbA1c                     </td><td>1</td><td>13</td><td>10</td><td>0</td><td>0</td></tr>\n",
       "\t<tr><td>HDL cholesterol           </td><td>5</td><td>32</td><td>22</td><td>0</td><td>2</td></tr>\n",
       "\t<tr><td>IGF                       </td><td>0</td><td> 0</td><td> 0</td><td>1</td><td>0</td></tr>\n",
       "\t<tr><td>IGF-1                     </td><td>1</td><td>11</td><td> 3</td><td>0</td><td>0</td></tr>\n",
       "\t<tr><td>LDL cholesterol           </td><td>0</td><td>28</td><td>49</td><td>0</td><td>0</td></tr>\n",
       "\t<tr><td>Lipoprotein A             </td><td>4</td><td>22</td><td>78</td><td>0</td><td>0</td></tr>\n",
       "\t<tr><td>Microalbumin in urine     </td><td>1</td><td> 2</td><td> 0</td><td>0</td><td>0</td></tr>\n",
       "\t<tr><td>Non albumin protein       </td><td>0</td><td> 0</td><td> 0</td><td>1</td><td>3</td></tr>\n",
       "\t<tr><td>Non-albumin protein       </td><td>1</td><td> 6</td><td> 9</td><td>0</td><td>0</td></tr>\n",
       "\t<tr><td>Phosphate                 </td><td>0</td><td> 8</td><td> 6</td><td>0</td><td>0</td></tr>\n",
       "\t<tr><td>SHBG                      </td><td>0</td><td>14</td><td>20</td><td>0</td><td>0</td></tr>\n",
       "\t<tr><td>Sodium in urine           </td><td>0</td><td> 1</td><td> 1</td><td>1</td><td>0</td></tr>\n",
       "\t<tr><td>Testosterone              </td><td>1</td><td> 3</td><td> 4</td><td>0</td><td>0</td></tr>\n",
       "\t<tr><td>Total bilirubin           </td><td>3</td><td>19</td><td>59</td><td>1</td><td>1</td></tr>\n",
       "\t<tr><td>Total protein             </td><td>0</td><td> 7</td><td> 8</td><td>0</td><td>2</td></tr>\n",
       "\t<tr><td>Triglycerides             </td><td>4</td><td>16</td><td>17</td><td>0</td><td>0</td></tr>\n",
       "\t<tr><td>Urate                     </td><td>3</td><td>14</td><td>49</td><td>1</td><td>1</td></tr>\n",
       "\t<tr><td>Urea                      </td><td>0</td><td> 3</td><td> 2</td><td>0</td><td>1</td></tr>\n",
       "\t<tr><td>Vitamin D                 </td><td>3</td><td> 2</td><td> 8</td><td>0</td><td>1</td></tr>\n",
       "</tbody>\n",
       "</table>\n"
      ],
      "text/latex": [
       "A tibble: 37 × 6\n",
       "\\begin{tabular}{llllll}\n",
       " Phenotype & PTVs & PAVs & non-coding & CNV\\_single & CNV\\_burden\\\\\n",
       " <chr> & <dbl> & <dbl> & <dbl> & <dbl> & <dbl>\\\\\n",
       "\\hline\n",
       "\t Alanine aminotransferase   & 0 &  8 &  2 & 0 & 0\\\\\n",
       "\t Albumin                    & 0 &  7 &  6 & 0 & 1\\\\\n",
       "\t Alkaline phosphatase       & 3 & 30 & 37 & 0 & 3\\\\\n",
       "\t Apolipoprotein A           & 3 & 27 & 25 & 0 & 1\\\\\n",
       "\t Apolipoprotein B           & 1 & 32 & 60 & 0 & 0\\\\\n",
       "\t Aspartate aminotransferase & 0 &  7 &  4 & 1 & 0\\\\\n",
       "\t AST to ALT ratio           & 0 & 11 &  1 & 0 & 0\\\\\n",
       "\t C reactive protein         & 0 &  0 &  0 & 1 & 0\\\\\n",
       "\t C-reactive protein         & 0 &  7 & 33 & 0 & 0\\\\\n",
       "\t Calcium                    & 0 &  9 &  4 & 0 & 0\\\\\n",
       "\t Cholesterol                & 0 & 29 & 39 & 0 & 0\\\\\n",
       "\t Creatinine                 & 2 & 11 &  1 & 0 & 2\\\\\n",
       "\t Cystatin C                 & 1 &  8 & 21 & 2 & 7\\\\\n",
       "\t Direct bilirubin           & 3 & 14 & 52 & 1 & 2\\\\\n",
       "\t eGFR                       & 2 & 10 &  1 & 0 & 2\\\\\n",
       "\t Gamma glutamyltransferase  & 3 &  6 & 12 & 0 & 1\\\\\n",
       "\t Glucose                    & 0 &  5 &  5 & 0 & 0\\\\\n",
       "\t Glycated haemoglobin HbA1c & 0 &  0 &  0 & 1 & 2\\\\\n",
       "\t HbA1c                      & 1 & 13 & 10 & 0 & 0\\\\\n",
       "\t HDL cholesterol            & 5 & 32 & 22 & 0 & 2\\\\\n",
       "\t IGF                        & 0 &  0 &  0 & 1 & 0\\\\\n",
       "\t IGF-1                      & 1 & 11 &  3 & 0 & 0\\\\\n",
       "\t LDL cholesterol            & 0 & 28 & 49 & 0 & 0\\\\\n",
       "\t Lipoprotein A              & 4 & 22 & 78 & 0 & 0\\\\\n",
       "\t Microalbumin in urine      & 1 &  2 &  0 & 0 & 0\\\\\n",
       "\t Non albumin protein        & 0 &  0 &  0 & 1 & 3\\\\\n",
       "\t Non-albumin protein        & 1 &  6 &  9 & 0 & 0\\\\\n",
       "\t Phosphate                  & 0 &  8 &  6 & 0 & 0\\\\\n",
       "\t SHBG                       & 0 & 14 & 20 & 0 & 0\\\\\n",
       "\t Sodium in urine            & 0 &  1 &  1 & 1 & 0\\\\\n",
       "\t Testosterone               & 1 &  3 &  4 & 0 & 0\\\\\n",
       "\t Total bilirubin            & 3 & 19 & 59 & 1 & 1\\\\\n",
       "\t Total protein              & 0 &  7 &  8 & 0 & 2\\\\\n",
       "\t Triglycerides              & 4 & 16 & 17 & 0 & 0\\\\\n",
       "\t Urate                      & 3 & 14 & 49 & 1 & 1\\\\\n",
       "\t Urea                       & 0 &  3 &  2 & 0 & 1\\\\\n",
       "\t Vitamin D                  & 3 &  2 &  8 & 0 & 1\\\\\n",
       "\\end{tabular}\n"
      ],
      "text/markdown": [
       "\n",
       "A tibble: 37 × 6\n",
       "\n",
       "| Phenotype &lt;chr&gt; | PTVs &lt;dbl&gt; | PAVs &lt;dbl&gt; | non-coding &lt;dbl&gt; | CNV_single &lt;dbl&gt; | CNV_burden &lt;dbl&gt; |\n",
       "|---|---|---|---|---|---|\n",
       "| Alanine aminotransferase   | 0 |  8 |  2 | 0 | 0 |\n",
       "| Albumin                    | 0 |  7 |  6 | 0 | 1 |\n",
       "| Alkaline phosphatase       | 3 | 30 | 37 | 0 | 3 |\n",
       "| Apolipoprotein A           | 3 | 27 | 25 | 0 | 1 |\n",
       "| Apolipoprotein B           | 1 | 32 | 60 | 0 | 0 |\n",
       "| Aspartate aminotransferase | 0 |  7 |  4 | 1 | 0 |\n",
       "| AST to ALT ratio           | 0 | 11 |  1 | 0 | 0 |\n",
       "| C reactive protein         | 0 |  0 |  0 | 1 | 0 |\n",
       "| C-reactive protein         | 0 |  7 | 33 | 0 | 0 |\n",
       "| Calcium                    | 0 |  9 |  4 | 0 | 0 |\n",
       "| Cholesterol                | 0 | 29 | 39 | 0 | 0 |\n",
       "| Creatinine                 | 2 | 11 |  1 | 0 | 2 |\n",
       "| Cystatin C                 | 1 |  8 | 21 | 2 | 7 |\n",
       "| Direct bilirubin           | 3 | 14 | 52 | 1 | 2 |\n",
       "| eGFR                       | 2 | 10 |  1 | 0 | 2 |\n",
       "| Gamma glutamyltransferase  | 3 |  6 | 12 | 0 | 1 |\n",
       "| Glucose                    | 0 |  5 |  5 | 0 | 0 |\n",
       "| Glycated haemoglobin HbA1c | 0 |  0 |  0 | 1 | 2 |\n",
       "| HbA1c                      | 1 | 13 | 10 | 0 | 0 |\n",
       "| HDL cholesterol            | 5 | 32 | 22 | 0 | 2 |\n",
       "| IGF                        | 0 |  0 |  0 | 1 | 0 |\n",
       "| IGF-1                      | 1 | 11 |  3 | 0 | 0 |\n",
       "| LDL cholesterol            | 0 | 28 | 49 | 0 | 0 |\n",
       "| Lipoprotein A              | 4 | 22 | 78 | 0 | 0 |\n",
       "| Microalbumin in urine      | 1 |  2 |  0 | 0 | 0 |\n",
       "| Non albumin protein        | 0 |  0 |  0 | 1 | 3 |\n",
       "| Non-albumin protein        | 1 |  6 |  9 | 0 | 0 |\n",
       "| Phosphate                  | 0 |  8 |  6 | 0 | 0 |\n",
       "| SHBG                       | 0 | 14 | 20 | 0 | 0 |\n",
       "| Sodium in urine            | 0 |  1 |  1 | 1 | 0 |\n",
       "| Testosterone               | 1 |  3 |  4 | 0 | 0 |\n",
       "| Total bilirubin            | 3 | 19 | 59 | 1 | 1 |\n",
       "| Total protein              | 0 |  7 |  8 | 0 | 2 |\n",
       "| Triglycerides              | 4 | 16 | 17 | 0 | 0 |\n",
       "| Urate                      | 3 | 14 | 49 | 1 | 1 |\n",
       "| Urea                       | 0 |  3 |  2 | 0 | 1 |\n",
       "| Vitamin D                  | 3 |  2 |  8 | 0 | 1 |\n",
       "\n"
      ],
      "text/plain": [
       "   Phenotype                  PTVs PAVs non-coding CNV_single CNV_burden\n",
       "1  Alanine aminotransferase   0     8    2         0          0         \n",
       "2  Albumin                    0     7    6         0          1         \n",
       "3  Alkaline phosphatase       3    30   37         0          3         \n",
       "4  Apolipoprotein A           3    27   25         0          1         \n",
       "5  Apolipoprotein B           1    32   60         0          0         \n",
       "6  Aspartate aminotransferase 0     7    4         1          0         \n",
       "7  AST to ALT ratio           0    11    1         0          0         \n",
       "8  C reactive protein         0     0    0         1          0         \n",
       "9  C-reactive protein         0     7   33         0          0         \n",
       "10 Calcium                    0     9    4         0          0         \n",
       "11 Cholesterol                0    29   39         0          0         \n",
       "12 Creatinine                 2    11    1         0          2         \n",
       "13 Cystatin C                 1     8   21         2          7         \n",
       "14 Direct bilirubin           3    14   52         1          2         \n",
       "15 eGFR                       2    10    1         0          2         \n",
       "16 Gamma glutamyltransferase  3     6   12         0          1         \n",
       "17 Glucose                    0     5    5         0          0         \n",
       "18 Glycated haemoglobin HbA1c 0     0    0         1          2         \n",
       "19 HbA1c                      1    13   10         0          0         \n",
       "20 HDL cholesterol            5    32   22         0          2         \n",
       "21 IGF                        0     0    0         1          0         \n",
       "22 IGF-1                      1    11    3         0          0         \n",
       "23 LDL cholesterol            0    28   49         0          0         \n",
       "24 Lipoprotein A              4    22   78         0          0         \n",
       "25 Microalbumin in urine      1     2    0         0          0         \n",
       "26 Non albumin protein        0     0    0         1          3         \n",
       "27 Non-albumin protein        1     6    9         0          0         \n",
       "28 Phosphate                  0     8    6         0          0         \n",
       "29 SHBG                       0    14   20         0          0         \n",
       "30 Sodium in urine            0     1    1         1          0         \n",
       "31 Testosterone               1     3    4         0          0         \n",
       "32 Total bilirubin            3    19   59         1          1         \n",
       "33 Total protein              0     7    8         0          2         \n",
       "34 Triglycerides              4    16   17         0          0         \n",
       "35 Urate                      3    14   49         1          1         \n",
       "36 Urea                       0     3    2         0          1         \n",
       "37 Vitamin D                  3     2    8         0          1         "
      ]
     },
     "metadata": {},
     "output_type": "display_data"
    }
   ],
   "source": [
    "hits_combined_df %>%\n",
    "filter(abs(BETA) > .1) %>%\n",
    "select(ID, Phenotype, BETA, P, var_category) %>%\n",
    "count(var_category, Phenotype) %>%\n",
    "spread(var_category, n, fill=0) %>%\n",
    "arrange(Phenotype) %>%\n",
    "select(Phenotype, PTVs, PAVs, `non-coding`, CNV_single, CNV_burden)"
   ]
  },
  {
   "cell_type": "code",
   "execution_count": 53,
   "metadata": {},
   "outputs": [
    {
     "data": {
      "text/html": [
       "<table>\n",
       "<caption>A tibble: 5 × 2</caption>\n",
       "<thead>\n",
       "\t<tr><th scope=col>var_category</th><th scope=col>n</th></tr>\n",
       "\t<tr><th scope=col>&lt;chr&gt;</th><th scope=col>&lt;int&gt;</th></tr>\n",
       "</thead>\n",
       "<tbody>\n",
       "\t<tr><td>CNV_burden</td><td> 32</td></tr>\n",
       "\t<tr><td>CNV_single</td><td> 11</td></tr>\n",
       "\t<tr><td>non-coding</td><td>648</td></tr>\n",
       "\t<tr><td>PAVs      </td><td>422</td></tr>\n",
       "\t<tr><td>PTVs      </td><td> 45</td></tr>\n",
       "</tbody>\n",
       "</table>\n"
      ],
      "text/latex": [
       "A tibble: 5 × 2\n",
       "\\begin{tabular}{ll}\n",
       " var\\_category & n\\\\\n",
       " <chr> & <int>\\\\\n",
       "\\hline\n",
       "\t CNV\\_burden &  32\\\\\n",
       "\t CNV\\_single &  11\\\\\n",
       "\t non-coding & 648\\\\\n",
       "\t PAVs       & 422\\\\\n",
       "\t PTVs       &  45\\\\\n",
       "\\end{tabular}\n"
      ],
      "text/markdown": [
       "\n",
       "A tibble: 5 × 2\n",
       "\n",
       "| var_category &lt;chr&gt; | n &lt;int&gt; |\n",
       "|---|---|\n",
       "| CNV_burden |  32 |\n",
       "| CNV_single |  11 |\n",
       "| non-coding | 648 |\n",
       "| PAVs       | 422 |\n",
       "| PTVs       |  45 |\n",
       "\n"
      ],
      "text/plain": [
       "  var_category n  \n",
       "1 CNV_burden    32\n",
       "2 CNV_single    11\n",
       "3 non-coding   648\n",
       "4 PAVs         422\n",
       "5 PTVs          45"
      ]
     },
     "metadata": {},
     "output_type": "display_data"
    }
   ],
   "source": [
    "hits_combined_df %>%\n",
    "filter(abs(BETA) > .1) %>%\n",
    "count(var_category)"
   ]
  },
  {
   "cell_type": "code",
   "execution_count": 54,
   "metadata": {},
   "outputs": [
    {
     "data": {
      "text/html": [
       "1158"
      ],
      "text/latex": [
       "1158"
      ],
      "text/markdown": [
       "1158"
      ],
      "text/plain": [
       "[1] 1158"
      ]
     },
     "metadata": {},
     "output_type": "display_data"
    }
   ],
   "source": [
    "45 + 422+ 648 + 0 + 11 + 32"
   ]
  },
  {
   "cell_type": "code",
   "execution_count": null,
   "metadata": {},
   "outputs": [],
   "source": []
  },
  {
   "cell_type": "code",
   "execution_count": 60,
   "metadata": {},
   "outputs": [
    {
     "data": {
      "text/html": [
       "<table>\n",
       "<caption>A tibble: 3 × 2</caption>\n",
       "<thead>\n",
       "\t<tr><th scope=col>var_category</th><th scope=col>n</th></tr>\n",
       "\t<tr><th scope=col>&lt;chr&gt;</th><th scope=col>&lt;int&gt;</th></tr>\n",
       "</thead>\n",
       "<tbody>\n",
       "\t<tr><td>non-coding</td><td> 75</td></tr>\n",
       "\t<tr><td>PAVs      </td><td>192</td></tr>\n",
       "\t<tr><td>PTVs      </td><td> 28</td></tr>\n",
       "</tbody>\n",
       "</table>\n"
      ],
      "text/latex": [
       "A tibble: 3 × 2\n",
       "\\begin{tabular}{ll}\n",
       " var\\_category & n\\\\\n",
       " <chr> & <int>\\\\\n",
       "\\hline\n",
       "\t non-coding &  75\\\\\n",
       "\t PAVs       & 192\\\\\n",
       "\t PTVs       &  28\\\\\n",
       "\\end{tabular}\n"
      ],
      "text/markdown": [
       "\n",
       "A tibble: 3 × 2\n",
       "\n",
       "| var_category &lt;chr&gt; | n &lt;int&gt; |\n",
       "|---|---|\n",
       "| non-coding |  75 |\n",
       "| PAVs       | 192 |\n",
       "| PTVs       |  28 |\n",
       "\n"
      ],
      "text/plain": [
       "  var_category n  \n",
       "1 non-coding    75\n",
       "2 PAVs         192\n",
       "3 PTVs          28"
      ]
     },
     "metadata": {},
     "output_type": "display_data"
    }
   ],
   "source": [
    "hits_combined_df %>%\n",
    "filter(MAF < 0.01) %>%\n",
    "select(ID, var_category) %>%\n",
    "unique() %>%\n",
    "count(var_category)"
   ]
  },
  {
   "cell_type": "code",
   "execution_count": 63,
   "metadata": {},
   "outputs": [
    {
     "data": {
      "text/html": [
       "<style>\n",
       ".list-inline {list-style: none; margin:0; padding: 0}\n",
       ".list-inline>li {display: inline-block}\n",
       ".list-inline>li:not(:last-child)::after {content: \"\\00b7\"; padding: 0 .5ex}\n",
       "</style>\n",
       "<ol class=list-inline><li>31</li><li>1</li></ol>\n"
      ],
      "text/latex": [
       "\\begin{enumerate*}\n",
       "\\item 31\n",
       "\\item 1\n",
       "\\end{enumerate*}\n"
      ],
      "text/markdown": [
       "1. 31\n",
       "2. 1\n",
       "\n",
       "\n"
      ],
      "text/plain": [
       "[1] 31  1"
      ]
     },
     "metadata": {},
     "output_type": "display_data"
    }
   ],
   "source": [
    "hits_combined_df %>%\n",
    "filter(var_category == \"HLA\") %>%\n",
    "select(ID) %>%\n",
    "unique() %>%\n",
    "dim()"
   ]
  },
  {
   "cell_type": "code",
   "execution_count": 68,
   "metadata": {},
   "outputs": [
    {
     "data": {
      "text/html": [
       "<style>\n",
       ".list-inline {list-style: none; margin:0; padding: 0}\n",
       ".list-inline>li {display: inline-block}\n",
       ".list-inline>li:not(:last-child)::after {content: \"\\00b7\"; padding: 0 .5ex}\n",
       "</style>\n",
       "<ol class=list-inline><li>10</li><li>1</li></ol>\n"
      ],
      "text/latex": [
       "\\begin{enumerate*}\n",
       "\\item 10\n",
       "\\item 1\n",
       "\\end{enumerate*}\n"
      ],
      "text/markdown": [
       "1. 10\n",
       "2. 1\n",
       "\n",
       "\n"
      ],
      "text/plain": [
       "[1] 10  1"
      ]
     },
     "metadata": {},
     "output_type": "display_data"
    }
   ],
   "source": [
    "hits_combined_df %>%\n",
    "filter(var_category == \"CNV_single\") %>%\n",
    "select(ID) %>%\n",
    "unique() %>%\n",
    "dim()"
   ]
  },
  {
   "cell_type": "code",
   "execution_count": 69,
   "metadata": {},
   "outputs": [
    {
     "data": {
      "text/html": [
       "<style>\n",
       ".list-inline {list-style: none; margin:0; padding: 0}\n",
       ".list-inline>li {display: inline-block}\n",
       ".list-inline>li:not(:last-child)::after {content: \"\\00b7\"; padding: 0 .5ex}\n",
       "</style>\n",
       "<ol class=list-inline><li>28</li><li>1</li></ol>\n"
      ],
      "text/latex": [
       "\\begin{enumerate*}\n",
       "\\item 28\n",
       "\\item 1\n",
       "\\end{enumerate*}\n"
      ],
      "text/markdown": [
       "1. 28\n",
       "2. 1\n",
       "\n",
       "\n"
      ],
      "text/plain": [
       "[1] 28  1"
      ]
     },
     "metadata": {},
     "output_type": "display_data"
    }
   ],
   "source": [
    "hits_combined_df %>%\n",
    "filter(var_category == \"CNV_burden\") %>%\n",
    "select(ID) %>%\n",
    "unique() %>%\n",
    "dim()"
   ]
  },
  {
   "cell_type": "code",
   "execution_count": null,
   "metadata": {},
   "outputs": [],
   "source": []
  }
 ],
 "metadata": {
  "kernelspec": {
   "display_name": "R",
   "language": "R",
   "name": "ir"
  },
  "language_info": {
   "codemirror_mode": "r",
   "file_extension": ".r",
   "mimetype": "text/x-r-source",
   "name": "R",
   "pygments_lexer": "r",
   "version": "3.6.1"
  }
 },
 "nbformat": 4,
 "nbformat_minor": 4
}
