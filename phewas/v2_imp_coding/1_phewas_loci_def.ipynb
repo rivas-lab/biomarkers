{
 "cells": [
  {
   "cell_type": "code",
   "execution_count": 1,
   "metadata": {},
   "outputs": [],
   "source": [
    "suppressPackageStartupMessages(library(tidyverse))\n",
    "suppressPackageStartupMessages(library(data.table))\n"
   ]
  },
  {
   "cell_type": "code",
   "execution_count": 2,
   "metadata": {},
   "outputs": [],
   "source": [
    "data_dir <- '@@@@@@/projects/biomarkers/phewas/v2_imp'"
   ]
  },
  {
   "cell_type": "code",
   "execution_count": 3,
   "metadata": {},
   "outputs": [],
   "source": [
    "hits <- '@@@@@@/users/ytanigaw/repos/rivas-lab/biomarkers/fine_mapping/filtered_hits/filtered.hits.99.anno.joined.tsv'\n"
   ]
  },
  {
   "cell_type": "code",
   "execution_count": 4,
   "metadata": {},
   "outputs": [],
   "source": [
    "df <- fread(hits)"
   ]
  },
  {
   "cell_type": "code",
   "execution_count": 5,
   "metadata": {},
   "outputs": [
    {
     "data": {
      "text/html": [
       "<ol class=list-inline>\n",
       "\t<li>'chromosome'</li>\n",
       "\t<li>'position'</li>\n",
       "\t<li>'trait'</li>\n",
       "\t<li>'region'</li>\n",
       "\t<li>'index'</li>\n",
       "\t<li>'rsid'</li>\n",
       "\t<li>'allele1'</li>\n",
       "\t<li>'allele2'</li>\n",
       "\t<li>'maf'</li>\n",
       "\t<li>'beta'</li>\n",
       "\t<li>'se'</li>\n",
       "\t<li>'z'</li>\n",
       "\t<li>'prob'</li>\n",
       "\t<li>'log10bf'</li>\n",
       "\t<li>'mean'</li>\n",
       "\t<li>'sd'</li>\n",
       "\t<li>'mean_incl'</li>\n",
       "\t<li>'sd_incl'</li>\n",
       "\t<li>'REF'</li>\n",
       "\t<li>'ALT'</li>\n",
       "\t<li>'ID'</li>\n",
       "\t<li>'Gene'</li>\n",
       "\t<li>'Consequence'</li>\n",
       "\t<li>'HGVSp'</li>\n",
       "\t<li>'LoF'</li>\n",
       "\t<li>'LoF_filter'</li>\n",
       "\t<li>'LoF_flags'</li>\n",
       "\t<li>'LoF_info'</li>\n",
       "\t<li>'consequence_field'</li>\n",
       "\t<li>'Gene_symbol'</li>\n",
       "</ol>\n"
      ],
      "text/latex": [
       "\\begin{enumerate*}\n",
       "\\item 'chromosome'\n",
       "\\item 'position'\n",
       "\\item 'trait'\n",
       "\\item 'region'\n",
       "\\item 'index'\n",
       "\\item 'rsid'\n",
       "\\item 'allele1'\n",
       "\\item 'allele2'\n",
       "\\item 'maf'\n",
       "\\item 'beta'\n",
       "\\item 'se'\n",
       "\\item 'z'\n",
       "\\item 'prob'\n",
       "\\item 'log10bf'\n",
       "\\item 'mean'\n",
       "\\item 'sd'\n",
       "\\item 'mean\\_incl'\n",
       "\\item 'sd\\_incl'\n",
       "\\item 'REF'\n",
       "\\item 'ALT'\n",
       "\\item 'ID'\n",
       "\\item 'Gene'\n",
       "\\item 'Consequence'\n",
       "\\item 'HGVSp'\n",
       "\\item 'LoF'\n",
       "\\item 'LoF\\_filter'\n",
       "\\item 'LoF\\_flags'\n",
       "\\item 'LoF\\_info'\n",
       "\\item 'consequence\\_field'\n",
       "\\item 'Gene\\_symbol'\n",
       "\\end{enumerate*}\n"
      ],
      "text/markdown": [
       "1. 'chromosome'\n",
       "2. 'position'\n",
       "3. 'trait'\n",
       "4. 'region'\n",
       "5. 'index'\n",
       "6. 'rsid'\n",
       "7. 'allele1'\n",
       "8. 'allele2'\n",
       "9. 'maf'\n",
       "10. 'beta'\n",
       "11. 'se'\n",
       "12. 'z'\n",
       "13. 'prob'\n",
       "14. 'log10bf'\n",
       "15. 'mean'\n",
       "16. 'sd'\n",
       "17. 'mean_incl'\n",
       "18. 'sd_incl'\n",
       "19. 'REF'\n",
       "20. 'ALT'\n",
       "21. 'ID'\n",
       "22. 'Gene'\n",
       "23. 'Consequence'\n",
       "24. 'HGVSp'\n",
       "25. 'LoF'\n",
       "26. 'LoF_filter'\n",
       "27. 'LoF_flags'\n",
       "28. 'LoF_info'\n",
       "29. 'consequence_field'\n",
       "30. 'Gene_symbol'\n",
       "\n",
       "\n"
      ],
      "text/plain": [
       " [1] \"chromosome\"        \"position\"          \"trait\"            \n",
       " [4] \"region\"            \"index\"             \"rsid\"             \n",
       " [7] \"allele1\"           \"allele2\"           \"maf\"              \n",
       "[10] \"beta\"              \"se\"                \"z\"                \n",
       "[13] \"prob\"              \"log10bf\"           \"mean\"             \n",
       "[16] \"sd\"                \"mean_incl\"         \"sd_incl\"          \n",
       "[19] \"REF\"               \"ALT\"               \"ID\"               \n",
       "[22] \"Gene\"              \"Consequence\"       \"HGVSp\"            \n",
       "[25] \"LoF\"               \"LoF_filter\"        \"LoF_flags\"        \n",
       "[28] \"LoF_info\"          \"consequence_field\" \"Gene_symbol\"      "
      ]
     },
     "metadata": {},
     "output_type": "display_data"
    }
   ],
   "source": [
    "df %>% colnames()"
   ]
  },
  {
   "cell_type": "code",
   "execution_count": 6,
   "metadata": {},
   "outputs": [
    {
     "data": {
      "text/html": [
       "<table>\n",
       "<caption>A tibble: 15 × 2</caption>\n",
       "<thead>\n",
       "\t<tr><th scope=col>Consequence</th><th scope=col>n</th></tr>\n",
       "\t<tr><th scope=col>&lt;chr&gt;</th><th scope=col>&lt;int&gt;</th></tr>\n",
       "</thead>\n",
       "<tbody>\n",
       "\t<tr><td>3_prime_UTR_variant               </td><td> 134</td></tr>\n",
       "\t<tr><td>5_prime_UTR_variant               </td><td>  51</td></tr>\n",
       "\t<tr><td>downstream_gene_variant           </td><td> 186</td></tr>\n",
       "\t<tr><td>inframe_deletion                  </td><td>   9</td></tr>\n",
       "\t<tr><td>intergenic_variant                </td><td> 486</td></tr>\n",
       "\t<tr><td>intron_variant                    </td><td>1920</td></tr>\n",
       "\t<tr><td>missense_variant                  </td><td>  68</td></tr>\n",
       "\t<tr><td>non_coding_transcript_exon_variant</td><td> 124</td></tr>\n",
       "\t<tr><td>regulatory_region_variant         </td><td>  91</td></tr>\n",
       "\t<tr><td>splice_acceptor_variant           </td><td>   2</td></tr>\n",
       "\t<tr><td>splice_region_variant             </td><td>  13</td></tr>\n",
       "\t<tr><td>stop_gained                       </td><td>   3</td></tr>\n",
       "\t<tr><td>synonymous_variant                </td><td>  53</td></tr>\n",
       "\t<tr><td>TF_binding_site_variant           </td><td>   1</td></tr>\n",
       "\t<tr><td>upstream_gene_variant             </td><td> 293</td></tr>\n",
       "</tbody>\n",
       "</table>\n"
      ],
      "text/latex": [
       "A tibble: 15 × 2\n",
       "\\begin{tabular}{r|ll}\n",
       " Consequence & n\\\\\n",
       " <chr> & <int>\\\\\n",
       "\\hline\n",
       "\t 3\\_prime\\_UTR\\_variant                &  134\\\\\n",
       "\t 5\\_prime\\_UTR\\_variant                &   51\\\\\n",
       "\t downstream\\_gene\\_variant            &  186\\\\\n",
       "\t inframe\\_deletion                   &    9\\\\\n",
       "\t intergenic\\_variant                 &  486\\\\\n",
       "\t intron\\_variant                     & 1920\\\\\n",
       "\t missense\\_variant                   &   68\\\\\n",
       "\t non\\_coding\\_transcript\\_exon\\_variant &  124\\\\\n",
       "\t regulatory\\_region\\_variant          &   91\\\\\n",
       "\t splice\\_acceptor\\_variant            &    2\\\\\n",
       "\t splice\\_region\\_variant              &   13\\\\\n",
       "\t stop\\_gained                        &    3\\\\\n",
       "\t synonymous\\_variant                 &   53\\\\\n",
       "\t TF\\_binding\\_site\\_variant            &    1\\\\\n",
       "\t upstream\\_gene\\_variant              &  293\\\\\n",
       "\\end{tabular}\n"
      ],
      "text/markdown": [
       "\n",
       "A tibble: 15 × 2\n",
       "\n",
       "| Consequence &lt;chr&gt; | n &lt;int&gt; |\n",
       "|---|---|\n",
       "| 3_prime_UTR_variant                |  134 |\n",
       "| 5_prime_UTR_variant                |   51 |\n",
       "| downstream_gene_variant            |  186 |\n",
       "| inframe_deletion                   |    9 |\n",
       "| intergenic_variant                 |  486 |\n",
       "| intron_variant                     | 1920 |\n",
       "| missense_variant                   |   68 |\n",
       "| non_coding_transcript_exon_variant |  124 |\n",
       "| regulatory_region_variant          |   91 |\n",
       "| splice_acceptor_variant            |    2 |\n",
       "| splice_region_variant              |   13 |\n",
       "| stop_gained                        |    3 |\n",
       "| synonymous_variant                 |   53 |\n",
       "| TF_binding_site_variant            |    1 |\n",
       "| upstream_gene_variant              |  293 |\n",
       "\n"
      ],
      "text/plain": [
       "   Consequence                        n   \n",
       "1  3_prime_UTR_variant                 134\n",
       "2  5_prime_UTR_variant                  51\n",
       "3  downstream_gene_variant             186\n",
       "4  inframe_deletion                      9\n",
       "5  intergenic_variant                  486\n",
       "6  intron_variant                     1920\n",
       "7  missense_variant                     68\n",
       "8  non_coding_transcript_exon_variant  124\n",
       "9  regulatory_region_variant            91\n",
       "10 splice_acceptor_variant               2\n",
       "11 splice_region_variant                13\n",
       "12 stop_gained                           3\n",
       "13 synonymous_variant                   53\n",
       "14 TF_binding_site_variant               1\n",
       "15 upstream_gene_variant               293"
      ]
     },
     "metadata": {},
     "output_type": "display_data"
    }
   ],
   "source": [
    "df %>% count(Consequence)"
   ]
  },
  {
   "cell_type": "code",
   "execution_count": 22,
   "metadata": {},
   "outputs": [],
   "source": [
    "df_coding <- df %>% filter(\n",
    "    Consequence %in% c('missense_variant', 'stop_gained'),\n",
    "    maf > 0.01\n",
    ") "
   ]
  },
  {
   "cell_type": "code",
   "execution_count": 8,
   "metadata": {},
   "outputs": [],
   "source": [
    "df_coding %>%\n",
    "fwrite(file.path(data_dir, 'finemapped.hits.tsv'), sep='\\t')\n"
   ]
  },
  {
   "cell_type": "code",
   "execution_count": 9,
   "metadata": {},
   "outputs": [
    {
     "data": {
      "text/html": [
       "'@@@@@@/projects/biomarkers/phewas/v2_imp/finemapped.hits.tsv'"
      ],
      "text/latex": [
       "'@@@@@@/projects/biomarkers/phewas/v2\\_imp/finemapped.hits.tsv'"
      ],
      "text/markdown": [
       "'@@@@@@/projects/biomarkers/phewas/v2_imp/finemapped.hits.tsv'"
      ],
      "text/plain": [
       "[1] \"@@@@@@/projects/biomarkers/phewas/v2_imp/finemapped.hits.tsv\""
      ]
     },
     "metadata": {},
     "output_type": "display_data"
    }
   ],
   "source": [
    "file.path(data_dir, 'finemapped.hits.tsv')"
   ]
  },
  {
   "cell_type": "code",
   "execution_count": 23,
   "metadata": {},
   "outputs": [
    {
     "data": {
      "text/html": [
       "<ol class=list-inline>\n",
       "\t<li>71</li>\n",
       "\t<li>30</li>\n",
       "</ol>\n"
      ],
      "text/latex": [
       "\\begin{enumerate*}\n",
       "\\item 71\n",
       "\\item 30\n",
       "\\end{enumerate*}\n"
      ],
      "text/markdown": [
       "1. 71\n",
       "2. 30\n",
       "\n",
       "\n"
      ],
      "text/plain": [
       "[1] 71 30"
      ]
     },
     "metadata": {},
     "output_type": "display_data"
    }
   ],
   "source": [
    "df_coding %>% dim()"
   ]
  },
  {
   "cell_type": "code",
   "execution_count": 11,
   "metadata": {},
   "outputs": [
    {
     "data": {
      "text/html": [
       "<ol class=list-inline>\n",
       "\t<li>47</li>\n",
       "\t<li>5</li>\n",
       "</ol>\n"
      ],
      "text/latex": [
       "\\begin{enumerate*}\n",
       "\\item 47\n",
       "\\item 5\n",
       "\\end{enumerate*}\n"
      ],
      "text/markdown": [
       "1. 47\n",
       "2. 5\n",
       "\n",
       "\n"
      ],
      "text/plain": [
       "[1] 47  5"
      ]
     },
     "metadata": {},
     "output_type": "display_data"
    }
   ],
   "source": [
    "df_coding %>% \n",
    "select(chromosome, position, rsid, allele1, allele2) %>%\n",
    "unique() %>% dim()"
   ]
  },
  {
   "cell_type": "code",
   "execution_count": 16,
   "metadata": {},
   "outputs": [],
   "source": [
    "df_coding %>% \n",
    "mutate(ID = paste(chromosome, position, allele1, allele2, sep=':')) %>%\n",
    "unique() %>% \n",
    "arrange(chromosome, position) %>%\n",
    "select(ID) %>%\n",
    "fwrite(file.path(data_dir, 'finemapped.hits.loci.txt'), sep='\\t', col.names=F, row.names=F)"
   ]
  },
  {
   "cell_type": "code",
   "execution_count": 17,
   "metadata": {},
   "outputs": [
    {
     "data": {
      "text/html": [
       "'@@@@@@/projects/biomarkers/phewas/v2_imp/finemapped.hits.loci.txt'"
      ],
      "text/latex": [
       "'@@@@@@/projects/biomarkers/phewas/v2\\_imp/finemapped.hits.loci.txt'"
      ],
      "text/markdown": [
       "'@@@@@@/projects/biomarkers/phewas/v2_imp/finemapped.hits.loci.txt'"
      ],
      "text/plain": [
       "[1] \"@@@@@@/projects/biomarkers/phewas/v2_imp/finemapped.hits.loci.txt\""
      ]
     },
     "metadata": {},
     "output_type": "display_data"
    }
   ],
   "source": [
    "file.path(data_dir, 'finemapped.hits.loci.txt')"
   ]
  },
  {
   "cell_type": "code",
   "execution_count": null,
   "metadata": {},
   "outputs": [],
   "source": []
  }
 ],
 "metadata": {
  "kernelspec": {
   "display_name": "R",
   "language": "R",
   "name": "ir"
  },
  "language_info": {
   "codemirror_mode": "r",
   "file_extension": ".r",
   "mimetype": "text/x-r-source",
   "name": "R",
   "pygments_lexer": "r",
   "version": "3.6.1"
  }
 },
 "nbformat": 4,
 "nbformat_minor": 4
}
