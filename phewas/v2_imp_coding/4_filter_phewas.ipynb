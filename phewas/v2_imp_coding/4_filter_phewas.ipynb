{
 "cells": [
  {
   "cell_type": "code",
   "execution_count": 1,
   "metadata": {},
   "outputs": [],
   "source": [
    "suppressWarnings(suppressPackageStartupMessages({\n",
    "    library(tidyverse)\n",
    "    library(data.table)\n",
    "    library(googlesheets)\n",
    "}))\n"
   ]
  },
  {
   "cell_type": "code",
   "execution_count": 2,
   "metadata": {},
   "outputs": [],
   "source": [
    "phewas_all <- '@@@@@@/projects/biomarkers/phewas/v2_imp/ukb24983_imp_v3.glm.logistic.hybrid.gz'\n",
    "\n",
    "phewas_hits <- '@@@@@@/projects/biomarkers/phewas/v2_imp/ukb24983_imp_v3.phewas.hits.tsv'\n"
   ]
  },
  {
   "cell_type": "code",
   "execution_count": 3,
   "metadata": {},
   "outputs": [],
   "source": [
    "phewas_df <- fread(cmd=paste('zcat', phewas_all)) %>% \n",
    "rename('CHROM' = '#CHROM')\n"
   ]
  },
  {
   "cell_type": "code",
   "execution_count": 4,
   "metadata": {},
   "outputs": [
    {
     "data": {
      "text/html": [
       "172"
      ],
      "text/latex": [
       "172"
      ],
      "text/markdown": [
       "172"
      ],
      "text/plain": [
       "[1] 172"
      ]
     },
     "metadata": {},
     "output_type": "display_data"
    }
   ],
   "source": [
    "phewas_df %>% select(GBE_ID) %>% unique() %>% pull() %>% length()"
   ]
  },
  {
   "cell_type": "code",
   "execution_count": 5,
   "metadata": {},
   "outputs": [
    {
     "data": {
      "text/html": [
       "43"
      ],
      "text/latex": [
       "43"
      ],
      "text/markdown": [
       "43"
      ],
      "text/plain": [
       "[1] 43"
      ]
     },
     "metadata": {},
     "output_type": "display_data"
    }
   ],
   "source": [
    "phewas_df %>% \n",
    "filter(\n",
    "    (CHROM != 6) |\n",
    "    (CHROM == 6 & POS < 25477797) | \n",
    "    (CHROM == 6 & 36448354 < POS)\n",
    ") %>%\n",
    "select(ID) %>% unique() %>% pull() %>% length()"
   ]
  },
  {
   "cell_type": "code",
   "execution_count": 6,
   "metadata": {},
   "outputs": [
    {
     "data": {
      "text/html": [
       "6.76041103299081e-06"
      ],
      "text/latex": [
       "6.76041103299081e-06"
      ],
      "text/markdown": [
       "6.76041103299081e-06"
      ],
      "text/plain": [
       "[1] 6.760411e-06"
      ]
     },
     "metadata": {},
     "output_type": "display_data"
    }
   ],
   "source": [
    "0.05 / (172 * 43)"
   ]
  },
  {
   "cell_type": "code",
   "execution_count": 7,
   "metadata": {},
   "outputs": [
    {
     "name": "stderr",
     "output_type": "stream",
     "text": [
      "Auto-refreshing stale OAuth token.\n",
      "Sheet-identifying info appears to be a browser URL.\n",
      "googlesheets will attempt to extract sheet key from the URL.\n",
      "Putative key: 1gwzS0SVZBSKkkHgsoqB5vHo5JpUeYYz8PK2RWrHEq3A\n",
      "Warning message:\n",
      "“`data_frame()` is deprecated as of tibble 1.1.0.\n",
      "Please use `tibble()` instead.\n",
      "\u001b[90mThis warning is displayed once every 8 hours.\u001b[39m\n",
      "\u001b[90mCall `lifecycle::last_warnings()` to see where this warning was generated.\u001b[39m”Sheet successfully identified: \"GBE_names\"\n",
      "Warning message:\n",
      "“`as_data_frame()` is deprecated as of tibble 2.0.0.\n",
      "Please use `as_tibble()` instead.\n",
      "The signature and semantics have changed, see `?as_tibble`.\n",
      "\u001b[90mThis warning is displayed once every 8 hours.\u001b[39m\n",
      "\u001b[90mCall `lifecycle::last_warnings()` to see where this warning was generated.\u001b[39m”Accessing worksheet titled 'GBE_names'.\n",
      "Parsed with column specification:\n",
      "cols(\n",
      "  GBE_category = \u001b[31mcol_character()\u001b[39m,\n",
      "  GBE_ID = \u001b[31mcol_character()\u001b[39m,\n",
      "  GBE_N = \u001b[32mcol_double()\u001b[39m,\n",
      "  GBE_NAME = \u001b[31mcol_character()\u001b[39m,\n",
      "  GBE_short_name = \u001b[31mcol_character()\u001b[39m,\n",
      "  GBE_short_name_len = \u001b[32mcol_double()\u001b[39m,\n",
      "  Units_of_measurement = \u001b[33mcol_logical()\u001b[39m\n",
      ")\n"
     ]
    }
   ],
   "source": [
    "gs_auth(token = \"/home/users/ytanigaw/.googlesheets_token.rds\")\n",
    "\n",
    "GBE_names_df <- 'https://docs.google.com/spreadsheets/d/1gwzS0SVZBSKkkHgsoqB5vHo5JpUeYYz8PK2RWrHEq3A' %>%\n",
    "gs_url() %>% gs_read(ws = 'GBE_names')\n"
   ]
  },
  {
   "cell_type": "code",
   "execution_count": 8,
   "metadata": {},
   "outputs": [],
   "source": [
    "phewas_hits_df <- phewas_df %>% filter(\n",
    "    P < 1e-7,\n",
    "    (CHROM != 6) |\n",
    "    (CHROM == 6 & POS < 25477797) | \n",
    "    (CHROM == 6 & 36448354 < POS)    \n",
    ")  %>%\n",
    "select(-REF, -ALT, -A1, -'FIRTH?', -TEST, -ERRCODE) %>%\n",
    "left_join(\n",
    "    GBE_names_df %>% select(GBE_ID, GBE_short_name), \n",
    "    by='GBE_ID'\n",
    ")"
   ]
  },
  {
   "cell_type": "code",
   "execution_count": 9,
   "metadata": {},
   "outputs": [
    {
     "data": {
      "text/html": [
       "<style>\n",
       ".list-inline {list-style: none; margin:0; padding: 0}\n",
       ".list-inline>li {display: inline-block}\n",
       ".list-inline>li:not(:last-child)::after {content: \"\\00b7\"; padding: 0 .5ex}\n",
       "</style>\n",
       "<ol class=list-inline><li>14</li><li>10</li></ol>\n"
      ],
      "text/latex": [
       "\\begin{enumerate*}\n",
       "\\item 14\n",
       "\\item 10\n",
       "\\end{enumerate*}\n"
      ],
      "text/markdown": [
       "1. 14\n",
       "2. 10\n",
       "\n",
       "\n"
      ],
      "text/plain": [
       "[1] 14 10"
      ]
     },
     "metadata": {},
     "output_type": "display_data"
    }
   ],
   "source": [
    "phewas_hits_df %>% dim()"
   ]
  },
  {
   "cell_type": "code",
   "execution_count": 10,
   "metadata": {},
   "outputs": [
    {
     "data": {
      "text/html": [
       "8"
      ],
      "text/latex": [
       "8"
      ],
      "text/markdown": [
       "8"
      ],
      "text/plain": [
       "[1] 8"
      ]
     },
     "metadata": {},
     "output_type": "display_data"
    }
   ],
   "source": [
    "phewas_hits_df %>% select(ID) %>% pull() %>% unique() %>% length()\n"
   ]
  },
  {
   "cell_type": "code",
   "execution_count": 11,
   "metadata": {},
   "outputs": [
    {
     "data": {
      "text/html": [
       "11"
      ],
      "text/latex": [
       "11"
      ],
      "text/markdown": [
       "11"
      ],
      "text/plain": [
       "[1] 11"
      ]
     },
     "metadata": {},
     "output_type": "display_data"
    }
   ],
   "source": [
    "phewas_hits_df %>% select(GBE_ID) %>% pull() %>% unique() %>% length()\n"
   ]
  },
  {
   "cell_type": "code",
   "execution_count": 12,
   "metadata": {},
   "outputs": [
    {
     "data": {
      "text/html": [
       "<table>\n",
       "<caption>A data.frame: 14 × 10</caption>\n",
       "<thead>\n",
       "\t<tr><th scope=col>CHROM</th><th scope=col>POS</th><th scope=col>ID</th><th scope=col>OBS_CT</th><th scope=col>OR</th><th scope=col>LOG(OR)_SE</th><th scope=col>Z_STAT</th><th scope=col>P</th><th scope=col>GBE_ID</th><th scope=col>GBE_short_name</th></tr>\n",
       "\t<tr><th scope=col>&lt;int&gt;</th><th scope=col>&lt;int&gt;</th><th scope=col>&lt;chr&gt;</th><th scope=col>&lt;int&gt;</th><th scope=col>&lt;dbl&gt;</th><th scope=col>&lt;dbl&gt;</th><th scope=col>&lt;dbl&gt;</th><th scope=col>&lt;dbl&gt;</th><th scope=col>&lt;chr&gt;</th><th scope=col>&lt;chr&gt;</th></tr>\n",
       "</thead>\n",
       "<tbody>\n",
       "\t<tr><td> 1</td><td>152285861</td><td>1:152285861:G:A </td><td>307048</td><td>1.265330</td><td>0.01971920</td><td>11.93410</td><td>7.86192e-33</td><td>BIN_FC5006152</td><td>Hayfever rhinitis or eczema diagnosed by doctor</td></tr>\n",
       "\t<tr><td> 1</td><td>152285861</td><td>1:152285861:G:A </td><td>337146</td><td>1.229250</td><td>0.02384610</td><td> 8.65571</td><td>4.89842e-18</td><td>HC382        </td><td>Asthma                                         </td></tr>\n",
       "\t<tr><td> 1</td><td>152285861</td><td>1:152285861:G:A </td><td>337146</td><td>1.915950</td><td>0.03621370</td><td>17.95490</td><td>4.39627e-72</td><td>HC261        </td><td>Eczema/dermatitis                              </td></tr>\n",
       "\t<tr><td> 1</td><td>156784982</td><td>1:156784982:T:C </td><td>337146</td><td>0.930486</td><td>0.01097840</td><td>-6.56273</td><td>5.28301e-11</td><td>HC219        </td><td>Hypothyroidism/myxoedema                       </td></tr>\n",
       "\t<tr><td> 6</td><td>  7231843</td><td>6:7231843:G:A   </td><td>337146</td><td>0.873727</td><td>0.01735970</td><td>-7.77589</td><td>7.49185e-15</td><td>HC221        </td><td>Diabetes                                       </td></tr>\n",
       "\t<tr><td> 8</td><td>145158607</td><td>8:145158607:G:A </td><td>307048</td><td>1.066280</td><td>0.01190740</td><td> 5.38925</td><td>7.07523e-08</td><td>BIN_FC5006152</td><td>Hayfever rhinitis or eczema diagnosed by doctor</td></tr>\n",
       "\t<tr><td> 8</td><td>145158607</td><td>8:145158607:G:A </td><td>337146</td><td>1.087570</td><td>0.01456460</td><td> 5.76368</td><td>8.22972e-09</td><td>HC382        </td><td>Asthma                                         </td></tr>\n",
       "\t<tr><td>10</td><td> 64564934</td><td>10:64564934:C:G </td><td>337146</td><td>0.969296</td><td>0.00549627</td><td>-5.67396</td><td>1.39531e-08</td><td>HC215        </td><td>Hypertension                                   </td></tr>\n",
       "\t<tr><td>12</td><td>121416650</td><td>12:121416650:A:C</td><td>337146</td><td>0.916211</td><td>0.01401720</td><td>-6.24299</td><td>4.29273e-10</td><td>HC225        </td><td>Cholecystitis                                  </td></tr>\n",
       "\t<tr><td>12</td><td>121416650</td><td>12:121416650:A:C</td><td>337146</td><td>0.921726</td><td>0.01310360</td><td>-6.22022</td><td>4.96443e-10</td><td>HC188        </td><td>Gallstones                                     </td></tr>\n",
       "\t<tr><td>12</td><td>121416650</td><td>12:121416650:A:C</td><td>337146</td><td>1.066630</td><td>0.01171340</td><td> 5.50714</td><td>3.64710e-08</td><td>HC132        </td><td>Angina                                         </td></tr>\n",
       "\t<tr><td>19</td><td> 10463118</td><td>19:10463118:G:C </td><td>337146</td><td>0.651492</td><td>0.05915490</td><td>-7.24354</td><td>4.37120e-13</td><td>HC38         </td><td>Psoriasis                                      </td></tr>\n",
       "\t<tr><td>19</td><td> 10463118</td><td>19:10463118:G:C </td><td>337146</td><td>0.834389</td><td>0.02736520</td><td>-6.61625</td><td>3.68428e-11</td><td>HC219        </td><td>Hypothyroidism/myxoedema                       </td></tr>\n",
       "\t<tr><td>22</td><td> 37462936</td><td>22:37462936:A:G </td><td>337146</td><td>0.933615</td><td>0.01159050</td><td>-5.92656</td><td>3.09349e-09</td><td>HC125        </td><td>Anaemia                                        </td></tr>\n",
       "</tbody>\n",
       "</table>\n"
      ],
      "text/latex": [
       "A data.frame: 14 × 10\n",
       "\\begin{tabular}{llllllllll}\n",
       " CHROM & POS & ID & OBS\\_CT & OR & LOG(OR)\\_SE & Z\\_STAT & P & GBE\\_ID & GBE\\_short\\_name\\\\\n",
       " <int> & <int> & <chr> & <int> & <dbl> & <dbl> & <dbl> & <dbl> & <chr> & <chr>\\\\\n",
       "\\hline\n",
       "\t  1 & 152285861 & 1:152285861:G:A  & 307048 & 1.265330 & 0.01971920 & 11.93410 & 7.86192e-33 & BIN\\_FC5006152 & Hayfever rhinitis or eczema diagnosed by doctor\\\\\n",
       "\t  1 & 152285861 & 1:152285861:G:A  & 337146 & 1.229250 & 0.02384610 &  8.65571 & 4.89842e-18 & HC382         & Asthma                                         \\\\\n",
       "\t  1 & 152285861 & 1:152285861:G:A  & 337146 & 1.915950 & 0.03621370 & 17.95490 & 4.39627e-72 & HC261         & Eczema/dermatitis                              \\\\\n",
       "\t  1 & 156784982 & 1:156784982:T:C  & 337146 & 0.930486 & 0.01097840 & -6.56273 & 5.28301e-11 & HC219         & Hypothyroidism/myxoedema                       \\\\\n",
       "\t  6 &   7231843 & 6:7231843:G:A    & 337146 & 0.873727 & 0.01735970 & -7.77589 & 7.49185e-15 & HC221         & Diabetes                                       \\\\\n",
       "\t  8 & 145158607 & 8:145158607:G:A  & 307048 & 1.066280 & 0.01190740 &  5.38925 & 7.07523e-08 & BIN\\_FC5006152 & Hayfever rhinitis or eczema diagnosed by doctor\\\\\n",
       "\t  8 & 145158607 & 8:145158607:G:A  & 337146 & 1.087570 & 0.01456460 &  5.76368 & 8.22972e-09 & HC382         & Asthma                                         \\\\\n",
       "\t 10 &  64564934 & 10:64564934:C:G  & 337146 & 0.969296 & 0.00549627 & -5.67396 & 1.39531e-08 & HC215         & Hypertension                                   \\\\\n",
       "\t 12 & 121416650 & 12:121416650:A:C & 337146 & 0.916211 & 0.01401720 & -6.24299 & 4.29273e-10 & HC225         & Cholecystitis                                  \\\\\n",
       "\t 12 & 121416650 & 12:121416650:A:C & 337146 & 0.921726 & 0.01310360 & -6.22022 & 4.96443e-10 & HC188         & Gallstones                                     \\\\\n",
       "\t 12 & 121416650 & 12:121416650:A:C & 337146 & 1.066630 & 0.01171340 &  5.50714 & 3.64710e-08 & HC132         & Angina                                         \\\\\n",
       "\t 19 &  10463118 & 19:10463118:G:C  & 337146 & 0.651492 & 0.05915490 & -7.24354 & 4.37120e-13 & HC38          & Psoriasis                                      \\\\\n",
       "\t 19 &  10463118 & 19:10463118:G:C  & 337146 & 0.834389 & 0.02736520 & -6.61625 & 3.68428e-11 & HC219         & Hypothyroidism/myxoedema                       \\\\\n",
       "\t 22 &  37462936 & 22:37462936:A:G  & 337146 & 0.933615 & 0.01159050 & -5.92656 & 3.09349e-09 & HC125         & Anaemia                                        \\\\\n",
       "\\end{tabular}\n"
      ],
      "text/markdown": [
       "\n",
       "A data.frame: 14 × 10\n",
       "\n",
       "| CHROM &lt;int&gt; | POS &lt;int&gt; | ID &lt;chr&gt; | OBS_CT &lt;int&gt; | OR &lt;dbl&gt; | LOG(OR)_SE &lt;dbl&gt; | Z_STAT &lt;dbl&gt; | P &lt;dbl&gt; | GBE_ID &lt;chr&gt; | GBE_short_name &lt;chr&gt; |\n",
       "|---|---|---|---|---|---|---|---|---|---|\n",
       "|  1 | 152285861 | 1:152285861:G:A  | 307048 | 1.265330 | 0.01971920 | 11.93410 | 7.86192e-33 | BIN_FC5006152 | Hayfever rhinitis or eczema diagnosed by doctor |\n",
       "|  1 | 152285861 | 1:152285861:G:A  | 337146 | 1.229250 | 0.02384610 |  8.65571 | 4.89842e-18 | HC382         | Asthma                                          |\n",
       "|  1 | 152285861 | 1:152285861:G:A  | 337146 | 1.915950 | 0.03621370 | 17.95490 | 4.39627e-72 | HC261         | Eczema/dermatitis                               |\n",
       "|  1 | 156784982 | 1:156784982:T:C  | 337146 | 0.930486 | 0.01097840 | -6.56273 | 5.28301e-11 | HC219         | Hypothyroidism/myxoedema                        |\n",
       "|  6 |   7231843 | 6:7231843:G:A    | 337146 | 0.873727 | 0.01735970 | -7.77589 | 7.49185e-15 | HC221         | Diabetes                                        |\n",
       "|  8 | 145158607 | 8:145158607:G:A  | 307048 | 1.066280 | 0.01190740 |  5.38925 | 7.07523e-08 | BIN_FC5006152 | Hayfever rhinitis or eczema diagnosed by doctor |\n",
       "|  8 | 145158607 | 8:145158607:G:A  | 337146 | 1.087570 | 0.01456460 |  5.76368 | 8.22972e-09 | HC382         | Asthma                                          |\n",
       "| 10 |  64564934 | 10:64564934:C:G  | 337146 | 0.969296 | 0.00549627 | -5.67396 | 1.39531e-08 | HC215         | Hypertension                                    |\n",
       "| 12 | 121416650 | 12:121416650:A:C | 337146 | 0.916211 | 0.01401720 | -6.24299 | 4.29273e-10 | HC225         | Cholecystitis                                   |\n",
       "| 12 | 121416650 | 12:121416650:A:C | 337146 | 0.921726 | 0.01310360 | -6.22022 | 4.96443e-10 | HC188         | Gallstones                                      |\n",
       "| 12 | 121416650 | 12:121416650:A:C | 337146 | 1.066630 | 0.01171340 |  5.50714 | 3.64710e-08 | HC132         | Angina                                          |\n",
       "| 19 |  10463118 | 19:10463118:G:C  | 337146 | 0.651492 | 0.05915490 | -7.24354 | 4.37120e-13 | HC38          | Psoriasis                                       |\n",
       "| 19 |  10463118 | 19:10463118:G:C  | 337146 | 0.834389 | 0.02736520 | -6.61625 | 3.68428e-11 | HC219         | Hypothyroidism/myxoedema                        |\n",
       "| 22 |  37462936 | 22:37462936:A:G  | 337146 | 0.933615 | 0.01159050 | -5.92656 | 3.09349e-09 | HC125         | Anaemia                                         |\n",
       "\n"
      ],
      "text/plain": [
       "   CHROM POS       ID               OBS_CT OR       LOG(OR)_SE Z_STAT  \n",
       "1   1    152285861 1:152285861:G:A  307048 1.265330 0.01971920 11.93410\n",
       "2   1    152285861 1:152285861:G:A  337146 1.229250 0.02384610  8.65571\n",
       "3   1    152285861 1:152285861:G:A  337146 1.915950 0.03621370 17.95490\n",
       "4   1    156784982 1:156784982:T:C  337146 0.930486 0.01097840 -6.56273\n",
       "5   6      7231843 6:7231843:G:A    337146 0.873727 0.01735970 -7.77589\n",
       "6   8    145158607 8:145158607:G:A  307048 1.066280 0.01190740  5.38925\n",
       "7   8    145158607 8:145158607:G:A  337146 1.087570 0.01456460  5.76368\n",
       "8  10     64564934 10:64564934:C:G  337146 0.969296 0.00549627 -5.67396\n",
       "9  12    121416650 12:121416650:A:C 337146 0.916211 0.01401720 -6.24299\n",
       "10 12    121416650 12:121416650:A:C 337146 0.921726 0.01310360 -6.22022\n",
       "11 12    121416650 12:121416650:A:C 337146 1.066630 0.01171340  5.50714\n",
       "12 19     10463118 19:10463118:G:C  337146 0.651492 0.05915490 -7.24354\n",
       "13 19     10463118 19:10463118:G:C  337146 0.834389 0.02736520 -6.61625\n",
       "14 22     37462936 22:37462936:A:G  337146 0.933615 0.01159050 -5.92656\n",
       "   P           GBE_ID        GBE_short_name                                 \n",
       "1  7.86192e-33 BIN_FC5006152 Hayfever rhinitis or eczema diagnosed by doctor\n",
       "2  4.89842e-18 HC382         Asthma                                         \n",
       "3  4.39627e-72 HC261         Eczema/dermatitis                              \n",
       "4  5.28301e-11 HC219         Hypothyroidism/myxoedema                       \n",
       "5  7.49185e-15 HC221         Diabetes                                       \n",
       "6  7.07523e-08 BIN_FC5006152 Hayfever rhinitis or eczema diagnosed by doctor\n",
       "7  8.22972e-09 HC382         Asthma                                         \n",
       "8  1.39531e-08 HC215         Hypertension                                   \n",
       "9  4.29273e-10 HC225         Cholecystitis                                  \n",
       "10 4.96443e-10 HC188         Gallstones                                     \n",
       "11 3.64710e-08 HC132         Angina                                         \n",
       "12 4.37120e-13 HC38          Psoriasis                                      \n",
       "13 3.68428e-11 HC219         Hypothyroidism/myxoedema                       \n",
       "14 3.09349e-09 HC125         Anaemia                                        "
      ]
     },
     "metadata": {},
     "output_type": "display_data"
    }
   ],
   "source": [
    "phewas_hits_df"
   ]
  },
  {
   "cell_type": "code",
   "execution_count": 13,
   "metadata": {},
   "outputs": [],
   "source": [
    "phewas_hits_df %>% fwrite(phewas_hits, sep='\\t')"
   ]
  },
  {
   "cell_type": "code",
   "execution_count": null,
   "metadata": {},
   "outputs": [],
   "source": []
  }
 ],
 "metadata": {
  "kernelspec": {
   "display_name": "R",
   "language": "R",
   "name": "ir"
  },
  "language_info": {
   "codemirror_mode": "r",
   "file_extension": ".r",
   "mimetype": "text/x-r-source",
   "name": "R",
   "pygments_lexer": "r",
   "version": "3.6.1"
  }
 },
 "nbformat": 4,
 "nbformat_minor": 4
}
