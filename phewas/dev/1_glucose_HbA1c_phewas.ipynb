{
 "cells": [
  {
   "cell_type": "code",
   "execution_count": 1,
   "metadata": {},
   "outputs": [],
   "source": [
    "suppressWarnings(suppressPackageStartupMessages({\n",
    "    library(tidyverse)\n",
    "    library(data.table)\n",
    "}))\n"
   ]
  },
  {
   "cell_type": "code",
   "execution_count": 2,
   "metadata": {},
   "outputs": [
    {
     "name": "stderr",
     "output_type": "stream",
     "text": [
      "Auto-refreshing stale OAuth token.\n",
      "\n"
     ]
    }
   ],
   "source": [
    "suppressWarnings(suppressPackageStartupMessages({\n",
    "    library(googlesheets)\n",
    "}))\n",
    "\n",
    "gs_auth(token = \"/home/users/ytanigaw/.googlesheets_token.rds\")\n"
   ]
  },
  {
   "cell_type": "code",
   "execution_count": 8,
   "metadata": {},
   "outputs": [
    {
     "name": "stderr",
     "output_type": "stream",
     "text": [
      "Sheet-identifying info appears to be a browser URL.\n",
      "googlesheets will attempt to extract sheet key from the URL.\n",
      "\n",
      "Putative key: 1CVm_ozbTQeAwvN6KWnn4gHuGwUNIn_O_9F7I1STg_uc\n",
      "\n",
      "Sheet successfully identified: \"Biomarkers Supplementary Tables\"\n",
      "\n",
      "Accessing worksheet titled 'ST6'.\n",
      "\n",
      "Parsed with column specification:\n",
      "cols(\n",
      "  .default = col_character(),\n",
      "  CHROM = \u001b[32mcol_double()\u001b[39m,\n",
      "  POS = \u001b[32mcol_double()\u001b[39m,\n",
      "  BETA = \u001b[32mcol_double()\u001b[39m,\n",
      "  SE = \u001b[32mcol_double()\u001b[39m,\n",
      "  P = \u001b[32mcol_double()\u001b[39m,\n",
      "  HetISq = \u001b[32mcol_double()\u001b[39m,\n",
      "  HetChiSq = \u001b[32mcol_double()\u001b[39m,\n",
      "  HetDf = \u001b[32mcol_double()\u001b[39m,\n",
      "  HetPVal = \u001b[32mcol_double()\u001b[39m,\n",
      "  MAF = \u001b[32mcol_double()\u001b[39m,\n",
      "  `is outside of MHC` = \u001b[33mcol_logical()\u001b[39m,\n",
      "  `LD independent` = \u001b[33mcol_logical()\u001b[39m\n",
      ")\n",
      "\n",
      "See spec(...) for full column specifications.\n",
      "\n"
     ]
    }
   ],
   "source": [
    "'https://docs.google.com/spreadsheets/d/1CVm_ozbTQeAwvN6KWnn4gHuGwUNIn_O_9F7I1STg_uc' %>%\n",
    "gs_url() %>%  gs_read(\n",
    "    ws = 'ST6', skip=1\n",
    ") -> gwas_ptvs_df\n"
   ]
  },
  {
   "cell_type": "code",
   "execution_count": 7,
   "metadata": {},
   "outputs": [
    {
     "name": "stderr",
     "output_type": "stream",
     "text": [
      "Sheet-identifying info appears to be a browser URL.\n",
      "googlesheets will attempt to extract sheet key from the URL.\n",
      "\n",
      "Putative key: 1CVm_ozbTQeAwvN6KWnn4gHuGwUNIn_O_9F7I1STg_uc\n",
      "\n",
      "Sheet successfully identified: \"Biomarkers Supplementary Tables\"\n",
      "\n",
      "Accessing worksheet titled 'ST7'.\n",
      "\n",
      "Parsed with column specification:\n",
      "cols(\n",
      "  .default = col_character(),\n",
      "  CHROM = \u001b[32mcol_double()\u001b[39m,\n",
      "  POS = \u001b[32mcol_double()\u001b[39m,\n",
      "  BETA = \u001b[32mcol_double()\u001b[39m,\n",
      "  SE = \u001b[32mcol_double()\u001b[39m,\n",
      "  P = \u001b[32mcol_double()\u001b[39m,\n",
      "  HetISq = \u001b[32mcol_double()\u001b[39m,\n",
      "  HetChiSq = \u001b[32mcol_double()\u001b[39m,\n",
      "  HetDf = \u001b[32mcol_double()\u001b[39m,\n",
      "  HetPVal = \u001b[32mcol_double()\u001b[39m,\n",
      "  MAF = \u001b[32mcol_double()\u001b[39m,\n",
      "  `is outside of MHC` = \u001b[33mcol_logical()\u001b[39m,\n",
      "  `LD independent` = \u001b[33mcol_logical()\u001b[39m\n",
      ")\n",
      "\n",
      "See spec(...) for full column specifications.\n",
      "\n"
     ]
    }
   ],
   "source": [
    "'https://docs.google.com/spreadsheets/d/1CVm_ozbTQeAwvN6KWnn4gHuGwUNIn_O_9F7I1STg_uc' %>%\n",
    "gs_url() %>%  gs_read(\n",
    "    ws = 'ST7', skip=1\n",
    ") -> gwas_pavs_df\n"
   ]
  },
  {
   "cell_type": "code",
   "execution_count": 27,
   "metadata": {},
   "outputs": [
    {
     "name": "stderr",
     "output_type": "stream",
     "text": [
      "Sheet-identifying info appears to be a browser URL.\n",
      "googlesheets will attempt to extract sheet key from the URL.\n",
      "\n",
      "Putative key: 1CVm_ozbTQeAwvN6KWnn4gHuGwUNIn_O_9F7I1STg_uc\n",
      "\n",
      "Sheet successfully identified: \"Biomarkers Supplementary Tables\"\n",
      "\n",
      "Accessing worksheet titled 'ST14A'.\n",
      "\n",
      "Parsed with column specification:\n",
      "cols(\n",
      "  .default = col_character(),\n",
      "  CHROM = \u001b[32mcol_double()\u001b[39m,\n",
      "  POS = \u001b[32mcol_double()\u001b[39m,\n",
      "  OR = \u001b[32mcol_double()\u001b[39m,\n",
      "  `LOG(OR)_SE` = \u001b[32mcol_double()\u001b[39m,\n",
      "  P = \u001b[32mcol_double()\u001b[39m,\n",
      "  STAT = \u001b[32mcol_double()\u001b[39m,\n",
      "  maf = \u001b[32mcol_double()\u001b[39m,\n",
      "  is_rare = \u001b[33mcol_logical()\u001b[39m,\n",
      "  `Is_Novel?` = \u001b[33mcol_logical()\u001b[39m,\n",
      "  r2 = \u001b[32mcol_double()\u001b[39m\n",
      ")\n",
      "\n",
      "See spec(...) for full column specifications.\n",
      "\n"
     ]
    }
   ],
   "source": [
    "'https://docs.google.com/spreadsheets/d/1CVm_ozbTQeAwvN6KWnn4gHuGwUNIn_O_9F7I1STg_uc' %>%\n",
    "gs_url() %>%  gs_read(\n",
    "    ws = 'ST14A', skip=1\n",
    ") -> phewas_df\n"
   ]
  },
  {
   "cell_type": "code",
   "execution_count": 14,
   "metadata": {},
   "outputs": [],
   "source": [
    "'@@@@@@/ukbb24983/array-combined/gwas/current/white_british/ukb24983_v2_hg19.HC221.array-combined.glm.logistic.hybrid.gz' %>%\n",
    "fread(colClasses = c('#CHROM'='character')) %>%\n",
    "rename('CHROM'='#CHROM') -> HC221_df\n"
   ]
  },
  {
   "cell_type": "code",
   "execution_count": 11,
   "metadata": {},
   "outputs": [
    {
     "data": {
      "text/html": [
       "<table>\n",
       "<caption>A spec_tbl_df: 3 × 25</caption>\n",
       "<thead>\n",
       "\t<tr><th scope=col>CHROM</th><th scope=col>POS</th><th scope=col>REF</th><th scope=col>ALT</th><th scope=col>ID</th><th scope=col>variant</th><th scope=col>Trait</th><th scope=col>Trait category</th><th scope=col>BETA</th><th scope=col>SE</th><th scope=col>⋯</th><th scope=col>HetPVal</th><th scope=col>MAF</th><th scope=col>Consequence</th><th scope=col>Gene</th><th scope=col>Gene symbol</th><th scope=col>HGVSp</th><th scope=col>is outside of MHC</th><th scope=col>LD independent</th><th scope=col>Comments</th><th scope=col>Novel (associated in comparison study at p &lt; 1e-6)</th></tr>\n",
       "\t<tr><th scope=col>&lt;dbl&gt;</th><th scope=col>&lt;dbl&gt;</th><th scope=col>&lt;chr&gt;</th><th scope=col>&lt;chr&gt;</th><th scope=col>&lt;chr&gt;</th><th scope=col>&lt;chr&gt;</th><th scope=col>&lt;chr&gt;</th><th scope=col>&lt;chr&gt;</th><th scope=col>&lt;dbl&gt;</th><th scope=col>&lt;dbl&gt;</th><th scope=col>⋯</th><th scope=col>&lt;dbl&gt;</th><th scope=col>&lt;dbl&gt;</th><th scope=col>&lt;chr&gt;</th><th scope=col>&lt;chr&gt;</th><th scope=col>&lt;chr&gt;</th><th scope=col>&lt;chr&gt;</th><th scope=col>&lt;lgl&gt;</th><th scope=col>&lt;lgl&gt;</th><th scope=col>&lt;chr&gt;</th><th scope=col>&lt;chr&gt;</th></tr>\n",
       "</thead>\n",
       "<tbody>\n",
       "\t<tr><td> 6</td><td>49604368</td><td>C</td><td>T</td><td>Affx-80229810</td><td>6:49604368:C:T </td><td>HbA1c  </td><td>Diabetes</td><td>-0.7954</td><td>0.0808</td><td>⋯</td><td>0.7758</td><td>0.0002328941</td><td>splice_donor_variant</td><td>ENSG00000112077</td><td>RHAG</td><td>NA                                                                                                                                                   </td><td>TRUE</td><td>TRUE</td><td>NA</td><td>yes</td></tr>\n",
       "\t<tr><td>11</td><td>47306630</td><td>C</td><td>T</td><td>rs35233100   </td><td>11:47306630:C:T</td><td>Glucose</td><td>Diabetes</td><td>-0.0416</td><td>0.0052</td><td>⋯</td><td>0.2762</td><td>0.0635451455</td><td>stop_gained         </td><td>ENSG00000110514</td><td>MADD</td><td>ENSP00000310933.4:p.Arg766Ter,ENSP00000304505.6:p.Arg766Ter,ENSP00000343902.4:p.Arg766Ter,ENSP00000384287.2:p.Arg766Ter,ENSP00000378745.3:p.Arg766Ter</td><td>TRUE</td><td>TRUE</td><td>NA</td><td>yes</td></tr>\n",
       "\t<tr><td>11</td><td>47306630</td><td>C</td><td>T</td><td>rs35233100   </td><td>11:47306630:C:T</td><td>HbA1c  </td><td>Diabetes</td><td>-0.0392</td><td>0.0051</td><td>⋯</td><td>0.6944</td><td>0.0635451455</td><td>stop_gained         </td><td>ENSG00000110514</td><td>MADD</td><td>ENSP00000310933.4:p.Arg766Ter,ENSP00000304505.6:p.Arg766Ter,ENSP00000343902.4:p.Arg766Ter,ENSP00000384287.2:p.Arg766Ter,ENSP00000378745.3:p.Arg766Ter</td><td>TRUE</td><td>TRUE</td><td>NA</td><td>yes</td></tr>\n",
       "</tbody>\n",
       "</table>\n"
      ],
      "text/latex": [
       "A spec\\_tbl\\_df: 3 × 25\n",
       "\\begin{tabular}{lllllllllllllllllllll}\n",
       " CHROM & POS & REF & ALT & ID & variant & Trait & Trait category & BETA & SE & ⋯ & HetPVal & MAF & Consequence & Gene & Gene symbol & HGVSp & is outside of MHC & LD independent & Comments & Novel (associated in comparison study at p < 1e-6)\\\\\n",
       " <dbl> & <dbl> & <chr> & <chr> & <chr> & <chr> & <chr> & <chr> & <dbl> & <dbl> & ⋯ & <dbl> & <dbl> & <chr> & <chr> & <chr> & <chr> & <lgl> & <lgl> & <chr> & <chr>\\\\\n",
       "\\hline\n",
       "\t  6 & 49604368 & C & T & Affx-80229810 & 6:49604368:C:T  & HbA1c   & Diabetes & -0.7954 & 0.0808 & ⋯ & 0.7758 & 0.0002328941 & splice\\_donor\\_variant & ENSG00000112077 & RHAG & NA                                                                                                                                                    & TRUE & TRUE & NA & yes\\\\\n",
       "\t 11 & 47306630 & C & T & rs35233100    & 11:47306630:C:T & Glucose & Diabetes & -0.0416 & 0.0052 & ⋯ & 0.2762 & 0.0635451455 & stop\\_gained          & ENSG00000110514 & MADD & ENSP00000310933.4:p.Arg766Ter,ENSP00000304505.6:p.Arg766Ter,ENSP00000343902.4:p.Arg766Ter,ENSP00000384287.2:p.Arg766Ter,ENSP00000378745.3:p.Arg766Ter & TRUE & TRUE & NA & yes\\\\\n",
       "\t 11 & 47306630 & C & T & rs35233100    & 11:47306630:C:T & HbA1c   & Diabetes & -0.0392 & 0.0051 & ⋯ & 0.6944 & 0.0635451455 & stop\\_gained          & ENSG00000110514 & MADD & ENSP00000310933.4:p.Arg766Ter,ENSP00000304505.6:p.Arg766Ter,ENSP00000343902.4:p.Arg766Ter,ENSP00000384287.2:p.Arg766Ter,ENSP00000378745.3:p.Arg766Ter & TRUE & TRUE & NA & yes\\\\\n",
       "\\end{tabular}\n"
      ],
      "text/markdown": [
       "\n",
       "A spec_tbl_df: 3 × 25\n",
       "\n",
       "| CHROM &lt;dbl&gt; | POS &lt;dbl&gt; | REF &lt;chr&gt; | ALT &lt;chr&gt; | ID &lt;chr&gt; | variant &lt;chr&gt; | Trait &lt;chr&gt; | Trait category &lt;chr&gt; | BETA &lt;dbl&gt; | SE &lt;dbl&gt; | ⋯ ⋯ | HetPVal &lt;dbl&gt; | MAF &lt;dbl&gt; | Consequence &lt;chr&gt; | Gene &lt;chr&gt; | Gene symbol &lt;chr&gt; | HGVSp &lt;chr&gt; | is outside of MHC &lt;lgl&gt; | LD independent &lt;lgl&gt; | Comments &lt;chr&gt; | Novel (associated in comparison study at p &lt; 1e-6) &lt;chr&gt; |\n",
       "|---|---|---|---|---|---|---|---|---|---|---|---|---|---|---|---|---|---|---|---|---|\n",
       "|  6 | 49604368 | C | T | Affx-80229810 | 6:49604368:C:T  | HbA1c   | Diabetes | -0.7954 | 0.0808 | ⋯ | 0.7758 | 0.0002328941 | splice_donor_variant | ENSG00000112077 | RHAG | NA                                                                                                                                                    | TRUE | TRUE | NA | yes |\n",
       "| 11 | 47306630 | C | T | rs35233100    | 11:47306630:C:T | Glucose | Diabetes | -0.0416 | 0.0052 | ⋯ | 0.2762 | 0.0635451455 | stop_gained          | ENSG00000110514 | MADD | ENSP00000310933.4:p.Arg766Ter,ENSP00000304505.6:p.Arg766Ter,ENSP00000343902.4:p.Arg766Ter,ENSP00000384287.2:p.Arg766Ter,ENSP00000378745.3:p.Arg766Ter | TRUE | TRUE | NA | yes |\n",
       "| 11 | 47306630 | C | T | rs35233100    | 11:47306630:C:T | HbA1c   | Diabetes | -0.0392 | 0.0051 | ⋯ | 0.6944 | 0.0635451455 | stop_gained          | ENSG00000110514 | MADD | ENSP00000310933.4:p.Arg766Ter,ENSP00000304505.6:p.Arg766Ter,ENSP00000343902.4:p.Arg766Ter,ENSP00000384287.2:p.Arg766Ter,ENSP00000378745.3:p.Arg766Ter | TRUE | TRUE | NA | yes |\n",
       "\n"
      ],
      "text/plain": [
       "  CHROM POS      REF ALT ID            variant         Trait   Trait category\n",
       "1  6    49604368 C   T   Affx-80229810 6:49604368:C:T  HbA1c   Diabetes      \n",
       "2 11    47306630 C   T   rs35233100    11:47306630:C:T Glucose Diabetes      \n",
       "3 11    47306630 C   T   rs35233100    11:47306630:C:T HbA1c   Diabetes      \n",
       "  BETA    SE     ⋯ HetPVal MAF          Consequence          Gene           \n",
       "1 -0.7954 0.0808 ⋯ 0.7758  0.0002328941 splice_donor_variant ENSG00000112077\n",
       "2 -0.0416 0.0052 ⋯ 0.2762  0.0635451455 stop_gained          ENSG00000110514\n",
       "3 -0.0392 0.0051 ⋯ 0.6944  0.0635451455 stop_gained          ENSG00000110514\n",
       "  Gene symbol\n",
       "1 RHAG       \n",
       "2 MADD       \n",
       "3 MADD       \n",
       "  HGVSp                                                                                                                                                \n",
       "1 NA                                                                                                                                                   \n",
       "2 ENSP00000310933.4:p.Arg766Ter,ENSP00000304505.6:p.Arg766Ter,ENSP00000343902.4:p.Arg766Ter,ENSP00000384287.2:p.Arg766Ter,ENSP00000378745.3:p.Arg766Ter\n",
       "3 ENSP00000310933.4:p.Arg766Ter,ENSP00000304505.6:p.Arg766Ter,ENSP00000343902.4:p.Arg766Ter,ENSP00000384287.2:p.Arg766Ter,ENSP00000378745.3:p.Arg766Ter\n",
       "  is outside of MHC LD independent Comments\n",
       "1 TRUE              TRUE           NA      \n",
       "2 TRUE              TRUE           NA      \n",
       "3 TRUE              TRUE           NA      \n",
       "  Novel (associated in comparison study at p < 1e-6)\n",
       "1 yes                                               \n",
       "2 yes                                               \n",
       "3 yes                                               "
      ]
     },
     "metadata": {},
     "output_type": "display_data"
    }
   ],
   "source": [
    "gwas_ptvs_df %>%\n",
    "filter(`Trait category` == 'Diabetes')"
   ]
  },
  {
   "cell_type": "code",
   "execution_count": 13,
   "metadata": {},
   "outputs": [
    {
     "data": {
      "text/html": [
       "<table>\n",
       "<caption>A spec_tbl_df: 11 × 25</caption>\n",
       "<thead>\n",
       "\t<tr><th scope=col>CHROM</th><th scope=col>POS</th><th scope=col>REF</th><th scope=col>ALT</th><th scope=col>ID</th><th scope=col>variant</th><th scope=col>Trait</th><th scope=col>Trait category</th><th scope=col>BETA</th><th scope=col>SE</th><th scope=col>⋯</th><th scope=col>HetPVal</th><th scope=col>MAF</th><th scope=col>Consequence</th><th scope=col>Gene</th><th scope=col>Gene symbol</th><th scope=col>HGVSp</th><th scope=col>is outside of MHC</th><th scope=col>LD independent</th><th scope=col>Comments</th><th scope=col>Novel</th></tr>\n",
       "\t<tr><th scope=col>&lt;dbl&gt;</th><th scope=col>&lt;dbl&gt;</th><th scope=col>&lt;chr&gt;</th><th scope=col>&lt;chr&gt;</th><th scope=col>&lt;chr&gt;</th><th scope=col>&lt;chr&gt;</th><th scope=col>&lt;chr&gt;</th><th scope=col>&lt;chr&gt;</th><th scope=col>&lt;dbl&gt;</th><th scope=col>&lt;dbl&gt;</th><th scope=col>⋯</th><th scope=col>&lt;dbl&gt;</th><th scope=col>&lt;dbl&gt;</th><th scope=col>&lt;chr&gt;</th><th scope=col>&lt;chr&gt;</th><th scope=col>&lt;chr&gt;</th><th scope=col>&lt;chr&gt;</th><th scope=col>&lt;lgl&gt;</th><th scope=col>&lt;lgl&gt;</th><th scope=col>&lt;chr&gt;</th><th scope=col>&lt;chr&gt;</th></tr>\n",
       "</thead>\n",
       "<tbody>\n",
       "\t<tr><td> 2</td><td>169763262</td><td>C</td><td>T</td><td>rs138726309</td><td>2:169763262:C:T</td><td>Glucose</td><td>Diabetes</td><td>-0.2500</td><td>0.0241</td><td>⋯</td><td>0.2447000</td><td>0.0027990532</td><td>missense_variant</td><td>ENSG00000152254</td><td>G6PC2</td><td>ENSP00000364512.3:p.His177Tyr                              </td><td>TRUE</td><td>TRUE</td><td>NA</td><td>yes</td></tr>\n",
       "\t<tr><td> 2</td><td>169763262</td><td>C</td><td>T</td><td>rs138726309</td><td>2:169763262:C:T</td><td>HbA1c  </td><td>Diabetes</td><td>-0.1811</td><td>0.0236</td><td>⋯</td><td>0.8087000</td><td>0.0027990532</td><td>missense_variant</td><td>ENSG00000152254</td><td>G6PC2</td><td>ENSP00000364512.3:p.His177Tyr                              </td><td>TRUE</td><td>TRUE</td><td>NA</td><td>yes</td></tr>\n",
       "\t<tr><td> 2</td><td>169764141</td><td>A</td><td>C</td><td>rs2232323  </td><td>2:169764141:A:C</td><td>Glucose</td><td>Diabetes</td><td>-0.2607</td><td>0.0160</td><td>⋯</td><td>0.8068000</td><td>0.0058855479</td><td>missense_variant</td><td>ENSG00000152254</td><td>G6PC2</td><td>ENSP00000364512.3:p.Tyr207Ser                              </td><td>TRUE</td><td>TRUE</td><td>NA</td><td>no </td></tr>\n",
       "\t<tr><td> 2</td><td>169764141</td><td>A</td><td>C</td><td>rs2232323  </td><td>2:169764141:A:C</td><td>HbA1c  </td><td>Diabetes</td><td>-0.1831</td><td>0.0156</td><td>⋯</td><td>0.3385000</td><td>0.0058855479</td><td>missense_variant</td><td>ENSG00000152254</td><td>G6PC2</td><td>ENSP00000364512.3:p.Tyr207Ser                              </td><td>TRUE</td><td>TRUE</td><td>NA</td><td>no </td></tr>\n",
       "\t<tr><td> 2</td><td>169764491</td><td>T</td><td>C</td><td>rs2232326  </td><td>2:169764491:T:C</td><td>Glucose</td><td>Diabetes</td><td>-0.2783</td><td>0.0300</td><td>⋯</td><td>0.7173000</td><td>0.0016748754</td><td>missense_variant</td><td>ENSG00000152254</td><td>G6PC2</td><td>ENSP00000364512.3:p.Ser324Pro                              </td><td>TRUE</td><td>TRUE</td><td>NA</td><td>yes</td></tr>\n",
       "\t<tr><td> 2</td><td>169764546</td><td>C</td><td>G</td><td>rs2232328  </td><td>2:169764546:C:G</td><td>Glucose</td><td>Diabetes</td><td> 0.0792</td><td>0.0041</td><td>⋯</td><td>0.0000138</td><td>0.0983316572</td><td>missense_variant</td><td>ENSG00000152254</td><td>G6PC2</td><td>ENSP00000364512.3:p.Ser342Cys                              </td><td>TRUE</td><td>TRUE</td><td>NA</td><td>yes</td></tr>\n",
       "\t<tr><td> 2</td><td>169764546</td><td>C</td><td>G</td><td>rs2232328  </td><td>2:169764546:C:G</td><td>HbA1c  </td><td>Diabetes</td><td> 0.0422</td><td>0.0041</td><td>⋯</td><td>0.0099090</td><td>0.0983316572</td><td>missense_variant</td><td>ENSG00000152254</td><td>G6PC2</td><td>ENSP00000364512.3:p.Ser342Cys                              </td><td>TRUE</td><td>TRUE</td><td>NA</td><td>yes</td></tr>\n",
       "\t<tr><td>17</td><td> 76130575</td><td>A</td><td>T</td><td>rs7208422  </td><td>17:76130575:A:T</td><td>HbA1c  </td><td>Diabetes</td><td> 0.0171</td><td>0.0024</td><td>⋯</td><td>0.7460000</td><td>0.4745885806</td><td>missense_variant</td><td>ENSG00000167895</td><td>TMC8 </td><td>ENSP00000467482.1:p.Asn83Ile,ENSP00000325561.4:p.Asn306Ile </td><td>TRUE</td><td>TRUE</td><td>NA</td><td>yes</td></tr>\n",
       "\t<tr><td>17</td><td> 76130987</td><td>G</td><td>T</td><td>rs112802399</td><td>17:76130987:G:T</td><td>HbA1c  </td><td>Diabetes</td><td>-0.0718</td><td>0.0068</td><td>⋯</td><td>0.1086000</td><td>0.0328658667</td><td>missense_variant</td><td>ENSG00000167895</td><td>TMC8 </td><td>ENSP00000467482.1:p.Gly119Trp,ENSP00000325561.4:p.Gly342Trp</td><td>TRUE</td><td>TRUE</td><td>NA</td><td>yes</td></tr>\n",
       "\t<tr><td>17</td><td> 76133356</td><td>G</td><td>A</td><td>rs150546646</td><td>17:76133356:G:A</td><td>HbA1c  </td><td>Diabetes</td><td> 0.2698</td><td>0.0454</td><td>⋯</td><td>0.4423000</td><td>0.0006839864</td><td>missense_variant</td><td>ENSG00000167895</td><td>TMC8 </td><td>ENSP00000325561.4:p.Val390Ile,ENSP00000467482.1:p.Val167Ile</td><td>TRUE</td><td>TRUE</td><td>NA</td><td>yes</td></tr>\n",
       "\t<tr><td>17</td><td> 76134467</td><td>C</td><td>T</td><td>rs144120533</td><td>17:76134467:C:T</td><td>HbA1c  </td><td>Diabetes</td><td>-0.3688</td><td>0.0220</td><td>⋯</td><td>0.8166000</td><td>0.0031748481</td><td>missense_variant</td><td>ENSG00000167895</td><td>TMC8 </td><td>ENSP00000467482.1:p.Pro301Leu,ENSP00000325561.4:p.Pro524Leu</td><td>TRUE</td><td>TRUE</td><td>NA</td><td>yes</td></tr>\n",
       "</tbody>\n",
       "</table>\n"
      ],
      "text/latex": [
       "A spec\\_tbl\\_df: 11 × 25\n",
       "\\begin{tabular}{lllllllllllllllllllll}\n",
       " CHROM & POS & REF & ALT & ID & variant & Trait & Trait category & BETA & SE & ⋯ & HetPVal & MAF & Consequence & Gene & Gene symbol & HGVSp & is outside of MHC & LD independent & Comments & Novel\\\\\n",
       " <dbl> & <dbl> & <chr> & <chr> & <chr> & <chr> & <chr> & <chr> & <dbl> & <dbl> & ⋯ & <dbl> & <dbl> & <chr> & <chr> & <chr> & <chr> & <lgl> & <lgl> & <chr> & <chr>\\\\\n",
       "\\hline\n",
       "\t  2 & 169763262 & C & T & rs138726309 & 2:169763262:C:T & Glucose & Diabetes & -0.2500 & 0.0241 & ⋯ & 0.2447000 & 0.0027990532 & missense\\_variant & ENSG00000152254 & G6PC2 & ENSP00000364512.3:p.His177Tyr                               & TRUE & TRUE & NA & yes\\\\\n",
       "\t  2 & 169763262 & C & T & rs138726309 & 2:169763262:C:T & HbA1c   & Diabetes & -0.1811 & 0.0236 & ⋯ & 0.8087000 & 0.0027990532 & missense\\_variant & ENSG00000152254 & G6PC2 & ENSP00000364512.3:p.His177Tyr                               & TRUE & TRUE & NA & yes\\\\\n",
       "\t  2 & 169764141 & A & C & rs2232323   & 2:169764141:A:C & Glucose & Diabetes & -0.2607 & 0.0160 & ⋯ & 0.8068000 & 0.0058855479 & missense\\_variant & ENSG00000152254 & G6PC2 & ENSP00000364512.3:p.Tyr207Ser                               & TRUE & TRUE & NA & no \\\\\n",
       "\t  2 & 169764141 & A & C & rs2232323   & 2:169764141:A:C & HbA1c   & Diabetes & -0.1831 & 0.0156 & ⋯ & 0.3385000 & 0.0058855479 & missense\\_variant & ENSG00000152254 & G6PC2 & ENSP00000364512.3:p.Tyr207Ser                               & TRUE & TRUE & NA & no \\\\\n",
       "\t  2 & 169764491 & T & C & rs2232326   & 2:169764491:T:C & Glucose & Diabetes & -0.2783 & 0.0300 & ⋯ & 0.7173000 & 0.0016748754 & missense\\_variant & ENSG00000152254 & G6PC2 & ENSP00000364512.3:p.Ser324Pro                               & TRUE & TRUE & NA & yes\\\\\n",
       "\t  2 & 169764546 & C & G & rs2232328   & 2:169764546:C:G & Glucose & Diabetes &  0.0792 & 0.0041 & ⋯ & 0.0000138 & 0.0983316572 & missense\\_variant & ENSG00000152254 & G6PC2 & ENSP00000364512.3:p.Ser342Cys                               & TRUE & TRUE & NA & yes\\\\\n",
       "\t  2 & 169764546 & C & G & rs2232328   & 2:169764546:C:G & HbA1c   & Diabetes &  0.0422 & 0.0041 & ⋯ & 0.0099090 & 0.0983316572 & missense\\_variant & ENSG00000152254 & G6PC2 & ENSP00000364512.3:p.Ser342Cys                               & TRUE & TRUE & NA & yes\\\\\n",
       "\t 17 &  76130575 & A & T & rs7208422   & 17:76130575:A:T & HbA1c   & Diabetes &  0.0171 & 0.0024 & ⋯ & 0.7460000 & 0.4745885806 & missense\\_variant & ENSG00000167895 & TMC8  & ENSP00000467482.1:p.Asn83Ile,ENSP00000325561.4:p.Asn306Ile  & TRUE & TRUE & NA & yes\\\\\n",
       "\t 17 &  76130987 & G & T & rs112802399 & 17:76130987:G:T & HbA1c   & Diabetes & -0.0718 & 0.0068 & ⋯ & 0.1086000 & 0.0328658667 & missense\\_variant & ENSG00000167895 & TMC8  & ENSP00000467482.1:p.Gly119Trp,ENSP00000325561.4:p.Gly342Trp & TRUE & TRUE & NA & yes\\\\\n",
       "\t 17 &  76133356 & G & A & rs150546646 & 17:76133356:G:A & HbA1c   & Diabetes &  0.2698 & 0.0454 & ⋯ & 0.4423000 & 0.0006839864 & missense\\_variant & ENSG00000167895 & TMC8  & ENSP00000325561.4:p.Val390Ile,ENSP00000467482.1:p.Val167Ile & TRUE & TRUE & NA & yes\\\\\n",
       "\t 17 &  76134467 & C & T & rs144120533 & 17:76134467:C:T & HbA1c   & Diabetes & -0.3688 & 0.0220 & ⋯ & 0.8166000 & 0.0031748481 & missense\\_variant & ENSG00000167895 & TMC8  & ENSP00000467482.1:p.Pro301Leu,ENSP00000325561.4:p.Pro524Leu & TRUE & TRUE & NA & yes\\\\\n",
       "\\end{tabular}\n"
      ],
      "text/markdown": [
       "\n",
       "A spec_tbl_df: 11 × 25\n",
       "\n",
       "| CHROM &lt;dbl&gt; | POS &lt;dbl&gt; | REF &lt;chr&gt; | ALT &lt;chr&gt; | ID &lt;chr&gt; | variant &lt;chr&gt; | Trait &lt;chr&gt; | Trait category &lt;chr&gt; | BETA &lt;dbl&gt; | SE &lt;dbl&gt; | ⋯ ⋯ | HetPVal &lt;dbl&gt; | MAF &lt;dbl&gt; | Consequence &lt;chr&gt; | Gene &lt;chr&gt; | Gene symbol &lt;chr&gt; | HGVSp &lt;chr&gt; | is outside of MHC &lt;lgl&gt; | LD independent &lt;lgl&gt; | Comments &lt;chr&gt; | Novel &lt;chr&gt; |\n",
       "|---|---|---|---|---|---|---|---|---|---|---|---|---|---|---|---|---|---|---|---|---|\n",
       "|  2 | 169763262 | C | T | rs138726309 | 2:169763262:C:T | Glucose | Diabetes | -0.2500 | 0.0241 | ⋯ | 0.2447000 | 0.0027990532 | missense_variant | ENSG00000152254 | G6PC2 | ENSP00000364512.3:p.His177Tyr                               | TRUE | TRUE | NA | yes |\n",
       "|  2 | 169763262 | C | T | rs138726309 | 2:169763262:C:T | HbA1c   | Diabetes | -0.1811 | 0.0236 | ⋯ | 0.8087000 | 0.0027990532 | missense_variant | ENSG00000152254 | G6PC2 | ENSP00000364512.3:p.His177Tyr                               | TRUE | TRUE | NA | yes |\n",
       "|  2 | 169764141 | A | C | rs2232323   | 2:169764141:A:C | Glucose | Diabetes | -0.2607 | 0.0160 | ⋯ | 0.8068000 | 0.0058855479 | missense_variant | ENSG00000152254 | G6PC2 | ENSP00000364512.3:p.Tyr207Ser                               | TRUE | TRUE | NA | no  |\n",
       "|  2 | 169764141 | A | C | rs2232323   | 2:169764141:A:C | HbA1c   | Diabetes | -0.1831 | 0.0156 | ⋯ | 0.3385000 | 0.0058855479 | missense_variant | ENSG00000152254 | G6PC2 | ENSP00000364512.3:p.Tyr207Ser                               | TRUE | TRUE | NA | no  |\n",
       "|  2 | 169764491 | T | C | rs2232326   | 2:169764491:T:C | Glucose | Diabetes | -0.2783 | 0.0300 | ⋯ | 0.7173000 | 0.0016748754 | missense_variant | ENSG00000152254 | G6PC2 | ENSP00000364512.3:p.Ser324Pro                               | TRUE | TRUE | NA | yes |\n",
       "|  2 | 169764546 | C | G | rs2232328   | 2:169764546:C:G | Glucose | Diabetes |  0.0792 | 0.0041 | ⋯ | 0.0000138 | 0.0983316572 | missense_variant | ENSG00000152254 | G6PC2 | ENSP00000364512.3:p.Ser342Cys                               | TRUE | TRUE | NA | yes |\n",
       "|  2 | 169764546 | C | G | rs2232328   | 2:169764546:C:G | HbA1c   | Diabetes |  0.0422 | 0.0041 | ⋯ | 0.0099090 | 0.0983316572 | missense_variant | ENSG00000152254 | G6PC2 | ENSP00000364512.3:p.Ser342Cys                               | TRUE | TRUE | NA | yes |\n",
       "| 17 |  76130575 | A | T | rs7208422   | 17:76130575:A:T | HbA1c   | Diabetes |  0.0171 | 0.0024 | ⋯ | 0.7460000 | 0.4745885806 | missense_variant | ENSG00000167895 | TMC8  | ENSP00000467482.1:p.Asn83Ile,ENSP00000325561.4:p.Asn306Ile  | TRUE | TRUE | NA | yes |\n",
       "| 17 |  76130987 | G | T | rs112802399 | 17:76130987:G:T | HbA1c   | Diabetes | -0.0718 | 0.0068 | ⋯ | 0.1086000 | 0.0328658667 | missense_variant | ENSG00000167895 | TMC8  | ENSP00000467482.1:p.Gly119Trp,ENSP00000325561.4:p.Gly342Trp | TRUE | TRUE | NA | yes |\n",
       "| 17 |  76133356 | G | A | rs150546646 | 17:76133356:G:A | HbA1c   | Diabetes |  0.2698 | 0.0454 | ⋯ | 0.4423000 | 0.0006839864 | missense_variant | ENSG00000167895 | TMC8  | ENSP00000325561.4:p.Val390Ile,ENSP00000467482.1:p.Val167Ile | TRUE | TRUE | NA | yes |\n",
       "| 17 |  76134467 | C | T | rs144120533 | 17:76134467:C:T | HbA1c   | Diabetes | -0.3688 | 0.0220 | ⋯ | 0.8166000 | 0.0031748481 | missense_variant | ENSG00000167895 | TMC8  | ENSP00000467482.1:p.Pro301Leu,ENSP00000325561.4:p.Pro524Leu | TRUE | TRUE | NA | yes |\n",
       "\n"
      ],
      "text/plain": [
       "   CHROM POS       REF ALT ID          variant         Trait   Trait category\n",
       "1   2    169763262 C   T   rs138726309 2:169763262:C:T Glucose Diabetes      \n",
       "2   2    169763262 C   T   rs138726309 2:169763262:C:T HbA1c   Diabetes      \n",
       "3   2    169764141 A   C   rs2232323   2:169764141:A:C Glucose Diabetes      \n",
       "4   2    169764141 A   C   rs2232323   2:169764141:A:C HbA1c   Diabetes      \n",
       "5   2    169764491 T   C   rs2232326   2:169764491:T:C Glucose Diabetes      \n",
       "6   2    169764546 C   G   rs2232328   2:169764546:C:G Glucose Diabetes      \n",
       "7   2    169764546 C   G   rs2232328   2:169764546:C:G HbA1c   Diabetes      \n",
       "8  17     76130575 A   T   rs7208422   17:76130575:A:T HbA1c   Diabetes      \n",
       "9  17     76130987 G   T   rs112802399 17:76130987:G:T HbA1c   Diabetes      \n",
       "10 17     76133356 G   A   rs150546646 17:76133356:G:A HbA1c   Diabetes      \n",
       "11 17     76134467 C   T   rs144120533 17:76134467:C:T HbA1c   Diabetes      \n",
       "   BETA    SE     ⋯ HetPVal   MAF          Consequence      Gene           \n",
       "1  -0.2500 0.0241 ⋯ 0.2447000 0.0027990532 missense_variant ENSG00000152254\n",
       "2  -0.1811 0.0236 ⋯ 0.8087000 0.0027990532 missense_variant ENSG00000152254\n",
       "3  -0.2607 0.0160 ⋯ 0.8068000 0.0058855479 missense_variant ENSG00000152254\n",
       "4  -0.1831 0.0156 ⋯ 0.3385000 0.0058855479 missense_variant ENSG00000152254\n",
       "5  -0.2783 0.0300 ⋯ 0.7173000 0.0016748754 missense_variant ENSG00000152254\n",
       "6   0.0792 0.0041 ⋯ 0.0000138 0.0983316572 missense_variant ENSG00000152254\n",
       "7   0.0422 0.0041 ⋯ 0.0099090 0.0983316572 missense_variant ENSG00000152254\n",
       "8   0.0171 0.0024 ⋯ 0.7460000 0.4745885806 missense_variant ENSG00000167895\n",
       "9  -0.0718 0.0068 ⋯ 0.1086000 0.0328658667 missense_variant ENSG00000167895\n",
       "10  0.2698 0.0454 ⋯ 0.4423000 0.0006839864 missense_variant ENSG00000167895\n",
       "11 -0.3688 0.0220 ⋯ 0.8166000 0.0031748481 missense_variant ENSG00000167895\n",
       "   Gene symbol HGVSp                                                      \n",
       "1  G6PC2       ENSP00000364512.3:p.His177Tyr                              \n",
       "2  G6PC2       ENSP00000364512.3:p.His177Tyr                              \n",
       "3  G6PC2       ENSP00000364512.3:p.Tyr207Ser                              \n",
       "4  G6PC2       ENSP00000364512.3:p.Tyr207Ser                              \n",
       "5  G6PC2       ENSP00000364512.3:p.Ser324Pro                              \n",
       "6  G6PC2       ENSP00000364512.3:p.Ser342Cys                              \n",
       "7  G6PC2       ENSP00000364512.3:p.Ser342Cys                              \n",
       "8  TMC8        ENSP00000467482.1:p.Asn83Ile,ENSP00000325561.4:p.Asn306Ile \n",
       "9  TMC8        ENSP00000467482.1:p.Gly119Trp,ENSP00000325561.4:p.Gly342Trp\n",
       "10 TMC8        ENSP00000325561.4:p.Val390Ile,ENSP00000467482.1:p.Val167Ile\n",
       "11 TMC8        ENSP00000467482.1:p.Pro301Leu,ENSP00000325561.4:p.Pro524Leu\n",
       "   is outside of MHC LD independent Comments Novel\n",
       "1  TRUE              TRUE           NA       yes  \n",
       "2  TRUE              TRUE           NA       yes  \n",
       "3  TRUE              TRUE           NA       no   \n",
       "4  TRUE              TRUE           NA       no   \n",
       "5  TRUE              TRUE           NA       yes  \n",
       "6  TRUE              TRUE           NA       yes  \n",
       "7  TRUE              TRUE           NA       yes  \n",
       "8  TRUE              TRUE           NA       yes  \n",
       "9  TRUE              TRUE           NA       yes  \n",
       "10 TRUE              TRUE           NA       yes  \n",
       "11 TRUE              TRUE           NA       yes  "
      ]
     },
     "metadata": {},
     "output_type": "display_data"
    }
   ],
   "source": [
    "gwas_pavs_df %>%\n",
    "filter(`Trait category` == 'Diabetes') %>%\n",
    "filter(`Gene symbol` %in% c('TMC8', 'G6PC2'))"
   ]
  },
  {
   "cell_type": "code",
   "execution_count": 17,
   "metadata": {},
   "outputs": [],
   "source": [
    "bind_rows(\n",
    "    gwas_ptvs_df %>% filter(`Trait category` == 'Diabetes') %>% mutate(Csq = 'PTVs'),\n",
    "    gwas_pavs_df %>% filter(`Trait category` == 'Diabetes') %>%\n",
    "    filter(`Gene symbol` %in% c('TMC8', 'G6PC2')) %>% mutate(Csq = 'PAVs')\n",
    ") -> df\n",
    "\n"
   ]
  },
  {
   "cell_type": "code",
   "execution_count": 20,
   "metadata": {},
   "outputs": [
    {
     "data": {
      "text/html": [
       "10"
      ],
      "text/latex": [
       "10"
      ],
      "text/markdown": [
       "10"
      ],
      "text/plain": [
       "[1] 10"
      ]
     },
     "metadata": {},
     "output_type": "display_data"
    }
   ],
   "source": [
    "df %>% pull(ID) %>% unique() %>% length()"
   ]
  },
  {
   "cell_type": "code",
   "execution_count": 25,
   "metadata": {},
   "outputs": [
    {
     "name": "stderr",
     "output_type": "stream",
     "text": [
      "Joining, by = \"ID\"\n",
      "\n"
     ]
    },
    {
     "data": {
      "text/html": [
       "<table>\n",
       "<caption>A data.table: 10 × 12</caption>\n",
       "<thead>\n",
       "\t<tr><th scope=col>CHROM</th><th scope=col>POS</th><th scope=col>ID</th><th scope=col>REF</th><th scope=col>ALT</th><th scope=col>OBS_CT</th><th scope=col>OR</th><th scope=col>LOG(OR)_SE</th><th scope=col>Z_STAT</th><th scope=col>P</th><th scope=col>Csq</th><th scope=col>Gene symbol</th></tr>\n",
       "\t<tr><th scope=col>&lt;chr&gt;</th><th scope=col>&lt;int&gt;</th><th scope=col>&lt;chr&gt;</th><th scope=col>&lt;chr&gt;</th><th scope=col>&lt;chr&gt;</th><th scope=col>&lt;int&gt;</th><th scope=col>&lt;dbl&gt;</th><th scope=col>&lt;dbl&gt;</th><th scope=col>&lt;dbl&gt;</th><th scope=col>&lt;dbl&gt;</th><th scope=col>&lt;chr&gt;</th><th scope=col>&lt;chr&gt;</th></tr>\n",
       "</thead>\n",
       "<tbody>\n",
       "\t<tr><td>2 </td><td>169763262</td><td>rs138726309  </td><td>C</td><td>T</td><td>336653</td><td>1.041920</td><td>0.09071120</td><td> 0.452726</td><td>0.65074600</td><td>PAVs</td><td>G6PC2</td></tr>\n",
       "\t<tr><td>2 </td><td>169764141</td><td>rs2232323    </td><td>A</td><td>C</td><td>336857</td><td>0.959710</td><td>0.06464100</td><td>-0.636189</td><td>0.52465400</td><td>PAVs</td><td>G6PC2</td></tr>\n",
       "\t<tr><td>2 </td><td>169764491</td><td>rs2232326    </td><td>T</td><td>C</td><td>336970</td><td>1.330460</td><td>0.10578000</td><td> 2.699230</td><td>0.00695005</td><td>PAVs</td><td>G6PC2</td></tr>\n",
       "\t<tr><td>2 </td><td>169764546</td><td>rs2232328    </td><td>C</td><td>G</td><td>336013</td><td>0.986807</td><td>0.01647940</td><td>-0.805933</td><td>0.42028100</td><td>PAVs</td><td>G6PC2</td></tr>\n",
       "\t<tr><td>6 </td><td> 49604368</td><td>Affx-80229810</td><td>C</td><td>T</td><td>336993</td><td>1.304850</td><td>0.29333400</td><td> 0.907122</td><td>0.36434200</td><td>PTVs</td><td>RHAG </td></tr>\n",
       "\t<tr><td>11</td><td> 47306630</td><td>rs35233100   </td><td>C</td><td>T</td><td>336785</td><td>0.983687</td><td>0.02008680</td><td>-0.818809</td><td>0.41289500</td><td>PTVs</td><td>MADD </td></tr>\n",
       "\t<tr><td>17</td><td> 76130575</td><td>rs7208422    </td><td>A</td><td>T</td><td>335902</td><td>0.997017</td><td>0.00974697</td><td>-0.306477</td><td>0.75924100</td><td>PAVs</td><td>TMC8 </td></tr>\n",
       "\t<tr><td>17</td><td> 76130987</td><td>rs112802399  </td><td>G</td><td>T</td><td>336282</td><td>1.012680</td><td>0.02722040</td><td> 0.462742</td><td>0.64354900</td><td>PAVs</td><td>TMC8 </td></tr>\n",
       "\t<tr><td>17</td><td> 76133356</td><td>rs150546646  </td><td>G</td><td>A</td><td>336925</td><td>1.290620</td><td>0.16943900</td><td> 1.505670</td><td>0.13215100</td><td>PAVs</td><td>TMC8 </td></tr>\n",
       "\t<tr><td>17</td><td> 76134467</td><td>rs144120533  </td><td>C</td><td>T</td><td>336954</td><td>0.953270</td><td>0.08750740</td><td>-0.546897</td><td>0.58445000</td><td>PAVs</td><td>TMC8 </td></tr>\n",
       "</tbody>\n",
       "</table>\n"
      ],
      "text/latex": [
       "A data.table: 10 × 12\n",
       "\\begin{tabular}{llllllllllll}\n",
       " CHROM & POS & ID & REF & ALT & OBS\\_CT & OR & LOG(OR)\\_SE & Z\\_STAT & P & Csq & Gene symbol\\\\\n",
       " <chr> & <int> & <chr> & <chr> & <chr> & <int> & <dbl> & <dbl> & <dbl> & <dbl> & <chr> & <chr>\\\\\n",
       "\\hline\n",
       "\t 2  & 169763262 & rs138726309   & C & T & 336653 & 1.041920 & 0.09071120 &  0.452726 & 0.65074600 & PAVs & G6PC2\\\\\n",
       "\t 2  & 169764141 & rs2232323     & A & C & 336857 & 0.959710 & 0.06464100 & -0.636189 & 0.52465400 & PAVs & G6PC2\\\\\n",
       "\t 2  & 169764491 & rs2232326     & T & C & 336970 & 1.330460 & 0.10578000 &  2.699230 & 0.00695005 & PAVs & G6PC2\\\\\n",
       "\t 2  & 169764546 & rs2232328     & C & G & 336013 & 0.986807 & 0.01647940 & -0.805933 & 0.42028100 & PAVs & G6PC2\\\\\n",
       "\t 6  &  49604368 & Affx-80229810 & C & T & 336993 & 1.304850 & 0.29333400 &  0.907122 & 0.36434200 & PTVs & RHAG \\\\\n",
       "\t 11 &  47306630 & rs35233100    & C & T & 336785 & 0.983687 & 0.02008680 & -0.818809 & 0.41289500 & PTVs & MADD \\\\\n",
       "\t 17 &  76130575 & rs7208422     & A & T & 335902 & 0.997017 & 0.00974697 & -0.306477 & 0.75924100 & PAVs & TMC8 \\\\\n",
       "\t 17 &  76130987 & rs112802399   & G & T & 336282 & 1.012680 & 0.02722040 &  0.462742 & 0.64354900 & PAVs & TMC8 \\\\\n",
       "\t 17 &  76133356 & rs150546646   & G & A & 336925 & 1.290620 & 0.16943900 &  1.505670 & 0.13215100 & PAVs & TMC8 \\\\\n",
       "\t 17 &  76134467 & rs144120533   & C & T & 336954 & 0.953270 & 0.08750740 & -0.546897 & 0.58445000 & PAVs & TMC8 \\\\\n",
       "\\end{tabular}\n"
      ],
      "text/markdown": [
       "\n",
       "A data.table: 10 × 12\n",
       "\n",
       "| CHROM &lt;chr&gt; | POS &lt;int&gt; | ID &lt;chr&gt; | REF &lt;chr&gt; | ALT &lt;chr&gt; | OBS_CT &lt;int&gt; | OR &lt;dbl&gt; | LOG(OR)_SE &lt;dbl&gt; | Z_STAT &lt;dbl&gt; | P &lt;dbl&gt; | Csq &lt;chr&gt; | Gene symbol &lt;chr&gt; |\n",
       "|---|---|---|---|---|---|---|---|---|---|---|---|\n",
       "| 2  | 169763262 | rs138726309   | C | T | 336653 | 1.041920 | 0.09071120 |  0.452726 | 0.65074600 | PAVs | G6PC2 |\n",
       "| 2  | 169764141 | rs2232323     | A | C | 336857 | 0.959710 | 0.06464100 | -0.636189 | 0.52465400 | PAVs | G6PC2 |\n",
       "| 2  | 169764491 | rs2232326     | T | C | 336970 | 1.330460 | 0.10578000 |  2.699230 | 0.00695005 | PAVs | G6PC2 |\n",
       "| 2  | 169764546 | rs2232328     | C | G | 336013 | 0.986807 | 0.01647940 | -0.805933 | 0.42028100 | PAVs | G6PC2 |\n",
       "| 6  |  49604368 | Affx-80229810 | C | T | 336993 | 1.304850 | 0.29333400 |  0.907122 | 0.36434200 | PTVs | RHAG  |\n",
       "| 11 |  47306630 | rs35233100    | C | T | 336785 | 0.983687 | 0.02008680 | -0.818809 | 0.41289500 | PTVs | MADD  |\n",
       "| 17 |  76130575 | rs7208422     | A | T | 335902 | 0.997017 | 0.00974697 | -0.306477 | 0.75924100 | PAVs | TMC8  |\n",
       "| 17 |  76130987 | rs112802399   | G | T | 336282 | 1.012680 | 0.02722040 |  0.462742 | 0.64354900 | PAVs | TMC8  |\n",
       "| 17 |  76133356 | rs150546646   | G | A | 336925 | 1.290620 | 0.16943900 |  1.505670 | 0.13215100 | PAVs | TMC8  |\n",
       "| 17 |  76134467 | rs144120533   | C | T | 336954 | 0.953270 | 0.08750740 | -0.546897 | 0.58445000 | PAVs | TMC8  |\n",
       "\n"
      ],
      "text/plain": [
       "   CHROM POS       ID            REF ALT OBS_CT OR       LOG(OR)_SE Z_STAT   \n",
       "1  2     169763262 rs138726309   C   T   336653 1.041920 0.09071120  0.452726\n",
       "2  2     169764141 rs2232323     A   C   336857 0.959710 0.06464100 -0.636189\n",
       "3  2     169764491 rs2232326     T   C   336970 1.330460 0.10578000  2.699230\n",
       "4  2     169764546 rs2232328     C   G   336013 0.986807 0.01647940 -0.805933\n",
       "5  6      49604368 Affx-80229810 C   T   336993 1.304850 0.29333400  0.907122\n",
       "6  11     47306630 rs35233100    C   T   336785 0.983687 0.02008680 -0.818809\n",
       "7  17     76130575 rs7208422     A   T   335902 0.997017 0.00974697 -0.306477\n",
       "8  17     76130987 rs112802399   G   T   336282 1.012680 0.02722040  0.462742\n",
       "9  17     76133356 rs150546646   G   A   336925 1.290620 0.16943900  1.505670\n",
       "10 17     76134467 rs144120533   C   T   336954 0.953270 0.08750740 -0.546897\n",
       "   P          Csq  Gene symbol\n",
       "1  0.65074600 PAVs G6PC2      \n",
       "2  0.52465400 PAVs G6PC2      \n",
       "3  0.00695005 PAVs G6PC2      \n",
       "4  0.42028100 PAVs G6PC2      \n",
       "5  0.36434200 PTVs RHAG       \n",
       "6  0.41289500 PTVs MADD       \n",
       "7  0.75924100 PAVs TMC8       \n",
       "8  0.64354900 PAVs TMC8       \n",
       "9  0.13215100 PAVs TMC8       \n",
       "10 0.58445000 PAVs TMC8       "
      ]
     },
     "metadata": {},
     "output_type": "display_data"
    }
   ],
   "source": [
    "HC221_df %>%\n",
    "filter(ID %in% unique(df %>% pull(ID))) %>%\n",
    "left_join(\n",
    "    df %>% select(ID, Csq, `Gene symbol`) %>% unique()\n",
    ") %>%\n",
    "select(-A1, -`FIRTH?`, -ERRCODE, -TEST)"
   ]
  },
  {
   "cell_type": "code",
   "execution_count": 28,
   "metadata": {},
   "outputs": [
    {
     "data": {
      "text/html": [
       "<style>\n",
       ".list-inline {list-style: none; margin:0; padding: 0}\n",
       ".list-inline>li {display: inline-block}\n",
       ".list-inline>li:not(:last-child)::after {content: \"\\00b7\"; padding: 0 .5ex}\n",
       "</style>\n",
       "<ol class=list-inline><li>'rs41270807'</li><li>'rs41271951'</li><li>'rs41310885'</li><li>'rs41273491'</li><li>'rs201514157'</li><li>'rs148912436'</li><li>'rs3811444'</li><li>'rs3731620'</li><li>'rs115528845'</li><li>'rs112438419'</li><li>'rs138726309'</li><li>'rs2232323'</li><li>'rs2232326'</li><li>'rs2232328'</li><li>'rs3087866'</li><li>'rs13077498'</li><li>'rs35726701'</li><li>'rs34823813'</li><li>'rs149535568'</li><li>'rs734312'</li><li>'rs17253672'</li><li>'rs146886108'</li><li>'rs35742417'</li><li>'rs913455'</li><li>'rs13928'</li><li>'rs41303495'</li><li>'rs8176059'</li><li>'rs34664882'</li><li>'rs142626656'</li><li>'rs3731249'</li><li>'rs17853166'</li><li>'rs11244035'</li><li>'rs41302673'</li><li>'rs148886636'</li><li>'rs906220'</li><li>'Affx-4757833'</li><li>'rs3842752'</li><li>'Affx-4636924'</li><li>'rs35169799'</li><li>'Affx-8095644'</li><li>'rs2731073'</li><li>'rs1126930'</li><li>'rs72681869'</li><li>'rs8059048'</li><li>'rs201226914'</li><li>'rs1042522'</li><li>'rs3841687'</li><li>'rs7208422'</li><li>'rs112802399'</li><li>'rs150546646'</li><li>'rs144120533'</li><li>'rs72897843'</li><li>'rs145500346'</li><li>'rs36084354'</li><li>'rs1057037'</li><li>'rs11549795'</li><li>'rs138158369'</li></ol>\n"
      ],
      "text/latex": [
       "\\begin{enumerate*}\n",
       "\\item 'rs41270807'\n",
       "\\item 'rs41271951'\n",
       "\\item 'rs41310885'\n",
       "\\item 'rs41273491'\n",
       "\\item 'rs201514157'\n",
       "\\item 'rs148912436'\n",
       "\\item 'rs3811444'\n",
       "\\item 'rs3731620'\n",
       "\\item 'rs115528845'\n",
       "\\item 'rs112438419'\n",
       "\\item 'rs138726309'\n",
       "\\item 'rs2232323'\n",
       "\\item 'rs2232326'\n",
       "\\item 'rs2232328'\n",
       "\\item 'rs3087866'\n",
       "\\item 'rs13077498'\n",
       "\\item 'rs35726701'\n",
       "\\item 'rs34823813'\n",
       "\\item 'rs149535568'\n",
       "\\item 'rs734312'\n",
       "\\item 'rs17253672'\n",
       "\\item 'rs146886108'\n",
       "\\item 'rs35742417'\n",
       "\\item 'rs913455'\n",
       "\\item 'rs13928'\n",
       "\\item 'rs41303495'\n",
       "\\item 'rs8176059'\n",
       "\\item 'rs34664882'\n",
       "\\item 'rs142626656'\n",
       "\\item 'rs3731249'\n",
       "\\item 'rs17853166'\n",
       "\\item 'rs11244035'\n",
       "\\item 'rs41302673'\n",
       "\\item 'rs148886636'\n",
       "\\item 'rs906220'\n",
       "\\item 'Affx-4757833'\n",
       "\\item 'rs3842752'\n",
       "\\item 'Affx-4636924'\n",
       "\\item 'rs35169799'\n",
       "\\item 'Affx-8095644'\n",
       "\\item 'rs2731073'\n",
       "\\item 'rs1126930'\n",
       "\\item 'rs72681869'\n",
       "\\item 'rs8059048'\n",
       "\\item 'rs201226914'\n",
       "\\item 'rs1042522'\n",
       "\\item 'rs3841687'\n",
       "\\item 'rs7208422'\n",
       "\\item 'rs112802399'\n",
       "\\item 'rs150546646'\n",
       "\\item 'rs144120533'\n",
       "\\item 'rs72897843'\n",
       "\\item 'rs145500346'\n",
       "\\item 'rs36084354'\n",
       "\\item 'rs1057037'\n",
       "\\item 'rs11549795'\n",
       "\\item 'rs138158369'\n",
       "\\end{enumerate*}\n"
      ],
      "text/markdown": [
       "1. 'rs41270807'\n",
       "2. 'rs41271951'\n",
       "3. 'rs41310885'\n",
       "4. 'rs41273491'\n",
       "5. 'rs201514157'\n",
       "6. 'rs148912436'\n",
       "7. 'rs3811444'\n",
       "8. 'rs3731620'\n",
       "9. 'rs115528845'\n",
       "10. 'rs112438419'\n",
       "11. 'rs138726309'\n",
       "12. 'rs2232323'\n",
       "13. 'rs2232326'\n",
       "14. 'rs2232328'\n",
       "15. 'rs3087866'\n",
       "16. 'rs13077498'\n",
       "17. 'rs35726701'\n",
       "18. 'rs34823813'\n",
       "19. 'rs149535568'\n",
       "20. 'rs734312'\n",
       "21. 'rs17253672'\n",
       "22. 'rs146886108'\n",
       "23. 'rs35742417'\n",
       "24. 'rs913455'\n",
       "25. 'rs13928'\n",
       "26. 'rs41303495'\n",
       "27. 'rs8176059'\n",
       "28. 'rs34664882'\n",
       "29. 'rs142626656'\n",
       "30. 'rs3731249'\n",
       "31. 'rs17853166'\n",
       "32. 'rs11244035'\n",
       "33. 'rs41302673'\n",
       "34. 'rs148886636'\n",
       "35. 'rs906220'\n",
       "36. 'Affx-4757833'\n",
       "37. 'rs3842752'\n",
       "38. 'Affx-4636924'\n",
       "39. 'rs35169799'\n",
       "40. 'Affx-8095644'\n",
       "41. 'rs2731073'\n",
       "42. 'rs1126930'\n",
       "43. 'rs72681869'\n",
       "44. 'rs8059048'\n",
       "45. 'rs201226914'\n",
       "46. 'rs1042522'\n",
       "47. 'rs3841687'\n",
       "48. 'rs7208422'\n",
       "49. 'rs112802399'\n",
       "50. 'rs150546646'\n",
       "51. 'rs144120533'\n",
       "52. 'rs72897843'\n",
       "53. 'rs145500346'\n",
       "54. 'rs36084354'\n",
       "55. 'rs1057037'\n",
       "56. 'rs11549795'\n",
       "57. 'rs138158369'\n",
       "\n",
       "\n"
      ],
      "text/plain": [
       " [1] \"rs41270807\"   \"rs41271951\"   \"rs41310885\"   \"rs41273491\"   \"rs201514157\" \n",
       " [6] \"rs148912436\"  \"rs3811444\"    \"rs3731620\"    \"rs115528845\"  \"rs112438419\" \n",
       "[11] \"rs138726309\"  \"rs2232323\"    \"rs2232326\"    \"rs2232328\"    \"rs3087866\"   \n",
       "[16] \"rs13077498\"   \"rs35726701\"   \"rs34823813\"   \"rs149535568\"  \"rs734312\"    \n",
       "[21] \"rs17253672\"   \"rs146886108\"  \"rs35742417\"   \"rs913455\"     \"rs13928\"     \n",
       "[26] \"rs41303495\"   \"rs8176059\"    \"rs34664882\"   \"rs142626656\"  \"rs3731249\"   \n",
       "[31] \"rs17853166\"   \"rs11244035\"   \"rs41302673\"   \"rs148886636\"  \"rs906220\"    \n",
       "[36] \"Affx-4757833\" \"rs3842752\"    \"Affx-4636924\" \"rs35169799\"   \"Affx-8095644\"\n",
       "[41] \"rs2731073\"    \"rs1126930\"    \"rs72681869\"   \"rs8059048\"    \"rs201226914\" \n",
       "[46] \"rs1042522\"    \"rs3841687\"    \"rs7208422\"    \"rs112802399\"  \"rs150546646\" \n",
       "[51] \"rs144120533\"  \"rs72897843\"   \"rs145500346\"  \"rs36084354\"   \"rs1057037\"   \n",
       "[56] \"rs11549795\"   \"rs138158369\" "
      ]
     },
     "metadata": {},
     "output_type": "display_data"
    }
   ],
   "source": [
    "- rs560887, rs16856187 and rs573225\n",
    "\n",
    "- https://genetics.opentargets.org/variant/2_168907631_A_C\n",
    "  - rs2232323\n",
    "  - Fasting blood glucose\n",
    "- https://genetics.opentargets.org/variant/2_168907981_T_C\n",
    "  - rs2232326\n",
    "  - Blood sugar levels\n",
    "  - Fasting blood glucose\n",
    "- https://genetics.opentargets.org/variant/2_168908036_C_G\n",
    "  - rs2232328\n",
    "  - Fasting blood glucose\n",
    "- \n",
    "- https://genetics.opentargets.org/variant/11_47285079_C_T\n",
    "  - rs35233100\n",
    "  - Trunk fat percentage (UKB)\n",
    "  - Fasting blood proinsulin levels\n"
   ]
  },
  {
   "cell_type": "code",
   "execution_count": 62,
   "metadata": {},
   "outputs": [
    {
     "data": {
      "text/html": [
       "<style>\n",
       ".list-inline {list-style: none; margin:0; padding: 0}\n",
       ".list-inline>li {display: inline-block}\n",
       ".list-inline>li:not(:last-child)::after {content: \"\\00b7\"; padding: 0 .5ex}\n",
       "</style>\n",
       "<ol class=list-inline><li>'CHROM'</li><li>'POS'</li><li>'ID'</li><li>'rsID'</li><li>'GBE ID'</li><li>'REF'</li><li>'ALT'</li><li>'A1'</li><li>'OR'</li><li>'LOG(OR)_SE'</li><li>'P'</li><li>'STAT'</li><li>'GBE short name'</li><li>'Csq'</li><li>'maf'</li><li>'is_rare'</li><li>'Gene_symbol'</li><li>'Gene'</li><li>'HGVSp'</li><li>'Consequence'</li><li>'Is_Novel?'</li><li>'reported_trait'</li><li>'EFO'</li><li>'FinnGen'</li><li>'FinnGen_phenotype'</li><li>'GWAS catalog'</li><li>'GWAS catalog for proxy variant (r2&gt;.9)'</li><li>'r2'</li><li>'FinnGenR2'</li><li>'Note'</li></ol>\n"
      ],
      "text/latex": [
       "\\begin{enumerate*}\n",
       "\\item 'CHROM'\n",
       "\\item 'POS'\n",
       "\\item 'ID'\n",
       "\\item 'rsID'\n",
       "\\item 'GBE ID'\n",
       "\\item 'REF'\n",
       "\\item 'ALT'\n",
       "\\item 'A1'\n",
       "\\item 'OR'\n",
       "\\item 'LOG(OR)\\_SE'\n",
       "\\item 'P'\n",
       "\\item 'STAT'\n",
       "\\item 'GBE short name'\n",
       "\\item 'Csq'\n",
       "\\item 'maf'\n",
       "\\item 'is\\_rare'\n",
       "\\item 'Gene\\_symbol'\n",
       "\\item 'Gene'\n",
       "\\item 'HGVSp'\n",
       "\\item 'Consequence'\n",
       "\\item 'Is\\_Novel?'\n",
       "\\item 'reported\\_trait'\n",
       "\\item 'EFO'\n",
       "\\item 'FinnGen'\n",
       "\\item 'FinnGen\\_phenotype'\n",
       "\\item 'GWAS catalog'\n",
       "\\item 'GWAS catalog for proxy variant (r2>.9)'\n",
       "\\item 'r2'\n",
       "\\item 'FinnGenR2'\n",
       "\\item 'Note'\n",
       "\\end{enumerate*}\n"
      ],
      "text/markdown": [
       "1. 'CHROM'\n",
       "2. 'POS'\n",
       "3. 'ID'\n",
       "4. 'rsID'\n",
       "5. 'GBE ID'\n",
       "6. 'REF'\n",
       "7. 'ALT'\n",
       "8. 'A1'\n",
       "9. 'OR'\n",
       "10. 'LOG(OR)_SE'\n",
       "11. 'P'\n",
       "12. 'STAT'\n",
       "13. 'GBE short name'\n",
       "14. 'Csq'\n",
       "15. 'maf'\n",
       "16. 'is_rare'\n",
       "17. 'Gene_symbol'\n",
       "18. 'Gene'\n",
       "19. 'HGVSp'\n",
       "20. 'Consequence'\n",
       "21. 'Is_Novel?'\n",
       "22. 'reported_trait'\n",
       "23. 'EFO'\n",
       "24. 'FinnGen'\n",
       "25. 'FinnGen_phenotype'\n",
       "26. 'GWAS catalog'\n",
       "27. 'GWAS catalog for proxy variant (r2&gt;.9)'\n",
       "28. 'r2'\n",
       "29. 'FinnGenR2'\n",
       "30. 'Note'\n",
       "\n",
       "\n"
      ],
      "text/plain": [
       " [1] \"CHROM\"                                 \n",
       " [2] \"POS\"                                   \n",
       " [3] \"ID\"                                    \n",
       " [4] \"rsID\"                                  \n",
       " [5] \"GBE ID\"                                \n",
       " [6] \"REF\"                                   \n",
       " [7] \"ALT\"                                   \n",
       " [8] \"A1\"                                    \n",
       " [9] \"OR\"                                    \n",
       "[10] \"LOG(OR)_SE\"                            \n",
       "[11] \"P\"                                     \n",
       "[12] \"STAT\"                                  \n",
       "[13] \"GBE short name\"                        \n",
       "[14] \"Csq\"                                   \n",
       "[15] \"maf\"                                   \n",
       "[16] \"is_rare\"                               \n",
       "[17] \"Gene_symbol\"                           \n",
       "[18] \"Gene\"                                  \n",
       "[19] \"HGVSp\"                                 \n",
       "[20] \"Consequence\"                           \n",
       "[21] \"Is_Novel?\"                             \n",
       "[22] \"reported_trait\"                        \n",
       "[23] \"EFO\"                                   \n",
       "[24] \"FinnGen\"                               \n",
       "[25] \"FinnGen_phenotype\"                     \n",
       "[26] \"GWAS catalog\"                          \n",
       "[27] \"GWAS catalog for proxy variant (r2>.9)\"\n",
       "[28] \"r2\"                                    \n",
       "[29] \"FinnGenR2\"                             \n",
       "[30] \"Note\"                                  "
      ]
     },
     "metadata": {},
     "output_type": "display_data"
    }
   ],
   "source": [
    "phewas_df %>% colnames()"
   ]
  },
  {
   "cell_type": "code",
   "execution_count": 66,
   "metadata": {},
   "outputs": [
    {
     "data": {
      "text/html": [
       "<table>\n",
       "<caption>A tibble: 3 × 20</caption>\n",
       "<thead>\n",
       "\t<tr><th scope=col>CHROM</th><th scope=col>POS</th><th scope=col>ID</th><th scope=col>rsID</th><th scope=col>OR</th><th scope=col>LOG(OR)_SE</th><th scope=col>P</th><th scope=col>STAT</th><th scope=col>Gene_symbol</th><th scope=col>Consequence</th><th scope=col>Is_Novel?</th><th scope=col>reported_trait</th><th scope=col>EFO</th><th scope=col>FinnGen</th><th scope=col>FinnGen_phenotype</th><th scope=col>GWAS catalog</th><th scope=col>GWAS catalog for proxy variant (r2&gt;.9)</th><th scope=col>r2</th><th scope=col>FinnGenR2</th><th scope=col>Note</th></tr>\n",
       "\t<tr><th scope=col>&lt;dbl&gt;</th><th scope=col>&lt;dbl&gt;</th><th scope=col>&lt;chr&gt;</th><th scope=col>&lt;chr&gt;</th><th scope=col>&lt;dbl&gt;</th><th scope=col>&lt;dbl&gt;</th><th scope=col>&lt;dbl&gt;</th><th scope=col>&lt;dbl&gt;</th><th scope=col>&lt;chr&gt;</th><th scope=col>&lt;chr&gt;</th><th scope=col>&lt;lgl&gt;</th><th scope=col>&lt;chr&gt;</th><th scope=col>&lt;chr&gt;</th><th scope=col>&lt;chr&gt;</th><th scope=col>&lt;chr&gt;</th><th scope=col>&lt;chr&gt;</th><th scope=col>&lt;chr&gt;</th><th scope=col>&lt;dbl&gt;</th><th scope=col>&lt;chr&gt;</th><th scope=col>&lt;chr&gt;</th></tr>\n",
       "</thead>\n",
       "<tbody>\n",
       "\t<tr><td> 4</td><td> 6303354</td><td>rs734312    </td><td>rs734312   </td><td>1.086510</td><td>0.0104188</td><td>1.67e-15</td><td> 7.96391</td><td>WFS1  </td><td>missense_variant</td><td>FALSE</td><td>NA                       </td><td>NA                                              </td><td>Diabetes, varying definitions</td><td>http://r2.finngen.fi/pheno/DIABETES_FG</td><td>No entry                                       </td><td>NA</td><td>NA</td><td>http://r2.finngen.fi/variant/4:6301627-G-A  </td><td>NA</td></tr>\n",
       "\t<tr><td> 5</td><td>14751305</td><td>rs146886108 </td><td>rs146886108</td><td>0.659806</td><td>0.0728634</td><td>1.15e-08</td><td>-5.70669</td><td>ANKH  </td><td>missense_variant</td><td>FALSE</td><td>type ii diabetes mellitus</td><td>https://www.ebi.ac.uk/gwas/efotraits/EFO_0001360</td><td>NA                           </td><td>NA                                    </td><td>https://www.ebi.ac.uk/gwas/variants/rs146886108</td><td>NA</td><td>NA</td><td>http://r2.finngen.fi/variant/5:14751196-C-T </td><td>NA</td></tr>\n",
       "\t<tr><td>11</td><td>17409572</td><td>Affx-4636924</td><td>rs5219     </td><td>0.936653</td><td>0.0107060</td><td>9.79e-10</td><td>-6.11273</td><td>KCNJ11</td><td>missense_variant</td><td>FALSE</td><td>type ii diabetes mellitus</td><td>https://www.ebi.ac.uk/gwas/efotraits/EFO_0001360</td><td>Diabetes, varying definitions</td><td>http://r2.finngen.fi/pheno/DIABETES_FG</td><td>https://www.ebi.ac.uk/gwas/variants/rs5219     </td><td>NA</td><td>NA</td><td>http://r2.finngen.fi/variant/11:17388025-T-C</td><td>NA</td></tr>\n",
       "</tbody>\n",
       "</table>\n"
      ],
      "text/latex": [
       "A tibble: 3 × 20\n",
       "\\begin{tabular}{llllllllllllllllllll}\n",
       " CHROM & POS & ID & rsID & OR & LOG(OR)\\_SE & P & STAT & Gene\\_symbol & Consequence & Is\\_Novel? & reported\\_trait & EFO & FinnGen & FinnGen\\_phenotype & GWAS catalog & GWAS catalog for proxy variant (r2>.9) & r2 & FinnGenR2 & Note\\\\\n",
       " <dbl> & <dbl> & <chr> & <chr> & <dbl> & <dbl> & <dbl> & <dbl> & <chr> & <chr> & <lgl> & <chr> & <chr> & <chr> & <chr> & <chr> & <chr> & <dbl> & <chr> & <chr>\\\\\n",
       "\\hline\n",
       "\t  4 &  6303354 & rs734312     & rs734312    & 1.086510 & 0.0104188 & 1.67e-15 &  7.96391 & WFS1   & missense\\_variant & FALSE & NA                        & NA                                               & Diabetes, varying definitions & http://r2.finngen.fi/pheno/DIABETES\\_FG & No entry                                        & NA & NA & http://r2.finngen.fi/variant/4:6301627-G-A   & NA\\\\\n",
       "\t  5 & 14751305 & rs146886108  & rs146886108 & 0.659806 & 0.0728634 & 1.15e-08 & -5.70669 & ANKH   & missense\\_variant & FALSE & type ii diabetes mellitus & https://www.ebi.ac.uk/gwas/efotraits/EFO\\_0001360 & NA                            & NA                                     & https://www.ebi.ac.uk/gwas/variants/rs146886108 & NA & NA & http://r2.finngen.fi/variant/5:14751196-C-T  & NA\\\\\n",
       "\t 11 & 17409572 & Affx-4636924 & rs5219      & 0.936653 & 0.0107060 & 9.79e-10 & -6.11273 & KCNJ11 & missense\\_variant & FALSE & type ii diabetes mellitus & https://www.ebi.ac.uk/gwas/efotraits/EFO\\_0001360 & Diabetes, varying definitions & http://r2.finngen.fi/pheno/DIABETES\\_FG & https://www.ebi.ac.uk/gwas/variants/rs5219      & NA & NA & http://r2.finngen.fi/variant/11:17388025-T-C & NA\\\\\n",
       "\\end{tabular}\n"
      ],
      "text/markdown": [
       "\n",
       "A tibble: 3 × 20\n",
       "\n",
       "| CHROM &lt;dbl&gt; | POS &lt;dbl&gt; | ID &lt;chr&gt; | rsID &lt;chr&gt; | OR &lt;dbl&gt; | LOG(OR)_SE &lt;dbl&gt; | P &lt;dbl&gt; | STAT &lt;dbl&gt; | Gene_symbol &lt;chr&gt; | Consequence &lt;chr&gt; | Is_Novel? &lt;lgl&gt; | reported_trait &lt;chr&gt; | EFO &lt;chr&gt; | FinnGen &lt;chr&gt; | FinnGen_phenotype &lt;chr&gt; | GWAS catalog &lt;chr&gt; | GWAS catalog for proxy variant (r2&gt;.9) &lt;chr&gt; | r2 &lt;dbl&gt; | FinnGenR2 &lt;chr&gt; | Note &lt;chr&gt; |\n",
       "|---|---|---|---|---|---|---|---|---|---|---|---|---|---|---|---|---|---|---|---|\n",
       "|  4 |  6303354 | rs734312     | rs734312    | 1.086510 | 0.0104188 | 1.67e-15 |  7.96391 | WFS1   | missense_variant | FALSE | NA                        | NA                                               | Diabetes, varying definitions | http://r2.finngen.fi/pheno/DIABETES_FG | No entry                                        | NA | NA | http://r2.finngen.fi/variant/4:6301627-G-A   | NA |\n",
       "|  5 | 14751305 | rs146886108  | rs146886108 | 0.659806 | 0.0728634 | 1.15e-08 | -5.70669 | ANKH   | missense_variant | FALSE | type ii diabetes mellitus | https://www.ebi.ac.uk/gwas/efotraits/EFO_0001360 | NA                            | NA                                     | https://www.ebi.ac.uk/gwas/variants/rs146886108 | NA | NA | http://r2.finngen.fi/variant/5:14751196-C-T  | NA |\n",
       "| 11 | 17409572 | Affx-4636924 | rs5219      | 0.936653 | 0.0107060 | 9.79e-10 | -6.11273 | KCNJ11 | missense_variant | FALSE | type ii diabetes mellitus | https://www.ebi.ac.uk/gwas/efotraits/EFO_0001360 | Diabetes, varying definitions | http://r2.finngen.fi/pheno/DIABETES_FG | https://www.ebi.ac.uk/gwas/variants/rs5219      | NA | NA | http://r2.finngen.fi/variant/11:17388025-T-C | NA |\n",
       "\n"
      ],
      "text/plain": [
       "  CHROM POS      ID           rsID        OR       LOG(OR)_SE P        STAT    \n",
       "1  4     6303354 rs734312     rs734312    1.086510 0.0104188  1.67e-15  7.96391\n",
       "2  5    14751305 rs146886108  rs146886108 0.659806 0.0728634  1.15e-08 -5.70669\n",
       "3 11    17409572 Affx-4636924 rs5219      0.936653 0.0107060  9.79e-10 -6.11273\n",
       "  Gene_symbol Consequence      Is_Novel? reported_trait           \n",
       "1 WFS1        missense_variant FALSE     NA                       \n",
       "2 ANKH        missense_variant FALSE     type ii diabetes mellitus\n",
       "3 KCNJ11      missense_variant FALSE     type ii diabetes mellitus\n",
       "  EFO                                             \n",
       "1 NA                                              \n",
       "2 https://www.ebi.ac.uk/gwas/efotraits/EFO_0001360\n",
       "3 https://www.ebi.ac.uk/gwas/efotraits/EFO_0001360\n",
       "  FinnGen                       FinnGen_phenotype                     \n",
       "1 Diabetes, varying definitions http://r2.finngen.fi/pheno/DIABETES_FG\n",
       "2 NA                            NA                                    \n",
       "3 Diabetes, varying definitions http://r2.finngen.fi/pheno/DIABETES_FG\n",
       "  GWAS catalog                                   \n",
       "1 No entry                                       \n",
       "2 https://www.ebi.ac.uk/gwas/variants/rs146886108\n",
       "3 https://www.ebi.ac.uk/gwas/variants/rs5219     \n",
       "  GWAS catalog for proxy variant (r2>.9) r2\n",
       "1 NA                                     NA\n",
       "2 NA                                     NA\n",
       "3 NA                                     NA\n",
       "  FinnGenR2                                    Note\n",
       "1 http://r2.finngen.fi/variant/4:6301627-G-A   NA  \n",
       "2 http://r2.finngen.fi/variant/5:14751196-C-T  NA  \n",
       "3 http://r2.finngen.fi/variant/11:17388025-T-C NA  "
      ]
     },
     "metadata": {},
     "output_type": "display_data"
    }
   ],
   "source": [
    "phewas_df %>%\n",
    "filter(ID %in% (\n",
    "    gwas_pavs_df %>% filter(`Trait category` == 'Diabetes') %>% pull(ID) %>% unique()\n",
    ")) %>%\n",
    "filter(`GBE ID` == 'HC221') %>%\n",
    "select(-HGVSp, -REF, -ALT, -A1, -`GBE ID`, -`GBE short name`, -Csq, -maf, -is_rare, -Gene, -HGVSp)"
   ]
  },
  {
   "cell_type": "code",
   "execution_count": 69,
   "metadata": {},
   "outputs": [
    {
     "data": {
      "text/html": [
       "<table>\n",
       "<caption>A tibble: 3 × 4</caption>\n",
       "<thead>\n",
       "\t<tr><th scope=col>ID</th><th scope=col>OR_str</th><th scope=col>OR</th><th scope=col>SE</th></tr>\n",
       "\t<tr><th scope=col>&lt;chr&gt;</th><th scope=col>&lt;chr&gt;</th><th scope=col>&lt;dbl&gt;</th><th scope=col>&lt;dbl&gt;</th></tr>\n",
       "</thead>\n",
       "<tbody>\n",
       "\t<tr><td>rs734312    </td><td>1.09 [1.06, 1.11]</td><td>1.086510</td><td>0.0104188</td></tr>\n",
       "\t<tr><td>rs146886108 </td><td>0.66 [0.57, 0.76]</td><td>0.659806</td><td>0.0728634</td></tr>\n",
       "\t<tr><td>Affx-4636924</td><td>0.94 [0.92, 0.96]</td><td>0.936653</td><td>0.0107060</td></tr>\n",
       "</tbody>\n",
       "</table>\n"
      ],
      "text/latex": [
       "A tibble: 3 × 4\n",
       "\\begin{tabular}{llll}\n",
       " ID & OR\\_str & OR & SE\\\\\n",
       " <chr> & <chr> & <dbl> & <dbl>\\\\\n",
       "\\hline\n",
       "\t rs734312     & 1.09 {[}1.06, 1.11{]} & 1.086510 & 0.0104188\\\\\n",
       "\t rs146886108  & 0.66 {[}0.57, 0.76{]} & 0.659806 & 0.0728634\\\\\n",
       "\t Affx-4636924 & 0.94 {[}0.92, 0.96{]} & 0.936653 & 0.0107060\\\\\n",
       "\\end{tabular}\n"
      ],
      "text/markdown": [
       "\n",
       "A tibble: 3 × 4\n",
       "\n",
       "| ID &lt;chr&gt; | OR_str &lt;chr&gt; | OR &lt;dbl&gt; | SE &lt;dbl&gt; |\n",
       "|---|---|---|---|\n",
       "| rs734312     | 1.09 [1.06, 1.11] | 1.086510 | 0.0104188 |\n",
       "| rs146886108  | 0.66 [0.57, 0.76] | 0.659806 | 0.0728634 |\n",
       "| Affx-4636924 | 0.94 [0.92, 0.96] | 0.936653 | 0.0107060 |\n",
       "\n"
      ],
      "text/plain": [
       "  ID           OR_str            OR       SE       \n",
       "1 rs734312     1.09 [1.06, 1.11] 1.086510 0.0104188\n",
       "2 rs146886108  0.66 [0.57, 0.76] 0.659806 0.0728634\n",
       "3 Affx-4636924 0.94 [0.92, 0.96] 0.936653 0.0107060"
      ]
     },
     "metadata": {},
     "output_type": "display_data"
    }
   ],
   "source": [
    "phewas_df %>%\n",
    "filter(ID %in% (\n",
    "    gwas_pavs_df %>% filter(`Trait category` == 'Diabetes') %>% pull(ID) %>% unique()\n",
    ")) %>%\n",
    "filter(`GBE ID` == 'HC221') %>%\n",
    "rename('SE'='LOG(OR)_SE') %>%\n",
    "mutate(OR_str = sprintf('%.2f [%.2f, %.2f]', OR, exp(log(OR) - 1.96 * SE), exp(log(OR) + 1.96 * SE))) %>%\n",
    "select(ID, OR_str, OR, SE)"
   ]
  },
  {
   "cell_type": "code",
   "execution_count": 51,
   "metadata": {},
   "outputs": [
    {
     "data": {
      "text/html": [
       "<style>\n",
       ".list-inline {list-style: none; margin:0; padding: 0}\n",
       ".list-inline>li {display: inline-block}\n",
       ".list-inline>li:not(:last-child)::after {content: \"\\00b7\"; padding: 0 .5ex}\n",
       "</style>\n",
       "<ol class=list-inline><li>'rs2476601'</li><li>'rs734312'</li><li>'rs146886108'</li><li>'Affx-4636924'</li><li>'rs58542926'</li><li>'rs137853336'</li></ol>\n"
      ],
      "text/latex": [
       "\\begin{enumerate*}\n",
       "\\item 'rs2476601'\n",
       "\\item 'rs734312'\n",
       "\\item 'rs146886108'\n",
       "\\item 'Affx-4636924'\n",
       "\\item 'rs58542926'\n",
       "\\item 'rs137853336'\n",
       "\\end{enumerate*}\n"
      ],
      "text/markdown": [
       "1. 'rs2476601'\n",
       "2. 'rs734312'\n",
       "3. 'rs146886108'\n",
       "4. 'Affx-4636924'\n",
       "5. 'rs58542926'\n",
       "6. 'rs137853336'\n",
       "\n",
       "\n"
      ],
      "text/plain": [
       "[1] \"rs2476601\"    \"rs734312\"     \"rs146886108\"  \"Affx-4636924\" \"rs58542926\"  \n",
       "[6] \"rs137853336\" "
      ]
     },
     "metadata": {},
     "output_type": "display_data"
    }
   ],
   "source": [
    "phewas_df %>% filter(`GBE ID` == 'HC221') %>% pull(ID) %>% unique()"
   ]
  },
  {
   "cell_type": "code",
   "execution_count": 61,
   "metadata": {},
   "outputs": [
    {
     "data": {
      "text/html": [
       "<table>\n",
       "<caption>A tibble: 5 × 16</caption>\n",
       "<thead>\n",
       "\t<tr><th scope=col>CHROM</th><th scope=col>POS</th><th scope=col>ID</th><th scope=col>variant</th><th scope=col>Trait</th><th scope=col>BETA</th><th scope=col>SE</th><th scope=col>P</th><th scope=col>Direction</th><th scope=col>HetISq</th><th scope=col>HetChiSq</th><th scope=col>HetPVal</th><th scope=col>MAF</th><th scope=col>Consequence</th><th scope=col>Gene symbol</th><th scope=col>Novel</th></tr>\n",
       "\t<tr><th scope=col>&lt;dbl&gt;</th><th scope=col>&lt;dbl&gt;</th><th scope=col>&lt;chr&gt;</th><th scope=col>&lt;chr&gt;</th><th scope=col>&lt;chr&gt;</th><th scope=col>&lt;dbl&gt;</th><th scope=col>&lt;dbl&gt;</th><th scope=col>&lt;dbl&gt;</th><th scope=col>&lt;chr&gt;</th><th scope=col>&lt;dbl&gt;</th><th scope=col>&lt;dbl&gt;</th><th scope=col>&lt;dbl&gt;</th><th scope=col>&lt;dbl&gt;</th><th scope=col>&lt;chr&gt;</th><th scope=col>&lt;chr&gt;</th><th scope=col>&lt;chr&gt;</th></tr>\n",
       "</thead>\n",
       "<tbody>\n",
       "\t<tr><td> 4</td><td> 6303354</td><td>rs734312    </td><td>4:6303354:G:A  </td><td>HbA1c  </td><td> 0.0162</td><td>0.0025</td><td>4.29e-11</td><td>++-+</td><td> 0.0</td><td>1.531</td><td>0.67520</td><td>0.457357447</td><td>missense_variant</td><td>WFS1  </td><td>yes</td></tr>\n",
       "\t<tr><td> 5</td><td>14751305</td><td>rs146886108 </td><td>5:14751305:C:T </td><td>Glucose</td><td>-0.1073</td><td>0.0150</td><td>8.88e-13</td><td>--+-</td><td>62.2</td><td>7.926</td><td>0.04756</td><td>0.007144493</td><td>missense_variant</td><td>ANKH  </td><td>yes</td></tr>\n",
       "\t<tr><td> 5</td><td>14751305</td><td>rs146886108 </td><td>5:14751305:C:T </td><td>HbA1c  </td><td>-0.1681</td><td>0.0146</td><td>1.47e-30</td><td>--+-</td><td> 3.7</td><td>3.116</td><td>0.37410</td><td>0.007144493</td><td>missense_variant</td><td>ANKH  </td><td>yes</td></tr>\n",
       "\t<tr><td>11</td><td>17409572</td><td>Affx-4636924</td><td>11:17409572:T:C</td><td>Glucose</td><td>-0.0200</td><td>0.0026</td><td>1.99e-14</td><td>----</td><td> 0.0</td><td>0.831</td><td>0.84200</td><td>0.358511797</td><td>missense_variant</td><td>KCNJ11</td><td>no </td></tr>\n",
       "\t<tr><td>11</td><td>17409572</td><td>Affx-4636924</td><td>11:17409572:T:C</td><td>HbA1c  </td><td>-0.0213</td><td>0.0026</td><td>7.01e-17</td><td>---+</td><td> 0.0</td><td>2.823</td><td>0.41980</td><td>0.358511797</td><td>missense_variant</td><td>KCNJ11</td><td>no </td></tr>\n",
       "</tbody>\n",
       "</table>\n"
      ],
      "text/latex": [
       "A tibble: 5 × 16\n",
       "\\begin{tabular}{llllllllllllllll}\n",
       " CHROM & POS & ID & variant & Trait & BETA & SE & P & Direction & HetISq & HetChiSq & HetPVal & MAF & Consequence & Gene symbol & Novel\\\\\n",
       " <dbl> & <dbl> & <chr> & <chr> & <chr> & <dbl> & <dbl> & <dbl> & <chr> & <dbl> & <dbl> & <dbl> & <dbl> & <chr> & <chr> & <chr>\\\\\n",
       "\\hline\n",
       "\t  4 &  6303354 & rs734312     & 4:6303354:G:A   & HbA1c   &  0.0162 & 0.0025 & 4.29e-11 & ++-+ &  0.0 & 1.531 & 0.67520 & 0.457357447 & missense\\_variant & WFS1   & yes\\\\\n",
       "\t  5 & 14751305 & rs146886108  & 5:14751305:C:T  & Glucose & -0.1073 & 0.0150 & 8.88e-13 & --+- & 62.2 & 7.926 & 0.04756 & 0.007144493 & missense\\_variant & ANKH   & yes\\\\\n",
       "\t  5 & 14751305 & rs146886108  & 5:14751305:C:T  & HbA1c   & -0.1681 & 0.0146 & 1.47e-30 & --+- &  3.7 & 3.116 & 0.37410 & 0.007144493 & missense\\_variant & ANKH   & yes\\\\\n",
       "\t 11 & 17409572 & Affx-4636924 & 11:17409572:T:C & Glucose & -0.0200 & 0.0026 & 1.99e-14 & ---- &  0.0 & 0.831 & 0.84200 & 0.358511797 & missense\\_variant & KCNJ11 & no \\\\\n",
       "\t 11 & 17409572 & Affx-4636924 & 11:17409572:T:C & HbA1c   & -0.0213 & 0.0026 & 7.01e-17 & ---+ &  0.0 & 2.823 & 0.41980 & 0.358511797 & missense\\_variant & KCNJ11 & no \\\\\n",
       "\\end{tabular}\n"
      ],
      "text/markdown": [
       "\n",
       "A tibble: 5 × 16\n",
       "\n",
       "| CHROM &lt;dbl&gt; | POS &lt;dbl&gt; | ID &lt;chr&gt; | variant &lt;chr&gt; | Trait &lt;chr&gt; | BETA &lt;dbl&gt; | SE &lt;dbl&gt; | P &lt;dbl&gt; | Direction &lt;chr&gt; | HetISq &lt;dbl&gt; | HetChiSq &lt;dbl&gt; | HetPVal &lt;dbl&gt; | MAF &lt;dbl&gt; | Consequence &lt;chr&gt; | Gene symbol &lt;chr&gt; | Novel &lt;chr&gt; |\n",
       "|---|---|---|---|---|---|---|---|---|---|---|---|---|---|---|---|\n",
       "|  4 |  6303354 | rs734312     | 4:6303354:G:A   | HbA1c   |  0.0162 | 0.0025 | 4.29e-11 | ++-+ |  0.0 | 1.531 | 0.67520 | 0.457357447 | missense_variant | WFS1   | yes |\n",
       "|  5 | 14751305 | rs146886108  | 5:14751305:C:T  | Glucose | -0.1073 | 0.0150 | 8.88e-13 | --+- | 62.2 | 7.926 | 0.04756 | 0.007144493 | missense_variant | ANKH   | yes |\n",
       "|  5 | 14751305 | rs146886108  | 5:14751305:C:T  | HbA1c   | -0.1681 | 0.0146 | 1.47e-30 | --+- |  3.7 | 3.116 | 0.37410 | 0.007144493 | missense_variant | ANKH   | yes |\n",
       "| 11 | 17409572 | Affx-4636924 | 11:17409572:T:C | Glucose | -0.0200 | 0.0026 | 1.99e-14 | ---- |  0.0 | 0.831 | 0.84200 | 0.358511797 | missense_variant | KCNJ11 | no  |\n",
       "| 11 | 17409572 | Affx-4636924 | 11:17409572:T:C | HbA1c   | -0.0213 | 0.0026 | 7.01e-17 | ---+ |  0.0 | 2.823 | 0.41980 | 0.358511797 | missense_variant | KCNJ11 | no  |\n",
       "\n"
      ],
      "text/plain": [
       "  CHROM POS      ID           variant         Trait   BETA    SE     P       \n",
       "1  4     6303354 rs734312     4:6303354:G:A   HbA1c    0.0162 0.0025 4.29e-11\n",
       "2  5    14751305 rs146886108  5:14751305:C:T  Glucose -0.1073 0.0150 8.88e-13\n",
       "3  5    14751305 rs146886108  5:14751305:C:T  HbA1c   -0.1681 0.0146 1.47e-30\n",
       "4 11    17409572 Affx-4636924 11:17409572:T:C Glucose -0.0200 0.0026 1.99e-14\n",
       "5 11    17409572 Affx-4636924 11:17409572:T:C HbA1c   -0.0213 0.0026 7.01e-17\n",
       "  Direction HetISq HetChiSq HetPVal MAF         Consequence      Gene symbol\n",
       "1 ++-+       0.0   1.531    0.67520 0.457357447 missense_variant WFS1       \n",
       "2 --+-      62.2   7.926    0.04756 0.007144493 missense_variant ANKH       \n",
       "3 --+-       3.7   3.116    0.37410 0.007144493 missense_variant ANKH       \n",
       "4 ----       0.0   0.831    0.84200 0.358511797 missense_variant KCNJ11     \n",
       "5 ---+       0.0   2.823    0.41980 0.358511797 missense_variant KCNJ11     \n",
       "  Novel\n",
       "1 yes  \n",
       "2 yes  \n",
       "3 yes  \n",
       "4 no   \n",
       "5 no   "
      ]
     },
     "metadata": {},
     "output_type": "display_data"
    }
   ],
   "source": [
    "gwas_pavs_df %>%\n",
    "filter(`Trait category` == 'Diabetes') %>%\n",
    "filter(ID %in% (phewas_df %>% filter(`GBE ID` == 'HC221') %>% pull(ID) %>% unique())) %>%\n",
    "select(-REF, -ALT, -`Trait category`, -HetDf, -HGVSp, -Gene, -`is outside of MHC`, -`LD independent`, -Comments)\n"
   ]
  },
  {
   "cell_type": "code",
   "execution_count": null,
   "metadata": {},
   "outputs": [],
   "source": []
  }
 ],
 "metadata": {
  "kernelspec": {
   "display_name": "R",
   "language": "R",
   "name": "ir"
  },
  "language_info": {
   "codemirror_mode": "r",
   "file_extension": ".r",
   "mimetype": "text/x-r-source",
   "name": "R",
   "pygments_lexer": "r",
   "version": "3.6.2"
  }
 },
 "nbformat": 4,
 "nbformat_minor": 4
}
