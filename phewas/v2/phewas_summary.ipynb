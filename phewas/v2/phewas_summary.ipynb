{
 "cells": [
  {
   "cell_type": "code",
   "execution_count": 1,
   "metadata": {},
   "outputs": [],
   "source": [
    "suppressWarnings(suppressPackageStartupMessages({\n",
    "    library(tidyverse)\n",
    "    library(data.table)\n",
    "}))\n"
   ]
  },
  {
   "cell_type": "code",
   "execution_count": 2,
   "metadata": {},
   "outputs": [],
   "source": [
    "fread_compressed <- function(file, zcat='zcat'){\n",
    "    fread(cmd=paste(zcat, file, sep=' '), sep='\\t')\n",
    "}\n"
   ]
  },
  {
   "cell_type": "code",
   "execution_count": 3,
   "metadata": {},
   "outputs": [],
   "source": [
    "array_hits_file <- '@@@@@@/projects/biomarkers/cascade/out_v3/cascade.array.hits.tsv.zst'\n",
    "array_hits <- array_hits_file %>% fread_compressed('zstdcat')\n"
   ]
  },
  {
   "cell_type": "code",
   "execution_count": 4,
   "metadata": {},
   "outputs": [
    {
     "name": "stdout",
     "output_type": "stream",
     "text": [
      "[1] 632\n"
     ]
    }
   ],
   "source": [
    "array_hits %>% filter(\n",
    "    ld_indep, \n",
    "    Csq %in% c('protein-altering', 'protein-truncating'), \n",
    "    is_outside_of_MHC\n",
    ") %>% select(ID) %>% unique() %>% nrow() %>% print()"
   ]
  },
  {
   "cell_type": "markdown",
   "metadata": {},
   "source": [
    "We tested for 632 protein-altering or protein-truncating variants."
   ]
  },
  {
   "cell_type": "code",
   "execution_count": 5,
   "metadata": {},
   "outputs": [],
   "source": [
    "phewas_file <- '@@@@@@/projects/biomarkers/phewas/v2/array.hits.phewas.tsv.gz'\n"
   ]
  },
  {
   "cell_type": "code",
   "execution_count": 6,
   "metadata": {},
   "outputs": [],
   "source": [
    "phewas_df <- phewas_file %>% fread_compressed()\n"
   ]
  },
  {
   "cell_type": "code",
   "execution_count": 7,
   "metadata": {},
   "outputs": [],
   "source": [
    "count_phewas <- function(df, p_thr=1e-7){\n",
    "    filtered_df <- df %>% filter(as.numeric(P) < p_thr)\n",
    "    c(\n",
    "        filtered_df %>% select(GBE_ID) %>% unique() %>% nrow(),\n",
    "        filtered_df %>% select(Variant_ID) %>% unique() %>% nrow(),\n",
    "        filtered_df %>% nrow()\n",
    "    )\n",
    "}"
   ]
  },
  {
   "cell_type": "code",
   "execution_count": 8,
   "metadata": {},
   "outputs": [],
   "source": [
    "show_counts <- function(cnts){\n",
    "    print(sprintf('%d associations across %d phenotypes and %d variants', cnts[3], cnts[1], cnts[2]))\n",
    "}"
   ]
  },
  {
   "cell_type": "code",
   "execution_count": 9,
   "metadata": {},
   "outputs": [
    {
     "name": "stdout",
     "output_type": "stream",
     "text": [
      "[1] \"61 associations across 28 phenotypes and 34 variants\"\n"
     ]
    }
   ],
   "source": [
    "phewas_df %>% count_phewas() %>% show_counts()\n"
   ]
  },
  {
   "cell_type": "code",
   "execution_count": 12,
   "metadata": {},
   "outputs": [
    {
     "data": {
      "text/html": [
       "<table>\n",
       "<caption>A tibble: 2 × 2</caption>\n",
       "<thead>\n",
       "\t<tr><th scope=col>sign</th><th scope=col>n</th></tr>\n",
       "\t<tr><th scope=col>&lt;chr&gt;</th><th scope=col>&lt;int&gt;</th></tr>\n",
       "</thead>\n",
       "<tbody>\n",
       "\t<tr><td>-</td><td>26</td></tr>\n",
       "\t<tr><td>+</td><td>35</td></tr>\n",
       "</tbody>\n",
       "</table>\n"
      ],
      "text/latex": [
       "A tibble: 2 × 2\n",
       "\\begin{tabular}{ll}\n",
       " sign & n\\\\\n",
       " <chr> & <int>\\\\\n",
       "\\hline\n",
       "\t - & 26\\\\\n",
       "\t + & 35\\\\\n",
       "\\end{tabular}\n"
      ],
      "text/markdown": [
       "\n",
       "A tibble: 2 × 2\n",
       "\n",
       "| sign &lt;chr&gt; | n &lt;int&gt; |\n",
       "|---|---|\n",
       "| - | 26 |\n",
       "| + | 35 |\n",
       "\n"
      ],
      "text/plain": [
       "  sign n \n",
       "1 -    26\n",
       "2 +    35"
      ]
     },
     "metadata": {},
     "output_type": "display_data"
    }
   ],
   "source": [
    "phewas_df %>%\n",
    "mutate(sign = if_else(OR>1, '+', '-')) %>%\n",
    "count(sign)"
   ]
  },
  {
   "cell_type": "code",
   "execution_count": 10,
   "metadata": {},
   "outputs": [
    {
     "name": "stdout",
     "output_type": "stream",
     "text": [
      "[1] \"59 associations across 26 phenotypes and 32 variants\"\n",
      "[1] \"2 associations across 2 phenotypes and 2 variants\"\n"
     ]
    }
   ],
   "source": [
    "phewas_df %>% filter(Csq == 'protein-altering') %>% count_phewas() %>% show_counts()\n",
    "phewas_df %>% filter(Csq == 'protein-truncating') %>% count_phewas() %>% show_counts()\n"
   ]
  },
  {
   "cell_type": "code",
   "execution_count": 12,
   "metadata": {},
   "outputs": [
    {
     "data": {
      "text/html": [
       "<table>\n",
       "<caption>A data.frame: 2 × 8</caption>\n",
       "<thead>\n",
       "\t<tr><th scope=col>CHROM</th><th scope=col>POS</th><th scope=col>Variant_ID</th><th scope=col>GBE_ID</th><th scope=col>GBE_short_name</th><th scope=col>OR</th><th scope=col>SE</th><th scope=col>P</th></tr>\n",
       "\t<tr><th scope=col>&lt;int&gt;</th><th scope=col>&lt;int&gt;</th><th scope=col>&lt;chr&gt;</th><th scope=col>&lt;chr&gt;</th><th scope=col>&lt;chr&gt;</th><th scope=col>&lt;dbl&gt;</th><th scope=col>&lt;dbl&gt;</th><th scope=col>&lt;dbl&gt;</th></tr>\n",
       "</thead>\n",
       "<tbody>\n",
       "\t<tr><td>1</td><td>152280023</td><td>rs138726443</td><td>HC261</td><td>Eczema/dermatitis         </td><td>1.79414</td><td>0.0750596</td><td>6.83663e-15</td></tr>\n",
       "\t<tr><td>2</td><td>227917083</td><td>rs35138315 </td><td>HC32 </td><td>Other renal/kidney problem</td><td>6.85830</td><td>0.2679870</td><td>6.72522e-13</td></tr>\n",
       "</tbody>\n",
       "</table>\n"
      ],
      "text/latex": [
       "A data.frame: 2 × 8\n",
       "\\begin{tabular}{r|llllllll}\n",
       " CHROM & POS & Variant\\_ID & GBE\\_ID & GBE\\_short\\_name & OR & SE & P\\\\\n",
       " <int> & <int> & <chr> & <chr> & <chr> & <dbl> & <dbl> & <dbl>\\\\\n",
       "\\hline\n",
       "\t 1 & 152280023 & rs138726443 & HC261 & Eczema/dermatitis          & 1.79414 & 0.0750596 & 6.83663e-15\\\\\n",
       "\t 2 & 227917083 & rs35138315  & HC32  & Other renal/kidney problem & 6.85830 & 0.2679870 & 6.72522e-13\\\\\n",
       "\\end{tabular}\n"
      ],
      "text/markdown": [
       "\n",
       "A data.frame: 2 × 8\n",
       "\n",
       "| CHROM &lt;int&gt; | POS &lt;int&gt; | Variant_ID &lt;chr&gt; | GBE_ID &lt;chr&gt; | GBE_short_name &lt;chr&gt; | OR &lt;dbl&gt; | SE &lt;dbl&gt; | P &lt;dbl&gt; |\n",
       "|---|---|---|---|---|---|---|---|\n",
       "| 1 | 152280023 | rs138726443 | HC261 | Eczema/dermatitis          | 1.79414 | 0.0750596 | 6.83663e-15 |\n",
       "| 2 | 227917083 | rs35138315  | HC32  | Other renal/kidney problem | 6.85830 | 0.2679870 | 6.72522e-13 |\n",
       "\n"
      ],
      "text/plain": [
       "  CHROM POS       Variant_ID  GBE_ID GBE_short_name             OR     \n",
       "1 1     152280023 rs138726443 HC261  Eczema/dermatitis          1.79414\n",
       "2 2     227917083 rs35138315  HC32   Other renal/kidney problem 6.85830\n",
       "  SE        P          \n",
       "1 0.0750596 6.83663e-15\n",
       "2 0.2679870 6.72522e-13"
      ]
     },
     "metadata": {},
     "output_type": "display_data"
    }
   ],
   "source": [
    "phewas_df %>% filter(Csq == 'protein-truncating', is_outside_of_MHC) %>%\n",
    "select(CHROM, POS, Variant_ID, GBE_ID, GBE_short_name, OR, SE, P)\n"
   ]
  },
  {
   "cell_type": "code",
   "execution_count": 11,
   "metadata": {},
   "outputs": [
    {
     "data": {
      "text/html": [
       "<table>\n",
       "<caption>A tibble: 10 × 3</caption>\n",
       "<thead>\n",
       "\t<tr><th scope=col>Variant_ID</th><th scope=col>Gene_symbol</th><th scope=col>n</th></tr>\n",
       "\t<tr><th scope=col>&lt;chr&gt;</th><th scope=col>&lt;chr&gt;</th><th scope=col>&lt;int&gt;</th></tr>\n",
       "</thead>\n",
       "<tbody>\n",
       "\t<tr><td>rs2476601    </td><td>PTPN22 </td><td>7</td></tr>\n",
       "\t<tr><td>rs148783236  </td><td>USP8   </td><td>4</td></tr>\n",
       "\t<tr><td>rs913455     </td><td>CARMIL1</td><td>4</td></tr>\n",
       "\t<tr><td>Affx-20090007</td><td>ABCG8  </td><td>3</td></tr>\n",
       "\t<tr><td>rs1229984    </td><td>ADH1B  </td><td>3</td></tr>\n",
       "\t<tr><td>rs146125856  </td><td>USP8   </td><td>3</td></tr>\n",
       "\t<tr><td>rs11244035   </td><td>OBP2B  </td><td>2</td></tr>\n",
       "\t<tr><td>rs137853336  </td><td>HNF4A  </td><td>2</td></tr>\n",
       "\t<tr><td>rs1800961    </td><td>HNF4A  </td><td>2</td></tr>\n",
       "\t<tr><td>rs2282143    </td><td>SLC22A1</td><td>2</td></tr>\n",
       "</tbody>\n",
       "</table>\n"
      ],
      "text/latex": [
       "A tibble: 10 × 3\n",
       "\\begin{tabular}{r|lll}\n",
       " Variant\\_ID & Gene\\_symbol & n\\\\\n",
       " <chr> & <chr> & <int>\\\\\n",
       "\\hline\n",
       "\t rs2476601     & PTPN22  & 7\\\\\n",
       "\t rs148783236   & USP8    & 4\\\\\n",
       "\t rs913455      & CARMIL1 & 4\\\\\n",
       "\t Affx-20090007 & ABCG8   & 3\\\\\n",
       "\t rs1229984     & ADH1B   & 3\\\\\n",
       "\t rs146125856   & USP8    & 3\\\\\n",
       "\t rs11244035    & OBP2B   & 2\\\\\n",
       "\t rs137853336   & HNF4A   & 2\\\\\n",
       "\t rs1800961     & HNF4A   & 2\\\\\n",
       "\t rs2282143     & SLC22A1 & 2\\\\\n",
       "\\end{tabular}\n"
      ],
      "text/markdown": [
       "\n",
       "A tibble: 10 × 3\n",
       "\n",
       "| Variant_ID &lt;chr&gt; | Gene_symbol &lt;chr&gt; | n &lt;int&gt; |\n",
       "|---|---|---|\n",
       "| rs2476601     | PTPN22  | 7 |\n",
       "| rs148783236   | USP8    | 4 |\n",
       "| rs913455      | CARMIL1 | 4 |\n",
       "| Affx-20090007 | ABCG8   | 3 |\n",
       "| rs1229984     | ADH1B   | 3 |\n",
       "| rs146125856   | USP8    | 3 |\n",
       "| rs11244035    | OBP2B   | 2 |\n",
       "| rs137853336   | HNF4A   | 2 |\n",
       "| rs1800961     | HNF4A   | 2 |\n",
       "| rs2282143     | SLC22A1 | 2 |\n",
       "\n"
      ],
      "text/plain": [
       "   Variant_ID    Gene_symbol n\n",
       "1  rs2476601     PTPN22      7\n",
       "2  rs148783236   USP8        4\n",
       "3  rs913455      CARMIL1     4\n",
       "4  Affx-20090007 ABCG8       3\n",
       "5  rs1229984     ADH1B       3\n",
       "6  rs146125856   USP8        3\n",
       "7  rs11244035    OBP2B       2\n",
       "8  rs137853336   HNF4A       2\n",
       "9  rs1800961     HNF4A       2\n",
       "10 rs2282143     SLC22A1     2"
      ]
     },
     "metadata": {},
     "output_type": "display_data"
    }
   ],
   "source": [
    "phewas_df %>% count(Variant_ID, Gene_symbol) %>% arrange(-n) %>% head(10)"
   ]
  },
  {
   "cell_type": "code",
   "execution_count": 12,
   "metadata": {},
   "outputs": [
    {
     "data": {
      "text/html": [
       "<table>\n",
       "<caption>A tibble: 10 × 3</caption>\n",
       "<thead>\n",
       "\t<tr><th scope=col>GBE_ID</th><th scope=col>GBE_short_name</th><th scope=col>n</th></tr>\n",
       "\t<tr><th scope=col>&lt;chr&gt;</th><th scope=col>&lt;chr&gt;</th><th scope=col>&lt;int&gt;</th></tr>\n",
       "</thead>\n",
       "<tbody>\n",
       "\t<tr><td>HC221         </td><td>Diabetes                             </td><td>6</td></tr>\n",
       "\t<tr><td>HC215         </td><td>Hypertension                         </td><td>5</td></tr>\n",
       "\t<tr><td>HC219         </td><td>Hypothyroidism/myxoedema             </td><td>5</td></tr>\n",
       "\t<tr><td>HC188         </td><td>Gallstones                           </td><td>4</td></tr>\n",
       "\t<tr><td>HC326         </td><td>Heart attack (MI)                    </td><td>4</td></tr>\n",
       "\t<tr><td>HC132         </td><td>Angina                               </td><td>3</td></tr>\n",
       "\t<tr><td>HC225         </td><td>Cholecystitis                        </td><td>3</td></tr>\n",
       "\t<tr><td>HC55          </td><td>Hyperthyroidism/thyrotoxicosis       </td><td>3</td></tr>\n",
       "\t<tr><td>BIN_FC1006152 </td><td>DVT diagnosed by doctor              </td><td>2</td></tr>\n",
       "\t<tr><td>BIN_FC11006152</td><td>Blood clot or DVT diagnosed by doctor</td><td>2</td></tr>\n",
       "</tbody>\n",
       "</table>\n"
      ],
      "text/latex": [
       "A tibble: 10 × 3\n",
       "\\begin{tabular}{r|lll}\n",
       " GBE\\_ID & GBE\\_short\\_name & n\\\\\n",
       " <chr> & <chr> & <int>\\\\\n",
       "\\hline\n",
       "\t HC221          & Diabetes                              & 6\\\\\n",
       "\t HC215          & Hypertension                          & 5\\\\\n",
       "\t HC219          & Hypothyroidism/myxoedema              & 5\\\\\n",
       "\t HC188          & Gallstones                            & 4\\\\\n",
       "\t HC326          & Heart attack (MI)                     & 4\\\\\n",
       "\t HC132          & Angina                                & 3\\\\\n",
       "\t HC225          & Cholecystitis                         & 3\\\\\n",
       "\t HC55           & Hyperthyroidism/thyrotoxicosis        & 3\\\\\n",
       "\t BIN\\_FC1006152  & DVT diagnosed by doctor               & 2\\\\\n",
       "\t BIN\\_FC11006152 & Blood clot or DVT diagnosed by doctor & 2\\\\\n",
       "\\end{tabular}\n"
      ],
      "text/markdown": [
       "\n",
       "A tibble: 10 × 3\n",
       "\n",
       "| GBE_ID &lt;chr&gt; | GBE_short_name &lt;chr&gt; | n &lt;int&gt; |\n",
       "|---|---|---|\n",
       "| HC221          | Diabetes                              | 6 |\n",
       "| HC215          | Hypertension                          | 5 |\n",
       "| HC219          | Hypothyroidism/myxoedema              | 5 |\n",
       "| HC188          | Gallstones                            | 4 |\n",
       "| HC326          | Heart attack (MI)                     | 4 |\n",
       "| HC132          | Angina                                | 3 |\n",
       "| HC225          | Cholecystitis                         | 3 |\n",
       "| HC55           | Hyperthyroidism/thyrotoxicosis        | 3 |\n",
       "| BIN_FC1006152  | DVT diagnosed by doctor               | 2 |\n",
       "| BIN_FC11006152 | Blood clot or DVT diagnosed by doctor | 2 |\n",
       "\n"
      ],
      "text/plain": [
       "   GBE_ID         GBE_short_name                        n\n",
       "1  HC221          Diabetes                              6\n",
       "2  HC215          Hypertension                          5\n",
       "3  HC219          Hypothyroidism/myxoedema              5\n",
       "4  HC188          Gallstones                            4\n",
       "5  HC326          Heart attack (MI)                     4\n",
       "6  HC132          Angina                                3\n",
       "7  HC225          Cholecystitis                         3\n",
       "8  HC55           Hyperthyroidism/thyrotoxicosis        3\n",
       "9  BIN_FC1006152  DVT diagnosed by doctor               2\n",
       "10 BIN_FC11006152 Blood clot or DVT diagnosed by doctor 2"
      ]
     },
     "metadata": {},
     "output_type": "display_data"
    }
   ],
   "source": [
    "phewas_df %>% count(GBE_ID, GBE_short_name) %>% arrange(-n) %>% head(10)"
   ]
  },
  {
   "cell_type": "code",
   "execution_count": 13,
   "metadata": {},
   "outputs": [
    {
     "data": {
      "text/html": [
       "<table>\n",
       "<caption>A data.frame: 7 × 10</caption>\n",
       "<thead>\n",
       "\t<tr><th scope=col>CHROM</th><th scope=col>POS</th><th scope=col>Variant_ID</th><th scope=col>GBE_ID</th><th scope=col>GBE_short_name</th><th scope=col>OR</th><th scope=col>SE</th><th scope=col>P</th><th scope=col>Csq</th><th scope=col>Gene_symbol</th></tr>\n",
       "\t<tr><th scope=col>&lt;int&gt;</th><th scope=col>&lt;int&gt;</th><th scope=col>&lt;chr&gt;</th><th scope=col>&lt;chr&gt;</th><th scope=col>&lt;chr&gt;</th><th scope=col>&lt;dbl&gt;</th><th scope=col>&lt;dbl&gt;</th><th scope=col>&lt;dbl&gt;</th><th scope=col>&lt;chr&gt;</th><th scope=col>&lt;chr&gt;</th></tr>\n",
       "</thead>\n",
       "<tbody>\n",
       "\t<tr><td>1</td><td>114377568</td><td>rs2476601</td><td>HC219     </td><td>Hypothyroidism/myxoedema      </td><td>0.678304</td><td>0.0153792</td><td>1.48226e-140</td><td>protein-altering</td><td>PTPN22</td></tr>\n",
       "\t<tr><td>1</td><td>114377568</td><td>rs2476601</td><td>RH130     </td><td>Diabetes Mellitus Type 1      </td><td>0.698310</td><td>0.0427625</td><td> 4.56646e-17</td><td>protein-altering</td><td>PTPN22</td></tr>\n",
       "\t<tr><td>1</td><td>114377568</td><td>rs2476601</td><td>HC55      </td><td>Hyperthyroidism/thyrotoxicosis</td><td>0.748516</td><td>0.0349584</td><td> 1.17186e-16</td><td>protein-altering</td><td>PTPN22</td></tr>\n",
       "\t<tr><td>1</td><td>114377568</td><td>rs2476601</td><td>HC430     </td><td>Rheumatoid arthritis          </td><td>0.835827</td><td>0.0295014</td><td> 1.21054e-09</td><td>protein-altering</td><td>PTPN22</td></tr>\n",
       "\t<tr><td>1</td><td>114377568</td><td>rs2476601</td><td>cancer1003</td><td>Skin cancer                   </td><td>1.115110</td><td>0.0181657</td><td> 2.00078e-09</td><td>protein-altering</td><td>PTPN22</td></tr>\n",
       "\t<tr><td>1</td><td>114377568</td><td>rs2476601</td><td>cancer1060</td><td>Non-melanoma skin cancer      </td><td>1.118810</td><td>0.0193796</td><td> 6.91577e-09</td><td>protein-altering</td><td>PTPN22</td></tr>\n",
       "\t<tr><td>1</td><td>114377568</td><td>rs2476601</td><td>HC221     </td><td>Diabetes                      </td><td>0.910577</td><td>0.0164496</td><td> 1.23522e-08</td><td>protein-altering</td><td>PTPN22</td></tr>\n",
       "</tbody>\n",
       "</table>\n"
      ],
      "text/latex": [
       "A data.frame: 7 × 10\n",
       "\\begin{tabular}{r|llllllllll}\n",
       " CHROM & POS & Variant\\_ID & GBE\\_ID & GBE\\_short\\_name & OR & SE & P & Csq & Gene\\_symbol\\\\\n",
       " <int> & <int> & <chr> & <chr> & <chr> & <dbl> & <dbl> & <dbl> & <chr> & <chr>\\\\\n",
       "\\hline\n",
       "\t 1 & 114377568 & rs2476601 & HC219      & Hypothyroidism/myxoedema       & 0.678304 & 0.0153792 & 1.48226e-140 & protein-altering & PTPN22\\\\\n",
       "\t 1 & 114377568 & rs2476601 & RH130      & Diabetes Mellitus Type 1       & 0.698310 & 0.0427625 &  4.56646e-17 & protein-altering & PTPN22\\\\\n",
       "\t 1 & 114377568 & rs2476601 & HC55       & Hyperthyroidism/thyrotoxicosis & 0.748516 & 0.0349584 &  1.17186e-16 & protein-altering & PTPN22\\\\\n",
       "\t 1 & 114377568 & rs2476601 & HC430      & Rheumatoid arthritis           & 0.835827 & 0.0295014 &  1.21054e-09 & protein-altering & PTPN22\\\\\n",
       "\t 1 & 114377568 & rs2476601 & cancer1003 & Skin cancer                    & 1.115110 & 0.0181657 &  2.00078e-09 & protein-altering & PTPN22\\\\\n",
       "\t 1 & 114377568 & rs2476601 & cancer1060 & Non-melanoma skin cancer       & 1.118810 & 0.0193796 &  6.91577e-09 & protein-altering & PTPN22\\\\\n",
       "\t 1 & 114377568 & rs2476601 & HC221      & Diabetes                       & 0.910577 & 0.0164496 &  1.23522e-08 & protein-altering & PTPN22\\\\\n",
       "\\end{tabular}\n"
      ],
      "text/markdown": [
       "\n",
       "A data.frame: 7 × 10\n",
       "\n",
       "| CHROM &lt;int&gt; | POS &lt;int&gt; | Variant_ID &lt;chr&gt; | GBE_ID &lt;chr&gt; | GBE_short_name &lt;chr&gt; | OR &lt;dbl&gt; | SE &lt;dbl&gt; | P &lt;dbl&gt; | Csq &lt;chr&gt; | Gene_symbol &lt;chr&gt; |\n",
       "|---|---|---|---|---|---|---|---|---|---|\n",
       "| 1 | 114377568 | rs2476601 | HC219      | Hypothyroidism/myxoedema       | 0.678304 | 0.0153792 | 1.48226e-140 | protein-altering | PTPN22 |\n",
       "| 1 | 114377568 | rs2476601 | RH130      | Diabetes Mellitus Type 1       | 0.698310 | 0.0427625 |  4.56646e-17 | protein-altering | PTPN22 |\n",
       "| 1 | 114377568 | rs2476601 | HC55       | Hyperthyroidism/thyrotoxicosis | 0.748516 | 0.0349584 |  1.17186e-16 | protein-altering | PTPN22 |\n",
       "| 1 | 114377568 | rs2476601 | HC430      | Rheumatoid arthritis           | 0.835827 | 0.0295014 |  1.21054e-09 | protein-altering | PTPN22 |\n",
       "| 1 | 114377568 | rs2476601 | cancer1003 | Skin cancer                    | 1.115110 | 0.0181657 |  2.00078e-09 | protein-altering | PTPN22 |\n",
       "| 1 | 114377568 | rs2476601 | cancer1060 | Non-melanoma skin cancer       | 1.118810 | 0.0193796 |  6.91577e-09 | protein-altering | PTPN22 |\n",
       "| 1 | 114377568 | rs2476601 | HC221      | Diabetes                       | 0.910577 | 0.0164496 |  1.23522e-08 | protein-altering | PTPN22 |\n",
       "\n"
      ],
      "text/plain": [
       "  CHROM POS       Variant_ID GBE_ID     GBE_short_name                 OR      \n",
       "1 1     114377568 rs2476601  HC219      Hypothyroidism/myxoedema       0.678304\n",
       "2 1     114377568 rs2476601  RH130      Diabetes Mellitus Type 1       0.698310\n",
       "3 1     114377568 rs2476601  HC55       Hyperthyroidism/thyrotoxicosis 0.748516\n",
       "4 1     114377568 rs2476601  HC430      Rheumatoid arthritis           0.835827\n",
       "5 1     114377568 rs2476601  cancer1003 Skin cancer                    1.115110\n",
       "6 1     114377568 rs2476601  cancer1060 Non-melanoma skin cancer       1.118810\n",
       "7 1     114377568 rs2476601  HC221      Diabetes                       0.910577\n",
       "  SE        P            Csq              Gene_symbol\n",
       "1 0.0153792 1.48226e-140 protein-altering PTPN22     \n",
       "2 0.0427625  4.56646e-17 protein-altering PTPN22     \n",
       "3 0.0349584  1.17186e-16 protein-altering PTPN22     \n",
       "4 0.0295014  1.21054e-09 protein-altering PTPN22     \n",
       "5 0.0181657  2.00078e-09 protein-altering PTPN22     \n",
       "6 0.0193796  6.91577e-09 protein-altering PTPN22     \n",
       "7 0.0164496  1.23522e-08 protein-altering PTPN22     "
      ]
     },
     "metadata": {},
     "output_type": "display_data"
    }
   ],
   "source": [
    "phewas_df %>% filter(Variant_ID == 'rs2476601') %>%\n",
    "arrange(P) %>%\n",
    "select(CHROM, POS, Variant_ID, GBE_ID, GBE_short_name, OR, SE, P, Csq, Gene_symbol)\n"
   ]
  },
  {
   "cell_type": "code",
   "execution_count": 17,
   "metadata": {},
   "outputs": [
    {
     "name": "stdout",
     "output_type": "stream",
     "text": [
      "[1] 5 5 6\n"
     ]
    }
   ],
   "source": [
    "phewas_df %>% filter(is_rare) %>% count_phewas() %>% print()"
   ]
  },
  {
   "cell_type": "code",
   "execution_count": 20,
   "metadata": {},
   "outputs": [
    {
     "data": {
      "text/html": [
       "<table>\n",
       "<caption>A data.frame: 6 × 10</caption>\n",
       "<thead>\n",
       "\t<tr><th scope=col>CHROM</th><th scope=col>POS</th><th scope=col>Variant_ID</th><th scope=col>GBE_ID</th><th scope=col>GBE_short_name</th><th scope=col>OR</th><th scope=col>SE</th><th scope=col>P</th><th scope=col>Csq</th><th scope=col>Gene_symbol</th></tr>\n",
       "\t<tr><th scope=col>&lt;int&gt;</th><th scope=col>&lt;int&gt;</th><th scope=col>&lt;chr&gt;</th><th scope=col>&lt;chr&gt;</th><th scope=col>&lt;chr&gt;</th><th scope=col>&lt;dbl&gt;</th><th scope=col>&lt;dbl&gt;</th><th scope=col>&lt;dbl&gt;</th><th scope=col>&lt;chr&gt;</th><th scope=col>&lt;chr&gt;</th></tr>\n",
       "</thead>\n",
       "<tbody>\n",
       "\t<tr><td> 1</td><td>152280023</td><td>rs138726443</td><td>HC261        </td><td>Eczema/dermatitis                          </td><td>1.794140</td><td>0.0750596</td><td>6.83663e-15</td><td>protein-truncating</td><td>FLG   </td></tr>\n",
       "\t<tr><td> 2</td><td>227917083</td><td>rs35138315 </td><td>HC32         </td><td>Other renal/kidney problem                 </td><td>6.858300</td><td>0.2679870</td><td>6.72522e-13</td><td>protein-truncating</td><td>COL4A4</td></tr>\n",
       "\t<tr><td> 7</td><td> 87060844</td><td>rs45575636 </td><td>HC188        </td><td>Gallstones                                 </td><td>1.375270</td><td>0.0558357</td><td>1.14997e-08</td><td>protein-altering  </td><td>ABCB4 </td></tr>\n",
       "\t<tr><td> 5</td><td> 14751305</td><td>rs146886108</td><td>HC221        </td><td>Diabetes                                   </td><td>0.659806</td><td>0.0728634</td><td>1.15191e-08</td><td>protein-altering  </td><td>ANKH  </td></tr>\n",
       "\t<tr><td>20</td><td> 43042354</td><td>rs137853336</td><td>BIN_FC1006148</td><td>Eye problems/disorders Diabetic eye disease</td><td>9.603500</td><td>0.4087790</td><td>3.13243e-08</td><td>protein-altering  </td><td>HNF4A </td></tr>\n",
       "\t<tr><td>20</td><td> 43042354</td><td>rs137853336</td><td>HC221        </td><td>Diabetes                                   </td><td>3.777620</td><td>0.2433640</td><td>4.72566e-08</td><td>protein-altering  </td><td>HNF4A </td></tr>\n",
       "</tbody>\n",
       "</table>\n"
      ],
      "text/latex": [
       "A data.frame: 6 × 10\n",
       "\\begin{tabular}{r|llllllllll}\n",
       " CHROM & POS & Variant\\_ID & GBE\\_ID & GBE\\_short\\_name & OR & SE & P & Csq & Gene\\_symbol\\\\\n",
       " <int> & <int> & <chr> & <chr> & <chr> & <dbl> & <dbl> & <dbl> & <chr> & <chr>\\\\\n",
       "\\hline\n",
       "\t  1 & 152280023 & rs138726443 & HC261         & Eczema/dermatitis                           & 1.794140 & 0.0750596 & 6.83663e-15 & protein-truncating & FLG   \\\\\n",
       "\t  2 & 227917083 & rs35138315  & HC32          & Other renal/kidney problem                  & 6.858300 & 0.2679870 & 6.72522e-13 & protein-truncating & COL4A4\\\\\n",
       "\t  7 &  87060844 & rs45575636  & HC188         & Gallstones                                  & 1.375270 & 0.0558357 & 1.14997e-08 & protein-altering   & ABCB4 \\\\\n",
       "\t  5 &  14751305 & rs146886108 & HC221         & Diabetes                                    & 0.659806 & 0.0728634 & 1.15191e-08 & protein-altering   & ANKH  \\\\\n",
       "\t 20 &  43042354 & rs137853336 & BIN\\_FC1006148 & Eye problems/disorders Diabetic eye disease & 9.603500 & 0.4087790 & 3.13243e-08 & protein-altering   & HNF4A \\\\\n",
       "\t 20 &  43042354 & rs137853336 & HC221         & Diabetes                                    & 3.777620 & 0.2433640 & 4.72566e-08 & protein-altering   & HNF4A \\\\\n",
       "\\end{tabular}\n"
      ],
      "text/markdown": [
       "\n",
       "A data.frame: 6 × 10\n",
       "\n",
       "| CHROM &lt;int&gt; | POS &lt;int&gt; | Variant_ID &lt;chr&gt; | GBE_ID &lt;chr&gt; | GBE_short_name &lt;chr&gt; | OR &lt;dbl&gt; | SE &lt;dbl&gt; | P &lt;dbl&gt; | Csq &lt;chr&gt; | Gene_symbol &lt;chr&gt; |\n",
       "|---|---|---|---|---|---|---|---|---|---|\n",
       "|  1 | 152280023 | rs138726443 | HC261         | Eczema/dermatitis                           | 1.794140 | 0.0750596 | 6.83663e-15 | protein-truncating | FLG    |\n",
       "|  2 | 227917083 | rs35138315  | HC32          | Other renal/kidney problem                  | 6.858300 | 0.2679870 | 6.72522e-13 | protein-truncating | COL4A4 |\n",
       "|  7 |  87060844 | rs45575636  | HC188         | Gallstones                                  | 1.375270 | 0.0558357 | 1.14997e-08 | protein-altering   | ABCB4  |\n",
       "|  5 |  14751305 | rs146886108 | HC221         | Diabetes                                    | 0.659806 | 0.0728634 | 1.15191e-08 | protein-altering   | ANKH   |\n",
       "| 20 |  43042354 | rs137853336 | BIN_FC1006148 | Eye problems/disorders Diabetic eye disease | 9.603500 | 0.4087790 | 3.13243e-08 | protein-altering   | HNF4A  |\n",
       "| 20 |  43042354 | rs137853336 | HC221         | Diabetes                                    | 3.777620 | 0.2433640 | 4.72566e-08 | protein-altering   | HNF4A  |\n",
       "\n"
      ],
      "text/plain": [
       "  CHROM POS       Variant_ID  GBE_ID       \n",
       "1  1    152280023 rs138726443 HC261        \n",
       "2  2    227917083 rs35138315  HC32         \n",
       "3  7     87060844 rs45575636  HC188        \n",
       "4  5     14751305 rs146886108 HC221        \n",
       "5 20     43042354 rs137853336 BIN_FC1006148\n",
       "6 20     43042354 rs137853336 HC221        \n",
       "  GBE_short_name                              OR       SE        P          \n",
       "1 Eczema/dermatitis                           1.794140 0.0750596 6.83663e-15\n",
       "2 Other renal/kidney problem                  6.858300 0.2679870 6.72522e-13\n",
       "3 Gallstones                                  1.375270 0.0558357 1.14997e-08\n",
       "4 Diabetes                                    0.659806 0.0728634 1.15191e-08\n",
       "5 Eye problems/disorders Diabetic eye disease 9.603500 0.4087790 3.13243e-08\n",
       "6 Diabetes                                    3.777620 0.2433640 4.72566e-08\n",
       "  Csq                Gene_symbol\n",
       "1 protein-truncating FLG        \n",
       "2 protein-truncating COL4A4     \n",
       "3 protein-altering   ABCB4      \n",
       "4 protein-altering   ANKH       \n",
       "5 protein-altering   HNF4A      \n",
       "6 protein-altering   HNF4A      "
      ]
     },
     "metadata": {},
     "output_type": "display_data"
    }
   ],
   "source": [
    "phewas_df %>% filter(is_rare) %>%\n",
    "arrange(P) %>%\n",
    "select(CHROM, POS, Variant_ID, GBE_ID, GBE_short_name, OR, SE, P, Csq, Gene_symbol)\n"
   ]
  },
  {
   "cell_type": "code",
   "execution_count": null,
   "metadata": {},
   "outputs": [],
   "source": []
  }
 ],
 "metadata": {
  "kernelspec": {
   "display_name": "R",
   "language": "R",
   "name": "ir"
  },
  "language_info": {
   "codemirror_mode": "r",
   "file_extension": ".r",
   "mimetype": "text/x-r-source",
   "name": "R",
   "pygments_lexer": "r",
   "version": "3.6.1"
  }
 },
 "nbformat": 4,
 "nbformat_minor": 4
}
