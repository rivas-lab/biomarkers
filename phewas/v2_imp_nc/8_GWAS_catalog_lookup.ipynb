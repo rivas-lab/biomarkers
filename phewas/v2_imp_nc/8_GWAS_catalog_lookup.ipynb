{
 "cells": [
  {
   "cell_type": "code",
   "execution_count": 1,
   "metadata": {},
   "outputs": [],
   "source": [
    "suppressPackageStartupMessages(library(tidyverse))\n",
    "suppressPackageStartupMessages(library(data.table))\n"
   ]
  },
  {
   "cell_type": "markdown",
   "metadata": {},
   "source": [
    "# summary\n",
    "\n",
    "In this notebook, we will perform the followings:\n",
    "\n",
    "- load the list of variants that are present from PheWAS and linked variants (due to LD) from `phewas_hits_ld` file.\n",
    "- dump the list of phenotype coding pair (GBE_ID and EBI) for manual inspection (`GBE_EBI_pheno_match`).\n",
    "- perform a manual annotation on Google Spreadsheet (mark whether associations discovered for the phenotype coded by GBE_ID can be supported by EBI phenotypes).\n",
    "  - https://docs.google.com/spreadsheets/d/1yocReg2dL84x1NQDEyc9ywEDJM6gdfr2ELNlCcP3zPo\n",
    "  - `GBE_EBI_hits` table\n",
    "- load the results of manual annotation\n",
    "- check whether the PheWAS discovery is novel or not.\n",
    "- write the results to two files:\n",
    "  - `phewas_hits_ld_gwas_catalog`: each line is a PheWAS discovery and has columns describing the followings. This table is for debugging.\n",
    "    - `is_novel`: whether the PheWAS association is novel\n",
    "    - rsID: the rsID for the original variant\n",
    "    - EBI_hit_rsID: the rsID where we found previous reports for the associations in EMBL-EBI GWAS catalog\n",
    "  - `phewas_hits_ld_gwas_catalog_summary`: each line is a unique combination of the original phewas discovery (variant and GBE_ID), variant in linkage, and EBI phenotype reported for the linked variant.\n",
    "    - We apply manual check on Open Targets\n",
    "- In addition, prepare a list of FinnGen variants for the FinnGen R2 scan.\n",
    "  \n"
   ]
  },
  {
   "cell_type": "code",
   "execution_count": 2,
   "metadata": {},
   "outputs": [],
   "source": [
    "gwas_c_data_dir <- '@@@@@@@@/public_data/gwas_catalog_20200216' \n",
    "gwas_c_file  <- file.path(gwas_c_data_dir, 'gwas_catalog_v1.0.2-associations_e98_r2020-02-08.tsv.gz')\n"
   ]
  },
  {
   "cell_type": "code",
   "execution_count": 37,
   "metadata": {},
   "outputs": [],
   "source": [
    "res_dir <- '@@@@@@/projects/biomarkers/phewas/v2_imp_nc'\n",
    "phewas_hits_ld <- file.path(res_dir, 'ukb24983_imp_v3.nc.phewas.hits.ld.tsv')\n",
    "GBE_EBI_pheno_match <- file.path(res_dir, 'GBE_EBI_hits.tsv')\n",
    "phewas_hits_ld_gwas_catalog <- file.path(res_dir, 'ukb24983_imp_v3.nc.phewas.hits.ld.gwascatalog.tsv')\n",
    "phewas_hits_ld_gwas_catalog_summary <- file.path(res_dir, 'ukb24983_imp_v3.nc.phewas.hits.ld.gwascatalog.summary.tsv')\n",
    "finngen_var_ids <- file.path(res_dir, 'ukb24983_imp_v3.nc.phewas.hits.ld.finngen_vars.lst')"
   ]
  },
  {
   "cell_type": "code",
   "execution_count": 4,
   "metadata": {},
   "outputs": [],
   "source": [
    "gwas_c_df <- fread(cmd=paste('zcat', gwas_c_file), sep='\\t')\n"
   ]
  },
  {
   "cell_type": "code",
   "execution_count": 5,
   "metadata": {},
   "outputs": [],
   "source": [
    "df <- fread(phewas_hits_ld) %>% rename('CHROM' = '#CHROM')"
   ]
  },
  {
   "cell_type": "code",
   "execution_count": 6,
   "metadata": {},
   "outputs": [],
   "source": [
    "gwas_c_hits <- gwas_c_df %>% \n",
    "select(SNPS, 'P-VALUE', 'MAPPED_TRAIT', 'MAPPED_TRAIT_URI') %>% \n",
    "filter(SNPS %in% (df %>% select(LD_rsID) %>% unique() %>% pull())) %>%\n",
    "rename('EBI_P' = 'P-VALUE', 'EBI_TRAIT' = 'MAPPED_TRAIT', 'EBI_URI' = 'MAPPED_TRAIT_URI')\n"
   ]
  },
  {
   "cell_type": "code",
   "execution_count": 7,
   "metadata": {},
   "outputs": [
    {
     "data": {
      "text/html": [
       "<ol class=list-inline>\n",
       "\t<li>2320</li>\n",
       "\t<li>4</li>\n",
       "</ol>\n"
      ],
      "text/latex": [
       "\\begin{enumerate*}\n",
       "\\item 2320\n",
       "\\item 4\n",
       "\\end{enumerate*}\n"
      ],
      "text/markdown": [
       "1. 2320\n",
       "2. 4\n",
       "\n",
       "\n"
      ],
      "text/plain": [
       "[1] 2320    4"
      ]
     },
     "metadata": {},
     "output_type": "display_data"
    }
   ],
   "source": [
    "gwas_c_hits %>% dim()"
   ]
  },
  {
   "cell_type": "code",
   "execution_count": 8,
   "metadata": {},
   "outputs": [
    {
     "data": {
      "text/html": [
       "<table>\n",
       "<caption>A data.frame: 0 × 4</caption>\n",
       "<thead>\n",
       "\t<tr><th scope=col>SNPS</th><th scope=col>EBI_P</th><th scope=col>EBI_TRAIT</th><th scope=col>EBI_URI</th></tr>\n",
       "\t<tr><th scope=col>&lt;chr&gt;</th><th scope=col>&lt;chr&gt;</th><th scope=col>&lt;chr&gt;</th><th scope=col>&lt;chr&gt;</th></tr>\n",
       "</thead>\n",
       "<tbody>\n",
       "</tbody>\n",
       "</table>\n"
      ],
      "text/latex": [
       "A data.frame: 0 × 4\n",
       "\\begin{tabular}{r|llll}\n",
       " SNPS & EBI\\_P & EBI\\_TRAIT & EBI\\_URI\\\\\n",
       " <chr> & <chr> & <chr> & <chr>\\\\\n",
       "\\hline\n",
       "\\end{tabular}\n"
      ],
      "text/markdown": [
       "\n",
       "A data.frame: 0 × 4\n",
       "\n",
       "| SNPS &lt;chr&gt; | EBI_P &lt;chr&gt; | EBI_TRAIT &lt;chr&gt; | EBI_URI &lt;chr&gt; |\n",
       "|---|---|---|---|\n",
       "\n"
      ],
      "text/plain": [
       "     SNPS EBI_P EBI_TRAIT EBI_URI"
      ]
     },
     "metadata": {},
     "output_type": "display_data"
    }
   ],
   "source": [
    "gwas_c_hits %>% filter(is.na('EBI_P')) %>% head()"
   ]
  },
  {
   "cell_type": "code",
   "execution_count": 9,
   "metadata": {},
   "outputs": [],
   "source": [
    "idx_df <- df %>%\n",
    "arrange(CHROM, POS, GBE_ID) %>%\n",
    "select(ID) %>%\n",
    "unique()%>%\n",
    "mutate(phewas_idx = 1:n())\n"
   ]
  },
  {
   "cell_type": "code",
   "execution_count": 10,
   "metadata": {},
   "outputs": [
    {
     "data": {
      "text/html": [
       "<ol class=list-inline>\n",
       "\t<li>175</li>\n",
       "\t<li>2</li>\n",
       "</ol>\n"
      ],
      "text/latex": [
       "\\begin{enumerate*}\n",
       "\\item 175\n",
       "\\item 2\n",
       "\\end{enumerate*}\n"
      ],
      "text/markdown": [
       "1. 175\n",
       "2. 2\n",
       "\n",
       "\n"
      ],
      "text/plain": [
       "[1] 175   2"
      ]
     },
     "metadata": {},
     "output_type": "display_data"
    }
   ],
   "source": [
    "idx_df %>% dim()"
   ]
  },
  {
   "cell_type": "code",
   "execution_count": 11,
   "metadata": {},
   "outputs": [],
   "source": [
    "df_with_ebi_unfiltered <- df %>% \n",
    "left_join(\n",
    "    idx_df, by=c('ID')\n",
    ") %>%\n",
    "full_join(gwas_c_hits, by=c('LD_rsID' = 'SNPS')) %>%\n",
    "drop_na(LD_ID) %>%\n",
    "mutate(EBI_P = as.numeric(EBI_P)) %>%\n",
    "arrange(phewas_idx, CHROM, POS, LD_CHROM, LD_POS)\n"
   ]
  },
  {
   "cell_type": "code",
   "execution_count": 12,
   "metadata": {},
   "outputs": [
    {
     "data": {
      "text/html": [
       "<ol class=list-inline>\n",
       "\t<li>6934</li>\n",
       "\t<li>23</li>\n",
       "</ol>\n"
      ],
      "text/latex": [
       "\\begin{enumerate*}\n",
       "\\item 6934\n",
       "\\item 23\n",
       "\\end{enumerate*}\n"
      ],
      "text/markdown": [
       "1. 6934\n",
       "2. 23\n",
       "\n",
       "\n"
      ],
      "text/plain": [
       "[1] 6934   23"
      ]
     },
     "metadata": {},
     "output_type": "display_data"
    }
   ],
   "source": [
    "df_with_ebi_unfiltered %>% dim()\n"
   ]
  },
  {
   "cell_type": "markdown",
   "metadata": {},
   "source": [
    "### Manual annotation.\n",
    "We check whether the PheWAS hits should be considered as a match"
   ]
  },
  {
   "cell_type": "code",
   "execution_count": 22,
   "metadata": {},
   "outputs": [],
   "source": [
    "df_with_ebi_unfiltered %>%\n",
    "select(GBE_ID, GBE_short_name, EBI_TRAIT, EBI_URI) %>%\n",
    "drop_na(EBI_URI) %>%\n",
    "unique() %>%\n",
    "mutate(is_hit = FALSE) %>%\n",
    "arrange(GBE_ID, EBI_URI) %>%\n",
    "fwrite(GBE_EBI_pheno_match, sep='\\t')\n"
   ]
  },
  {
   "cell_type": "code",
   "execution_count": 13,
   "metadata": {},
   "outputs": [
    {
     "data": {
      "text/html": [
       "'@@@@@@/projects/biomarkers/phewas/v2_imp_nc/GBE_EBI_hits.tsv'"
      ],
      "text/latex": [
       "'@@@@@@/projects/biomarkers/phewas/v2\\_imp\\_nc/GBE\\_EBI\\_hits.tsv'"
      ],
      "text/markdown": [
       "'@@@@@@/projects/biomarkers/phewas/v2_imp_nc/GBE_EBI_hits.tsv'"
      ],
      "text/plain": [
       "[1] \"@@@@@@/projects/biomarkers/phewas/v2_imp_nc/GBE_EBI_hits.tsv\""
      ]
     },
     "metadata": {},
     "output_type": "display_data"
    }
   ],
   "source": [
    "GBE_EBI_pheno_match"
   ]
  },
  {
   "cell_type": "code",
   "execution_count": 14,
   "metadata": {},
   "outputs": [
    {
     "name": "stderr",
     "output_type": "stream",
     "text": [
      "Auto-refreshing stale OAuth token.\n",
      "Sheet-identifying info appears to be a browser URL.\n",
      "googlesheets will attempt to extract sheet key from the URL.\n",
      "Putative key: 1yocReg2dL84x1NQDEyc9ywEDJM6gdfr2ELNlCcP3zPo\n",
      "Sheet successfully identified: \"phewas\"\n",
      "Accessing worksheet titled 'GBE_EBI_hits'.\n",
      "Parsed with column specification:\n",
      "cols(\n",
      "  GBE_ID = \u001b[31mcol_character()\u001b[39m,\n",
      "  GBE_short_name = \u001b[31mcol_character()\u001b[39m,\n",
      "  EBI_TRAIT = \u001b[31mcol_character()\u001b[39m,\n",
      "  EBI_URI = \u001b[31mcol_character()\u001b[39m,\n",
      "  is_hit = \u001b[33mcol_logical()\u001b[39m,\n",
      "  note = \u001b[31mcol_character()\u001b[39m\n",
      ")\n"
     ]
    }
   ],
   "source": [
    "library(googlesheets)\n",
    "gs_auth(token = \"/home/users/ytanigaw/.googlesheets_token.rds\")\n",
    "\n",
    "GBE_EBI_pheno_match_df <- \n",
    "'https://docs.google.com/spreadsheets/d/1yocReg2dL84x1NQDEyc9ywEDJM6gdfr2ELNlCcP3zPo' %>% \n",
    "gs_url() %>% \n",
    "gs_read(ws = 'GBE_EBI_hits')\n"
   ]
  },
  {
   "cell_type": "code",
   "execution_count": 15,
   "metadata": {},
   "outputs": [
    {
     "data": {
      "text/html": [
       "<table>\n",
       "<caption>A tibble: 2 × 2</caption>\n",
       "<thead>\n",
       "\t<tr><th scope=col>is_hit</th><th scope=col>n</th></tr>\n",
       "\t<tr><th scope=col>&lt;lgl&gt;</th><th scope=col>&lt;int&gt;</th></tr>\n",
       "</thead>\n",
       "<tbody>\n",
       "\t<tr><td>FALSE</td><td>1118</td></tr>\n",
       "\t<tr><td> TRUE</td><td>  71</td></tr>\n",
       "</tbody>\n",
       "</table>\n"
      ],
      "text/latex": [
       "A tibble: 2 × 2\n",
       "\\begin{tabular}{r|ll}\n",
       " is\\_hit & n\\\\\n",
       " <lgl> & <int>\\\\\n",
       "\\hline\n",
       "\t FALSE & 1118\\\\\n",
       "\t  TRUE &   71\\\\\n",
       "\\end{tabular}\n"
      ],
      "text/markdown": [
       "\n",
       "A tibble: 2 × 2\n",
       "\n",
       "| is_hit &lt;lgl&gt; | n &lt;int&gt; |\n",
       "|---|---|\n",
       "| FALSE | 1118 |\n",
       "|  TRUE |   71 |\n",
       "\n"
      ],
      "text/plain": [
       "  is_hit n   \n",
       "1 FALSE  1118\n",
       "2  TRUE    71"
      ]
     },
     "metadata": {},
     "output_type": "display_data"
    }
   ],
   "source": [
    "GBE_EBI_pheno_match_df %>%\n",
    "count(is_hit)"
   ]
  },
  {
   "cell_type": "code",
   "execution_count": 16,
   "metadata": {},
   "outputs": [],
   "source": [
    "df_with_ebi <- df_with_ebi_unfiltered %>%\n",
    "left_join(\n",
    "    GBE_EBI_pheno_match_df %>%\n",
    "    select(GBE_ID, EBI_URI, is_hit) %>%\n",
    "    rename('EBI_is_hit' = 'is_hit'),\n",
    "    by=c('GBE_ID', 'EBI_URI')\n",
    ") %>%\n",
    "replace_na(list(EBI_is_hit = FALSE))\n"
   ]
  },
  {
   "cell_type": "code",
   "execution_count": 17,
   "metadata": {},
   "outputs": [],
   "source": [
    "df_with_novelty_check <- df_with_ebi %>%\n",
    "left_join(\n",
    "    df_with_ebi %>% \n",
    "    select(ID, GBE_ID, EBI_is_hit) %>%\n",
    "    group_by(ID, GBE_ID) %>%\n",
    "    summarise(is_novel = (! any(EBI_is_hit))) %>%\n",
    "    ungroup(), \n",
    "    by=c('ID', 'GBE_ID')\n",
    ") %>%\n",
    "left_join(\n",
    "    df_with_ebi %>% \n",
    "    filter(EBI_is_hit) %>%\n",
    "    select(ID, GBE_ID, EBI_P, LD_rsID) %>%\n",
    "    group_by(ID, GBE_ID) %>%\n",
    "    arrange(EBI_P) %>%\n",
    "    filter(row_number() == 1) %>%\n",
    "    ungroup() %>%\n",
    "    select(ID, GBE_ID, LD_rsID) %>%\n",
    "    rename('EBI_hit_rsID' = 'LD_rsID'), \n",
    "    by=c('ID', 'GBE_ID')\n",
    ")\n"
   ]
  },
  {
   "cell_type": "code",
   "execution_count": 71,
   "metadata": {},
   "outputs": [],
   "source": [
    "df_with_novelty_check %>% \n",
    "arrange(CHROM, POS, GBE_ID) %>%\n",
    "rename('#CHROM' = 'CHROM') %>%\n",
    "fwrite(phewas_hits_ld_gwas_catalog, sep='\\t')\n"
   ]
  },
  {
   "cell_type": "code",
   "execution_count": 18,
   "metadata": {},
   "outputs": [
    {
     "data": {
      "text/html": [
       "'@@@@@@/projects/biomarkers/phewas/v2_imp_nc/ukb24983_imp_v3.nc.phewas.hits.ld.gwascatalog.tsv'"
      ],
      "text/latex": [
       "'@@@@@@/projects/biomarkers/phewas/v2\\_imp\\_nc/ukb24983\\_imp\\_v3.nc.phewas.hits.ld.gwascatalog.tsv'"
      ],
      "text/markdown": [
       "'@@@@@@/projects/biomarkers/phewas/v2_imp_nc/ukb24983_imp_v3.nc.phewas.hits.ld.gwascatalog.tsv'"
      ],
      "text/plain": [
       "[1] \"@@@@@@/projects/biomarkers/phewas/v2_imp_nc/ukb24983_imp_v3.nc.phewas.hits.ld.gwascatalog.tsv\""
      ]
     },
     "metadata": {},
     "output_type": "display_data"
    }
   ],
   "source": [
    "phewas_hits_ld_gwas_catalog"
   ]
  },
  {
   "cell_type": "code",
   "execution_count": 19,
   "metadata": {},
   "outputs": [
    {
     "data": {
      "text/html": [
       "<ol class=list-inline>\n",
       "\t<li>'CHROM'</li>\n",
       "\t<li>'POS'</li>\n",
       "\t<li>'ID'</li>\n",
       "\t<li>'OBS_CT'</li>\n",
       "\t<li>'OR'</li>\n",
       "\t<li>'LOG(OR)_SE'</li>\n",
       "\t<li>'Z_STAT'</li>\n",
       "\t<li>'P'</li>\n",
       "\t<li>'GBE_ID'</li>\n",
       "\t<li>'GBE_short_name'</li>\n",
       "\t<li>'LD_CHROM'</li>\n",
       "\t<li>'LD_POS'</li>\n",
       "\t<li>'LD_ID'</li>\n",
       "\t<li>'LD_R2'</li>\n",
       "\t<li>'LD_rsID'</li>\n",
       "\t<li>'Consequence'</li>\n",
       "\t<li>'Gene'</li>\n",
       "\t<li>'Gene_symbol'</li>\n",
       "\t<li>'finngen_var_id'</li>\n",
       "\t<li>'phewas_idx'</li>\n",
       "\t<li>'EBI_P'</li>\n",
       "\t<li>'EBI_TRAIT'</li>\n",
       "\t<li>'EBI_URI'</li>\n",
       "\t<li>'EBI_is_hit'</li>\n",
       "\t<li>'is_novel'</li>\n",
       "\t<li>'EBI_hit_rsID'</li>\n",
       "</ol>\n"
      ],
      "text/latex": [
       "\\begin{enumerate*}\n",
       "\\item 'CHROM'\n",
       "\\item 'POS'\n",
       "\\item 'ID'\n",
       "\\item 'OBS\\_CT'\n",
       "\\item 'OR'\n",
       "\\item 'LOG(OR)\\_SE'\n",
       "\\item 'Z\\_STAT'\n",
       "\\item 'P'\n",
       "\\item 'GBE\\_ID'\n",
       "\\item 'GBE\\_short\\_name'\n",
       "\\item 'LD\\_CHROM'\n",
       "\\item 'LD\\_POS'\n",
       "\\item 'LD\\_ID'\n",
       "\\item 'LD\\_R2'\n",
       "\\item 'LD\\_rsID'\n",
       "\\item 'Consequence'\n",
       "\\item 'Gene'\n",
       "\\item 'Gene\\_symbol'\n",
       "\\item 'finngen\\_var\\_id'\n",
       "\\item 'phewas\\_idx'\n",
       "\\item 'EBI\\_P'\n",
       "\\item 'EBI\\_TRAIT'\n",
       "\\item 'EBI\\_URI'\n",
       "\\item 'EBI\\_is\\_hit'\n",
       "\\item 'is\\_novel'\n",
       "\\item 'EBI\\_hit\\_rsID'\n",
       "\\end{enumerate*}\n"
      ],
      "text/markdown": [
       "1. 'CHROM'\n",
       "2. 'POS'\n",
       "3. 'ID'\n",
       "4. 'OBS_CT'\n",
       "5. 'OR'\n",
       "6. 'LOG(OR)_SE'\n",
       "7. 'Z_STAT'\n",
       "8. 'P'\n",
       "9. 'GBE_ID'\n",
       "10. 'GBE_short_name'\n",
       "11. 'LD_CHROM'\n",
       "12. 'LD_POS'\n",
       "13. 'LD_ID'\n",
       "14. 'LD_R2'\n",
       "15. 'LD_rsID'\n",
       "16. 'Consequence'\n",
       "17. 'Gene'\n",
       "18. 'Gene_symbol'\n",
       "19. 'finngen_var_id'\n",
       "20. 'phewas_idx'\n",
       "21. 'EBI_P'\n",
       "22. 'EBI_TRAIT'\n",
       "23. 'EBI_URI'\n",
       "24. 'EBI_is_hit'\n",
       "25. 'is_novel'\n",
       "26. 'EBI_hit_rsID'\n",
       "\n",
       "\n"
      ],
      "text/plain": [
       " [1] \"CHROM\"          \"POS\"            \"ID\"             \"OBS_CT\"        \n",
       " [5] \"OR\"             \"LOG(OR)_SE\"     \"Z_STAT\"         \"P\"             \n",
       " [9] \"GBE_ID\"         \"GBE_short_name\" \"LD_CHROM\"       \"LD_POS\"        \n",
       "[13] \"LD_ID\"          \"LD_R2\"          \"LD_rsID\"        \"Consequence\"   \n",
       "[17] \"Gene\"           \"Gene_symbol\"    \"finngen_var_id\" \"phewas_idx\"    \n",
       "[21] \"EBI_P\"          \"EBI_TRAIT\"      \"EBI_URI\"        \"EBI_is_hit\"    \n",
       "[25] \"is_novel\"       \"EBI_hit_rsID\"  "
      ]
     },
     "metadata": {},
     "output_type": "display_data"
    }
   ],
   "source": [
    "df_with_novelty_check %>% \n",
    "colnames()"
   ]
  },
  {
   "cell_type": "code",
   "execution_count": 20,
   "metadata": {},
   "outputs": [],
   "source": [
    "df_summary <- df_with_novelty_check %>% \n",
    "select(\n",
    "    -LD_CHROM, -LD_POS, -LD_ID, -LD_R2, -LD_rsID, \n",
    "    -Consequence, -Gene, -Gene_symbol,\n",
    "    -EBI_P, -EBI_TRAIT, -EBI_URI, -EBI_is_hit,\n",
    "    -phewas_idx,\n",
    "    -finngen_var_id\n",
    ") %>%\n",
    "left_join(\n",
    "    df_with_novelty_check %>% \n",
    "    filter(LD_R2 == 1) %>% \n",
    "    select(ID, LD_rsID) %>%\n",
    "    rename('rsID' = 'LD_rsID'),\n",
    "    by='ID'\n",
    ") %>%\n",
    "unique()"
   ]
  },
  {
   "cell_type": "code",
   "execution_count": 21,
   "metadata": {},
   "outputs": [
    {
     "data": {
      "text/html": [
       "<table>\n",
       "<caption>A tibble: 2 × 2</caption>\n",
       "<thead>\n",
       "\t<tr><th scope=col>is_novel</th><th scope=col>n</th></tr>\n",
       "\t<tr><th scope=col>&lt;lgl&gt;</th><th scope=col>&lt;int&gt;</th></tr>\n",
       "</thead>\n",
       "<tbody>\n",
       "\t<tr><td>FALSE</td><td> 83</td></tr>\n",
       "\t<tr><td> TRUE</td><td>186</td></tr>\n",
       "</tbody>\n",
       "</table>\n"
      ],
      "text/latex": [
       "A tibble: 2 × 2\n",
       "\\begin{tabular}{r|ll}\n",
       " is\\_novel & n\\\\\n",
       " <lgl> & <int>\\\\\n",
       "\\hline\n",
       "\t FALSE &  83\\\\\n",
       "\t  TRUE & 186\\\\\n",
       "\\end{tabular}\n"
      ],
      "text/markdown": [
       "\n",
       "A tibble: 2 × 2\n",
       "\n",
       "| is_novel &lt;lgl&gt; | n &lt;int&gt; |\n",
       "|---|---|\n",
       "| FALSE |  83 |\n",
       "|  TRUE | 186 |\n",
       "\n"
      ],
      "text/plain": [
       "  is_novel n  \n",
       "1 FALSE     83\n",
       "2  TRUE    186"
      ]
     },
     "metadata": {},
     "output_type": "display_data"
    }
   ],
   "source": [
    "df_summary %>% count(is_novel)"
   ]
  },
  {
   "cell_type": "code",
   "execution_count": 73,
   "metadata": {},
   "outputs": [],
   "source": [
    "df_summary %>% \n",
    "arrange(CHROM, POS, GBE_ID) %>%\n",
    "rename('#CHROM' = 'CHROM') %>%\n",
    "fwrite(phewas_hits_ld_gwas_catalog_summary, sep='\\t')"
   ]
  },
  {
   "cell_type": "code",
   "execution_count": 22,
   "metadata": {},
   "outputs": [
    {
     "data": {
      "text/html": [
       "'@@@@@@/projects/biomarkers/phewas/v2_imp_nc/ukb24983_imp_v3.nc.phewas.hits.ld.gwascatalog.summary.tsv'"
      ],
      "text/latex": [
       "'@@@@@@/projects/biomarkers/phewas/v2\\_imp\\_nc/ukb24983\\_imp\\_v3.nc.phewas.hits.ld.gwascatalog.summary.tsv'"
      ],
      "text/markdown": [
       "'@@@@@@/projects/biomarkers/phewas/v2_imp_nc/ukb24983_imp_v3.nc.phewas.hits.ld.gwascatalog.summary.tsv'"
      ],
      "text/plain": [
       "[1] \"@@@@@@/projects/biomarkers/phewas/v2_imp_nc/ukb24983_imp_v3.nc.phewas.hits.ld.gwascatalog.summary.tsv\""
      ]
     },
     "metadata": {},
     "output_type": "display_data"
    }
   ],
   "source": [
    "phewas_hits_ld_gwas_catalog_summary"
   ]
  },
  {
   "cell_type": "code",
   "execution_count": 28,
   "metadata": {},
   "outputs": [
    {
     "data": {
      "text/html": [
       "<table>\n",
       "<caption>A tibble: 0 × 2</caption>\n",
       "<thead>\n",
       "\t<tr><th scope=col>ID</th><th scope=col>n_finngen</th></tr>\n",
       "\t<tr><th scope=col>&lt;chr&gt;</th><th scope=col>&lt;int&gt;</th></tr>\n",
       "</thead>\n",
       "<tbody>\n",
       "</tbody>\n",
       "</table>\n"
      ],
      "text/latex": [
       "A tibble: 0 × 2\n",
       "\\begin{tabular}{r|ll}\n",
       " ID & n\\_finngen\\\\\n",
       " <chr> & <int>\\\\\n",
       "\\hline\n",
       "\\end{tabular}\n"
      ],
      "text/markdown": [
       "\n",
       "A tibble: 0 × 2\n",
       "\n",
       "| ID &lt;chr&gt; | n_finngen &lt;int&gt; |\n",
       "|---|---|\n",
       "\n"
      ],
      "text/plain": [
       "     ID n_finngen"
      ]
     },
     "metadata": {},
     "output_type": "display_data"
    }
   ],
   "source": [
    "df_with_novelty_check %>%\n",
    "select(ID, finngen_var_id) %>% \n",
    "drop_na(finngen_var_id) %>%\n",
    "filter(finngen_var_id != '') %>% \n",
    "group_by(ID) %>%\n",
    "summarise(n_finngen = n()) %>%\n",
    "ungroup() %>% \n",
    "filter(n_finngen < 1)"
   ]
  },
  {
   "cell_type": "code",
   "execution_count": 38,
   "metadata": {},
   "outputs": [],
   "source": [
    "df_with_novelty_check %>%\n",
    "select(finngen_var_id) %>% \n",
    "drop_na(finngen_var_id) %>%\n",
    "filter(finngen_var_id != '') %>% \n",
    "unique() %>% \n",
    "rename('#finngen_var_id' = 'finngen_var_id') %>%\n",
    "fwrite(finngen_var_ids)\n"
   ]
  },
  {
   "cell_type": "code",
   "execution_count": 39,
   "metadata": {},
   "outputs": [
    {
     "data": {
      "text/html": [
       "'@@@@@@/projects/biomarkers/phewas/v2_imp_nc/ukb24983_imp_v3.nc.phewas.hits.ld.finngen_vars.lst'"
      ],
      "text/latex": [
       "'@@@@@@/projects/biomarkers/phewas/v2\\_imp\\_nc/ukb24983\\_imp\\_v3.nc.phewas.hits.ld.finngen\\_vars.lst'"
      ],
      "text/markdown": [
       "'@@@@@@/projects/biomarkers/phewas/v2_imp_nc/ukb24983_imp_v3.nc.phewas.hits.ld.finngen_vars.lst'"
      ],
      "text/plain": [
       "[1] \"@@@@@@/projects/biomarkers/phewas/v2_imp_nc/ukb24983_imp_v3.nc.phewas.hits.ld.finngen_vars.lst\""
      ]
     },
     "metadata": {},
     "output_type": "display_data"
    }
   ],
   "source": [
    "finngen_var_ids"
   ]
  },
  {
   "cell_type": "code",
   "execution_count": null,
   "metadata": {},
   "outputs": [],
   "source": []
  }
 ],
 "metadata": {
  "kernelspec": {
   "display_name": "R",
   "language": "R",
   "name": "ir"
  },
  "language_info": {
   "codemirror_mode": "r",
   "file_extension": ".r",
   "mimetype": "text/x-r-source",
   "name": "R",
   "pygments_lexer": "r",
   "version": "3.6.1"
  }
 },
 "nbformat": 4,
 "nbformat_minor": 4
}
