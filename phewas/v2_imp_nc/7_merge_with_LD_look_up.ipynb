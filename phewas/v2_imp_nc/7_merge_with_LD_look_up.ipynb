{
 "cells": [
  {
   "cell_type": "code",
   "execution_count": 1,
   "metadata": {},
   "outputs": [],
   "source": [
    "suppressPackageStartupMessages(library(tidyverse))\n",
    "suppressPackageStartupMessages(library(data.table))\n"
   ]
  },
  {
   "cell_type": "code",
   "execution_count": 2,
   "metadata": {},
   "outputs": [
    {
     "name": "stderr",
     "output_type": "stream",
     "text": [
      "Auto-refreshing stale OAuth token.\n",
      "Sheet-identifying info appears to be a browser URL.\n",
      "googlesheets will attempt to extract sheet key from the URL.\n",
      "Putative key: 1gwzS0SVZBSKkkHgsoqB5vHo5JpUeYYz8PK2RWrHEq3A\n",
      "Sheet successfully identified: \"GBE_names\"\n",
      "Accessing worksheet titled 'GBE_names'.\n",
      "Parsed with column specification:\n",
      "cols(\n",
      "  GBE_category = \u001b[31mcol_character()\u001b[39m,\n",
      "  GBE_ID = \u001b[31mcol_character()\u001b[39m,\n",
      "  GBE_N = \u001b[32mcol_double()\u001b[39m,\n",
      "  GBE_NAME = \u001b[31mcol_character()\u001b[39m,\n",
      "  GBE_short_name = \u001b[31mcol_character()\u001b[39m,\n",
      "  GBE_short_name_len = \u001b[32mcol_double()\u001b[39m\n",
      ")\n"
     ]
    }
   ],
   "source": [
    "library(googlesheets)\n",
    "gs_auth(token = \"/home/users/ytanigaw/.googlesheets_token.rds\")\n",
    "\n",
    "file <- 'https://docs.google.com/spreadsheets/d/1gwzS0SVZBSKkkHgsoqB5vHo5JpUeYYz8PK2RWrHEq3A'\n",
    "GBE_names_df <- file %>% gs_url() %>% gs_read(ws = 'GBE_names')\n"
   ]
  },
  {
   "cell_type": "code",
   "execution_count": 3,
   "metadata": {},
   "outputs": [],
   "source": [
    "res_dir <- '@@@@@@/projects/biomarkers/phewas/v2_imp_nc'\n",
    "phewas_hits <- file.path(res_dir, 'ukb24983_imp_v3.nc.phewas.hits.tsv')\n",
    "phewas_ld   <- file.path(res_dir, 'ukb24983_imp_v3.nc.phewas.hits.ldmap.tsv')\n",
    "annot_file  <- file.path(res_dir, 'ukb24983_imp_v3.nc.phewas.hits.ldmap.annot.tsv')\n"
   ]
  },
  {
   "cell_type": "code",
   "execution_count": 4,
   "metadata": {},
   "outputs": [],
   "source": [
    "phewas_hits_ld <- file.path(res_dir, 'ukb24983_imp_v3.nc.phewas.hits.ld.tsv')\n"
   ]
  },
  {
   "cell_type": "markdown",
   "metadata": {},
   "source": [
    "#### we use FinnGen R2 sumstats to map rsid to genomic position in GRCh38"
   ]
  },
  {
   "cell_type": "code",
   "execution_count": 5,
   "metadata": {},
   "outputs": [],
   "source": [
    "finngen_r2_sumstats <- '@@@@@@@@/users/ytanigaw/20200114_FinnGen_R2/summary_stats/finngen_r2_COPD_COMORB.gz'\n"
   ]
  },
  {
   "cell_type": "markdown",
   "metadata": {},
   "source": [
    "## read files"
   ]
  },
  {
   "cell_type": "code",
   "execution_count": 6,
   "metadata": {},
   "outputs": [],
   "source": [
    "ld_df <- fread(phewas_ld, sep='\\t') %>% rename('CHROM' = '#CHROM')\n",
    "phewas_df <- fread(phewas_hits, sep='\\t')\n",
    "annot_df <- fread(annot_file, sep='\\t') %>% rename('CHROM' = '#CHROM')\n"
   ]
  },
  {
   "cell_type": "code",
   "execution_count": 7,
   "metadata": {},
   "outputs": [],
   "source": [
    "finngen_df <- fread(\n",
    "    cmd=paste('zcat', finngen_r2_sumstats), \n",
    "    select=c('#chrom', 'pos', 'ref', 'alt', 'rsids')\n",
    ") %>%\n",
    "rename('chrom' = '#chrom') %>%\n",
    "mutate(\n",
    "    finngen_var_id = paste(chrom, pos, ref, alt, sep='-')\n",
    ") %>%\n",
    "select(rsids, finngen_var_id)\n"
   ]
  },
  {
   "cell_type": "markdown",
   "metadata": {},
   "source": [
    "## join tables"
   ]
  },
  {
   "cell_type": "code",
   "execution_count": 8,
   "metadata": {},
   "outputs": [],
   "source": [
    "df <- phewas_df %>%\n",
    "left_join(\n",
    "    GBE_names_df %>% select(GBE_ID, GBE_short_name), \n",
    "    by='GBE_ID'\n",
    ") %>%\n",
    "left_join(\n",
    "    ld_df %>% \n",
    "    mutate(LD_ID_dup = LD_ID) %>%\n",
    "    separate(LD_ID_dup, c(NA, NA, 'LD_REF', 'LD_ALT'), sep=':'),\n",
    "    by=c('CHROM', 'POS', 'ID')\n",
    ") %>%\n",
    "left_join(\n",
    "    annot_df %>% \n",
    "    select(CHROM, POS, REF, ALT, ID, Consequence, Gene, Gene_symbol) %>%\n",
    "    rename('LD_rsID' = 'ID'),\n",
    "    by=c('LD_CHROM' = 'CHROM', 'LD_POS' = 'POS', 'LD_REF' = 'REF', 'LD_ALT' = 'ALT')\n",
    ") %>%\n",
    "select(-LD_REF, -LD_ALT) %>%\n",
    "arrange(CHROM, POS, LD_CHROM, LD_POS)\n"
   ]
  },
  {
   "cell_type": "code",
   "execution_count": 9,
   "metadata": {},
   "outputs": [
    {
     "data": {
      "text/html": [
       "<ol class=list-inline>\n",
       "\t<li>2297</li>\n",
       "\t<li>18</li>\n",
       "</ol>\n"
      ],
      "text/latex": [
       "\\begin{enumerate*}\n",
       "\\item 2297\n",
       "\\item 18\n",
       "\\end{enumerate*}\n"
      ],
      "text/markdown": [
       "1. 2297\n",
       "2. 18\n",
       "\n",
       "\n"
      ],
      "text/plain": [
       "[1] 2297   18"
      ]
     },
     "metadata": {},
     "output_type": "display_data"
    }
   ],
   "source": [
    "df %>% dim()"
   ]
  },
  {
   "cell_type": "markdown",
   "metadata": {},
   "source": [
    "### check if we recovered the variant IDs"
   ]
  },
  {
   "cell_type": "code",
   "execution_count": 10,
   "metadata": {},
   "outputs": [
    {
     "data": {
      "text/html": [
       "<ol class=list-inline>\n",
       "\t<li>17</li>\n",
       "\t<li>18</li>\n",
       "</ol>\n"
      ],
      "text/latex": [
       "\\begin{enumerate*}\n",
       "\\item 17\n",
       "\\item 18\n",
       "\\end{enumerate*}\n"
      ],
      "text/markdown": [
       "1. 17\n",
       "2. 18\n",
       "\n",
       "\n"
      ],
      "text/plain": [
       "[1] 17 18"
      ]
     },
     "metadata": {},
     "output_type": "display_data"
    }
   ],
   "source": [
    "df %>% filter(is.na(LD_rsID)) %>% dim()"
   ]
  },
  {
   "cell_type": "code",
   "execution_count": 11,
   "metadata": {},
   "outputs": [
    {
     "data": {
      "text/html": [
       "<table>\n",
       "<caption>A data.frame: 10 × 1</caption>\n",
       "<thead>\n",
       "\t<tr><th></th><th scope=col>LD_ID</th></tr>\n",
       "\t<tr><th></th><th scope=col>&lt;chr&gt;</th></tr>\n",
       "</thead>\n",
       "<tbody>\n",
       "\t<tr><th scope=row>1</th><td>1:154343714:CAA:C</td></tr>\n",
       "\t<tr><th scope=row>2</th><td>1:161599643:T:C  </td></tr>\n",
       "\t<tr><th scope=row>3</th><td>2:204792071:A:T  </td></tr>\n",
       "\t<tr><th scope=row>7</th><td>6:161068064:G:C  </td></tr>\n",
       "\t<tr><th scope=row>9</th><td>15:79026674:G:A  </td></tr>\n",
       "\t<tr><th scope=row>10</th><td>15:79054932:G:C  </td></tr>\n",
       "\t<tr><th scope=row>11</th><td>15:79056769:T:C  </td></tr>\n",
       "\t<tr><th scope=row>12</th><td>15:79059449:G:A  </td></tr>\n",
       "\t<tr><th scope=row>13</th><td>15:79059703:T:C  </td></tr>\n",
       "\t<tr><th scope=row>14</th><td>19:49213853:AT:A </td></tr>\n",
       "</tbody>\n",
       "</table>\n"
      ],
      "text/latex": [
       "A data.frame: 10 × 1\n",
       "\\begin{tabular}{r|l}\n",
       "  & LD\\_ID\\\\\n",
       "  & <chr>\\\\\n",
       "\\hline\n",
       "\t1 & 1:154343714:CAA:C\\\\\n",
       "\t2 & 1:161599643:T:C  \\\\\n",
       "\t3 & 2:204792071:A:T  \\\\\n",
       "\t7 & 6:161068064:G:C  \\\\\n",
       "\t9 & 15:79026674:G:A  \\\\\n",
       "\t10 & 15:79054932:G:C  \\\\\n",
       "\t11 & 15:79056769:T:C  \\\\\n",
       "\t12 & 15:79059449:G:A  \\\\\n",
       "\t13 & 15:79059703:T:C  \\\\\n",
       "\t14 & 19:49213853:AT:A \\\\\n",
       "\\end{tabular}\n"
      ],
      "text/markdown": [
       "\n",
       "A data.frame: 10 × 1\n",
       "\n",
       "| <!--/--> | LD_ID &lt;chr&gt; |\n",
       "|---|---|\n",
       "| 1 | 1:154343714:CAA:C |\n",
       "| 2 | 1:161599643:T:C   |\n",
       "| 3 | 2:204792071:A:T   |\n",
       "| 7 | 6:161068064:G:C   |\n",
       "| 9 | 15:79026674:G:A   |\n",
       "| 10 | 15:79054932:G:C   |\n",
       "| 11 | 15:79056769:T:C   |\n",
       "| 12 | 15:79059449:G:A   |\n",
       "| 13 | 15:79059703:T:C   |\n",
       "| 14 | 19:49213853:AT:A  |\n",
       "\n"
      ],
      "text/plain": [
       "   LD_ID            \n",
       "1  1:154343714:CAA:C\n",
       "2  1:161599643:T:C  \n",
       "3  2:204792071:A:T  \n",
       "7  6:161068064:G:C  \n",
       "9  15:79026674:G:A  \n",
       "10 15:79054932:G:C  \n",
       "11 15:79056769:T:C  \n",
       "12 15:79059449:G:A  \n",
       "13 15:79059703:T:C  \n",
       "14 19:49213853:AT:A "
      ]
     },
     "metadata": {},
     "output_type": "display_data"
    }
   ],
   "source": [
    "df %>% filter(is.na(LD_rsID)) %>% \n",
    "select(LD_ID) %>% unique()"
   ]
  },
  {
   "cell_type": "markdown",
   "metadata": {},
   "source": [
    "#### using gnomAD, fill in the missing rsIDs"
   ]
  },
  {
   "cell_type": "code",
   "execution_count": 12,
   "metadata": {},
   "outputs": [],
   "source": [
    "rsid_map_manual <- list(\n",
    "    '1:154343714:CAA:C' = 'rs78080804',\n",
    "    '1:161599643:T:C'   = 'rs147574249',\n",
    "    '2:204792071:A:T'   = 'rs6435212',\n",
    "    '6:161068064:G:C'   = 'rs6905422',\n",
    "    '15:79026674:G:A'   = 'rs4886586',    \n",
    "    '15:79054932:G:C'   = 'rs11072801',\n",
    "    '15:79056769:T:C'   = 'rs1809420',\n",
    "    '15:79059449:G:A'   = 'rs1810165',\n",
    "    '15:79059703:T:C'   = 'rs1809424',\n",
    "    '19:49213853:AT:A'  = 'rs1244201130'\n",
    ")\n"
   ]
  },
  {
   "cell_type": "code",
   "execution_count": 13,
   "metadata": {},
   "outputs": [],
   "source": [
    "for(var_id in names(rsid_map_manual)){\n",
    "    df[ df[['LD_ID']] == var_id ,  ][['LD_rsID']] <- rsid_map_manual[[ var_id ]]\n",
    "}\n"
   ]
  },
  {
   "cell_type": "code",
   "execution_count": 14,
   "metadata": {},
   "outputs": [
    {
     "data": {
      "text/html": [
       "<table>\n",
       "<caption>A data.frame: 0 × 1</caption>\n",
       "<thead>\n",
       "\t<tr><th scope=col>LD_ID</th></tr>\n",
       "\t<tr><th scope=col>&lt;chr&gt;</th></tr>\n",
       "</thead>\n",
       "<tbody>\n",
       "</tbody>\n",
       "</table>\n"
      ],
      "text/latex": [
       "A data.frame: 0 × 1\n",
       "\\begin{tabular}{r|l}\n",
       " LD\\_ID\\\\\n",
       " <chr>\\\\\n",
       "\\hline\n",
       "\\end{tabular}\n"
      ],
      "text/markdown": [
       "\n",
       "A data.frame: 0 × 1\n",
       "\n",
       "| LD_ID &lt;chr&gt; |\n",
       "|---|\n",
       "\n"
      ],
      "text/plain": [
       "     LD_ID"
      ]
     },
     "metadata": {},
     "output_type": "display_data"
    }
   ],
   "source": [
    "df %>% filter(is.na(LD_rsID)) %>% \n",
    "select(LD_ID) %>% unique()"
   ]
  },
  {
   "cell_type": "markdown",
   "metadata": {},
   "source": [
    "### merge with Finngen variant IDs"
   ]
  },
  {
   "cell_type": "code",
   "execution_count": 15,
   "metadata": {},
   "outputs": [],
   "source": [
    "df_with_finngen <- df %>%\n",
    "left_join(\n",
    "    finngen_df,\n",
    "    by=c('LD_rsID' = 'rsids')\n",
    ")\n"
   ]
  },
  {
   "cell_type": "code",
   "execution_count": 16,
   "metadata": {},
   "outputs": [
    {
     "data": {
      "text/html": [
       "<ol class=list-inline>\n",
       "\t<li>516</li>\n",
       "\t<li>19</li>\n",
       "</ol>\n"
      ],
      "text/latex": [
       "\\begin{enumerate*}\n",
       "\\item 516\n",
       "\\item 19\n",
       "\\end{enumerate*}\n"
      ],
      "text/markdown": [
       "1. 516\n",
       "2. 19\n",
       "\n",
       "\n"
      ],
      "text/plain": [
       "[1] 516  19"
      ]
     },
     "metadata": {},
     "output_type": "display_data"
    }
   ],
   "source": [
    "df_with_finngen %>% filter(is.na(finngen_var_id)) %>% dim()"
   ]
  },
  {
   "cell_type": "code",
   "execution_count": 17,
   "metadata": {},
   "outputs": [],
   "source": [
    "df_no_finngen_match <- df_with_finngen %>% \n",
    "select(CHROM, POS, ID, finngen_var_id) %>% \n",
    "group_by(CHROM, POS, ID) %>%\n",
    "summarise(n_finngen_non_NAs = sum(! is.na(finngen_var_id)) ) %>%\n",
    "filter(n_finngen_non_NAs == 0) %>%\n",
    "select(-n_finngen_non_NAs) %>%\n",
    "arrange(CHROM, POS) %>% unique()"
   ]
  },
  {
   "cell_type": "code",
   "execution_count": 18,
   "metadata": {},
   "outputs": [
    {
     "data": {
      "text/html": [
       "<ol class=list-inline>\n",
       "\t<li>33</li>\n",
       "\t<li>3</li>\n",
       "</ol>\n"
      ],
      "text/latex": [
       "\\begin{enumerate*}\n",
       "\\item 33\n",
       "\\item 3\n",
       "\\end{enumerate*}\n"
      ],
      "text/markdown": [
       "1. 33\n",
       "2. 3\n",
       "\n",
       "\n"
      ],
      "text/plain": [
       "[1] 33  3"
      ]
     },
     "metadata": {},
     "output_type": "display_data"
    }
   ],
   "source": [
    "df_no_finngen_match %>% dim()"
   ]
  },
  {
   "cell_type": "markdown",
   "metadata": {},
   "source": [
    "##### 516 variants (corresponding to 33 variants before the LD mapping) have no entry in the FinnGen "
   ]
  },
  {
   "cell_type": "code",
   "execution_count": 19,
   "metadata": {},
   "outputs": [],
   "source": [
    "df_with_finngen %>%\n",
    "rename('#CHROM' = 'CHROM') %>%\n",
    "fwrite(phewas_hits_ld, sep='\\t')\n"
   ]
  },
  {
   "cell_type": "code",
   "execution_count": 20,
   "metadata": {},
   "outputs": [
    {
     "data": {
      "text/html": [
       "'@@@@@@/projects/biomarkers/phewas/v2_imp_nc/ukb24983_imp_v3.nc.phewas.hits.ld.tsv'"
      ],
      "text/latex": [
       "'@@@@@@/projects/biomarkers/phewas/v2\\_imp\\_nc/ukb24983\\_imp\\_v3.nc.phewas.hits.ld.tsv'"
      ],
      "text/markdown": [
       "'@@@@@@/projects/biomarkers/phewas/v2_imp_nc/ukb24983_imp_v3.nc.phewas.hits.ld.tsv'"
      ],
      "text/plain": [
       "[1] \"@@@@@@/projects/biomarkers/phewas/v2_imp_nc/ukb24983_imp_v3.nc.phewas.hits.ld.tsv\""
      ]
     },
     "metadata": {},
     "output_type": "display_data"
    }
   ],
   "source": [
    "phewas_hits_ld"
   ]
  },
  {
   "cell_type": "code",
   "execution_count": 21,
   "metadata": {},
   "outputs": [
    {
     "data": {
      "text/html": [
       "<ol class=list-inline>\n",
       "\t<li>'CHROM'</li>\n",
       "\t<li>'POS'</li>\n",
       "\t<li>'ID'</li>\n",
       "\t<li>'OBS_CT'</li>\n",
       "\t<li>'OR'</li>\n",
       "\t<li>'LOG(OR)_SE'</li>\n",
       "\t<li>'Z_STAT'</li>\n",
       "\t<li>'P'</li>\n",
       "\t<li>'GBE_ID'</li>\n",
       "\t<li>'GBE_short_name'</li>\n",
       "\t<li>'LD_CHROM'</li>\n",
       "\t<li>'LD_POS'</li>\n",
       "\t<li>'LD_ID'</li>\n",
       "\t<li>'LD_R2'</li>\n",
       "\t<li>'LD_rsID'</li>\n",
       "\t<li>'Consequence'</li>\n",
       "\t<li>'Gene'</li>\n",
       "\t<li>'Gene_symbol'</li>\n",
       "\t<li>'finngen_var_id'</li>\n",
       "</ol>\n"
      ],
      "text/latex": [
       "\\begin{enumerate*}\n",
       "\\item 'CHROM'\n",
       "\\item 'POS'\n",
       "\\item 'ID'\n",
       "\\item 'OBS\\_CT'\n",
       "\\item 'OR'\n",
       "\\item 'LOG(OR)\\_SE'\n",
       "\\item 'Z\\_STAT'\n",
       "\\item 'P'\n",
       "\\item 'GBE\\_ID'\n",
       "\\item 'GBE\\_short\\_name'\n",
       "\\item 'LD\\_CHROM'\n",
       "\\item 'LD\\_POS'\n",
       "\\item 'LD\\_ID'\n",
       "\\item 'LD\\_R2'\n",
       "\\item 'LD\\_rsID'\n",
       "\\item 'Consequence'\n",
       "\\item 'Gene'\n",
       "\\item 'Gene\\_symbol'\n",
       "\\item 'finngen\\_var\\_id'\n",
       "\\end{enumerate*}\n"
      ],
      "text/markdown": [
       "1. 'CHROM'\n",
       "2. 'POS'\n",
       "3. 'ID'\n",
       "4. 'OBS_CT'\n",
       "5. 'OR'\n",
       "6. 'LOG(OR)_SE'\n",
       "7. 'Z_STAT'\n",
       "8. 'P'\n",
       "9. 'GBE_ID'\n",
       "10. 'GBE_short_name'\n",
       "11. 'LD_CHROM'\n",
       "12. 'LD_POS'\n",
       "13. 'LD_ID'\n",
       "14. 'LD_R2'\n",
       "15. 'LD_rsID'\n",
       "16. 'Consequence'\n",
       "17. 'Gene'\n",
       "18. 'Gene_symbol'\n",
       "19. 'finngen_var_id'\n",
       "\n",
       "\n"
      ],
      "text/plain": [
       " [1] \"CHROM\"          \"POS\"            \"ID\"             \"OBS_CT\"        \n",
       " [5] \"OR\"             \"LOG(OR)_SE\"     \"Z_STAT\"         \"P\"             \n",
       " [9] \"GBE_ID\"         \"GBE_short_name\" \"LD_CHROM\"       \"LD_POS\"        \n",
       "[13] \"LD_ID\"          \"LD_R2\"          \"LD_rsID\"        \"Consequence\"   \n",
       "[17] \"Gene\"           \"Gene_symbol\"    \"finngen_var_id\""
      ]
     },
     "metadata": {},
     "output_type": "display_data"
    }
   ],
   "source": [
    "df_with_finngen %>% colnames()"
   ]
  },
  {
   "cell_type": "code",
   "execution_count": null,
   "metadata": {},
   "outputs": [],
   "source": []
  }
 ],
 "metadata": {
  "kernelspec": {
   "display_name": "R",
   "language": "R",
   "name": "ir"
  },
  "language_info": {
   "codemirror_mode": "r",
   "file_extension": ".r",
   "mimetype": "text/x-r-source",
   "name": "R",
   "pygments_lexer": "r",
   "version": "3.6.1"
  }
 },
 "nbformat": 4,
 "nbformat_minor": 4
}
