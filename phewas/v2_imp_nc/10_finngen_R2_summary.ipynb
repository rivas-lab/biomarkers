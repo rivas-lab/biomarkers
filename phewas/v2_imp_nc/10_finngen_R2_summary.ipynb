{
 "cells": [
  {
   "cell_type": "code",
   "execution_count": 1,
   "metadata": {},
   "outputs": [],
   "source": [
    "suppressPackageStartupMessages(library(tidyverse))\n",
    "suppressPackageStartupMessages(library(data.table))\n"
   ]
  },
  {
   "cell_type": "code",
   "execution_count": 2,
   "metadata": {},
   "outputs": [],
   "source": [
    "res_dir <- '@@@@@@/projects/biomarkers/phewas/v2_imp_nc'\n",
    "\n",
    "phewas_hits_ld <- file.path(res_dir, 'ukb24983_imp_v3.nc.phewas.hits.ld.tsv')\n",
    "\n",
    "finngen_R2_extracted <- file.path(res_dir, 'ukb24983_imp_v3.nc.phewas.hits.ld.finngen.R2.tsv') %>%\n",
    "fread(sep='\\t') %>%\n",
    "rename('chrom' = '#chrom')\n",
    "\n",
    "phewas_hits_ld_gwas_catalog_finngen_summary <- \n",
    "file.path(res_dir, 'ukb24983_imp_v3.nc.phewas.hits.ld.gwascatalog.finngen.summary.tsv')\n"
   ]
  },
  {
   "cell_type": "code",
   "execution_count": 7,
   "metadata": {},
   "outputs": [],
   "source": [
    "GBE_Finngen_pheno_match <- file.path(res_dir, 'GBE_Finngen_hits.tsv')"
   ]
  },
  {
   "cell_type": "code",
   "execution_count": 3,
   "metadata": {},
   "outputs": [],
   "source": [
    "finngen_R2_manifest <- '@@@@@@@@/users/ytanigaw/20200114_FinnGen_R2/summary_stats/r2_manifest.tsv' %>%\n",
    "fread(sep='\\t')\n"
   ]
  },
  {
   "cell_type": "code",
   "execution_count": 4,
   "metadata": {},
   "outputs": [],
   "source": [
    "finngen_R2_df <- finngen_R2_extracted %>% \n",
    "mutate(var_id = paste(chrom, pos, ref, alt, sep='-')) %>%\n",
    "left_join(\n",
    "    finngen_R2_manifest  %>%\n",
    "    select(phenocode, name), \n",
    "    by='phenocode'\n",
    ") %>%\n",
    "select(-chrom, -pos, -ref, -alt)\n",
    "\n",
    "finngen_R2_df.colnames <- colnames(finngen_R2_df) %>%\n",
    "lapply(function(x){paste0('finngen_', x)})\n",
    "\n",
    "colnames(finngen_R2_df) <- finngen_R2_df.colnames"
   ]
  },
  {
   "cell_type": "code",
   "execution_count": 5,
   "metadata": {},
   "outputs": [],
   "source": [
    "df <- fread(phewas_hits_ld) %>% rename('CHROM' = '#CHROM')\n"
   ]
  },
  {
   "cell_type": "code",
   "execution_count": 8,
   "metadata": {},
   "outputs": [],
   "source": [
    "df %>% \n",
    "select(ID, GBE_ID, GBE_short_name, finngen_var_id) %>% \n",
    "full_join(\n",
    "    finngen_R2_df %>% \n",
    "    select(finngen_var_id, finngen_name, finngen_phenocode),\n",
    "    by = \"finngen_var_id\"\n",
    ") %>% \n",
    "drop_na(ID, finngen_phenocode) %>%\n",
    "select(-ID, -finngen_var_id) %>%\n",
    "arrange(GBE_ID, finngen_phenocode) %>%\n",
    "rename('#GBE_ID' = 'GBE_ID') %>%\n",
    "unique() %>%\n",
    "mutate(\n",
    "    is_hit=FALSE,\n",
    "    Note=''\n",
    ")%>%\n",
    "fwrite(GBE_Finngen_pheno_match, sep='\\t')\n"
   ]
  },
  {
   "cell_type": "code",
   "execution_count": 8,
   "metadata": {},
   "outputs": [
    {
     "data": {
      "text/html": [
       "'@@@@@@/projects/biomarkers/phewas/v2_imp_nc/GBE_Finngen_hits.tsv'"
      ],
      "text/latex": [
       "'@@@@@@/projects/biomarkers/phewas/v2\\_imp\\_nc/GBE\\_Finngen\\_hits.tsv'"
      ],
      "text/markdown": [
       "'@@@@@@/projects/biomarkers/phewas/v2_imp_nc/GBE_Finngen_hits.tsv'"
      ],
      "text/plain": [
       "[1] \"@@@@@@/projects/biomarkers/phewas/v2_imp_nc/GBE_Finngen_hits.tsv\""
      ]
     },
     "metadata": {},
     "output_type": "display_data"
    }
   ],
   "source": [
    "GBE_Finngen_pheno_match"
   ]
  },
  {
   "cell_type": "markdown",
   "metadata": {},
   "source": [
    "#### we performed manual annotation for the phenotypes"
   ]
  },
  {
   "cell_type": "code",
   "execution_count": 9,
   "metadata": {},
   "outputs": [
    {
     "name": "stderr",
     "output_type": "stream",
     "text": [
      "Auto-refreshing stale OAuth token.\n",
      "Sheet-identifying info appears to be a browser URL.\n",
      "googlesheets will attempt to extract sheet key from the URL.\n",
      "Putative key: 1yocReg2dL84x1NQDEyc9ywEDJM6gdfr2ELNlCcP3zPo\n",
      "Sheet successfully identified: \"phewas\"\n",
      "Accessing worksheet titled 'GBE_Finngen_hits'.\n",
      "Parsed with column specification:\n",
      "cols(\n",
      "  GBE_ID = \u001b[31mcol_character()\u001b[39m,\n",
      "  GBE_short_name = \u001b[31mcol_character()\u001b[39m,\n",
      "  finngen_name = \u001b[31mcol_character()\u001b[39m,\n",
      "  finngen_phenocode = \u001b[31mcol_character()\u001b[39m,\n",
      "  is_related = \u001b[33mcol_logical()\u001b[39m,\n",
      "  is_hit = \u001b[33mcol_logical()\u001b[39m,\n",
      "  Note = \u001b[33mcol_logical()\u001b[39m\n",
      ")\n"
     ]
    }
   ],
   "source": [
    "library(googlesheets)\n",
    "gs_auth(token = \"/home/users/ytanigaw/.googlesheets_token.rds\")\n",
    "\n",
    "GBE_Finngen_pheno_match_df <- \n",
    "'https://docs.google.com/spreadsheets/d/1yocReg2dL84x1NQDEyc9ywEDJM6gdfr2ELNlCcP3zPo' %>% \n",
    "gs_url() %>% \n",
    "gs_read(ws = 'GBE_Finngen_hits')\n"
   ]
  },
  {
   "cell_type": "code",
   "execution_count": 10,
   "metadata": {},
   "outputs": [],
   "source": [
    "finngen_hits <- df %>%\n",
    "drop_na(finngen_var_id) %>%\n",
    "filter(finngen_var_id != '') %>%\n",
    "unique() %>%\n",
    "mutate(sort_order = 1:n()) %>%\n",
    "full_join(\n",
    "    finngen_R2_df,\n",
    "    by='finngen_var_id'\n",
    ") %>%\n",
    "drop_na(ID, finngen_phenocode) %>%\n",
    "left_join(\n",
    "    GBE_Finngen_pheno_match_df %>%\n",
    "    select(GBE_ID, finngen_phenocode, is_hit),\n",
    "    by=c('GBE_ID', 'finngen_phenocode')\n",
    ")\n"
   ]
  },
  {
   "cell_type": "code",
   "execution_count": 11,
   "metadata": {},
   "outputs": [],
   "source": [
    "finngen_hits_summary <- finngen_hits %>%\n",
    "filter(is_hit) %>%\n",
    "unique() %>%\n",
    "group_by(ID, GBE_ID) %>%\n",
    "arrange(finngen_pval) %>%\n",
    "filter(row_number() == 1) %>%\n",
    "ungroup() %>%\n",
    "arrange(sort_order) %>%\n",
    "select(-sort_order)\n"
   ]
  },
  {
   "cell_type": "code",
   "execution_count": 12,
   "metadata": {},
   "outputs": [
    {
     "name": "stderr",
     "output_type": "stream",
     "text": [
      "Sheet-identifying info appears to be a browser URL.\n",
      "googlesheets will attempt to extract sheet key from the URL.\n",
      "Putative key: 1yocReg2dL84x1NQDEyc9ywEDJM6gdfr2ELNlCcP3zPo\n",
      "Sheet successfully identified: \"phewas\"\n",
      "Accessing worksheet titled 'ukb24983_imp_v3.nc.phewas.summary'.\n",
      "Parsed with column specification:\n",
      "cols(\n",
      "  `#CHROM` = \u001b[32mcol_double()\u001b[39m,\n",
      "  POS = \u001b[32mcol_number()\u001b[39m,\n",
      "  ID = \u001b[31mcol_character()\u001b[39m,\n",
      "  OBS_CT = \u001b[32mcol_double()\u001b[39m,\n",
      "  OR = \u001b[32mcol_double()\u001b[39m,\n",
      "  `LOG(OR)_SE` = \u001b[32mcol_double()\u001b[39m,\n",
      "  Z_STAT = \u001b[32mcol_double()\u001b[39m,\n",
      "  P = \u001b[32mcol_double()\u001b[39m,\n",
      "  GBE_ID = \u001b[31mcol_character()\u001b[39m,\n",
      "  GBE_short_name = \u001b[31mcol_character()\u001b[39m,\n",
      "  is_novel = \u001b[33mcol_logical()\u001b[39m,\n",
      "  EBI_hit_rsID = \u001b[31mcol_character()\u001b[39m,\n",
      "  rsID = \u001b[31mcol_character()\u001b[39m,\n",
      "  Note = \u001b[31mcol_character()\u001b[39m\n",
      ")\n"
     ]
    }
   ],
   "source": [
    "phewas_hits_ld_gwas_catalog_summary_df <- \n",
    "'https://docs.google.com/spreadsheets/d/1yocReg2dL84x1NQDEyc9ywEDJM6gdfr2ELNlCcP3zPo' %>% \n",
    "gs_url() %>% \n",
    "gs_read(ws = 'ukb24983_imp_v3.nc.phewas.summary') %>% \n",
    "rename('CHROM' = '#CHROM')\n"
   ]
  },
  {
   "cell_type": "code",
   "execution_count": 13,
   "metadata": {},
   "outputs": [
    {
     "data": {
      "text/html": [
       "<ol class=list-inline>\n",
       "\t<li>'CHROM'</li>\n",
       "\t<li>'POS'</li>\n",
       "\t<li>'ID'</li>\n",
       "\t<li>'OBS_CT'</li>\n",
       "\t<li>'OR'</li>\n",
       "\t<li>'LOG(OR)_SE'</li>\n",
       "\t<li>'Z_STAT'</li>\n",
       "\t<li>'P'</li>\n",
       "\t<li>'GBE_ID'</li>\n",
       "\t<li>'GBE_short_name'</li>\n",
       "\t<li>'LD_CHROM'</li>\n",
       "\t<li>'LD_POS'</li>\n",
       "\t<li>'LD_ID'</li>\n",
       "\t<li>'LD_R2'</li>\n",
       "\t<li>'LD_rsID'</li>\n",
       "\t<li>'Consequence'</li>\n",
       "\t<li>'Gene'</li>\n",
       "\t<li>'Gene_symbol'</li>\n",
       "\t<li>'finngen_var_id'</li>\n",
       "\t<li>'finngen_rsids'</li>\n",
       "\t<li>'finngen_nearest_genes'</li>\n",
       "\t<li>'finngen_pval'</li>\n",
       "\t<li>'finngen_beta'</li>\n",
       "\t<li>'finngen_sebeta'</li>\n",
       "\t<li>'finngen_maf'</li>\n",
       "\t<li>'finngen_maf_cases'</li>\n",
       "\t<li>'finngen_maf_controls'</li>\n",
       "\t<li>'finngen_phenocode'</li>\n",
       "\t<li>'finngen_name'</li>\n",
       "\t<li>'is_hit'</li>\n",
       "</ol>\n"
      ],
      "text/latex": [
       "\\begin{enumerate*}\n",
       "\\item 'CHROM'\n",
       "\\item 'POS'\n",
       "\\item 'ID'\n",
       "\\item 'OBS\\_CT'\n",
       "\\item 'OR'\n",
       "\\item 'LOG(OR)\\_SE'\n",
       "\\item 'Z\\_STAT'\n",
       "\\item 'P'\n",
       "\\item 'GBE\\_ID'\n",
       "\\item 'GBE\\_short\\_name'\n",
       "\\item 'LD\\_CHROM'\n",
       "\\item 'LD\\_POS'\n",
       "\\item 'LD\\_ID'\n",
       "\\item 'LD\\_R2'\n",
       "\\item 'LD\\_rsID'\n",
       "\\item 'Consequence'\n",
       "\\item 'Gene'\n",
       "\\item 'Gene\\_symbol'\n",
       "\\item 'finngen\\_var\\_id'\n",
       "\\item 'finngen\\_rsids'\n",
       "\\item 'finngen\\_nearest\\_genes'\n",
       "\\item 'finngen\\_pval'\n",
       "\\item 'finngen\\_beta'\n",
       "\\item 'finngen\\_sebeta'\n",
       "\\item 'finngen\\_maf'\n",
       "\\item 'finngen\\_maf\\_cases'\n",
       "\\item 'finngen\\_maf\\_controls'\n",
       "\\item 'finngen\\_phenocode'\n",
       "\\item 'finngen\\_name'\n",
       "\\item 'is\\_hit'\n",
       "\\end{enumerate*}\n"
      ],
      "text/markdown": [
       "1. 'CHROM'\n",
       "2. 'POS'\n",
       "3. 'ID'\n",
       "4. 'OBS_CT'\n",
       "5. 'OR'\n",
       "6. 'LOG(OR)_SE'\n",
       "7. 'Z_STAT'\n",
       "8. 'P'\n",
       "9. 'GBE_ID'\n",
       "10. 'GBE_short_name'\n",
       "11. 'LD_CHROM'\n",
       "12. 'LD_POS'\n",
       "13. 'LD_ID'\n",
       "14. 'LD_R2'\n",
       "15. 'LD_rsID'\n",
       "16. 'Consequence'\n",
       "17. 'Gene'\n",
       "18. 'Gene_symbol'\n",
       "19. 'finngen_var_id'\n",
       "20. 'finngen_rsids'\n",
       "21. 'finngen_nearest_genes'\n",
       "22. 'finngen_pval'\n",
       "23. 'finngen_beta'\n",
       "24. 'finngen_sebeta'\n",
       "25. 'finngen_maf'\n",
       "26. 'finngen_maf_cases'\n",
       "27. 'finngen_maf_controls'\n",
       "28. 'finngen_phenocode'\n",
       "29. 'finngen_name'\n",
       "30. 'is_hit'\n",
       "\n",
       "\n"
      ],
      "text/plain": [
       " [1] \"CHROM\"                 \"POS\"                   \"ID\"                   \n",
       " [4] \"OBS_CT\"                \"OR\"                    \"LOG(OR)_SE\"           \n",
       " [7] \"Z_STAT\"                \"P\"                     \"GBE_ID\"               \n",
       "[10] \"GBE_short_name\"        \"LD_CHROM\"              \"LD_POS\"               \n",
       "[13] \"LD_ID\"                 \"LD_R2\"                 \"LD_rsID\"              \n",
       "[16] \"Consequence\"           \"Gene\"                  \"Gene_symbol\"          \n",
       "[19] \"finngen_var_id\"        \"finngen_rsids\"         \"finngen_nearest_genes\"\n",
       "[22] \"finngen_pval\"          \"finngen_beta\"          \"finngen_sebeta\"       \n",
       "[25] \"finngen_maf\"           \"finngen_maf_cases\"     \"finngen_maf_controls\" \n",
       "[28] \"finngen_phenocode\"     \"finngen_name\"          \"is_hit\"               "
      ]
     },
     "metadata": {},
     "output_type": "display_data"
    }
   ],
   "source": [
    "finngen_hits_summary %>% colnames()"
   ]
  },
  {
   "cell_type": "code",
   "execution_count": 14,
   "metadata": {},
   "outputs": [],
   "source": [
    "phewas_hits_ld_gwas_catalog_finngen_summary_df <- \n",
    "phewas_hits_ld_gwas_catalog_summary_df %>% \n",
    "left_join(\n",
    "    finngen_hits_summary %>% \n",
    "    select(ID, GBE_ID, finngen_rsids) %>%\n",
    "    rename('Finngen_hit_rsID' = 'finngen_rsids'),\n",
    "    by=c('ID', 'GBE_ID')\n",
    ")"
   ]
  },
  {
   "cell_type": "code",
   "execution_count": 15,
   "metadata": {},
   "outputs": [
    {
     "name": "stdout",
     "output_type": "stream",
     "text": [
      "[1] 269  14\n",
      "[1] 269  15\n"
     ]
    }
   ],
   "source": [
    "phewas_hits_ld_gwas_catalog_summary_df         %>% dim() %>% print()\n",
    "phewas_hits_ld_gwas_catalog_finngen_summary_df %>% dim() %>% print()\n"
   ]
  },
  {
   "cell_type": "code",
   "execution_count": 16,
   "metadata": {},
   "outputs": [],
   "source": [
    "phewas_hits_ld_gwas_catalog_finngen_summary_df %>% \n",
    "rename('#CHROM' = 'CHROM') %>%\n",
    "fwrite(phewas_hits_ld_gwas_catalog_finngen_summary, sep='\\t')\n"
   ]
  },
  {
   "cell_type": "code",
   "execution_count": 17,
   "metadata": {},
   "outputs": [
    {
     "data": {
      "text/html": [
       "'@@@@@@/projects/biomarkers/phewas/v2_imp_nc/ukb24983_imp_v3.nc.phewas.hits.ld.gwascatalog.finngen.summary.tsv'"
      ],
      "text/latex": [
       "'@@@@@@/projects/biomarkers/phewas/v2\\_imp\\_nc/ukb24983\\_imp\\_v3.nc.phewas.hits.ld.gwascatalog.finngen.summary.tsv'"
      ],
      "text/markdown": [
       "'@@@@@@/projects/biomarkers/phewas/v2_imp_nc/ukb24983_imp_v3.nc.phewas.hits.ld.gwascatalog.finngen.summary.tsv'"
      ],
      "text/plain": [
       "[1] \"@@@@@@/projects/biomarkers/phewas/v2_imp_nc/ukb24983_imp_v3.nc.phewas.hits.ld.gwascatalog.finngen.summary.tsv\""
      ]
     },
     "metadata": {},
     "output_type": "display_data"
    }
   ],
   "source": [
    "phewas_hits_ld_gwas_catalog_finngen_summary"
   ]
  },
  {
   "cell_type": "code",
   "execution_count": 23,
   "metadata": {},
   "outputs": [
    {
     "data": {
      "text/html": [
       "<table>\n",
       "<caption>A tibble: 4 × 3</caption>\n",
       "<thead>\n",
       "\t<tr><th scope=col>is_novel</th><th scope=col>is.na(Finngen_hit_rsID)</th><th scope=col>n</th></tr>\n",
       "\t<tr><th scope=col>&lt;lgl&gt;</th><th scope=col>&lt;lgl&gt;</th><th scope=col>&lt;int&gt;</th></tr>\n",
       "</thead>\n",
       "<tbody>\n",
       "\t<tr><td>FALSE</td><td>FALSE</td><td> 40</td></tr>\n",
       "\t<tr><td>FALSE</td><td> TRUE</td><td>118</td></tr>\n",
       "\t<tr><td> TRUE</td><td>FALSE</td><td> 19</td></tr>\n",
       "\t<tr><td> TRUE</td><td> TRUE</td><td> 92</td></tr>\n",
       "</tbody>\n",
       "</table>\n"
      ],
      "text/latex": [
       "A tibble: 4 × 3\n",
       "\\begin{tabular}{r|lll}\n",
       " is\\_novel & is.na(Finngen\\_hit\\_rsID) & n\\\\\n",
       " <lgl> & <lgl> & <int>\\\\\n",
       "\\hline\n",
       "\t FALSE & FALSE &  40\\\\\n",
       "\t FALSE &  TRUE & 118\\\\\n",
       "\t  TRUE & FALSE &  19\\\\\n",
       "\t  TRUE &  TRUE &  92\\\\\n",
       "\\end{tabular}\n"
      ],
      "text/markdown": [
       "\n",
       "A tibble: 4 × 3\n",
       "\n",
       "| is_novel &lt;lgl&gt; | is.na(Finngen_hit_rsID) &lt;lgl&gt; | n &lt;int&gt; |\n",
       "|---|---|---|\n",
       "| FALSE | FALSE |  40 |\n",
       "| FALSE |  TRUE | 118 |\n",
       "|  TRUE | FALSE |  19 |\n",
       "|  TRUE |  TRUE |  92 |\n",
       "\n"
      ],
      "text/plain": [
       "  is_novel is.na(Finngen_hit_rsID) n  \n",
       "1 FALSE    FALSE                    40\n",
       "2 FALSE     TRUE                   118\n",
       "3  TRUE    FALSE                    19\n",
       "4  TRUE     TRUE                    92"
      ]
     },
     "metadata": {},
     "output_type": "display_data"
    }
   ],
   "source": [
    "phewas_hits_ld_gwas_catalog_finngen_summary_df %>% \n",
    "count(is_novel, is.na(Finngen_hit_rsID))\n"
   ]
  },
  {
   "cell_type": "code",
   "execution_count": null,
   "metadata": {},
   "outputs": [],
   "source": []
  }
 ],
 "metadata": {
  "kernelspec": {
   "display_name": "R",
   "language": "R",
   "name": "ir"
  },
  "language_info": {
   "codemirror_mode": "r",
   "file_extension": ".r",
   "mimetype": "text/x-r-source",
   "name": "R",
   "pygments_lexer": "r",
   "version": "3.6.1"
  }
 },
 "nbformat": 4,
 "nbformat_minor": 4
}
