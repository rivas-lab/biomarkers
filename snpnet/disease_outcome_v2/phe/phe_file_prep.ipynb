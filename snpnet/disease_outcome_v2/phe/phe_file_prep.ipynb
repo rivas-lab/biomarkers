{
 "cells": [
  {
   "cell_type": "code",
   "execution_count": 1,
   "metadata": {},
   "outputs": [],
   "source": [
    "suppressPackageStartupMessages(require(tidyverse))\n",
    "suppressPackageStartupMessages(require(data.table))\n"
   ]
  },
  {
   "cell_type": "code",
   "execution_count": 2,
   "metadata": {},
   "outputs": [],
   "source": [
    "phe_names <- fread('phe.lst', head=F) %>% pull()"
   ]
  },
  {
   "cell_type": "code",
   "execution_count": 3,
   "metadata": {},
   "outputs": [
    {
     "data": {
      "text/html": [
       "<ol class=list-inline>\n",
       "\t<li>'HC171'</li>\n",
       "\t<li>'HC188'</li>\n",
       "\t<li>'HC294'</li>\n",
       "\t<li>'HC299'</li>\n",
       "\t<li>'HC326'</li>\n",
       "</ol>\n"
      ],
      "text/latex": [
       "\\begin{enumerate*}\n",
       "\\item 'HC171'\n",
       "\\item 'HC188'\n",
       "\\item 'HC294'\n",
       "\\item 'HC299'\n",
       "\\item 'HC326'\n",
       "\\end{enumerate*}\n"
      ],
      "text/markdown": [
       "1. 'HC171'\n",
       "2. 'HC188'\n",
       "3. 'HC294'\n",
       "4. 'HC299'\n",
       "5. 'HC326'\n",
       "\n",
       "\n"
      ],
      "text/plain": [
       "[1] \"HC171\" \"HC188\" \"HC294\" \"HC299\" \"HC326\""
      ]
     },
     "metadata": {},
     "output_type": "display_data"
    }
   ],
   "source": [
    "phe_names"
   ]
  },
  {
   "cell_type": "code",
   "execution_count": 4,
   "metadata": {},
   "outputs": [],
   "source": [
    "covars <- c(c('age', 'sex', 'Array'), paste0('PC', 1:4))"
   ]
  },
  {
   "cell_type": "code",
   "execution_count": 5,
   "metadata": {},
   "outputs": [],
   "source": [
    "phe_f <- '@@@@@@/ukbb24983/phenotypedata/master_phe/master.20190509.phe'\n"
   ]
  },
  {
   "cell_type": "code",
   "execution_count": 6,
   "metadata": {},
   "outputs": [],
   "source": [
    "phe_df <- fread(phe_f, select=c(c('FID', 'IID'), covars, phe_names), colClasses = c(\"FID\" = \"character\", \"IID\" = \"character\"))\n"
   ]
  },
  {
   "cell_type": "code",
   "execution_count": 7,
   "metadata": {},
   "outputs": [],
   "source": [
    "psams <- bind_rows(lapply(c('train', 'val', 'test'), function(x){\n",
    "    fread(\n",
    "        file.path('/scratch/users/ytanigaw/tmp/snpnet/geno/array_combined', paste0(x, '.psam')),\n",
    "        colClasses = c(\"#FID\" = \"character\", \"IID\" = \"character\")\n",
    "    ) %>%\n",
    "    mutate(split = x) %>%\n",
    "    rename('FID' = '#FID')\n",
    "}))"
   ]
  },
  {
   "cell_type": "code",
   "execution_count": 8,
   "metadata": {},
   "outputs": [],
   "source": [
    "phe_v2 <- phe_df %>% \n",
    "inner_join(psams %>% select(FID, IID, split), by=c('FID', 'IID'))\n"
   ]
  },
  {
   "cell_type": "code",
   "execution_count": 10,
   "metadata": {},
   "outputs": [],
   "source": [
    "for(col in phe_names){\n",
    "    phe_v2[[col]][phe_v2[[col]] == -9] <- NA\n",
    "}\n"
   ]
  },
  {
   "cell_type": "code",
   "execution_count": 12,
   "metadata": {},
   "outputs": [],
   "source": [
    "phe_v2 %>% fwrite('phe.tsv', sep='\\t')\n"
   ]
  },
  {
   "cell_type": "code",
   "execution_count": 13,
   "metadata": {},
   "outputs": [
    {
     "data": {
      "text/html": [
       "<ol class=list-inline>\n",
       "\t<li>337151</li>\n",
       "\t<li>15</li>\n",
       "</ol>\n"
      ],
      "text/latex": [
       "\\begin{enumerate*}\n",
       "\\item 337151\n",
       "\\item 15\n",
       "\\end{enumerate*}\n"
      ],
      "text/markdown": [
       "1. 337151\n",
       "2. 15\n",
       "\n",
       "\n"
      ],
      "text/plain": [
       "[1] 337151     15"
      ]
     },
     "metadata": {},
     "output_type": "display_data"
    }
   ],
   "source": [
    "phe_v2 %>% dim()"
   ]
  },
  {
   "cell_type": "code",
   "execution_count": 14,
   "metadata": {},
   "outputs": [
    {
     "data": {
      "text/html": [
       "'@@@@@@/users/ytanigaw/repos/rivas-lab/biomarkers/snpnet/disease_outcome_v2/phe'"
      ],
      "text/latex": [
       "'@@@@@@/users/ytanigaw/repos/rivas-lab/biomarkers/snpnet/disease\\_outcome\\_v2/phe'"
      ],
      "text/markdown": [
       "'@@@@@@/users/ytanigaw/repos/rivas-lab/biomarkers/snpnet/disease_outcome_v2/phe'"
      ],
      "text/plain": [
       "[1] \"@@@@@@/users/ytanigaw/repos/rivas-lab/biomarkers/snpnet/disease_outcome_v2/phe\""
      ]
     },
     "metadata": {},
     "output_type": "display_data"
    }
   ],
   "source": [
    "getwd()"
   ]
  },
  {
   "cell_type": "code",
   "execution_count": null,
   "metadata": {},
   "outputs": [],
   "source": []
  }
 ],
 "metadata": {
  "kernelspec": {
   "display_name": "R",
   "language": "R",
   "name": "ir"
  },
  "language_info": {
   "codemirror_mode": "r",
   "file_extension": ".r",
   "mimetype": "text/x-r-source",
   "name": "R",
   "pygments_lexer": "r",
   "version": "3.6.1"
  }
 },
 "nbformat": 4,
 "nbformat_minor": 4
}
