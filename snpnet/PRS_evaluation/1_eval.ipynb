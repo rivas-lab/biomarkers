{
 "cells": [
  {
   "cell_type": "code",
   "execution_count": 1,
   "metadata": {},
   "outputs": [],
   "source": [
    "suppressWarnings(suppressPackageStartupMessages({\n",
    "    library(tidyverse)\n",
    "    library(data.table)\n",
    "}))\n"
   ]
  },
  {
   "cell_type": "code",
   "execution_count": 2,
   "metadata": {},
   "outputs": [],
   "source": [
    "# input\n",
    "phe_info_f <- '../../common/biomarker.phenotype.info.tsv'\n",
    "phe_f <- '@@@@@@/projects/biomarkers/covariate_corrected/outputExtendedNoTDIreduced/phenotypes/residual_and_logtransformed_and_raw_biomarker_phenotypes_20200524.tsv'\n",
    "pop_def_f <- '@@@@@@/ukbb24983/sqc/population_stratification_w24983_20190809/ukb24983_GWAS_covar.20190809.phe'\n",
    "split_f <- '@@@@@@/ukbb24983/sqc/population_stratification_w24983_20190809/split/ukb24983_white_british_%s.phe'\n",
    "prs_f <- '@@@@@@/projects/biomarkers/snpnet/biomarkers/%s/results/score/%s.sscore'\n",
    "\n",
    "# output\n",
    "out_long_phe_f <- '@@@@@@/projects/biomarkers/snpnet/biomarkers/biomarkers.eval.long.tsv'\n",
    "out_f <- 'snpnet_prs_eval.tsv'\n"
   ]
  },
  {
   "cell_type": "markdown",
   "metadata": {},
   "source": [
    "## population definition, train/val/split split"
   ]
  },
  {
   "cell_type": "code",
   "execution_count": 3,
   "metadata": {},
   "outputs": [],
   "source": [
    "pop_def_df <- fread(\n",
    "    pop_def_f, select=c('FID', 'IID', 'population'),\n",
    "    colClasses=c('FID'='character', 'IID'='character')\n",
    ")\n"
   ]
  },
  {
   "cell_type": "code",
   "execution_count": 4,
   "metadata": {},
   "outputs": [],
   "source": [
    "split_df <- c('train', 'val', 'test') %>%\n",
    "lapply(function(s){\n",
    "    fread(sprintf(split_f, s), colClasses='character', col.names=c('FID', 'IID')) %>%\n",
    "    mutate(split = s)\n",
    "}) %>% \n",
    "bind_rows() %>%\n",
    "filter(FID %in% (pop_def_df %>% filter(population == 'white_british') %>% pull(FID)))\n"
   ]
  },
  {
   "cell_type": "code",
   "execution_count": 5,
   "metadata": {},
   "outputs": [],
   "source": [
    "pop_split_df <- pop_def_df %>%\n",
    "left_join(split_df, by=c('FID', 'IID')) %>%\n",
    "mutate(\n",
    "    pop_split = if_else(is.na(split), population, paste(population, split, sep=':'))\n",
    ") %>%\n",
    "arrange(as.numeric(FID))"
   ]
  },
  {
   "cell_type": "code",
   "execution_count": 6,
   "metadata": {},
   "outputs": [
    {
     "data": {
      "text/html": [
       "<table>\n",
       "<caption>A tibble: 8 × 2</caption>\n",
       "<thead>\n",
       "\t<tr><th scope=col>pop_split</th><th scope=col>n</th></tr>\n",
       "\t<tr><th scope=col>&lt;chr&gt;</th><th scope=col>&lt;int&gt;</th></tr>\n",
       "</thead>\n",
       "<tbody>\n",
       "\t<tr><td>african            </td><td>  6498</td></tr>\n",
       "\t<tr><td>e_asian            </td><td>  1154</td></tr>\n",
       "\t<tr><td>non_british_white  </td><td> 24909</td></tr>\n",
       "\t<tr><td>s_asian            </td><td>  7885</td></tr>\n",
       "\t<tr><td>white_british:test </td><td> 67430</td></tr>\n",
       "\t<tr><td>white_british:train</td><td>236005</td></tr>\n",
       "\t<tr><td>white_british:val  </td><td> 33716</td></tr>\n",
       "\t<tr><td>NA                 </td><td>110780</td></tr>\n",
       "</tbody>\n",
       "</table>\n"
      ],
      "text/latex": [
       "A tibble: 8 × 2\n",
       "\\begin{tabular}{ll}\n",
       " pop\\_split & n\\\\\n",
       " <chr> & <int>\\\\\n",
       "\\hline\n",
       "\t african             &   6498\\\\\n",
       "\t e\\_asian             &   1154\\\\\n",
       "\t non\\_british\\_white   &  24909\\\\\n",
       "\t s\\_asian             &   7885\\\\\n",
       "\t white\\_british:test  &  67430\\\\\n",
       "\t white\\_british:train & 236005\\\\\n",
       "\t white\\_british:val   &  33716\\\\\n",
       "\t NA                  & 110780\\\\\n",
       "\\end{tabular}\n"
      ],
      "text/markdown": [
       "\n",
       "A tibble: 8 × 2\n",
       "\n",
       "| pop_split &lt;chr&gt; | n &lt;int&gt; |\n",
       "|---|---|\n",
       "| african             |   6498 |\n",
       "| e_asian             |   1154 |\n",
       "| non_british_white   |  24909 |\n",
       "| s_asian             |   7885 |\n",
       "| white_british:test  |  67430 |\n",
       "| white_british:train | 236005 |\n",
       "| white_british:val   |  33716 |\n",
       "| NA                  | 110780 |\n",
       "\n"
      ],
      "text/plain": [
       "  pop_split           n     \n",
       "1 african               6498\n",
       "2 e_asian               1154\n",
       "3 non_british_white    24909\n",
       "4 s_asian               7885\n",
       "5 white_british:test   67430\n",
       "6 white_british:train 236005\n",
       "7 white_british:val    33716\n",
       "8 NA                  110780"
      ]
     },
     "metadata": {},
     "output_type": "display_data"
    }
   ],
   "source": [
    "pop_split_df %>% count(pop_split)\n"
   ]
  },
  {
   "cell_type": "markdown",
   "metadata": {},
   "source": [
    "## phenotype\n",
    "### phenotype info"
   ]
  },
  {
   "cell_type": "code",
   "execution_count": 7,
   "metadata": {},
   "outputs": [],
   "source": [
    "phe_info_df <- fread(phe_info_f) %>% rename('Phenotype'='name')"
   ]
  },
  {
   "cell_type": "code",
   "execution_count": 8,
   "metadata": {},
   "outputs": [
    {
     "data": {
      "text/html": [
       "<style>\n",
       ".list-inline {list-style: none; margin:0; padding: 0}\n",
       ".list-inline>li {display: inline-block}\n",
       ".list-inline>li:not(:last-child)::after {content: \"\\00b7\"; padding: 0 .5ex}\n",
       "</style>\n",
       "<ol class=list-inline><li>'Alanine_aminotransferase'</li><li>'Albumin'</li><li>'Alkaline_phosphatase'</li><li>'Apolipoprotein_A'</li><li>'Apolipoprotein_B_adjstatins'</li><li>'Aspartate_aminotransferase'</li><li>'AST_ALT_ratio'</li><li>'C_reactive_protein'</li><li>'Calcium'</li><li>'Cholesterol_adjstatins'</li><li>'Creatinine'</li><li>'Creatinine_in_urine'</li><li>'Cystatin_C'</li><li>'Direct_bilirubin'</li><li>'eGFR'</li><li>'Gamma_glutamyltransferase'</li><li>'Glucose'</li><li>'Glycated_haemoglobin_HbA1c'</li><li>'HDL_cholesterol'</li><li>'IGF_1'</li><li>'LDL_direct_adjstatins'</li><li>'Lipoprotein_A'</li><li>'Microalbumin_in_urine'</li><li>'Non_albumin_protein'</li><li>'Phosphate'</li><li>'Potassium_in_urine'</li><li>'SHBG'</li><li>'Sodium_in_urine'</li><li>'Testosterone'</li><li>'Total_bilirubin'</li><li>'Total_protein'</li><li>'Triglycerides'</li><li>'Urate'</li><li>'Urea'</li><li>'Vitamin_D'</li></ol>\n"
      ],
      "text/latex": [
       "\\begin{enumerate*}\n",
       "\\item 'Alanine\\_aminotransferase'\n",
       "\\item 'Albumin'\n",
       "\\item 'Alkaline\\_phosphatase'\n",
       "\\item 'Apolipoprotein\\_A'\n",
       "\\item 'Apolipoprotein\\_B\\_adjstatins'\n",
       "\\item 'Aspartate\\_aminotransferase'\n",
       "\\item 'AST\\_ALT\\_ratio'\n",
       "\\item 'C\\_reactive\\_protein'\n",
       "\\item 'Calcium'\n",
       "\\item 'Cholesterol\\_adjstatins'\n",
       "\\item 'Creatinine'\n",
       "\\item 'Creatinine\\_in\\_urine'\n",
       "\\item 'Cystatin\\_C'\n",
       "\\item 'Direct\\_bilirubin'\n",
       "\\item 'eGFR'\n",
       "\\item 'Gamma\\_glutamyltransferase'\n",
       "\\item 'Glucose'\n",
       "\\item 'Glycated\\_haemoglobin\\_HbA1c'\n",
       "\\item 'HDL\\_cholesterol'\n",
       "\\item 'IGF\\_1'\n",
       "\\item 'LDL\\_direct\\_adjstatins'\n",
       "\\item 'Lipoprotein\\_A'\n",
       "\\item 'Microalbumin\\_in\\_urine'\n",
       "\\item 'Non\\_albumin\\_protein'\n",
       "\\item 'Phosphate'\n",
       "\\item 'Potassium\\_in\\_urine'\n",
       "\\item 'SHBG'\n",
       "\\item 'Sodium\\_in\\_urine'\n",
       "\\item 'Testosterone'\n",
       "\\item 'Total\\_bilirubin'\n",
       "\\item 'Total\\_protein'\n",
       "\\item 'Triglycerides'\n",
       "\\item 'Urate'\n",
       "\\item 'Urea'\n",
       "\\item 'Vitamin\\_D'\n",
       "\\end{enumerate*}\n"
      ],
      "text/markdown": [
       "1. 'Alanine_aminotransferase'\n",
       "2. 'Albumin'\n",
       "3. 'Alkaline_phosphatase'\n",
       "4. 'Apolipoprotein_A'\n",
       "5. 'Apolipoprotein_B_adjstatins'\n",
       "6. 'Aspartate_aminotransferase'\n",
       "7. 'AST_ALT_ratio'\n",
       "8. 'C_reactive_protein'\n",
       "9. 'Calcium'\n",
       "10. 'Cholesterol_adjstatins'\n",
       "11. 'Creatinine'\n",
       "12. 'Creatinine_in_urine'\n",
       "13. 'Cystatin_C'\n",
       "14. 'Direct_bilirubin'\n",
       "15. 'eGFR'\n",
       "16. 'Gamma_glutamyltransferase'\n",
       "17. 'Glucose'\n",
       "18. 'Glycated_haemoglobin_HbA1c'\n",
       "19. 'HDL_cholesterol'\n",
       "20. 'IGF_1'\n",
       "21. 'LDL_direct_adjstatins'\n",
       "22. 'Lipoprotein_A'\n",
       "23. 'Microalbumin_in_urine'\n",
       "24. 'Non_albumin_protein'\n",
       "25. 'Phosphate'\n",
       "26. 'Potassium_in_urine'\n",
       "27. 'SHBG'\n",
       "28. 'Sodium_in_urine'\n",
       "29. 'Testosterone'\n",
       "30. 'Total_bilirubin'\n",
       "31. 'Total_protein'\n",
       "32. 'Triglycerides'\n",
       "33. 'Urate'\n",
       "34. 'Urea'\n",
       "35. 'Vitamin_D'\n",
       "\n",
       "\n"
      ],
      "text/plain": [
       " [1] \"Alanine_aminotransferase\"    \"Albumin\"                    \n",
       " [3] \"Alkaline_phosphatase\"        \"Apolipoprotein_A\"           \n",
       " [5] \"Apolipoprotein_B_adjstatins\" \"Aspartate_aminotransferase\" \n",
       " [7] \"AST_ALT_ratio\"               \"C_reactive_protein\"         \n",
       " [9] \"Calcium\"                     \"Cholesterol_adjstatins\"     \n",
       "[11] \"Creatinine\"                  \"Creatinine_in_urine\"        \n",
       "[13] \"Cystatin_C\"                  \"Direct_bilirubin\"           \n",
       "[15] \"eGFR\"                        \"Gamma_glutamyltransferase\"  \n",
       "[17] \"Glucose\"                     \"Glycated_haemoglobin_HbA1c\" \n",
       "[19] \"HDL_cholesterol\"             \"IGF_1\"                      \n",
       "[21] \"LDL_direct_adjstatins\"       \"Lipoprotein_A\"              \n",
       "[23] \"Microalbumin_in_urine\"       \"Non_albumin_protein\"        \n",
       "[25] \"Phosphate\"                   \"Potassium_in_urine\"         \n",
       "[27] \"SHBG\"                        \"Sodium_in_urine\"            \n",
       "[29] \"Testosterone\"                \"Total_bilirubin\"            \n",
       "[31] \"Total_protein\"               \"Triglycerides\"              \n",
       "[33] \"Urate\"                       \"Urea\"                       \n",
       "[35] \"Vitamin_D\"                  "
      ]
     },
     "metadata": {},
     "output_type": "display_data"
    }
   ],
   "source": [
    "phe_info_df %>% pull(annotation)"
   ]
  },
  {
   "cell_type": "markdown",
   "metadata": {},
   "source": [
    "### phenotype\n",
    "\n",
    "We read the log-transformed phenotype and the covariate corrected phenotype\n"
   ]
  },
  {
   "cell_type": "code",
   "execution_count": 9,
   "metadata": {},
   "outputs": [],
   "source": [
    "phe_df <- fread(\n",
    "    phe_f, colClasses=c('FID'='character', 'IID'='character'),\n",
    "    select=c(\n",
    "        'FID', 'IID', \n",
    "        paste0('log.', phe_info_df %>% pull(annotation)),\n",
    "        paste0('residual.', phe_info_df %>% pull(annotation))\n",
    "    ), \n",
    ")\n"
   ]
  },
  {
   "cell_type": "code",
   "execution_count": 10,
   "metadata": {},
   "outputs": [
    {
     "data": {
      "text/html": [
       "<style>\n",
       ".list-inline {list-style: none; margin:0; padding: 0}\n",
       ".list-inline>li {display: inline-block}\n",
       ".list-inline>li:not(:last-child)::after {content: \"\\00b7\"; padding: 0 .5ex}\n",
       "</style>\n",
       "<ol class=list-inline><li>461503</li><li>72</li></ol>\n"
      ],
      "text/latex": [
       "\\begin{enumerate*}\n",
       "\\item 461503\n",
       "\\item 72\n",
       "\\end{enumerate*}\n"
      ],
      "text/markdown": [
       "1. 461503\n",
       "2. 72\n",
       "\n",
       "\n"
      ],
      "text/plain": [
       "[1] 461503     72"
      ]
     },
     "metadata": {},
     "output_type": "display_data"
    }
   ],
   "source": [
    "dim(phe_df)"
   ]
  },
  {
   "cell_type": "markdown",
   "metadata": {},
   "source": [
    "## PRS"
   ]
  },
  {
   "cell_type": "code",
   "execution_count": 12,
   "metadata": {},
   "outputs": [],
   "source": [
    "sscore_df <- phe_info_df %>% pull(annotation) %>%\n",
    "lapply(function(phe){\n",
    "    fread(\n",
    "        sprintf(prs_f, phe, phe),\n",
    "        select=c('#FID', 'IID', 'SCORE1_SUM'),\n",
    "        colClasses=c('#FID'='character', 'IID'='character')\n",
    "    ) %>%\n",
    "    rename('FID'='#FID') %>%\n",
    "    rename(!! paste0('PRS.', phe) := 'SCORE1_SUM')\n",
    "}) %>%\n",
    "reduce(function(x, y) inner_join(x, y, by=c('FID', 'IID')))\n"
   ]
  },
  {
   "cell_type": "code",
   "execution_count": 13,
   "metadata": {},
   "outputs": [
    {
     "data": {
      "text/html": [
       "<style>\n",
       ".list-inline {list-style: none; margin:0; padding: 0}\n",
       ".list-inline>li {display: inline-block}\n",
       ".list-inline>li:not(:last-child)::after {content: \"\\00b7\"; padding: 0 .5ex}\n",
       "</style>\n",
       "<ol class=list-inline><li>488377</li><li>37</li></ol>\n"
      ],
      "text/latex": [
       "\\begin{enumerate*}\n",
       "\\item 488377\n",
       "\\item 37\n",
       "\\end{enumerate*}\n"
      ],
      "text/markdown": [
       "1. 488377\n",
       "2. 37\n",
       "\n",
       "\n"
      ],
      "text/plain": [
       "[1] 488377     37"
      ]
     },
     "metadata": {},
     "output_type": "display_data"
    }
   ],
   "source": [
    "sscore_df %>% dim()"
   ]
  },
  {
   "cell_type": "markdown",
   "metadata": {},
   "source": [
    "## join"
   ]
  },
  {
   "cell_type": "code",
   "execution_count": 25,
   "metadata": {},
   "outputs": [],
   "source": [
    "long_df <- sscore_df %>% \n",
    "gather(trait, PRS, -FID, -IID) %>%\n",
    "mutate(trait = str_replace(trait, '^PRS.', '')) %>%\n",
    "full_join(\n",
    "    phe_df %>%\n",
    "    select(all_of(c('FID', 'IID', paste0('log.', phe_info_df %>% pull(annotation))))) %>%\n",
    "    gather(trait, log_phe, -FID, -IID) %>%\n",
    "    mutate(trait = str_replace(trait, '^log.', '')),\n",
    "    by=c('FID', 'IID', 'trait')\n",
    ") %>%\n",
    "full_join(\n",
    "    phe_df %>%\n",
    "    select(all_of(c('FID', 'IID', paste0('residual.', phe_info_df %>% pull(annotation))))) %>%\n",
    "    gather(trait, residual_phe, -FID, -IID) %>%\n",
    "    mutate(trait = str_replace(trait, '^residual.', '')),\n",
    "    by=c('FID', 'IID', 'trait')\n",
    ") %>%\n",
    "left_join(\n",
    "    pop_split_df %>%\n",
    "    select(FID, IID, pop_split),\n",
    "    by=c('FID', 'IID')\n",
    ") %>%\n",
    "mutate(\n",
    "    covar_score = log_phe - residual_phe,\n",
    "    total_score = covar_score + PRS\n",
    ")\n"
   ]
  },
  {
   "cell_type": "code",
   "execution_count": 26,
   "metadata": {},
   "outputs": [],
   "source": [
    "long_df %>%\n",
    "rename('#FID' = 'FID') %>%\n",
    "fwrite(out_long_phe_f, sep='\\t', na = \"NA\", quote=F)\n"
   ]
  },
  {
   "cell_type": "code",
   "execution_count": 27,
   "metadata": {},
   "outputs": [
    {
     "data": {
      "text/html": [
       "'@@@@@@/projects/biomarkers/snpnet/biomarkers/biomarkers.eval.long.tsv'"
      ],
      "text/latex": [
       "'@@@@@@/projects/biomarkers/snpnet/biomarkers/biomarkers.eval.long.tsv'"
      ],
      "text/markdown": [
       "'@@@@@@/projects/biomarkers/snpnet/biomarkers/biomarkers.eval.long.tsv'"
      ],
      "text/plain": [
       "[1] \"@@@@@@/projects/biomarkers/snpnet/biomarkers/biomarkers.eval.long.tsv\""
      ]
     },
     "metadata": {},
     "output_type": "display_data"
    }
   ],
   "source": [
    "out_long_phe_f"
   ]
  },
  {
   "cell_type": "code",
   "execution_count": 46,
   "metadata": {},
   "outputs": [
    {
     "data": {
      "text/html": [
       "<table>\n",
       "<caption>A tibble: 8 × 2</caption>\n",
       "<thead>\n",
       "\t<tr><th scope=col>pop_split</th><th scope=col>n</th></tr>\n",
       "\t<tr><th scope=col>&lt;chr&gt;</th><th scope=col>&lt;int&gt;</th></tr>\n",
       "</thead>\n",
       "<tbody>\n",
       "\t<tr><td>african            </td><td>  6021</td></tr>\n",
       "\t<tr><td>e_asian            </td><td>  1082</td></tr>\n",
       "\t<tr><td>non_british_white  </td><td> 23595</td></tr>\n",
       "\t<tr><td>s_asian            </td><td>  7341</td></tr>\n",
       "\t<tr><td>white_british:test </td><td> 63818</td></tr>\n",
       "\t<tr><td>white_british:train</td><td>223327</td></tr>\n",
       "\t<tr><td>white_british:val  </td><td> 31929</td></tr>\n",
       "\t<tr><td>NA                 </td><td>104389</td></tr>\n",
       "</tbody>\n",
       "</table>\n"
      ],
      "text/latex": [
       "A tibble: 8 × 2\n",
       "\\begin{tabular}{ll}\n",
       " pop\\_split & n\\\\\n",
       " <chr> & <int>\\\\\n",
       "\\hline\n",
       "\t african             &   6021\\\\\n",
       "\t e\\_asian             &   1082\\\\\n",
       "\t non\\_british\\_white   &  23595\\\\\n",
       "\t s\\_asian             &   7341\\\\\n",
       "\t white\\_british:test  &  63818\\\\\n",
       "\t white\\_british:train & 223327\\\\\n",
       "\t white\\_british:val   &  31929\\\\\n",
       "\t NA                  & 104389\\\\\n",
       "\\end{tabular}\n"
      ],
      "text/markdown": [
       "\n",
       "A tibble: 8 × 2\n",
       "\n",
       "| pop_split &lt;chr&gt; | n &lt;int&gt; |\n",
       "|---|---|\n",
       "| african             |   6021 |\n",
       "| e_asian             |   1082 |\n",
       "| non_british_white   |  23595 |\n",
       "| s_asian             |   7341 |\n",
       "| white_british:test  |  63818 |\n",
       "| white_british:train | 223327 |\n",
       "| white_british:val   |  31929 |\n",
       "| NA                  | 104389 |\n",
       "\n"
      ],
      "text/plain": [
       "  pop_split           n     \n",
       "1 african               6021\n",
       "2 e_asian               1082\n",
       "3 non_british_white    23595\n",
       "4 s_asian               7341\n",
       "5 white_british:test   63818\n",
       "6 white_british:train 223327\n",
       "7 white_british:val    31929\n",
       "8 NA                  104389"
      ]
     },
     "metadata": {},
     "output_type": "display_data"
    }
   ],
   "source": [
    "long_df %>% \n",
    "drop_na(log_phe, residual_phe, covar_score, total_score) %>%\n",
    "select(FID, IID, pop_split) %>%\n",
    "unique() %>%\n",
    "count(pop_split)"
   ]
  },
  {
   "cell_type": "markdown",
   "metadata": {},
   "source": [
    "## eval"
   ]
  },
  {
   "cell_type": "code",
   "execution_count": 28,
   "metadata": {},
   "outputs": [],
   "source": [
    "r2 <- function(response, pred){\n",
    "#     1 - sum((response - pred)^2) / sum((response - mean(response))^2)    \n",
    "    summary(lm(response ~ 1 + pred))$r.squared\n",
    "}\n"
   ]
  },
  {
   "cell_type": "code",
   "execution_count": 31,
   "metadata": {},
   "outputs": [],
   "source": [
    "build_eval_df <- function(long_df, phe, p_s){\n",
    "    df <- long_df %>% \n",
    "    filter(trait == phe, pop_split == p_s) %>%\n",
    "    drop_na(log_phe, PRS)\n",
    "    \n",
    "    data.frame(\n",
    "        trait      = phe,\n",
    "        pop_split  = p_s,\n",
    "        geno       = r2(df$log_phe, df$PRS),\n",
    "        covar      = r2(df$log_phe, df$covar_score),\n",
    "        geno_covar = r2(df$log_phe, df$total_score),\n",
    "        stringsAsFactors = F\n",
    "    )    \n",
    "}\n"
   ]
  },
  {
   "cell_type": "code",
   "execution_count": 32,
   "metadata": {},
   "outputs": [
    {
     "data": {
      "text/html": [
       "<table>\n",
       "<caption>A data.frame: 1 × 5</caption>\n",
       "<thead>\n",
       "\t<tr><th scope=col>trait</th><th scope=col>pop_split</th><th scope=col>geno</th><th scope=col>covar</th><th scope=col>geno_covar</th></tr>\n",
       "\t<tr><th scope=col>&lt;chr&gt;</th><th scope=col>&lt;chr&gt;</th><th scope=col>&lt;dbl&gt;</th><th scope=col>&lt;dbl&gt;</th><th scope=col>&lt;dbl&gt;</th></tr>\n",
       "</thead>\n",
       "<tbody>\n",
       "\t<tr><td>Testosterone</td><td>white_british:train</td><td>0.00926571</td><td>0.9034295</td><td>0.913574</td></tr>\n",
       "</tbody>\n",
       "</table>\n"
      ],
      "text/latex": [
       "A data.frame: 1 × 5\n",
       "\\begin{tabular}{lllll}\n",
       " trait & pop\\_split & geno & covar & geno\\_covar\\\\\n",
       " <chr> & <chr> & <dbl> & <dbl> & <dbl>\\\\\n",
       "\\hline\n",
       "\t Testosterone & white\\_british:train & 0.00926571 & 0.9034295 & 0.913574\\\\\n",
       "\\end{tabular}\n"
      ],
      "text/markdown": [
       "\n",
       "A data.frame: 1 × 5\n",
       "\n",
       "| trait &lt;chr&gt; | pop_split &lt;chr&gt; | geno &lt;dbl&gt; | covar &lt;dbl&gt; | geno_covar &lt;dbl&gt; |\n",
       "|---|---|---|---|---|\n",
       "| Testosterone | white_british:train | 0.00926571 | 0.9034295 | 0.913574 |\n",
       "\n"
      ],
      "text/plain": [
       "  trait        pop_split           geno       covar     geno_covar\n",
       "1 Testosterone white_british:train 0.00926571 0.9034295 0.913574  "
      ]
     },
     "metadata": {},
     "output_type": "display_data"
    }
   ],
   "source": [
    "# test with example\n",
    "build_eval_df(long_df, phe = 'Testosterone', p_s = 'white_british:train')"
   ]
  },
  {
   "cell_type": "code",
   "execution_count": 33,
   "metadata": {},
   "outputs": [],
   "source": [
    "r2_eval_df <- pop_split_df %>%\n",
    "drop_na(pop_split) %>%\n",
    "pull(pop_split) %>%\n",
    "unique() %>%\n",
    "lapply(function(p_s){\n",
    "    phe_info_df %>% pull(annotation) %>%\n",
    "    lapply(function(phe){\n",
    "        build_eval_df(long_df, phe, p_s)\n",
    "    }) %>% bind_rows()\n",
    "}) %>% bind_rows()\n"
   ]
  },
  {
   "cell_type": "code",
   "execution_count": 34,
   "metadata": {},
   "outputs": [
    {
     "data": {
      "text/html": [
       "<style>\n",
       ".list-inline {list-style: none; margin:0; padding: 0}\n",
       ".list-inline>li {display: inline-block}\n",
       ".list-inline>li:not(:last-child)::after {content: \"\\00b7\"; padding: 0 .5ex}\n",
       "</style>\n",
       "<ol class=list-inline><li>245</li><li>5</li></ol>\n"
      ],
      "text/latex": [
       "\\begin{enumerate*}\n",
       "\\item 245\n",
       "\\item 5\n",
       "\\end{enumerate*}\n"
      ],
      "text/markdown": [
       "1. 245\n",
       "2. 5\n",
       "\n",
       "\n"
      ],
      "text/plain": [
       "[1] 245   5"
      ]
     },
     "metadata": {},
     "output_type": "display_data"
    }
   ],
   "source": [
    "r2_eval_df %>% dim()"
   ]
  },
  {
   "cell_type": "code",
   "execution_count": 43,
   "metadata": {},
   "outputs": [],
   "source": [
    "r2_eval_df %>%\n",
    "rename('annotation'='trait') %>%\n",
    "left_join(\n",
    "    phe_info_df %>%\n",
    "    select(Phenotype, annotation),\n",
    "    by='annotation'\n",
    ") %>%\n",
    "rename('trait'='Phenotype') %>%\n",
    "select(trait, annotation, pop_split, geno, covar, geno_covar) %>%\n",
    "rename('#trait' = 'trait') %>%\n",
    "fwrite(out_f, sep='\\t', na = \"NA\", quote=F)\n"
   ]
  },
  {
   "cell_type": "code",
   "execution_count": 44,
   "metadata": {},
   "outputs": [
    {
     "data": {
      "text/html": [
       "'snpnet_prs_eval.tsv'"
      ],
      "text/latex": [
       "'snpnet\\_prs\\_eval.tsv'"
      ],
      "text/markdown": [
       "'snpnet_prs_eval.tsv'"
      ],
      "text/plain": [
       "[1] \"snpnet_prs_eval.tsv\""
      ]
     },
     "metadata": {},
     "output_type": "display_data"
    }
   ],
   "source": [
    "out_f"
   ]
  },
  {
   "cell_type": "code",
   "execution_count": null,
   "metadata": {},
   "outputs": [],
   "source": []
  }
 ],
 "metadata": {
  "kernelspec": {
   "display_name": "R",
   "language": "R",
   "name": "ir"
  },
  "language_info": {
   "codemirror_mode": "r",
   "file_extension": ".r",
   "mimetype": "text/x-r-source",
   "name": "R",
   "pygments_lexer": "r",
   "version": "3.6.1"
  }
 },
 "nbformat": 4,
 "nbformat_minor": 4
}
