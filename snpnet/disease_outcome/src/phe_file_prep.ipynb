{
 "cells": [
  {
   "cell_type": "code",
   "execution_count": 1,
   "metadata": {},
   "outputs": [],
   "source": [
    "suppressPackageStartupMessages(require(tidyverse))\n",
    "suppressPackageStartupMessages(require(data.table))\n"
   ]
  },
  {
   "cell_type": "code",
   "execution_count": 2,
   "metadata": {},
   "outputs": [],
   "source": [
    "phe_dir <- '@@@@@@/users/ytanigaw/repos/rivas-lab/biomarkers/snpnet/disease_outcome/phe'"
   ]
  },
  {
   "cell_type": "code",
   "execution_count": 3,
   "metadata": {},
   "outputs": [],
   "source": [
    "phe_names <- c(\n",
    "    fread(file.path(phe_dir, 'phe.lst'), head=F) %>% pull()\n",
    "#     , 'INI22402'\n",
    ")"
   ]
  },
  {
   "cell_type": "code",
   "execution_count": 4,
   "metadata": {},
   "outputs": [
    {
     "data": {
      "text/html": [
       "<ol class=list-inline>\n",
       "\t<li>'HC171'</li>\n",
       "\t<li>'HC188'</li>\n",
       "\t<li>'HC294'</li>\n",
       "\t<li>'HC299'</li>\n",
       "\t<li>'HC326'</li>\n",
       "\t<li>'INI22402'</li>\n",
       "\t<li>'HC215'</li>\n",
       "\t<li>'INI4079'</li>\n",
       "\t<li>'INI4080'</li>\n",
       "\t<li>'FH1065'</li>\n",
       "\t<li>'HC165'</li>\n",
       "\t<li>'HC221'</li>\n",
       "\t<li>'HC132'</li>\n",
       "\t<li>'HC225'</li>\n",
       "\t<li>'HC328'</li>\n",
       "</ol>\n"
      ],
      "text/latex": [
       "\\begin{enumerate*}\n",
       "\\item 'HC171'\n",
       "\\item 'HC188'\n",
       "\\item 'HC294'\n",
       "\\item 'HC299'\n",
       "\\item 'HC326'\n",
       "\\item 'INI22402'\n",
       "\\item 'HC215'\n",
       "\\item 'INI4079'\n",
       "\\item 'INI4080'\n",
       "\\item 'FH1065'\n",
       "\\item 'HC165'\n",
       "\\item 'HC221'\n",
       "\\item 'HC132'\n",
       "\\item 'HC225'\n",
       "\\item 'HC328'\n",
       "\\end{enumerate*}\n"
      ],
      "text/markdown": [
       "1. 'HC171'\n",
       "2. 'HC188'\n",
       "3. 'HC294'\n",
       "4. 'HC299'\n",
       "5. 'HC326'\n",
       "6. 'INI22402'\n",
       "7. 'HC215'\n",
       "8. 'INI4079'\n",
       "9. 'INI4080'\n",
       "10. 'FH1065'\n",
       "11. 'HC165'\n",
       "12. 'HC221'\n",
       "13. 'HC132'\n",
       "14. 'HC225'\n",
       "15. 'HC328'\n",
       "\n",
       "\n"
      ],
      "text/plain": [
       " [1] \"HC171\"    \"HC188\"    \"HC294\"    \"HC299\"    \"HC326\"    \"INI22402\"\n",
       " [7] \"HC215\"    \"INI4079\"  \"INI4080\"  \"FH1065\"   \"HC165\"    \"HC221\"   \n",
       "[13] \"HC132\"    \"HC225\"    \"HC328\"   "
      ]
     },
     "metadata": {},
     "output_type": "display_data"
    }
   ],
   "source": [
    "phe_names"
   ]
  },
  {
   "cell_type": "code",
   "execution_count": 5,
   "metadata": {},
   "outputs": [],
   "source": [
    "covars <- c(c('split', 'age', 'sex', 'Array'), paste0('PC', 1:4))"
   ]
  },
  {
   "cell_type": "code",
   "execution_count": 6,
   "metadata": {},
   "outputs": [
    {
     "data": {
      "text/html": [
       "<ol class=list-inline>\n",
       "\t<li>516884</li>\n",
       "\t<li>25</li>\n",
       "</ol>\n"
      ],
      "text/latex": [
       "\\begin{enumerate*}\n",
       "\\item 516884\n",
       "\\item 25\n",
       "\\end{enumerate*}\n"
      ],
      "text/markdown": [
       "1. 516884\n",
       "2. 25\n",
       "\n",
       "\n"
      ],
      "text/plain": [
       "[1] 516884     25"
      ]
     },
     "metadata": {},
     "output_type": "display_data"
    }
   ],
   "source": [
    "# phe_f <- '@@@@@@@@/ukbb24983/phenotypedata/master_phe/master.20190509.phe'\n",
    "phe_f <- '@@@@@@/ukbb24983/phenotypedata/master_phe/master.20191219.phe'\n",
    "\n",
    "phe_df <- fread(phe_f, select=c(c('FID', 'IID'), covars, phe_names), colClasses = c(\"FID\" = \"character\", \"IID\" = \"character\"))\n",
    "\n",
    "phe_df %>% dim()"
   ]
  },
  {
   "cell_type": "code",
   "execution_count": 7,
   "metadata": {},
   "outputs": [],
   "source": [
    "t2d_f <- '@@@@@@/projects/biomarkers/gwas/1000g/T2D_Eastwood_Definition.phe'\n",
    "\n",
    "t2d_HbA1c_39_f <- '@@@@@@/projects/biomarkers/gwas/1000g/T2D_Eastwood_Definition_Excluding_Controls_HbA1c_39.phe'\n"
   ]
  },
  {
   "cell_type": "code",
   "execution_count": 8,
   "metadata": {},
   "outputs": [],
   "source": [
    "t2d <- fread(t2d_f, colClasses = c(\"FID\" = \"character\", \"IID\" = \"character\"))\n",
    "t2d_HbA1c_39 <- fread(t2d_HbA1c_39_f, colClasses = c(\"FID\" = \"character\", \"IID\" = \"character\"))"
   ]
  },
  {
   "cell_type": "code",
   "execution_count": 9,
   "metadata": {},
   "outputs": [
    {
     "data": {
      "text/html": [
       "<table>\n",
       "<caption>A data.table: 0 × 3</caption>\n",
       "<thead>\n",
       "\t<tr><th scope=col>FID</th><th scope=col>IID</th><th scope=col>T2D</th></tr>\n",
       "\t<tr><th scope=col>&lt;chr&gt;</th><th scope=col>&lt;chr&gt;</th><th scope=col>&lt;int&gt;</th></tr>\n",
       "</thead>\n",
       "<tbody>\n",
       "</tbody>\n",
       "</table>\n"
      ],
      "text/latex": [
       "A data.table: 0 × 3\n",
       "\\begin{tabular}{r|lll}\n",
       " FID & IID & T2D\\\\\n",
       " <chr> & <chr> & <int>\\\\\n",
       "\\hline\n",
       "\\end{tabular}\n"
      ],
      "text/markdown": [
       "\n",
       "A data.table: 0 × 3\n",
       "\n",
       "| FID &lt;chr&gt; | IID &lt;chr&gt; | T2D &lt;int&gt; |\n",
       "|---|---|---|\n",
       "\n"
      ],
      "text/plain": [
       "     FID IID T2D"
      ]
     },
     "metadata": {},
     "output_type": "display_data"
    }
   ],
   "source": [
    "head(t2d_HbA1c_39, 0)"
   ]
  },
  {
   "cell_type": "code",
   "execution_count": 10,
   "metadata": {},
   "outputs": [],
   "source": [
    "merged_df <- phe_df %>% \n",
    "left_join(t2d, by=c('FID', 'IID')) %>%\n",
    "left_join(t2d_HbA1c_39 %>% rename('T2D_HbA1c_39' = 'T2D'), by=c('FID', 'IID')) %>%\n",
    "replace_na(list(T2D='-9', T2D_HbA1c_39='-9'))"
   ]
  },
  {
   "cell_type": "code",
   "execution_count": 11,
   "metadata": {},
   "outputs": [
    {
     "data": {
      "text/html": [
       "<ol class=list-inline>\n",
       "\t<li>516884</li>\n",
       "\t<li>27</li>\n",
       "</ol>\n"
      ],
      "text/latex": [
       "\\begin{enumerate*}\n",
       "\\item 516884\n",
       "\\item 27\n",
       "\\end{enumerate*}\n"
      ],
      "text/markdown": [
       "1. 516884\n",
       "2. 27\n",
       "\n",
       "\n"
      ],
      "text/plain": [
       "[1] 516884     27"
      ]
     },
     "metadata": {},
     "output_type": "display_data"
    }
   ],
   "source": [
    "merged_df %>% dim()"
   ]
  },
  {
   "cell_type": "code",
   "execution_count": 12,
   "metadata": {},
   "outputs": [
    {
     "data": {
      "text/html": [
       "<table>\n",
       "<caption>A data.frame: 0 × 4</caption>\n",
       "<thead>\n",
       "\t<tr><th scope=col>FID</th><th scope=col>IID</th><th scope=col>key</th><th scope=col>val</th></tr>\n",
       "\t<tr><th scope=col>&lt;chr&gt;</th><th scope=col>&lt;chr&gt;</th><th scope=col>&lt;chr&gt;</th><th scope=col>&lt;chr&gt;</th></tr>\n",
       "</thead>\n",
       "<tbody>\n",
       "</tbody>\n",
       "</table>\n"
      ],
      "text/latex": [
       "A data.frame: 0 × 4\n",
       "\\begin{tabular}{r|llll}\n",
       " FID & IID & key & val\\\\\n",
       " <chr> & <chr> & <chr> & <chr>\\\\\n",
       "\\hline\n",
       "\\end{tabular}\n"
      ],
      "text/markdown": [
       "\n",
       "A data.frame: 0 × 4\n",
       "\n",
       "| FID &lt;chr&gt; | IID &lt;chr&gt; | key &lt;chr&gt; | val &lt;chr&gt; |\n",
       "|---|---|---|---|\n",
       "\n"
      ],
      "text/plain": [
       "     FID IID key val"
      ]
     },
     "metadata": {},
     "output_type": "display_data"
    }
   ],
   "source": [
    "merged_df %>% filter(FID == '3e+06') %>% gather(key, val, -FID, -IID)"
   ]
  },
  {
   "cell_type": "code",
   "execution_count": 13,
   "metadata": {},
   "outputs": [],
   "source": [
    "for( c in c(phe_names, 'T2D', 'T2D_HbA1c_39')){\n",
    "    merged_df[[c]] <- na_if(merged_df[[c]], -9)\n",
    "}\n"
   ]
  },
  {
   "cell_type": "code",
   "execution_count": 19,
   "metadata": {},
   "outputs": [
    {
     "data": {
      "text/html": [
       "<table>\n",
       "<caption>A tibble: 3 × 2</caption>\n",
       "<thead>\n",
       "\t<tr><th scope=col>T2D</th><th scope=col>n</th></tr>\n",
       "\t<tr><th scope=col>&lt;chr&gt;</th><th scope=col>&lt;int&gt;</th></tr>\n",
       "</thead>\n",
       "<tbody>\n",
       "\t<tr><td>1 </td><td>411877</td></tr>\n",
       "\t<tr><td>2 </td><td> 23842</td></tr>\n",
       "\t<tr><td>NA</td><td> 81165</td></tr>\n",
       "</tbody>\n",
       "</table>\n"
      ],
      "text/latex": [
       "A tibble: 3 × 2\n",
       "\\begin{tabular}{r|ll}\n",
       " T2D & n\\\\\n",
       " <chr> & <int>\\\\\n",
       "\\hline\n",
       "\t 1  & 411877\\\\\n",
       "\t 2  &  23842\\\\\n",
       "\t NA &  81165\\\\\n",
       "\\end{tabular}\n"
      ],
      "text/markdown": [
       "\n",
       "A tibble: 3 × 2\n",
       "\n",
       "| T2D &lt;chr&gt; | n &lt;int&gt; |\n",
       "|---|---|\n",
       "| 1  | 411877 |\n",
       "| 2  |  23842 |\n",
       "| NA |  81165 |\n",
       "\n"
      ],
      "text/plain": [
       "  T2D n     \n",
       "1 1   411877\n",
       "2 2    23842\n",
       "3 NA   81165"
      ]
     },
     "metadata": {},
     "output_type": "display_data"
    }
   ],
   "source": [
    "merged_df %>% count(T2D)"
   ]
  },
  {
   "cell_type": "code",
   "execution_count": 20,
   "metadata": {},
   "outputs": [],
   "source": [
    "merged_df %>% filter(FID != '3e+06') %>%\n",
    "fwrite(file.path(phe_dir, 'phe.tsv'), sep='\\t')\n"
   ]
  },
  {
   "cell_type": "code",
   "execution_count": 22,
   "metadata": {},
   "outputs": [
    {
     "data": {
      "text/html": [
       "<table>\n",
       "<caption>A tibble: 4 × 2</caption>\n",
       "<thead>\n",
       "\t<tr><th scope=col>split</th><th scope=col>n</th></tr>\n",
       "\t<tr><th scope=col>&lt;chr&gt;</th><th scope=col>&lt;int&gt;</th></tr>\n",
       "</thead>\n",
       "<tbody>\n",
       "\t<tr><td>test </td><td> 67430</td></tr>\n",
       "\t<tr><td>train</td><td>236004</td></tr>\n",
       "\t<tr><td>val  </td><td> 33716</td></tr>\n",
       "\t<tr><td>NA   </td><td>179734</td></tr>\n",
       "</tbody>\n",
       "</table>\n"
      ],
      "text/latex": [
       "A tibble: 4 × 2\n",
       "\\begin{tabular}{r|ll}\n",
       " split & n\\\\\n",
       " <chr> & <int>\\\\\n",
       "\\hline\n",
       "\t test  &  67430\\\\\n",
       "\t train & 236004\\\\\n",
       "\t val   &  33716\\\\\n",
       "\t NA    & 179734\\\\\n",
       "\\end{tabular}\n"
      ],
      "text/markdown": [
       "\n",
       "A tibble: 4 × 2\n",
       "\n",
       "| split &lt;chr&gt; | n &lt;int&gt; |\n",
       "|---|---|\n",
       "| test  |  67430 |\n",
       "| train | 236004 |\n",
       "| val   |  33716 |\n",
       "| NA    | 179734 |\n",
       "\n"
      ],
      "text/plain": [
       "  split n     \n",
       "1 test   67430\n",
       "2 train 236004\n",
       "3 val    33716\n",
       "4 NA    179734"
      ]
     },
     "metadata": {},
     "output_type": "display_data"
    }
   ],
   "source": [
    "merged_df %>% count(split)"
   ]
  },
  {
   "cell_type": "code",
   "execution_count": 21,
   "metadata": {},
   "outputs": [
    {
     "data": {
      "text/html": [
       "<table>\n",
       "<caption>A tibble: 12 × 3</caption>\n",
       "<thead>\n",
       "\t<tr><th scope=col>T2D</th><th scope=col>split</th><th scope=col>n</th></tr>\n",
       "\t<tr><th scope=col>&lt;chr&gt;</th><th scope=col>&lt;chr&gt;</th><th scope=col>&lt;int&gt;</th></tr>\n",
       "</thead>\n",
       "<tbody>\n",
       "\t<tr><td>1 </td><td>test </td><td> 55764</td></tr>\n",
       "\t<tr><td>1 </td><td>train</td><td>195320</td></tr>\n",
       "\t<tr><td>1 </td><td>val  </td><td> 27917</td></tr>\n",
       "\t<tr><td>1 </td><td>NA   </td><td>132876</td></tr>\n",
       "\t<tr><td>2 </td><td>test </td><td>  2855</td></tr>\n",
       "\t<tr><td>2 </td><td>train</td><td> 10184</td></tr>\n",
       "\t<tr><td>2 </td><td>val  </td><td>  1471</td></tr>\n",
       "\t<tr><td>2 </td><td>NA   </td><td>  9332</td></tr>\n",
       "\t<tr><td>NA</td><td>test </td><td>  8811</td></tr>\n",
       "\t<tr><td>NA</td><td>train</td><td> 30500</td></tr>\n",
       "\t<tr><td>NA</td><td>val  </td><td>  4328</td></tr>\n",
       "\t<tr><td>NA</td><td>NA   </td><td> 37526</td></tr>\n",
       "</tbody>\n",
       "</table>\n"
      ],
      "text/latex": [
       "A tibble: 12 × 3\n",
       "\\begin{tabular}{r|lll}\n",
       " T2D & split & n\\\\\n",
       " <chr> & <chr> & <int>\\\\\n",
       "\\hline\n",
       "\t 1  & test  &  55764\\\\\n",
       "\t 1  & train & 195320\\\\\n",
       "\t 1  & val   &  27917\\\\\n",
       "\t 1  & NA    & 132876\\\\\n",
       "\t 2  & test  &   2855\\\\\n",
       "\t 2  & train &  10184\\\\\n",
       "\t 2  & val   &   1471\\\\\n",
       "\t 2  & NA    &   9332\\\\\n",
       "\t NA & test  &   8811\\\\\n",
       "\t NA & train &  30500\\\\\n",
       "\t NA & val   &   4328\\\\\n",
       "\t NA & NA    &  37526\\\\\n",
       "\\end{tabular}\n"
      ],
      "text/markdown": [
       "\n",
       "A tibble: 12 × 3\n",
       "\n",
       "| T2D &lt;chr&gt; | split &lt;chr&gt; | n &lt;int&gt; |\n",
       "|---|---|---|\n",
       "| 1  | test  |  55764 |\n",
       "| 1  | train | 195320 |\n",
       "| 1  | val   |  27917 |\n",
       "| 1  | NA    | 132876 |\n",
       "| 2  | test  |   2855 |\n",
       "| 2  | train |  10184 |\n",
       "| 2  | val   |   1471 |\n",
       "| 2  | NA    |   9332 |\n",
       "| NA | test  |   8811 |\n",
       "| NA | train |  30500 |\n",
       "| NA | val   |   4328 |\n",
       "| NA | NA    |  37526 |\n",
       "\n"
      ],
      "text/plain": [
       "   T2D split n     \n",
       "1  1   test   55764\n",
       "2  1   train 195320\n",
       "3  1   val    27917\n",
       "4  1   NA    132876\n",
       "5  2   test    2855\n",
       "6  2   train  10184\n",
       "7  2   val     1471\n",
       "8  2   NA      9332\n",
       "9  NA  test    8811\n",
       "10 NA  train  30500\n",
       "11 NA  val     4328\n",
       "12 NA  NA     37526"
      ]
     },
     "metadata": {},
     "output_type": "display_data"
    }
   ],
   "source": [
    "merged_df %>% count(T2D, split)"
   ]
  },
  {
   "cell_type": "code",
   "execution_count": 23,
   "metadata": {},
   "outputs": [
    {
     "data": {
      "text/html": [
       "205504"
      ],
      "text/latex": [
       "205504"
      ],
      "text/markdown": [
       "205504"
      ],
      "text/plain": [
       "[1] 205504"
      ]
     },
     "metadata": {},
     "output_type": "display_data"
    }
   ],
   "source": [
    "10184 + 195320"
   ]
  },
  {
   "cell_type": "code",
   "execution_count": null,
   "metadata": {},
   "outputs": [],
   "source": []
  }
 ],
 "metadata": {
  "kernelspec": {
   "display_name": "R",
   "language": "R",
   "name": "ir"
  },
  "language_info": {
   "codemirror_mode": "r",
   "file_extension": ".r",
   "mimetype": "text/x-r-source",
   "name": "R",
   "pygments_lexer": "r",
   "version": "3.6.1"
  }
 },
 "nbformat": 4,
 "nbformat_minor": 4
}
