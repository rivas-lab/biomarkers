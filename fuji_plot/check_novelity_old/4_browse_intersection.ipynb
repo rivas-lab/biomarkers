{
 "cells": [
  {
   "cell_type": "code",
   "execution_count": 1,
   "metadata": {},
   "outputs": [],
   "source": [
    "suppressWarnings(suppressPackageStartupMessages({\n",
    "    library(tidyverse)\n",
    "    library(data.table)\n",
    "}))\n"
   ]
  },
  {
   "cell_type": "code",
   "execution_count": 7,
   "metadata": {},
   "outputs": [],
   "source": [
    "# input file/dir\n",
    "cascade_d <- '@@@@@@/users/ytanigaw/repos/rivas-lab/biomarkers/cascade/out_v3'\n",
    "gwas_catalog_filtered <- 'GWAS-catalog-dump/gwas-association-downloaded_2020-08-18.filtered.traits.tsv'\n",
    "\n",
    "# output file\n",
    "out_f <- 'fuji.input.tsv'\n"
   ]
  },
  {
   "cell_type": "code",
   "execution_count": 40,
   "metadata": {},
   "outputs": [],
   "source": [
    "gwas_catalog_df <- fread(\n",
    "    gwas_catalog_filtered,\n",
    "    select=c(\n",
    "        'CHR_ID', 'CHR_POS', 'SNPS', \n",
    "        'P-VALUE', 'OR or BETA', \n",
    "        'PUBMEDID', 'DISEASE/TRAIT', \n",
    "        'MAPPED_TRAIT', 'MAPPED_TRAIT_URI'\n",
    "    )\n",
    ") %>%\n",
    "rename('CHROM'='CHR_ID', 'POS'='CHR_POS', 'P_EBI'='P-VALUE')"
   ]
  },
  {
   "cell_type": "code",
   "execution_count": 58,
   "metadata": {},
   "outputs": [
    {
     "name": "stdout",
     "output_type": "stream",
     "text": [
      "[1] 968   1\n",
      "[1] 968   3\n"
     ]
    }
   ],
   "source": [
    "gwas_catalog_df %>% select(SNPS) %>% unique() %>% dim() %>% print()\n",
    "gwas_catalog_df %>% select(CHROM, POS, SNPS) %>% unique() %>% dim() %>% print()"
   ]
  },
  {
   "cell_type": "code",
   "execution_count": null,
   "metadata": {},
   "outputs": [],
   "source": []
  },
  {
   "cell_type": "code",
   "execution_count": 41,
   "metadata": {},
   "outputs": [],
   "source": [
    "dfs <- list()\n",
    "for(vtype in c('PTVs', 'PAVs')){\n",
    "    dfs[[vtype]] <- fread(\n",
    "        file.path(cascade_d, sprintf('cascade.%s.tsv', vtype)),\n",
    "        colClasses = c('#CHROM'='character')\n",
    "    ) %>% rename('CHROM'='#CHROM')\n",
    "}\n"
   ]
  },
  {
   "cell_type": "code",
   "execution_count": 42,
   "metadata": {},
   "outputs": [
    {
     "data": {
      "text/html": [
       "<style>\n",
       ".list-inline {list-style: none; margin:0; padding: 0}\n",
       ".list-inline>li {display: inline-block}\n",
       ".list-inline>li:not(:last-child)::after {content: \"\\00b7\"; padding: 0 .5ex}\n",
       "</style>\n",
       "<ol class=list-inline><li>58</li><li>23</li></ol>\n"
      ],
      "text/latex": [
       "\\begin{enumerate*}\n",
       "\\item 58\n",
       "\\item 23\n",
       "\\end{enumerate*}\n"
      ],
      "text/markdown": [
       "1. 58\n",
       "2. 23\n",
       "\n",
       "\n"
      ],
      "text/plain": [
       "[1] 58 23"
      ]
     },
     "metadata": {},
     "output_type": "display_data"
    }
   ],
   "source": [
    "dfs[['PTVs']] %>%\n",
    "dim()"
   ]
  },
  {
   "cell_type": "code",
   "execution_count": 43,
   "metadata": {},
   "outputs": [
    {
     "data": {
      "text/html": [
       "<style>\n",
       ".list-inline {list-style: none; margin:0; padding: 0}\n",
       ".list-inline>li {display: inline-block}\n",
       ".list-inline>li:not(:last-child)::after {content: \"\\00b7\"; padding: 0 .5ex}\n",
       "</style>\n",
       "<ol class=list-inline><li>1323</li><li>23</li></ol>\n"
      ],
      "text/latex": [
       "\\begin{enumerate*}\n",
       "\\item 1323\n",
       "\\item 23\n",
       "\\end{enumerate*}\n"
      ],
      "text/markdown": [
       "1. 1323\n",
       "2. 23\n",
       "\n",
       "\n"
      ],
      "text/plain": [
       "[1] 1323   23"
      ]
     },
     "metadata": {},
     "output_type": "display_data"
    }
   ],
   "source": [
    "dfs[['PAVs']] %>%\n",
    "dim()"
   ]
  },
  {
   "cell_type": "code",
   "execution_count": null,
   "metadata": {},
   "outputs": [],
   "source": []
  },
  {
   "cell_type": "code",
   "execution_count": 75,
   "metadata": {},
   "outputs": [
    {
     "name": "stderr",
     "output_type": "stream",
     "text": [
      "Joining, by = c(\"CHROM\", \"POS\")\n",
      "\n"
     ]
    },
    {
     "data": {
      "text/html": [
       "<table>\n",
       "<caption>A data.table: 0 × 11</caption>\n",
       "<thead>\n",
       "\t<tr><th scope=col>CHROM</th><th scope=col>POS</th><th scope=col>REF</th><th scope=col>ALT</th><th scope=col>ID</th><th scope=col>trait</th><th scope=col>BETA</th><th scope=col>SE</th><th scope=col>P</th><th scope=col>Gene_symbol</th><th scope=col>has_EBI</th></tr>\n",
       "\t<tr><th scope=col>&lt;chr&gt;</th><th scope=col>&lt;int&gt;</th><th scope=col>&lt;chr&gt;</th><th scope=col>&lt;chr&gt;</th><th scope=col>&lt;chr&gt;</th><th scope=col>&lt;chr&gt;</th><th scope=col>&lt;dbl&gt;</th><th scope=col>&lt;dbl&gt;</th><th scope=col>&lt;dbl&gt;</th><th scope=col>&lt;chr&gt;</th><th scope=col>&lt;lgl&gt;</th></tr>\n",
       "</thead>\n",
       "<tbody>\n",
       "</tbody>\n",
       "</table>\n"
      ],
      "text/latex": [
       "A data.table: 0 × 11\n",
       "\\begin{tabular}{lllllllllll}\n",
       " CHROM & POS & REF & ALT & ID & trait & BETA & SE & P & Gene\\_symbol & has\\_EBI\\\\\n",
       " <chr> & <int> & <chr> & <chr> & <chr> & <chr> & <dbl> & <dbl> & <dbl> & <chr> & <lgl>\\\\\n",
       "\\hline\n",
       "\\end{tabular}\n"
      ],
      "text/markdown": [
       "\n",
       "A data.table: 0 × 11\n",
       "\n",
       "| CHROM &lt;chr&gt; | POS &lt;int&gt; | REF &lt;chr&gt; | ALT &lt;chr&gt; | ID &lt;chr&gt; | trait &lt;chr&gt; | BETA &lt;dbl&gt; | SE &lt;dbl&gt; | P &lt;dbl&gt; | Gene_symbol &lt;chr&gt; | has_EBI &lt;lgl&gt; |\n",
       "|---|---|---|---|---|---|---|---|---|---|---|\n",
       "\n"
      ],
      "text/plain": [
       "     CHROM POS REF ALT ID trait BETA SE P Gene_symbol has_EBI"
      ]
     },
     "metadata": {},
     "output_type": "display_data"
    }
   ],
   "source": [
    "dfs[['PTVs']] %>%\n",
    "select(CHROM, POS, REF, ALT, ID, trait, BETA, SE, P, Gene_symbol) %>%\n",
    "left_join(\n",
    "    gwas_catalog_df %>% select(CHROM, POS) %>%\n",
    "    mutate(has_EBI = T)\n",
    ") %>%\n",
    "replace_na(list(has_EBI=F)) %>%\n",
    "filter(has_EBI)"
   ]
  },
  {
   "cell_type": "code",
   "execution_count": 76,
   "metadata": {},
   "outputs": [
    {
     "name": "stderr",
     "output_type": "stream",
     "text": [
      "Joining, by = c(\"CHROM\", \"POS\")\n",
      "\n"
     ]
    },
    {
     "data": {
      "text/html": [
       "<table>\n",
       "<caption>A data.table: 0 × 11</caption>\n",
       "<thead>\n",
       "\t<tr><th scope=col>CHROM</th><th scope=col>POS</th><th scope=col>REF</th><th scope=col>ALT</th><th scope=col>ID</th><th scope=col>trait</th><th scope=col>BETA</th><th scope=col>SE</th><th scope=col>P</th><th scope=col>Gene_symbol</th><th scope=col>has_EBI</th></tr>\n",
       "\t<tr><th scope=col>&lt;chr&gt;</th><th scope=col>&lt;int&gt;</th><th scope=col>&lt;chr&gt;</th><th scope=col>&lt;chr&gt;</th><th scope=col>&lt;chr&gt;</th><th scope=col>&lt;chr&gt;</th><th scope=col>&lt;dbl&gt;</th><th scope=col>&lt;dbl&gt;</th><th scope=col>&lt;dbl&gt;</th><th scope=col>&lt;chr&gt;</th><th scope=col>&lt;lgl&gt;</th></tr>\n",
       "</thead>\n",
       "<tbody>\n",
       "</tbody>\n",
       "</table>\n"
      ],
      "text/latex": [
       "A data.table: 0 × 11\n",
       "\\begin{tabular}{lllllllllll}\n",
       " CHROM & POS & REF & ALT & ID & trait & BETA & SE & P & Gene\\_symbol & has\\_EBI\\\\\n",
       " <chr> & <int> & <chr> & <chr> & <chr> & <chr> & <dbl> & <dbl> & <dbl> & <chr> & <lgl>\\\\\n",
       "\\hline\n",
       "\\end{tabular}\n"
      ],
      "text/markdown": [
       "\n",
       "A data.table: 0 × 11\n",
       "\n",
       "| CHROM &lt;chr&gt; | POS &lt;int&gt; | REF &lt;chr&gt; | ALT &lt;chr&gt; | ID &lt;chr&gt; | trait &lt;chr&gt; | BETA &lt;dbl&gt; | SE &lt;dbl&gt; | P &lt;dbl&gt; | Gene_symbol &lt;chr&gt; | has_EBI &lt;lgl&gt; |\n",
       "|---|---|---|---|---|---|---|---|---|---|---|\n",
       "\n"
      ],
      "text/plain": [
       "     CHROM POS REF ALT ID trait BETA SE P Gene_symbol has_EBI"
      ]
     },
     "metadata": {},
     "output_type": "display_data"
    }
   ],
   "source": [
    "dfs[['PAVs']] %>%\n",
    "select(CHROM, POS, REF, ALT, ID, trait, BETA, SE, P, Gene_symbol) %>%\n",
    "left_join(\n",
    "    gwas_catalog_df %>% select(CHROM, POS) %>%\n",
    "    mutate(has_EBI = T)\n",
    ") %>%\n",
    "replace_na(list(has_EBI=F)) %>%\n",
    "filter(has_EBI)"
   ]
  },
  {
   "cell_type": "code",
   "execution_count": null,
   "metadata": {},
   "outputs": [],
   "source": []
  }
 ],
 "metadata": {
  "kernelspec": {
   "display_name": "R",
   "language": "R",
   "name": "ir"
  },
  "language_info": {
   "codemirror_mode": "r",
   "file_extension": ".r",
   "mimetype": "text/x-r-source",
   "name": "R",
   "pygments_lexer": "r",
   "version": "3.6.2"
  }
 },
 "nbformat": 4,
 "nbformat_minor": 4
}
